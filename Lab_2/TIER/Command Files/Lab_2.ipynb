{
 "cells": [
  {
   "cell_type": "markdown",
   "source": [
    "# Analiza i Bazy Danych - Lab 2\n",
    "### Maciej Wieloch, 303080, gr. 1a\n",
    "\n",
    "Zestaw danych:\n",
    "\n",
    "(7 % 5 + 1 = 3)\n",
    "\n",
    "billboard.csv - notowania billboardu (w tabeli jest data wejścia na listę i ranking w kolejnych tygodniach, nie da się wprost odczytać rankingu w danym tygodniu kalendarzowym i jest dużo pustych miejsc)\n",
    "\n",
    "Na początku importuję bibliotekę pandas, odczytuję zadany zestaw danych i wyświetlam 10 pierwszych rekordów."
   ],
   "metadata": {
    "collapsed": false,
    "pycharm": {
     "name": "#%% md\n"
    }
   }
  },
  {
   "cell_type": "code",
   "execution_count": 57,
   "outputs": [
    {
     "data": {
      "text/plain": "   year      artist.inverted                                  track  time  \\\n0  2000      Destiny's Child               Independent Women Part I  3:38   \n1  2000              Santana                           Maria, Maria  4:18   \n2  2000        Savage Garden                     I Knew I Loved You  4:07   \n3  2000              Madonna                                  Music  3:45   \n4  2000  Aguilera, Christina  Come On Over Baby (All I Want Is You)  3:38   \n5  2000                Janet                  Doesn't Really Matter  4:17   \n6  2000      Destiny's Child                            Say My Name  4:31   \n7  2000    Iglesias, Enrique                            Be With You  3:36   \n8  2000                Sisqo                             Incomplete  3:52   \n9  2000             Lonestar                                 Amazed  4:25   \n\n     genre date.entered date.peaked  x1st.week  x2nd.week  x3rd.week  ...  \\\n0     Rock   2000-09-23  2000-11-18         78       63.0       49.0  ...   \n1     Rock   2000-02-12  2000-04-08         15        8.0        6.0  ...   \n2     Rock   1999-10-23  2000-01-29         71       48.0       43.0  ...   \n3     Rock   2000-08-12  2000-09-16         41       23.0       18.0  ...   \n4     Rock   2000-08-05  2000-10-14         57       47.0       45.0  ...   \n5     Rock   2000-06-17  2000-08-26         59       52.0       43.0  ...   \n6     Rock   1999-12-25  2000-03-18         83       83.0       44.0  ...   \n7    Latin   2000-04-01  2000-06-24         63       45.0       34.0  ...   \n8     Rock   2000-06-24  2000-08-12         77       66.0       61.0  ...   \n9  Country   1999-06-05  2000-03-04         81       54.0       44.0  ...   \n\n   x67th.week  x68th.week  x69th.week  x70th.week  x71st.week  x72nd.week  \\\n0         NaN         NaN         NaN         NaN         NaN         NaN   \n1         NaN         NaN         NaN         NaN         NaN         NaN   \n2         NaN         NaN         NaN         NaN         NaN         NaN   \n3         NaN         NaN         NaN         NaN         NaN         NaN   \n4         NaN         NaN         NaN         NaN         NaN         NaN   \n5         NaN         NaN         NaN         NaN         NaN         NaN   \n6         NaN         NaN         NaN         NaN         NaN         NaN   \n7         NaN         NaN         NaN         NaN         NaN         NaN   \n8         NaN         NaN         NaN         NaN         NaN         NaN   \n9         NaN         NaN         NaN         NaN         NaN         NaN   \n\n   x73rd.week  x74th.week  x75th.week  x76th.week  \n0         NaN         NaN         NaN         NaN  \n1         NaN         NaN         NaN         NaN  \n2         NaN         NaN         NaN         NaN  \n3         NaN         NaN         NaN         NaN  \n4         NaN         NaN         NaN         NaN  \n5         NaN         NaN         NaN         NaN  \n6         NaN         NaN         NaN         NaN  \n7         NaN         NaN         NaN         NaN  \n8         NaN         NaN         NaN         NaN  \n9         NaN         NaN         NaN         NaN  \n\n[10 rows x 83 columns]",
      "text/html": "<div>\n<style scoped>\n    .dataframe tbody tr th:only-of-type {\n        vertical-align: middle;\n    }\n\n    .dataframe tbody tr th {\n        vertical-align: top;\n    }\n\n    .dataframe thead th {\n        text-align: right;\n    }\n</style>\n<table border=\"1\" class=\"dataframe\">\n  <thead>\n    <tr style=\"text-align: right;\">\n      <th></th>\n      <th>year</th>\n      <th>artist.inverted</th>\n      <th>track</th>\n      <th>time</th>\n      <th>genre</th>\n      <th>date.entered</th>\n      <th>date.peaked</th>\n      <th>x1st.week</th>\n      <th>x2nd.week</th>\n      <th>x3rd.week</th>\n      <th>...</th>\n      <th>x67th.week</th>\n      <th>x68th.week</th>\n      <th>x69th.week</th>\n      <th>x70th.week</th>\n      <th>x71st.week</th>\n      <th>x72nd.week</th>\n      <th>x73rd.week</th>\n      <th>x74th.week</th>\n      <th>x75th.week</th>\n      <th>x76th.week</th>\n    </tr>\n  </thead>\n  <tbody>\n    <tr>\n      <th>0</th>\n      <td>2000</td>\n      <td>Destiny's Child</td>\n      <td>Independent Women Part I</td>\n      <td>3:38</td>\n      <td>Rock</td>\n      <td>2000-09-23</td>\n      <td>2000-11-18</td>\n      <td>78</td>\n      <td>63.0</td>\n      <td>49.0</td>\n      <td>...</td>\n      <td>NaN</td>\n      <td>NaN</td>\n      <td>NaN</td>\n      <td>NaN</td>\n      <td>NaN</td>\n      <td>NaN</td>\n      <td>NaN</td>\n      <td>NaN</td>\n      <td>NaN</td>\n      <td>NaN</td>\n    </tr>\n    <tr>\n      <th>1</th>\n      <td>2000</td>\n      <td>Santana</td>\n      <td>Maria, Maria</td>\n      <td>4:18</td>\n      <td>Rock</td>\n      <td>2000-02-12</td>\n      <td>2000-04-08</td>\n      <td>15</td>\n      <td>8.0</td>\n      <td>6.0</td>\n      <td>...</td>\n      <td>NaN</td>\n      <td>NaN</td>\n      <td>NaN</td>\n      <td>NaN</td>\n      <td>NaN</td>\n      <td>NaN</td>\n      <td>NaN</td>\n      <td>NaN</td>\n      <td>NaN</td>\n      <td>NaN</td>\n    </tr>\n    <tr>\n      <th>2</th>\n      <td>2000</td>\n      <td>Savage Garden</td>\n      <td>I Knew I Loved You</td>\n      <td>4:07</td>\n      <td>Rock</td>\n      <td>1999-10-23</td>\n      <td>2000-01-29</td>\n      <td>71</td>\n      <td>48.0</td>\n      <td>43.0</td>\n      <td>...</td>\n      <td>NaN</td>\n      <td>NaN</td>\n      <td>NaN</td>\n      <td>NaN</td>\n      <td>NaN</td>\n      <td>NaN</td>\n      <td>NaN</td>\n      <td>NaN</td>\n      <td>NaN</td>\n      <td>NaN</td>\n    </tr>\n    <tr>\n      <th>3</th>\n      <td>2000</td>\n      <td>Madonna</td>\n      <td>Music</td>\n      <td>3:45</td>\n      <td>Rock</td>\n      <td>2000-08-12</td>\n      <td>2000-09-16</td>\n      <td>41</td>\n      <td>23.0</td>\n      <td>18.0</td>\n      <td>...</td>\n      <td>NaN</td>\n      <td>NaN</td>\n      <td>NaN</td>\n      <td>NaN</td>\n      <td>NaN</td>\n      <td>NaN</td>\n      <td>NaN</td>\n      <td>NaN</td>\n      <td>NaN</td>\n      <td>NaN</td>\n    </tr>\n    <tr>\n      <th>4</th>\n      <td>2000</td>\n      <td>Aguilera, Christina</td>\n      <td>Come On Over Baby (All I Want Is You)</td>\n      <td>3:38</td>\n      <td>Rock</td>\n      <td>2000-08-05</td>\n      <td>2000-10-14</td>\n      <td>57</td>\n      <td>47.0</td>\n      <td>45.0</td>\n      <td>...</td>\n      <td>NaN</td>\n      <td>NaN</td>\n      <td>NaN</td>\n      <td>NaN</td>\n      <td>NaN</td>\n      <td>NaN</td>\n      <td>NaN</td>\n      <td>NaN</td>\n      <td>NaN</td>\n      <td>NaN</td>\n    </tr>\n    <tr>\n      <th>5</th>\n      <td>2000</td>\n      <td>Janet</td>\n      <td>Doesn't Really Matter</td>\n      <td>4:17</td>\n      <td>Rock</td>\n      <td>2000-06-17</td>\n      <td>2000-08-26</td>\n      <td>59</td>\n      <td>52.0</td>\n      <td>43.0</td>\n      <td>...</td>\n      <td>NaN</td>\n      <td>NaN</td>\n      <td>NaN</td>\n      <td>NaN</td>\n      <td>NaN</td>\n      <td>NaN</td>\n      <td>NaN</td>\n      <td>NaN</td>\n      <td>NaN</td>\n      <td>NaN</td>\n    </tr>\n    <tr>\n      <th>6</th>\n      <td>2000</td>\n      <td>Destiny's Child</td>\n      <td>Say My Name</td>\n      <td>4:31</td>\n      <td>Rock</td>\n      <td>1999-12-25</td>\n      <td>2000-03-18</td>\n      <td>83</td>\n      <td>83.0</td>\n      <td>44.0</td>\n      <td>...</td>\n      <td>NaN</td>\n      <td>NaN</td>\n      <td>NaN</td>\n      <td>NaN</td>\n      <td>NaN</td>\n      <td>NaN</td>\n      <td>NaN</td>\n      <td>NaN</td>\n      <td>NaN</td>\n      <td>NaN</td>\n    </tr>\n    <tr>\n      <th>7</th>\n      <td>2000</td>\n      <td>Iglesias, Enrique</td>\n      <td>Be With You</td>\n      <td>3:36</td>\n      <td>Latin</td>\n      <td>2000-04-01</td>\n      <td>2000-06-24</td>\n      <td>63</td>\n      <td>45.0</td>\n      <td>34.0</td>\n      <td>...</td>\n      <td>NaN</td>\n      <td>NaN</td>\n      <td>NaN</td>\n      <td>NaN</td>\n      <td>NaN</td>\n      <td>NaN</td>\n      <td>NaN</td>\n      <td>NaN</td>\n      <td>NaN</td>\n      <td>NaN</td>\n    </tr>\n    <tr>\n      <th>8</th>\n      <td>2000</td>\n      <td>Sisqo</td>\n      <td>Incomplete</td>\n      <td>3:52</td>\n      <td>Rock</td>\n      <td>2000-06-24</td>\n      <td>2000-08-12</td>\n      <td>77</td>\n      <td>66.0</td>\n      <td>61.0</td>\n      <td>...</td>\n      <td>NaN</td>\n      <td>NaN</td>\n      <td>NaN</td>\n      <td>NaN</td>\n      <td>NaN</td>\n      <td>NaN</td>\n      <td>NaN</td>\n      <td>NaN</td>\n      <td>NaN</td>\n      <td>NaN</td>\n    </tr>\n    <tr>\n      <th>9</th>\n      <td>2000</td>\n      <td>Lonestar</td>\n      <td>Amazed</td>\n      <td>4:25</td>\n      <td>Country</td>\n      <td>1999-06-05</td>\n      <td>2000-03-04</td>\n      <td>81</td>\n      <td>54.0</td>\n      <td>44.0</td>\n      <td>...</td>\n      <td>NaN</td>\n      <td>NaN</td>\n      <td>NaN</td>\n      <td>NaN</td>\n      <td>NaN</td>\n      <td>NaN</td>\n      <td>NaN</td>\n      <td>NaN</td>\n      <td>NaN</td>\n      <td>NaN</td>\n    </tr>\n  </tbody>\n</table>\n<p>10 rows × 83 columns</p>\n</div>"
     },
     "metadata": {},
     "output_type": "execute_result",
     "execution_count": 57
    }
   ],
   "source": [
    "import pandas as pd\n",
    "\n",
    "df = pd.read_csv(r'../Original Data/billboard.csv', encoding='ANSI')\n",
    "\n",
    "df.head(10)"
   ],
   "metadata": {
    "collapsed": false,
    "pycharm": {
     "name": "#%%\n",
     "is_executing": false
    }
   }
  },
  {
   "cell_type": "markdown",
   "source": [
    "Następnie, staram się uporządkować dane zgodnie z zasadami \"tidy data\".\n",
    "\n",
    "Korzystając z pd.melt, tworzę kolumny week i rank, które znacząco ułatwią odczyt danych.\n",
    "\n",
    "Na koniec tworzę tabele, sortując je na różne sposoby."
   ],
   "metadata": {
    "collapsed": false,
    "pycharm": {
     "name": "#%% md\n"
    }
   }
  },
  {
   "cell_type": "code",
   "execution_count": 58,
   "outputs": [],
   "source": [
    "# Wczytuje baze danych\n",
    "df = pd.read_csv(r'../Original Data/billboard.csv', encoding='ANSI')\n",
    "\n",
    "# Procedura pd.melt\n",
    "df = pd.melt(df, id_vars=list(df.columns)[:6], value_vars=list(df.columns)[7:],\n",
    "             var_name='week', value_name='rank')\n",
    "\n",
    "# Zapisuję tabelę po procedurze pd.melt\n",
    "df.to_csv(r'../Analysis Data/billboard-melt.csv', index=False)\n",
    "\n",
    "# Wybieranie tygodnia\n",
    "df['week'] = df['week'].str[1:-7].astype(int)\n",
    "df = df.rename(columns={'date.entered': 'date'})\n",
    "\n",
    "# Czysczenie niepotrzebnych wierszy\n",
    "df = df.dropna()\n",
    "\n",
    "# Sortowanie wierszy\n",
    "df2 = df.sort_values(by=['track', 'date'])\n",
    "df3 = df.sort_values(ascending=False, by=['week', 'rank'])\n",
    "df4 = df.sort_values(by=['time'])\n",
    "\n",
    "# Resetowanie indeksów\n",
    "df2 = df2.reset_index(drop=True)\n",
    "df3 = df3.reset_index(drop=True)\n",
    "df4 = df4.reset_index(drop=True)"
   ],
   "metadata": {
    "collapsed": false,
    "pycharm": {
     "name": "#%%\n",
     "is_executing": false
    }
   }
  },
  {
   "cell_type": "markdown",
   "source": [
    "Zapisuje i wyświetlam utworzone tabele."
   ],
   "metadata": {
    "collapsed": false,
    "pycharm": {
     "name": "#%% md\n"
    }
   }
  },
  {
   "cell_type": "code",
   "execution_count": 59,
   "outputs": [
    {
     "data": {
      "text/plain": "      year artist.inverted                       track  time    genre  \\\n0     2000           Nelly  (Hot S**t) Country Grammar  4:17      Rap   \n1     2000           Nelly  (Hot S**t) Country Grammar  4:17      Rap   \n2     2000           Nelly  (Hot S**t) Country Grammar  4:17      Rap   \n3     2000           Nelly  (Hot S**t) Country Grammar  4:17      Rap   \n4     2000           Nelly  (Hot S**t) Country Grammar  4:17      Rap   \n...    ...             ...                         ...   ...      ...   \n5302  2000   Jackson, Alan                  www.memory  2:36  Country   \n5303  2000   Jackson, Alan                  www.memory  2:36  Country   \n5304  2000   Jackson, Alan                  www.memory  2:36  Country   \n5305  2000   Jackson, Alan                  www.memory  2:36  Country   \n5306  2000   Jackson, Alan                  www.memory  2:36  Country   \n\n            date  week   rank  \n0     2000-04-29     1  100.0  \n1     2000-04-29     2   99.0  \n2     2000-04-29     3   96.0  \n3     2000-04-29     4   76.0  \n4     2000-04-29     5   55.0  \n...          ...   ...    ...  \n5302  2000-11-04    11   63.0  \n5303  2000-11-04    12   67.0  \n5304  2000-11-04    13   77.0  \n5305  2000-11-04    14   89.0  \n5306  2000-11-04    15   99.0  \n\n[5307 rows x 8 columns]",
      "text/html": "<div>\n<style scoped>\n    .dataframe tbody tr th:only-of-type {\n        vertical-align: middle;\n    }\n\n    .dataframe tbody tr th {\n        vertical-align: top;\n    }\n\n    .dataframe thead th {\n        text-align: right;\n    }\n</style>\n<table border=\"1\" class=\"dataframe\">\n  <thead>\n    <tr style=\"text-align: right;\">\n      <th></th>\n      <th>year</th>\n      <th>artist.inverted</th>\n      <th>track</th>\n      <th>time</th>\n      <th>genre</th>\n      <th>date</th>\n      <th>week</th>\n      <th>rank</th>\n    </tr>\n  </thead>\n  <tbody>\n    <tr>\n      <th>0</th>\n      <td>2000</td>\n      <td>Nelly</td>\n      <td>(Hot S**t) Country Grammar</td>\n      <td>4:17</td>\n      <td>Rap</td>\n      <td>2000-04-29</td>\n      <td>1</td>\n      <td>100.0</td>\n    </tr>\n    <tr>\n      <th>1</th>\n      <td>2000</td>\n      <td>Nelly</td>\n      <td>(Hot S**t) Country Grammar</td>\n      <td>4:17</td>\n      <td>Rap</td>\n      <td>2000-04-29</td>\n      <td>2</td>\n      <td>99.0</td>\n    </tr>\n    <tr>\n      <th>2</th>\n      <td>2000</td>\n      <td>Nelly</td>\n      <td>(Hot S**t) Country Grammar</td>\n      <td>4:17</td>\n      <td>Rap</td>\n      <td>2000-04-29</td>\n      <td>3</td>\n      <td>96.0</td>\n    </tr>\n    <tr>\n      <th>3</th>\n      <td>2000</td>\n      <td>Nelly</td>\n      <td>(Hot S**t) Country Grammar</td>\n      <td>4:17</td>\n      <td>Rap</td>\n      <td>2000-04-29</td>\n      <td>4</td>\n      <td>76.0</td>\n    </tr>\n    <tr>\n      <th>4</th>\n      <td>2000</td>\n      <td>Nelly</td>\n      <td>(Hot S**t) Country Grammar</td>\n      <td>4:17</td>\n      <td>Rap</td>\n      <td>2000-04-29</td>\n      <td>5</td>\n      <td>55.0</td>\n    </tr>\n    <tr>\n      <th>...</th>\n      <td>...</td>\n      <td>...</td>\n      <td>...</td>\n      <td>...</td>\n      <td>...</td>\n      <td>...</td>\n      <td>...</td>\n      <td>...</td>\n    </tr>\n    <tr>\n      <th>5302</th>\n      <td>2000</td>\n      <td>Jackson, Alan</td>\n      <td>www.memory</td>\n      <td>2:36</td>\n      <td>Country</td>\n      <td>2000-11-04</td>\n      <td>11</td>\n      <td>63.0</td>\n    </tr>\n    <tr>\n      <th>5303</th>\n      <td>2000</td>\n      <td>Jackson, Alan</td>\n      <td>www.memory</td>\n      <td>2:36</td>\n      <td>Country</td>\n      <td>2000-11-04</td>\n      <td>12</td>\n      <td>67.0</td>\n    </tr>\n    <tr>\n      <th>5304</th>\n      <td>2000</td>\n      <td>Jackson, Alan</td>\n      <td>www.memory</td>\n      <td>2:36</td>\n      <td>Country</td>\n      <td>2000-11-04</td>\n      <td>13</td>\n      <td>77.0</td>\n    </tr>\n    <tr>\n      <th>5305</th>\n      <td>2000</td>\n      <td>Jackson, Alan</td>\n      <td>www.memory</td>\n      <td>2:36</td>\n      <td>Country</td>\n      <td>2000-11-04</td>\n      <td>14</td>\n      <td>89.0</td>\n    </tr>\n    <tr>\n      <th>5306</th>\n      <td>2000</td>\n      <td>Jackson, Alan</td>\n      <td>www.memory</td>\n      <td>2:36</td>\n      <td>Country</td>\n      <td>2000-11-04</td>\n      <td>15</td>\n      <td>99.0</td>\n    </tr>\n  </tbody>\n</table>\n<p>5307 rows × 8 columns</p>\n</div>"
     },
     "metadata": {},
     "output_type": "execute_result",
     "execution_count": 59
    }
   ],
   "source": [
    "df2.to_csv(r'../Analysis Data/billboard-track-date.csv', index=False)\n",
    "df2.to_csv(r'../Documents/billboard-track-date.csv', index=False)\n",
    "df2"
   ],
   "metadata": {
    "collapsed": false,
    "pycharm": {
     "name": "#%%\n",
     "is_executing": false
    }
   }
  },
  {
   "cell_type": "code",
   "execution_count": 60,
   "outputs": [
    {
     "data": {
      "text/plain": "      year               artist.inverted             track  time    genre  \\\n0     2000                         Creed            Higher  5:16     Rock   \n1     2000                      Lonestar            Amazed  4:25  Country   \n2     2000                         Creed            Higher  5:16     Rock   \n3     2000                         Creed            Higher  5:16     Rock   \n4     2000                      Lonestar            Amazed  4:25  Country   \n...    ...                           ...               ...   ...      ...   \n5302  2000  Elliott, Missy \"Misdemeanor\"          Hot Boyz  3:51      Rap   \n5303  2000                 Carey, Mariah           Crybaby  5:19     Rock   \n5304  2000                          Pink        There U Go  3:23     Rock   \n5305  2000                        Hanson  This Time Around  4:14  Country   \n5306  2000                       Santana      Maria, Maria  4:18     Rock   \n\n            date  week  rank  \n0     1999-09-11    65  49.0  \n1     1999-06-05    64  50.0  \n2     1999-09-11    64  50.0  \n3     1999-09-11    63  50.0  \n4     1999-06-05    63  45.0  \n...          ...   ...   ...  \n5302  1999-11-27     1  36.0  \n5303  2000-06-24     1  28.0  \n5304  2000-03-04     1  25.0  \n5305  2000-04-22     1  22.0  \n5306  2000-02-12     1  15.0  \n\n[5307 rows x 8 columns]",
      "text/html": "<div>\n<style scoped>\n    .dataframe tbody tr th:only-of-type {\n        vertical-align: middle;\n    }\n\n    .dataframe tbody tr th {\n        vertical-align: top;\n    }\n\n    .dataframe thead th {\n        text-align: right;\n    }\n</style>\n<table border=\"1\" class=\"dataframe\">\n  <thead>\n    <tr style=\"text-align: right;\">\n      <th></th>\n      <th>year</th>\n      <th>artist.inverted</th>\n      <th>track</th>\n      <th>time</th>\n      <th>genre</th>\n      <th>date</th>\n      <th>week</th>\n      <th>rank</th>\n    </tr>\n  </thead>\n  <tbody>\n    <tr>\n      <th>0</th>\n      <td>2000</td>\n      <td>Creed</td>\n      <td>Higher</td>\n      <td>5:16</td>\n      <td>Rock</td>\n      <td>1999-09-11</td>\n      <td>65</td>\n      <td>49.0</td>\n    </tr>\n    <tr>\n      <th>1</th>\n      <td>2000</td>\n      <td>Lonestar</td>\n      <td>Amazed</td>\n      <td>4:25</td>\n      <td>Country</td>\n      <td>1999-06-05</td>\n      <td>64</td>\n      <td>50.0</td>\n    </tr>\n    <tr>\n      <th>2</th>\n      <td>2000</td>\n      <td>Creed</td>\n      <td>Higher</td>\n      <td>5:16</td>\n      <td>Rock</td>\n      <td>1999-09-11</td>\n      <td>64</td>\n      <td>50.0</td>\n    </tr>\n    <tr>\n      <th>3</th>\n      <td>2000</td>\n      <td>Creed</td>\n      <td>Higher</td>\n      <td>5:16</td>\n      <td>Rock</td>\n      <td>1999-09-11</td>\n      <td>63</td>\n      <td>50.0</td>\n    </tr>\n    <tr>\n      <th>4</th>\n      <td>2000</td>\n      <td>Lonestar</td>\n      <td>Amazed</td>\n      <td>4:25</td>\n      <td>Country</td>\n      <td>1999-06-05</td>\n      <td>63</td>\n      <td>45.0</td>\n    </tr>\n    <tr>\n      <th>...</th>\n      <td>...</td>\n      <td>...</td>\n      <td>...</td>\n      <td>...</td>\n      <td>...</td>\n      <td>...</td>\n      <td>...</td>\n      <td>...</td>\n    </tr>\n    <tr>\n      <th>5302</th>\n      <td>2000</td>\n      <td>Elliott, Missy \"Misdemeanor\"</td>\n      <td>Hot Boyz</td>\n      <td>3:51</td>\n      <td>Rap</td>\n      <td>1999-11-27</td>\n      <td>1</td>\n      <td>36.0</td>\n    </tr>\n    <tr>\n      <th>5303</th>\n      <td>2000</td>\n      <td>Carey, Mariah</td>\n      <td>Crybaby</td>\n      <td>5:19</td>\n      <td>Rock</td>\n      <td>2000-06-24</td>\n      <td>1</td>\n      <td>28.0</td>\n    </tr>\n    <tr>\n      <th>5304</th>\n      <td>2000</td>\n      <td>Pink</td>\n      <td>There U Go</td>\n      <td>3:23</td>\n      <td>Rock</td>\n      <td>2000-03-04</td>\n      <td>1</td>\n      <td>25.0</td>\n    </tr>\n    <tr>\n      <th>5305</th>\n      <td>2000</td>\n      <td>Hanson</td>\n      <td>This Time Around</td>\n      <td>4:14</td>\n      <td>Country</td>\n      <td>2000-04-22</td>\n      <td>1</td>\n      <td>22.0</td>\n    </tr>\n    <tr>\n      <th>5306</th>\n      <td>2000</td>\n      <td>Santana</td>\n      <td>Maria, Maria</td>\n      <td>4:18</td>\n      <td>Rock</td>\n      <td>2000-02-12</td>\n      <td>1</td>\n      <td>15.0</td>\n    </tr>\n  </tbody>\n</table>\n<p>5307 rows × 8 columns</p>\n</div>"
     },
     "metadata": {},
     "output_type": "execute_result",
     "execution_count": 60
    }
   ],
   "source": [
    "df3.to_csv(r'../Analysis Data/billboard-week-rank.csv', index=False)\n",
    "df3.to_csv(r'../Documents/billboard-week-rank.csv', index=False)\n",
    "df3"
   ],
   "metadata": {
    "collapsed": false,
    "pycharm": {
     "name": "#%%\n",
     "is_executing": false
    }
   }
  },
  {
   "cell_type": "code",
   "execution_count": 61,
   "outputs": [
    {
     "data": {
      "text/plain": "      year artist.inverted                               track  time    genre  \\\n0     2000   Jackson, Alan                          www.memory  2:36  Country   \n1     2000   Jackson, Alan                          www.memory  2:36  Country   \n2     2000   Jackson, Alan                          www.memory  2:36  Country   \n3     2000   Jackson, Alan                          www.memory  2:36  Country   \n4     2000   Jackson, Alan                          www.memory  2:36  Country   \n...    ...             ...                                 ...   ...      ...   \n5302  2000         Kenny G  Auld Lang Syne (The Millenium Mix)  7:50     Jazz   \n5303  2000         Kenny G  Auld Lang Syne (The Millenium Mix)  7:50     Jazz   \n5304  2000         Kenny G  Auld Lang Syne (The Millenium Mix)  7:50     Jazz   \n5305  2000         Kenny G  Auld Lang Syne (The Millenium Mix)  7:50     Jazz   \n5306  2000         Kenny G  Auld Lang Syne (The Millenium Mix)  7:50     Jazz   \n\n            date  week  rank  \n0     2000-11-04     3  59.0  \n1     2000-11-04     4  54.0  \n2     2000-11-04    12  67.0  \n3     2000-11-04    15  99.0  \n4     2000-11-04     7  47.0  \n...          ...   ...   ...  \n5302  1999-12-25     1  89.0  \n5303  1999-12-25     2  89.0  \n5304  1999-12-25     4   8.0  \n5305  1999-12-25     5  66.0  \n5306  1999-12-25     3   7.0  \n\n[5307 rows x 8 columns]",
      "text/html": "<div>\n<style scoped>\n    .dataframe tbody tr th:only-of-type {\n        vertical-align: middle;\n    }\n\n    .dataframe tbody tr th {\n        vertical-align: top;\n    }\n\n    .dataframe thead th {\n        text-align: right;\n    }\n</style>\n<table border=\"1\" class=\"dataframe\">\n  <thead>\n    <tr style=\"text-align: right;\">\n      <th></th>\n      <th>year</th>\n      <th>artist.inverted</th>\n      <th>track</th>\n      <th>time</th>\n      <th>genre</th>\n      <th>date</th>\n      <th>week</th>\n      <th>rank</th>\n    </tr>\n  </thead>\n  <tbody>\n    <tr>\n      <th>0</th>\n      <td>2000</td>\n      <td>Jackson, Alan</td>\n      <td>www.memory</td>\n      <td>2:36</td>\n      <td>Country</td>\n      <td>2000-11-04</td>\n      <td>3</td>\n      <td>59.0</td>\n    </tr>\n    <tr>\n      <th>1</th>\n      <td>2000</td>\n      <td>Jackson, Alan</td>\n      <td>www.memory</td>\n      <td>2:36</td>\n      <td>Country</td>\n      <td>2000-11-04</td>\n      <td>4</td>\n      <td>54.0</td>\n    </tr>\n    <tr>\n      <th>2</th>\n      <td>2000</td>\n      <td>Jackson, Alan</td>\n      <td>www.memory</td>\n      <td>2:36</td>\n      <td>Country</td>\n      <td>2000-11-04</td>\n      <td>12</td>\n      <td>67.0</td>\n    </tr>\n    <tr>\n      <th>3</th>\n      <td>2000</td>\n      <td>Jackson, Alan</td>\n      <td>www.memory</td>\n      <td>2:36</td>\n      <td>Country</td>\n      <td>2000-11-04</td>\n      <td>15</td>\n      <td>99.0</td>\n    </tr>\n    <tr>\n      <th>4</th>\n      <td>2000</td>\n      <td>Jackson, Alan</td>\n      <td>www.memory</td>\n      <td>2:36</td>\n      <td>Country</td>\n      <td>2000-11-04</td>\n      <td>7</td>\n      <td>47.0</td>\n    </tr>\n    <tr>\n      <th>...</th>\n      <td>...</td>\n      <td>...</td>\n      <td>...</td>\n      <td>...</td>\n      <td>...</td>\n      <td>...</td>\n      <td>...</td>\n      <td>...</td>\n    </tr>\n    <tr>\n      <th>5302</th>\n      <td>2000</td>\n      <td>Kenny G</td>\n      <td>Auld Lang Syne (The Millenium Mix)</td>\n      <td>7:50</td>\n      <td>Jazz</td>\n      <td>1999-12-25</td>\n      <td>1</td>\n      <td>89.0</td>\n    </tr>\n    <tr>\n      <th>5303</th>\n      <td>2000</td>\n      <td>Kenny G</td>\n      <td>Auld Lang Syne (The Millenium Mix)</td>\n      <td>7:50</td>\n      <td>Jazz</td>\n      <td>1999-12-25</td>\n      <td>2</td>\n      <td>89.0</td>\n    </tr>\n    <tr>\n      <th>5304</th>\n      <td>2000</td>\n      <td>Kenny G</td>\n      <td>Auld Lang Syne (The Millenium Mix)</td>\n      <td>7:50</td>\n      <td>Jazz</td>\n      <td>1999-12-25</td>\n      <td>4</td>\n      <td>8.0</td>\n    </tr>\n    <tr>\n      <th>5305</th>\n      <td>2000</td>\n      <td>Kenny G</td>\n      <td>Auld Lang Syne (The Millenium Mix)</td>\n      <td>7:50</td>\n      <td>Jazz</td>\n      <td>1999-12-25</td>\n      <td>5</td>\n      <td>66.0</td>\n    </tr>\n    <tr>\n      <th>5306</th>\n      <td>2000</td>\n      <td>Kenny G</td>\n      <td>Auld Lang Syne (The Millenium Mix)</td>\n      <td>7:50</td>\n      <td>Jazz</td>\n      <td>1999-12-25</td>\n      <td>3</td>\n      <td>7.0</td>\n    </tr>\n  </tbody>\n</table>\n<p>5307 rows × 8 columns</p>\n</div>"
     },
     "metadata": {},
     "output_type": "execute_result",
     "execution_count": 61
    }
   ],
   "source": [
    "df4.to_csv(r'../Analysis Data/billboard-time.csv', index=False)\n",
    "df4.to_csv(r'../Documents/billboard-time.csv', index=False)\n",
    "df4"
   ],
   "metadata": {
    "collapsed": false,
    "pycharm": {
     "name": "#%%\n",
     "is_executing": false
    }
   }
  }
 ],
 "metadata": {
  "interpreter": {
   "hash": "f9ac111c7bd369b5534d33b47914a4b0ebbda8410bead68074f9fc9c4e03c1d0"
  },
  "kernelspec": {
   "name": "python3",
   "language": "python",
   "display_name": "Python 3"
  },
  "language_info": {
   "codemirror_mode": {
    "name": "ipython",
    "version": 2
   },
   "file_extension": ".py",
   "mimetype": "text/x-python",
   "name": "python",
   "nbconvert_exporter": "python",
   "pygments_lexer": "ipython2",
   "version": "3.8.8"
  },
  "pycharm": {
   "stem_cell": {
    "cell_type": "raw",
    "source": [],
    "metadata": {
     "collapsed": false
    }
   }
  }
 },
 "nbformat": 4,
 "nbformat_minor": 0
}