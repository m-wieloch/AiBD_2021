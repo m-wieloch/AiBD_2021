{
 "cells": [
  {
   "cell_type": "code",
   "execution_count": 18,
   "metadata": {
    "collapsed": true,
    "pycharm": {
     "is_executing": false
    }
   },
   "outputs": [
    {
     "data": {
      "text/plain": "   year      artist.inverted                                  track  time  \\\n0  2000      Destiny's Child               Independent Women Part I  3:38   \n1  2000              Santana                           Maria, Maria  4:18   \n2  2000        Savage Garden                     I Knew I Loved You  4:07   \n3  2000              Madonna                                  Music  3:45   \n4  2000  Aguilera, Christina  Come On Over Baby (All I Want Is You)  3:38   \n\n  genre date.entered date.peaked  x1st.week  x2nd.week  x3rd.week  ...  \\\n0  Rock   2000-09-23  2000-11-18         78       63.0       49.0  ...   \n1  Rock   2000-02-12  2000-04-08         15        8.0        6.0  ...   \n2  Rock   1999-10-23  2000-01-29         71       48.0       43.0  ...   \n3  Rock   2000-08-12  2000-09-16         41       23.0       18.0  ...   \n4  Rock   2000-08-05  2000-10-14         57       47.0       45.0  ...   \n\n   x67th.week  x68th.week  x69th.week  x70th.week  x71st.week  x72nd.week  \\\n0         NaN         NaN         NaN         NaN         NaN         NaN   \n1         NaN         NaN         NaN         NaN         NaN         NaN   \n2         NaN         NaN         NaN         NaN         NaN         NaN   \n3         NaN         NaN         NaN         NaN         NaN         NaN   \n4         NaN         NaN         NaN         NaN         NaN         NaN   \n\n   x73rd.week  x74th.week  x75th.week  x76th.week  \n0         NaN         NaN         NaN         NaN  \n1         NaN         NaN         NaN         NaN  \n2         NaN         NaN         NaN         NaN  \n3         NaN         NaN         NaN         NaN  \n4         NaN         NaN         NaN         NaN  \n\n[5 rows x 83 columns]",
      "text/html": "<div>\n<style scoped>\n    .dataframe tbody tr th:only-of-type {\n        vertical-align: middle;\n    }\n\n    .dataframe tbody tr th {\n        vertical-align: top;\n    }\n\n    .dataframe thead th {\n        text-align: right;\n    }\n</style>\n<table border=\"1\" class=\"dataframe\">\n  <thead>\n    <tr style=\"text-align: right;\">\n      <th></th>\n      <th>year</th>\n      <th>artist.inverted</th>\n      <th>track</th>\n      <th>time</th>\n      <th>genre</th>\n      <th>date.entered</th>\n      <th>date.peaked</th>\n      <th>x1st.week</th>\n      <th>x2nd.week</th>\n      <th>x3rd.week</th>\n      <th>...</th>\n      <th>x67th.week</th>\n      <th>x68th.week</th>\n      <th>x69th.week</th>\n      <th>x70th.week</th>\n      <th>x71st.week</th>\n      <th>x72nd.week</th>\n      <th>x73rd.week</th>\n      <th>x74th.week</th>\n      <th>x75th.week</th>\n      <th>x76th.week</th>\n    </tr>\n  </thead>\n  <tbody>\n    <tr>\n      <th>0</th>\n      <td>2000</td>\n      <td>Destiny's Child</td>\n      <td>Independent Women Part I</td>\n      <td>3:38</td>\n      <td>Rock</td>\n      <td>2000-09-23</td>\n      <td>2000-11-18</td>\n      <td>78</td>\n      <td>63.0</td>\n      <td>49.0</td>\n      <td>...</td>\n      <td>NaN</td>\n      <td>NaN</td>\n      <td>NaN</td>\n      <td>NaN</td>\n      <td>NaN</td>\n      <td>NaN</td>\n      <td>NaN</td>\n      <td>NaN</td>\n      <td>NaN</td>\n      <td>NaN</td>\n    </tr>\n    <tr>\n      <th>1</th>\n      <td>2000</td>\n      <td>Santana</td>\n      <td>Maria, Maria</td>\n      <td>4:18</td>\n      <td>Rock</td>\n      <td>2000-02-12</td>\n      <td>2000-04-08</td>\n      <td>15</td>\n      <td>8.0</td>\n      <td>6.0</td>\n      <td>...</td>\n      <td>NaN</td>\n      <td>NaN</td>\n      <td>NaN</td>\n      <td>NaN</td>\n      <td>NaN</td>\n      <td>NaN</td>\n      <td>NaN</td>\n      <td>NaN</td>\n      <td>NaN</td>\n      <td>NaN</td>\n    </tr>\n    <tr>\n      <th>2</th>\n      <td>2000</td>\n      <td>Savage Garden</td>\n      <td>I Knew I Loved You</td>\n      <td>4:07</td>\n      <td>Rock</td>\n      <td>1999-10-23</td>\n      <td>2000-01-29</td>\n      <td>71</td>\n      <td>48.0</td>\n      <td>43.0</td>\n      <td>...</td>\n      <td>NaN</td>\n      <td>NaN</td>\n      <td>NaN</td>\n      <td>NaN</td>\n      <td>NaN</td>\n      <td>NaN</td>\n      <td>NaN</td>\n      <td>NaN</td>\n      <td>NaN</td>\n      <td>NaN</td>\n    </tr>\n    <tr>\n      <th>3</th>\n      <td>2000</td>\n      <td>Madonna</td>\n      <td>Music</td>\n      <td>3:45</td>\n      <td>Rock</td>\n      <td>2000-08-12</td>\n      <td>2000-09-16</td>\n      <td>41</td>\n      <td>23.0</td>\n      <td>18.0</td>\n      <td>...</td>\n      <td>NaN</td>\n      <td>NaN</td>\n      <td>NaN</td>\n      <td>NaN</td>\n      <td>NaN</td>\n      <td>NaN</td>\n      <td>NaN</td>\n      <td>NaN</td>\n      <td>NaN</td>\n      <td>NaN</td>\n    </tr>\n    <tr>\n      <th>4</th>\n      <td>2000</td>\n      <td>Aguilera, Christina</td>\n      <td>Come On Over Baby (All I Want Is You)</td>\n      <td>3:38</td>\n      <td>Rock</td>\n      <td>2000-08-05</td>\n      <td>2000-10-14</td>\n      <td>57</td>\n      <td>47.0</td>\n      <td>45.0</td>\n      <td>...</td>\n      <td>NaN</td>\n      <td>NaN</td>\n      <td>NaN</td>\n      <td>NaN</td>\n      <td>NaN</td>\n      <td>NaN</td>\n      <td>NaN</td>\n      <td>NaN</td>\n      <td>NaN</td>\n      <td>NaN</td>\n    </tr>\n  </tbody>\n</table>\n<p>5 rows × 83 columns</p>\n</div>"
     },
     "metadata": {},
     "output_type": "execute_result",
     "execution_count": 18
    }
   ],
   "source": [
    "import pandas as pd\n",
    "\n",
    "df = pd.read_csv(r'../Original Data/billboard.csv', encoding='ANSI')\n",
    "\n",
    "df.head()"
   ]
  }
 ],
 "metadata": {
  "kernelspec": {
   "display_name": "Python 3",
   "language": "python",
   "name": "python3"
  },
  "language_info": {
   "codemirror_mode": {
    "name": "ipython",
    "version": 2
   },
   "file_extension": ".py",
   "mimetype": "text/x-python",
   "name": "python",
   "nbconvert_exporter": "python",
   "pygments_lexer": "ipython2",
   "version": "2.7.6"
  },
  "pycharm": {
   "stem_cell": {
    "cell_type": "raw",
    "source": [],
    "metadata": {
     "collapsed": false
    }
   }
  }
 },
 "nbformat": 4,
 "nbformat_minor": 0
}