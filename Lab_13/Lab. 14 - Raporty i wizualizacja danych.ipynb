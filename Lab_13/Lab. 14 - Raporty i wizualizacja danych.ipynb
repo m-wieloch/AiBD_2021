{
 "cells": [
  {
   "cell_type": "markdown",
   "id": "de693737",
   "metadata": {
    "id": "de693737"
   },
   "source": [
    "# Lab. 14 - Raporty i wizualizacja danych"
   ]
  },
  {
   "cell_type": "markdown",
   "id": "2bosQ_uAayG6",
   "metadata": {
    "id": "2bosQ_uAayG6"
   },
   "source": [
    "Maciej Wieloch, 303080\n",
    "\n",
    "AiBD"
   ]
  },
  {
   "cell_type": "markdown",
   "id": "974ca47a",
   "metadata": {
    "id": "974ca47a"
   },
   "source": [
    "## Kontrolki interaktywne w Jupyter Notebook\n",
    "czyli jak korzystać z interaktywnych widgetów IPython, aby usprawnić eksplorację i analizę danych."
   ]
  },
  {
   "cell_type": "markdown",
   "id": "29386397",
   "metadata": {
    "id": "29386397"
   },
   "source": [
    "W eksploracji danych mało efektywne i zakłócające płynność analizy danych jest wielokrotne uruchamianie tej samej komórki, za każdym razem nieznacznie zmieniając parametry wejściowe, np. wybierając inną wartość funkcji, inne zakresy dat do analizy, czy motyw wizualizacji plotly.\n",
    "\n",
    "Jednym z rozwiązań tego problemu są interaktywne kontrolki umożliwiające zmianę danych wejściowych bez konieczności przepisywania lub ponownego uruchamiania kodu. Mowa o **IPython widgets** (z biblioteki ipywidgets), które można zbudować za pomocą jednej linii kodu. Biblioteka pozwala nam przekształcić statyczne dokumenty Jupyter Notebook w interaktywne pulpity, idealne do eksploracji i wizualizacji danych."
   ]
  },
  {
   "cell_type": "markdown",
   "id": "96c9b9b6",
   "metadata": {
    "id": "96c9b9b6"
   },
   "source": [
    "1. Instalacja: \n",
    "```cmd\n",
    "pip install ipywidgets \n",
    "pip install pyarrow\n",
    "pip install fastparquet\n",
    "pip install chart_studio\n",
    "```\n",
    "\n",
    "1. Aktywacja widgetów dla Jupyter Notebook: \n",
    "```cmd\n",
    "jupyter nbextension enable --py widgetsnbextension\n",
    "```\n",
    "2. Import: \n",
    "```python\n",
    "import ipywidgets as widgets\n",
    "from ipywidgets import interact, interact_manual\n",
    "```"
   ]
  },
  {
   "cell_type": "code",
   "execution_count": 2,
   "id": "80863491",
   "metadata": {
    "pycharm": {
     "name": "#%%\n"
    }
   },
   "outputs": [],
   "source": [
    "import ipywidgets as widgets\n",
    "from ipywidgets import interact, interact_manual\n",
    "import chart_studio.plotly as py"
   ]
  },
  {
   "cell_type": "code",
   "execution_count": 3,
   "id": "c11a2ab0",
   "metadata": {
    "id": "c11a2ab0"
   },
   "outputs": [],
   "source": [
    "import pandas as pd\n",
    "import numpy as np"
   ]
  },
  {
   "cell_type": "markdown",
   "id": "581be601",
   "metadata": {
    "id": "581be601"
   },
   "source": [
    "Pokaż wszystkie dane wyjściowe komórek"
   ]
  },
  {
   "cell_type": "code",
   "execution_count": 4,
   "id": "3793882c",
   "metadata": {
    "id": "3793882c"
   },
   "outputs": [],
   "source": [
    "from IPython.core.interactiveshell import InteractiveShell\n",
    "InteractiveShell.ast_node_interactivity = 'all'"
   ]
  },
  {
   "cell_type": "markdown",
   "id": "61950883",
   "metadata": {
    "id": "61950883"
   },
   "source": [
    "## Podstawowe widgety\n",
    "Przed rozpoczęciem wykonywania głównego zadania, proszę zapoznać się z dokumentacją dostępną [tutaj](https://ipywidgets.readthedocs.io/en/latest/examples/Widget%20Basics.html). Zawiera ona przykłady najprostszych widgetów. Dostępna jest również wersja interaktywna, proszę ją wykonać. \n",
    "\n",
    "[Tutaj](https://ipywidgets.readthedocs.io/en/latest/examples/Widget%20List.html) znajduje się lista widgetów. Niech to będzie punkt odniesienia w trakcie pracy z wykorzystaniem widgetów. \\\n",
    "Cała dokumentacja jest dostępna [tutaj](https://ipywidgets.readthedocs.io/en/stable/user_guide.html)."
   ]
  },
  {
   "cell_type": "markdown",
   "id": "0f3486ec",
   "metadata": {
    "id": "0f3486ec"
   },
   "source": [
    "## Wczytanie danych\n",
    "Dane pochodzą z [repozytorium Willa Koehrsena](https://github.com/WillKoehrsen/Data-Analysis) i zawierają statystyki dotyczące jego artykułów.\n",
    "\n",
    "Więcej informacji znajdziesz [tutaj](https://towardsdatascience.com/interactive-controls-for-jupyter-notebooks-f5c94829aee6)."
   ]
  },
  {
   "cell_type": "code",
   "execution_count": 5,
   "id": "f5711b4e",
   "metadata": {
    "colab": {
     "base_uri": "https://localhost:8080/",
     "height": 652
    },
    "id": "f5711b4e",
    "outputId": "e69d01a3-0823-4edd-bea4-82d97ca1bd86"
   },
   "outputs": [
    {
     "data": {
      "text/html": [
       "<div>\n",
       "<style scoped>\n",
       "    .dataframe tbody tr th:only-of-type {\n",
       "        vertical-align: middle;\n",
       "    }\n",
       "\n",
       "    .dataframe tbody tr th {\n",
       "        vertical-align: top;\n",
       "    }\n",
       "\n",
       "    .dataframe thead th {\n",
       "        text-align: right;\n",
       "    }\n",
       "</style>\n",
       "<table border=\"1\" class=\"dataframe\">\n",
       "  <thead>\n",
       "    <tr style=\"text-align: right;\">\n",
       "      <th></th>\n",
       "      <th>claps</th>\n",
       "      <th>days_since_publication</th>\n",
       "      <th>fans</th>\n",
       "      <th>link</th>\n",
       "      <th>num_responses</th>\n",
       "      <th>publication</th>\n",
       "      <th>published_date</th>\n",
       "      <th>read_ratio</th>\n",
       "      <th>read_time</th>\n",
       "      <th>reads</th>\n",
       "      <th>...</th>\n",
       "      <th>type</th>\n",
       "      <th>views</th>\n",
       "      <th>word_count</th>\n",
       "      <th>claps_per_word</th>\n",
       "      <th>editing_days</th>\n",
       "      <th>&lt;tag&gt;Education</th>\n",
       "      <th>&lt;tag&gt;Data Science</th>\n",
       "      <th>&lt;tag&gt;Towards Data Science</th>\n",
       "      <th>&lt;tag&gt;Machine Learning</th>\n",
       "      <th>&lt;tag&gt;Python</th>\n",
       "    </tr>\n",
       "  </thead>\n",
       "  <tbody>\n",
       "    <tr>\n",
       "      <th>129</th>\n",
       "      <td>2</td>\n",
       "      <td>597.301123</td>\n",
       "      <td>2</td>\n",
       "      <td>https://medium.com/p/screw-the-environment-but...</td>\n",
       "      <td>0</td>\n",
       "      <td>None</td>\n",
       "      <td>2017-06-10 14:25:00</td>\n",
       "      <td>42.17</td>\n",
       "      <td>7</td>\n",
       "      <td>70</td>\n",
       "      <td>...</td>\n",
       "      <td>published</td>\n",
       "      <td>166</td>\n",
       "      <td>1859</td>\n",
       "      <td>0.001076</td>\n",
       "      <td>0</td>\n",
       "      <td>0</td>\n",
       "      <td>0</td>\n",
       "      <td>0</td>\n",
       "      <td>0</td>\n",
       "      <td>0</td>\n",
       "    </tr>\n",
       "    <tr>\n",
       "      <th>125</th>\n",
       "      <td>18</td>\n",
       "      <td>589.983168</td>\n",
       "      <td>3</td>\n",
       "      <td>https://medium.com/p/the-vanquishing-of-war-pl...</td>\n",
       "      <td>0</td>\n",
       "      <td>None</td>\n",
       "      <td>2017-06-17 22:02:00</td>\n",
       "      <td>30.34</td>\n",
       "      <td>14</td>\n",
       "      <td>54</td>\n",
       "      <td>...</td>\n",
       "      <td>published</td>\n",
       "      <td>178</td>\n",
       "      <td>3891</td>\n",
       "      <td>0.004626</td>\n",
       "      <td>0</td>\n",
       "      <td>0</td>\n",
       "      <td>0</td>\n",
       "      <td>0</td>\n",
       "      <td>0</td>\n",
       "      <td>0</td>\n",
       "    </tr>\n",
       "    <tr>\n",
       "      <th>132</th>\n",
       "      <td>51</td>\n",
       "      <td>577.363292</td>\n",
       "      <td>20</td>\n",
       "      <td>https://medium.com/p/capstone-project-mercedes...</td>\n",
       "      <td>0</td>\n",
       "      <td>None</td>\n",
       "      <td>2017-06-30 12:55:00</td>\n",
       "      <td>20.02</td>\n",
       "      <td>42</td>\n",
       "      <td>222</td>\n",
       "      <td>...</td>\n",
       "      <td>published</td>\n",
       "      <td>1109</td>\n",
       "      <td>12025</td>\n",
       "      <td>0.004241</td>\n",
       "      <td>0</td>\n",
       "      <td>0</td>\n",
       "      <td>0</td>\n",
       "      <td>0</td>\n",
       "      <td>1</td>\n",
       "      <td>1</td>\n",
       "    </tr>\n",
       "    <tr>\n",
       "      <th>126</th>\n",
       "      <td>0</td>\n",
       "      <td>576.520688</td>\n",
       "      <td>0</td>\n",
       "      <td>https://medium.com/p/home-of-the-scared-5af0fe...</td>\n",
       "      <td>0</td>\n",
       "      <td>None</td>\n",
       "      <td>2017-07-01 09:08:00</td>\n",
       "      <td>35.85</td>\n",
       "      <td>9</td>\n",
       "      <td>19</td>\n",
       "      <td>...</td>\n",
       "      <td>published</td>\n",
       "      <td>53</td>\n",
       "      <td>2533</td>\n",
       "      <td>0.000000</td>\n",
       "      <td>0</td>\n",
       "      <td>0</td>\n",
       "      <td>0</td>\n",
       "      <td>0</td>\n",
       "      <td>0</td>\n",
       "      <td>0</td>\n",
       "    </tr>\n",
       "    <tr>\n",
       "      <th>121</th>\n",
       "      <td>0</td>\n",
       "      <td>572.533035</td>\n",
       "      <td>0</td>\n",
       "      <td>https://medium.com/p/the-triumph-of-peace-f485...</td>\n",
       "      <td>0</td>\n",
       "      <td>None</td>\n",
       "      <td>2017-07-05 08:51:00</td>\n",
       "      <td>8.47</td>\n",
       "      <td>14</td>\n",
       "      <td>5</td>\n",
       "      <td>...</td>\n",
       "      <td>published</td>\n",
       "      <td>59</td>\n",
       "      <td>3892</td>\n",
       "      <td>0.000000</td>\n",
       "      <td>1</td>\n",
       "      <td>0</td>\n",
       "      <td>0</td>\n",
       "      <td>0</td>\n",
       "      <td>0</td>\n",
       "      <td>0</td>\n",
       "    </tr>\n",
       "  </tbody>\n",
       "</table>\n",
       "<p>5 rows × 25 columns</p>\n",
       "</div>"
      ],
      "text/plain": [
       "     claps  days_since_publication  fans  \\\n",
       "129      2              597.301123     2   \n",
       "125     18              589.983168     3   \n",
       "132     51              577.363292    20   \n",
       "126      0              576.520688     0   \n",
       "121      0              572.533035     0   \n",
       "\n",
       "                                                  link  num_responses  \\\n",
       "129  https://medium.com/p/screw-the-environment-but...              0   \n",
       "125  https://medium.com/p/the-vanquishing-of-war-pl...              0   \n",
       "132  https://medium.com/p/capstone-project-mercedes...              0   \n",
       "126  https://medium.com/p/home-of-the-scared-5af0fe...              0   \n",
       "121  https://medium.com/p/the-triumph-of-peace-f485...              0   \n",
       "\n",
       "    publication      published_date  read_ratio  read_time  reads  ...  \\\n",
       "129        None 2017-06-10 14:25:00       42.17          7     70  ...   \n",
       "125        None 2017-06-17 22:02:00       30.34         14     54  ...   \n",
       "132        None 2017-06-30 12:55:00       20.02         42    222  ...   \n",
       "126        None 2017-07-01 09:08:00       35.85          9     19  ...   \n",
       "121        None 2017-07-05 08:51:00        8.47         14      5  ...   \n",
       "\n",
       "          type views word_count claps_per_word  editing_days <tag>Education  \\\n",
       "129  published   166       1859       0.001076             0              0   \n",
       "125  published   178       3891       0.004626             0              0   \n",
       "132  published  1109      12025       0.004241             0              0   \n",
       "126  published    53       2533       0.000000             0              0   \n",
       "121  published    59       3892       0.000000             1              0   \n",
       "\n",
       "     <tag>Data Science  <tag>Towards Data Science  <tag>Machine Learning  \\\n",
       "129                  0                          0                      0   \n",
       "125                  0                          0                      0   \n",
       "132                  0                          0                      1   \n",
       "126                  0                          0                      0   \n",
       "121                  0                          0                      0   \n",
       "\n",
       "     <tag>Python  \n",
       "129            0  \n",
       "125            0  \n",
       "132            1  \n",
       "126            0  \n",
       "121            0  \n",
       "\n",
       "[5 rows x 25 columns]"
      ]
     },
     "execution_count": 5,
     "metadata": {},
     "output_type": "execute_result"
    }
   ],
   "source": [
    "data = pd.read_parquet('https://github.com/WillKoehrsen/Data-Analysis/blob/master/medium/data/medium_data_2019_01_26?raw=true')\n",
    "data.head()"
   ]
  },
  {
   "cell_type": "markdown",
   "id": "9c842ef2",
   "metadata": {
    "id": "9c842ef2"
   },
   "source": [
    "Proszę zapoznać się z danymi (.columns, .describe(), .info())."
   ]
  },
  {
   "cell_type": "code",
   "execution_count": 6,
   "id": "96b17a96",
   "metadata": {
    "colab": {
     "base_uri": "https://localhost:8080/"
    },
    "id": "96b17a96",
    "outputId": "a2786ff5-5ae6-47aa-e579-4e795a001d40"
   },
   "outputs": [
    {
     "data": {
      "text/plain": [
       "Index(['claps', 'days_since_publication', 'fans', 'link', 'num_responses',\n",
       "       'publication', 'published_date', 'read_ratio', 'read_time', 'reads',\n",
       "       'started_date', 'tags', 'text', 'title', 'title_word_count', 'type',\n",
       "       'views', 'word_count', 'claps_per_word', 'editing_days',\n",
       "       '<tag>Education', '<tag>Data Science', '<tag>Towards Data Science',\n",
       "       '<tag>Machine Learning', '<tag>Python'],\n",
       "      dtype='object')"
      ]
     },
     "execution_count": 6,
     "metadata": {},
     "output_type": "execute_result"
    }
   ],
   "source": [
    "data.columns"
   ]
  },
  {
   "cell_type": "code",
   "execution_count": 7,
   "id": "49b66f4a",
   "metadata": {
    "colab": {
     "base_uri": "https://localhost:8080/",
     "height": 382
    },
    "id": "49b66f4a",
    "outputId": "66f2d1b8-f529-449f-9c3c-d23435772237"
   },
   "outputs": [
    {
     "data": {
      "text/html": [
       "<div>\n",
       "<style scoped>\n",
       "    .dataframe tbody tr th:only-of-type {\n",
       "        vertical-align: middle;\n",
       "    }\n",
       "\n",
       "    .dataframe tbody tr th {\n",
       "        vertical-align: top;\n",
       "    }\n",
       "\n",
       "    .dataframe thead th {\n",
       "        text-align: right;\n",
       "    }\n",
       "</style>\n",
       "<table border=\"1\" class=\"dataframe\">\n",
       "  <thead>\n",
       "    <tr style=\"text-align: right;\">\n",
       "      <th></th>\n",
       "      <th>claps</th>\n",
       "      <th>days_since_publication</th>\n",
       "      <th>fans</th>\n",
       "      <th>num_responses</th>\n",
       "      <th>read_ratio</th>\n",
       "      <th>read_time</th>\n",
       "      <th>reads</th>\n",
       "      <th>title_word_count</th>\n",
       "      <th>views</th>\n",
       "      <th>word_count</th>\n",
       "      <th>claps_per_word</th>\n",
       "      <th>editing_days</th>\n",
       "      <th>&lt;tag&gt;Education</th>\n",
       "      <th>&lt;tag&gt;Data Science</th>\n",
       "      <th>&lt;tag&gt;Towards Data Science</th>\n",
       "      <th>&lt;tag&gt;Machine Learning</th>\n",
       "      <th>&lt;tag&gt;Python</th>\n",
       "    </tr>\n",
       "  </thead>\n",
       "  <tbody>\n",
       "    <tr>\n",
       "      <th>count</th>\n",
       "      <td>133.000000</td>\n",
       "      <td>133.000000</td>\n",
       "      <td>133.000000</td>\n",
       "      <td>133.000000</td>\n",
       "      <td>133.000000</td>\n",
       "      <td>133.000000</td>\n",
       "      <td>133.000000</td>\n",
       "      <td>133.000000</td>\n",
       "      <td>133.000000</td>\n",
       "      <td>133.000000</td>\n",
       "      <td>133.000000</td>\n",
       "      <td>133.000000</td>\n",
       "      <td>133.000000</td>\n",
       "      <td>133.000000</td>\n",
       "      <td>133.000000</td>\n",
       "      <td>133.000000</td>\n",
       "      <td>133.000000</td>\n",
       "    </tr>\n",
       "    <tr>\n",
       "      <th>mean</th>\n",
       "      <td>1815.263158</td>\n",
       "      <td>248.407273</td>\n",
       "      <td>352.052632</td>\n",
       "      <td>7.045113</td>\n",
       "      <td>29.074662</td>\n",
       "      <td>12.917293</td>\n",
       "      <td>6336.300752</td>\n",
       "      <td>7.127820</td>\n",
       "      <td>23404.030075</td>\n",
       "      <td>3029.120301</td>\n",
       "      <td>0.957638</td>\n",
       "      <td>20.330827</td>\n",
       "      <td>0.729323</td>\n",
       "      <td>0.609023</td>\n",
       "      <td>0.436090</td>\n",
       "      <td>0.383459</td>\n",
       "      <td>0.315789</td>\n",
       "    </tr>\n",
       "    <tr>\n",
       "      <th>std</th>\n",
       "      <td>2449.074661</td>\n",
       "      <td>179.370879</td>\n",
       "      <td>479.060117</td>\n",
       "      <td>9.056108</td>\n",
       "      <td>12.417670</td>\n",
       "      <td>9.510795</td>\n",
       "      <td>9007.284726</td>\n",
       "      <td>3.158475</td>\n",
       "      <td>33995.636496</td>\n",
       "      <td>2393.414456</td>\n",
       "      <td>1.846756</td>\n",
       "      <td>74.111579</td>\n",
       "      <td>0.445989</td>\n",
       "      <td>0.489814</td>\n",
       "      <td>0.497774</td>\n",
       "      <td>0.488067</td>\n",
       "      <td>0.466587</td>\n",
       "    </tr>\n",
       "    <tr>\n",
       "      <th>min</th>\n",
       "      <td>0.000000</td>\n",
       "      <td>1.218629</td>\n",
       "      <td>0.000000</td>\n",
       "      <td>0.000000</td>\n",
       "      <td>8.110000</td>\n",
       "      <td>1.000000</td>\n",
       "      <td>1.000000</td>\n",
       "      <td>2.000000</td>\n",
       "      <td>3.000000</td>\n",
       "      <td>163.000000</td>\n",
       "      <td>0.000000</td>\n",
       "      <td>-13.000000</td>\n",
       "      <td>0.000000</td>\n",
       "      <td>0.000000</td>\n",
       "      <td>0.000000</td>\n",
       "      <td>0.000000</td>\n",
       "      <td>0.000000</td>\n",
       "    </tr>\n",
       "    <tr>\n",
       "      <th>25%</th>\n",
       "      <td>121.000000</td>\n",
       "      <td>74.543822</td>\n",
       "      <td>23.000000</td>\n",
       "      <td>0.000000</td>\n",
       "      <td>20.020000</td>\n",
       "      <td>8.000000</td>\n",
       "      <td>363.000000</td>\n",
       "      <td>5.000000</td>\n",
       "      <td>1375.000000</td>\n",
       "      <td>1653.000000</td>\n",
       "      <td>0.052115</td>\n",
       "      <td>0.000000</td>\n",
       "      <td>0.000000</td>\n",
       "      <td>0.000000</td>\n",
       "      <td>0.000000</td>\n",
       "      <td>0.000000</td>\n",
       "      <td>0.000000</td>\n",
       "    </tr>\n",
       "    <tr>\n",
       "      <th>50%</th>\n",
       "      <td>815.000000</td>\n",
       "      <td>245.416130</td>\n",
       "      <td>136.000000</td>\n",
       "      <td>4.000000</td>\n",
       "      <td>27.060000</td>\n",
       "      <td>10.000000</td>\n",
       "      <td>2049.000000</td>\n",
       "      <td>7.000000</td>\n",
       "      <td>7608.000000</td>\n",
       "      <td>2456.000000</td>\n",
       "      <td>0.421525</td>\n",
       "      <td>1.000000</td>\n",
       "      <td>1.000000</td>\n",
       "      <td>1.000000</td>\n",
       "      <td>0.000000</td>\n",
       "      <td>0.000000</td>\n",
       "      <td>0.000000</td>\n",
       "    </tr>\n",
       "    <tr>\n",
       "      <th>75%</th>\n",
       "      <td>2700.000000</td>\n",
       "      <td>376.080598</td>\n",
       "      <td>528.000000</td>\n",
       "      <td>12.000000</td>\n",
       "      <td>34.910000</td>\n",
       "      <td>14.000000</td>\n",
       "      <td>7815.000000</td>\n",
       "      <td>8.000000</td>\n",
       "      <td>30141.000000</td>\n",
       "      <td>3553.000000</td>\n",
       "      <td>1.099366</td>\n",
       "      <td>5.000000</td>\n",
       "      <td>1.000000</td>\n",
       "      <td>1.000000</td>\n",
       "      <td>1.000000</td>\n",
       "      <td>1.000000</td>\n",
       "      <td>1.000000</td>\n",
       "    </tr>\n",
       "    <tr>\n",
       "      <th>max</th>\n",
       "      <td>13600.000000</td>\n",
       "      <td>597.301123</td>\n",
       "      <td>2588.000000</td>\n",
       "      <td>59.000000</td>\n",
       "      <td>74.370000</td>\n",
       "      <td>54.000000</td>\n",
       "      <td>41978.000000</td>\n",
       "      <td>16.000000</td>\n",
       "      <td>173714.000000</td>\n",
       "      <td>15063.000000</td>\n",
       "      <td>17.891817</td>\n",
       "      <td>349.000000</td>\n",
       "      <td>1.000000</td>\n",
       "      <td>1.000000</td>\n",
       "      <td>1.000000</td>\n",
       "      <td>1.000000</td>\n",
       "      <td>1.000000</td>\n",
       "    </tr>\n",
       "  </tbody>\n",
       "</table>\n",
       "</div>"
      ],
      "text/plain": [
       "              claps  days_since_publication         fans  num_responses  \\\n",
       "count    133.000000              133.000000   133.000000     133.000000   \n",
       "mean    1815.263158              248.407273   352.052632       7.045113   \n",
       "std     2449.074661              179.370879   479.060117       9.056108   \n",
       "min        0.000000                1.218629     0.000000       0.000000   \n",
       "25%      121.000000               74.543822    23.000000       0.000000   \n",
       "50%      815.000000              245.416130   136.000000       4.000000   \n",
       "75%     2700.000000              376.080598   528.000000      12.000000   \n",
       "max    13600.000000              597.301123  2588.000000      59.000000   \n",
       "\n",
       "       read_ratio   read_time         reads  title_word_count          views  \\\n",
       "count  133.000000  133.000000    133.000000        133.000000     133.000000   \n",
       "mean    29.074662   12.917293   6336.300752          7.127820   23404.030075   \n",
       "std     12.417670    9.510795   9007.284726          3.158475   33995.636496   \n",
       "min      8.110000    1.000000      1.000000          2.000000       3.000000   \n",
       "25%     20.020000    8.000000    363.000000          5.000000    1375.000000   \n",
       "50%     27.060000   10.000000   2049.000000          7.000000    7608.000000   \n",
       "75%     34.910000   14.000000   7815.000000          8.000000   30141.000000   \n",
       "max     74.370000   54.000000  41978.000000         16.000000  173714.000000   \n",
       "\n",
       "         word_count  claps_per_word  editing_days  <tag>Education  \\\n",
       "count    133.000000      133.000000    133.000000      133.000000   \n",
       "mean    3029.120301        0.957638     20.330827        0.729323   \n",
       "std     2393.414456        1.846756     74.111579        0.445989   \n",
       "min      163.000000        0.000000    -13.000000        0.000000   \n",
       "25%     1653.000000        0.052115      0.000000        0.000000   \n",
       "50%     2456.000000        0.421525      1.000000        1.000000   \n",
       "75%     3553.000000        1.099366      5.000000        1.000000   \n",
       "max    15063.000000       17.891817    349.000000        1.000000   \n",
       "\n",
       "       <tag>Data Science  <tag>Towards Data Science  <tag>Machine Learning  \\\n",
       "count         133.000000                 133.000000             133.000000   \n",
       "mean            0.609023                   0.436090               0.383459   \n",
       "std             0.489814                   0.497774               0.488067   \n",
       "min             0.000000                   0.000000               0.000000   \n",
       "25%             0.000000                   0.000000               0.000000   \n",
       "50%             1.000000                   0.000000               0.000000   \n",
       "75%             1.000000                   1.000000               1.000000   \n",
       "max             1.000000                   1.000000               1.000000   \n",
       "\n",
       "       <tag>Python  \n",
       "count   133.000000  \n",
       "mean      0.315789  \n",
       "std       0.466587  \n",
       "min       0.000000  \n",
       "25%       0.000000  \n",
       "50%       0.000000  \n",
       "75%       1.000000  \n",
       "max       1.000000  "
      ]
     },
     "execution_count": 7,
     "metadata": {},
     "output_type": "execute_result"
    }
   ],
   "source": [
    "data.describe()"
   ]
  },
  {
   "cell_type": "code",
   "execution_count": 8,
   "id": "7cfd753c",
   "metadata": {
    "colab": {
     "base_uri": "https://localhost:8080/"
    },
    "id": "7cfd753c",
    "outputId": "a62cf404-7b07-4791-a5eb-a6cf23e373bd"
   },
   "outputs": [
    {
     "name": "stdout",
     "output_type": "stream",
     "text": [
      "<class 'pandas.core.frame.DataFrame'>\n",
      "Int64Index: 133 entries, 129 to 17\n",
      "Data columns (total 25 columns):\n",
      " #   Column                     Non-Null Count  Dtype         \n",
      "---  ------                     --------------  -----         \n",
      " 0   claps                      133 non-null    int64         \n",
      " 1   days_since_publication     133 non-null    float64       \n",
      " 2   fans                       133 non-null    int64         \n",
      " 3   link                       133 non-null    object        \n",
      " 4   num_responses              133 non-null    int64         \n",
      " 5   publication                133 non-null    object        \n",
      " 6   published_date             133 non-null    datetime64[ns]\n",
      " 7   read_ratio                 133 non-null    float64       \n",
      " 8   read_time                  133 non-null    int64         \n",
      " 9   reads                      133 non-null    int64         \n",
      " 10  started_date               133 non-null    datetime64[ns]\n",
      " 11  tags                       133 non-null    object        \n",
      " 12  text                       133 non-null    object        \n",
      " 13  title                      133 non-null    object        \n",
      " 14  title_word_count           133 non-null    int64         \n",
      " 15  type                       133 non-null    object        \n",
      " 16  views                      133 non-null    int64         \n",
      " 17  word_count                 133 non-null    int64         \n",
      " 18  claps_per_word             133 non-null    float64       \n",
      " 19  editing_days               133 non-null    int32         \n",
      " 20  <tag>Education             133 non-null    int64         \n",
      " 21  <tag>Data Science          133 non-null    int64         \n",
      " 22  <tag>Towards Data Science  133 non-null    int64         \n",
      " 23  <tag>Machine Learning      133 non-null    int64         \n",
      " 24  <tag>Python                133 non-null    int64         \n",
      "dtypes: datetime64[ns](2), float64(3), int32(1), int64(13), object(6)\n",
      "memory usage: 26.5+ KB\n"
     ]
    }
   ],
   "source": [
    "data.info()"
   ]
  },
  {
   "cell_type": "markdown",
   "id": "143bf833",
   "metadata": {
    "id": "143bf833"
   },
   "source": [
    "Stwórz nowy DataFrame, z kolumnami: title, tags, published_date, publication, reads, views, word_count, claps, fans, read_time."
   ]
  },
  {
   "cell_type": "code",
   "execution_count": 9,
   "id": "15e3a035",
   "metadata": {
    "colab": {
     "base_uri": "https://localhost:8080/",
     "height": 424
    },
    "id": "15e3a035",
    "outputId": "f6dbf7a2-5325-4950-f7f0-2210d50d0010"
   },
   "outputs": [
    {
     "data": {
      "text/html": [
       "<div>\n",
       "<style scoped>\n",
       "    .dataframe tbody tr th:only-of-type {\n",
       "        vertical-align: middle;\n",
       "    }\n",
       "\n",
       "    .dataframe tbody tr th {\n",
       "        vertical-align: top;\n",
       "    }\n",
       "\n",
       "    .dataframe thead th {\n",
       "        text-align: right;\n",
       "    }\n",
       "</style>\n",
       "<table border=\"1\" class=\"dataframe\">\n",
       "  <thead>\n",
       "    <tr style=\"text-align: right;\">\n",
       "      <th></th>\n",
       "      <th>title</th>\n",
       "      <th>tags</th>\n",
       "      <th>published_date</th>\n",
       "      <th>publication</th>\n",
       "      <th>reads</th>\n",
       "      <th>views</th>\n",
       "      <th>word_count</th>\n",
       "      <th>claps</th>\n",
       "      <th>fans</th>\n",
       "      <th>read_time</th>\n",
       "    </tr>\n",
       "  </thead>\n",
       "  <tbody>\n",
       "    <tr>\n",
       "      <th>129</th>\n",
       "      <td>Screw the Environment, but Consider Your Wallet</td>\n",
       "      <td>[Climate Change, Economics]</td>\n",
       "      <td>2017-06-10 14:25:00</td>\n",
       "      <td>None</td>\n",
       "      <td>70</td>\n",
       "      <td>166</td>\n",
       "      <td>1859</td>\n",
       "      <td>2</td>\n",
       "      <td>2</td>\n",
       "      <td>7</td>\n",
       "    </tr>\n",
       "    <tr>\n",
       "      <th>125</th>\n",
       "      <td>The Vanquishing of War, Plague and Famine</td>\n",
       "      <td>[Climate Change, Humanity, Optimism, History]</td>\n",
       "      <td>2017-06-17 22:02:00</td>\n",
       "      <td>None</td>\n",
       "      <td>54</td>\n",
       "      <td>178</td>\n",
       "      <td>3891</td>\n",
       "      <td>18</td>\n",
       "      <td>3</td>\n",
       "      <td>14</td>\n",
       "    </tr>\n",
       "    <tr>\n",
       "      <th>132</th>\n",
       "      <td>Capstone Project: Mercedes-Benz Greener Manufa...</td>\n",
       "      <td>[Machine Learning, Python, Udacity, Kaggle]</td>\n",
       "      <td>2017-06-30 12:55:00</td>\n",
       "      <td>None</td>\n",
       "      <td>222</td>\n",
       "      <td>1109</td>\n",
       "      <td>12025</td>\n",
       "      <td>51</td>\n",
       "      <td>20</td>\n",
       "      <td>42</td>\n",
       "    </tr>\n",
       "    <tr>\n",
       "      <th>126</th>\n",
       "      <td>Home of the Scared</td>\n",
       "      <td>[Politics, Books, News, Media Criticism]</td>\n",
       "      <td>2017-07-01 09:08:00</td>\n",
       "      <td>None</td>\n",
       "      <td>19</td>\n",
       "      <td>53</td>\n",
       "      <td>2533</td>\n",
       "      <td>0</td>\n",
       "      <td>0</td>\n",
       "      <td>9</td>\n",
       "    </tr>\n",
       "    <tr>\n",
       "      <th>121</th>\n",
       "      <td>The Triumph of Peace</td>\n",
       "      <td>[Books, Psychology, History, Humanism]</td>\n",
       "      <td>2017-07-05 08:51:00</td>\n",
       "      <td>None</td>\n",
       "      <td>5</td>\n",
       "      <td>59</td>\n",
       "      <td>3892</td>\n",
       "      <td>0</td>\n",
       "      <td>0</td>\n",
       "      <td>14</td>\n",
       "    </tr>\n",
       "    <tr>\n",
       "      <th>...</th>\n",
       "      <td>...</td>\n",
       "      <td>...</td>\n",
       "      <td>...</td>\n",
       "      <td>...</td>\n",
       "      <td>...</td>\n",
       "      <td>...</td>\n",
       "      <td>...</td>\n",
       "      <td>...</td>\n",
       "      <td>...</td>\n",
       "      <td>...</td>\n",
       "    </tr>\n",
       "    <tr>\n",
       "      <th>6</th>\n",
       "      <td>The Reality of Global Nuclear Weapons and How ...</td>\n",
       "      <td>[The Reality Project, Data Journalism, Data, E...</td>\n",
       "      <td>2019-01-12 13:33:00</td>\n",
       "      <td>Towards Data Science</td>\n",
       "      <td>343</td>\n",
       "      <td>1372</td>\n",
       "      <td>2795</td>\n",
       "      <td>370</td>\n",
       "      <td>50</td>\n",
       "      <td>11</td>\n",
       "    </tr>\n",
       "    <tr>\n",
       "      <th>3</th>\n",
       "      <td>The Myth of Us vs Them</td>\n",
       "      <td>[Data, Education, The Reality Project, Data Jo...</td>\n",
       "      <td>2019-01-16 16:44:00</td>\n",
       "      <td>Towards Data Science</td>\n",
       "      <td>266</td>\n",
       "      <td>1005</td>\n",
       "      <td>2532</td>\n",
       "      <td>315</td>\n",
       "      <td>44</td>\n",
       "      <td>10</td>\n",
       "    </tr>\n",
       "    <tr>\n",
       "      <th>5</th>\n",
       "      <td>The Poisson Distribution and Poisson Process E...</td>\n",
       "      <td>[Statistics, Data Science, Towards Data Scienc...</td>\n",
       "      <td>2019-01-20 16:28:00</td>\n",
       "      <td>Towards Data Science</td>\n",
       "      <td>2320</td>\n",
       "      <td>8806</td>\n",
       "      <td>3371</td>\n",
       "      <td>2000</td>\n",
       "      <td>356</td>\n",
       "      <td>14</td>\n",
       "    </tr>\n",
       "    <tr>\n",
       "      <th>1</th>\n",
       "      <td>A Great Public Health Conspiracy?</td>\n",
       "      <td>[Health, Data, Data Journalism, The Reality Pr...</td>\n",
       "      <td>2019-01-25 08:30:00</td>\n",
       "      <td>Towards Data Science</td>\n",
       "      <td>96</td>\n",
       "      <td>559</td>\n",
       "      <td>3549</td>\n",
       "      <td>53</td>\n",
       "      <td>16</td>\n",
       "      <td>13</td>\n",
       "    </tr>\n",
       "    <tr>\n",
       "      <th>17</th>\n",
       "      <td>Interactive Controls in Jupyter Notebooks</td>\n",
       "      <td>[Data Science, Towards Data Science, Education...</td>\n",
       "      <td>2019-01-27 16:23:00</td>\n",
       "      <td>Towards Data Science</td>\n",
       "      <td>165</td>\n",
       "      <td>693</td>\n",
       "      <td>1191</td>\n",
       "      <td>901</td>\n",
       "      <td>49</td>\n",
       "      <td>6</td>\n",
       "    </tr>\n",
       "  </tbody>\n",
       "</table>\n",
       "<p>133 rows × 10 columns</p>\n",
       "</div>"
      ],
      "text/plain": [
       "                                                 title  \\\n",
       "129    Screw the Environment, but Consider Your Wallet   \n",
       "125          The Vanquishing of War, Plague and Famine   \n",
       "132  Capstone Project: Mercedes-Benz Greener Manufa...   \n",
       "126                                 Home of the Scared   \n",
       "121                               The Triumph of Peace   \n",
       "..                                                 ...   \n",
       "6    The Reality of Global Nuclear Weapons and How ...   \n",
       "3                               The Myth of Us vs Them   \n",
       "5    The Poisson Distribution and Poisson Process E...   \n",
       "1                    A Great Public Health Conspiracy?   \n",
       "17           Interactive Controls in Jupyter Notebooks   \n",
       "\n",
       "                                                  tags      published_date  \\\n",
       "129                        [Climate Change, Economics] 2017-06-10 14:25:00   \n",
       "125      [Climate Change, Humanity, Optimism, History] 2017-06-17 22:02:00   \n",
       "132        [Machine Learning, Python, Udacity, Kaggle] 2017-06-30 12:55:00   \n",
       "126           [Politics, Books, News, Media Criticism] 2017-07-01 09:08:00   \n",
       "121             [Books, Psychology, History, Humanism] 2017-07-05 08:51:00   \n",
       "..                                                 ...                 ...   \n",
       "6    [The Reality Project, Data Journalism, Data, E... 2019-01-12 13:33:00   \n",
       "3    [Data, Education, The Reality Project, Data Jo... 2019-01-16 16:44:00   \n",
       "5    [Statistics, Data Science, Towards Data Scienc... 2019-01-20 16:28:00   \n",
       "1    [Health, Data, Data Journalism, The Reality Pr... 2019-01-25 08:30:00   \n",
       "17   [Data Science, Towards Data Science, Education... 2019-01-27 16:23:00   \n",
       "\n",
       "              publication  reads  views  word_count  claps  fans  read_time  \n",
       "129                  None     70    166        1859      2     2          7  \n",
       "125                  None     54    178        3891     18     3         14  \n",
       "132                  None    222   1109       12025     51    20         42  \n",
       "126                  None     19     53        2533      0     0          9  \n",
       "121                  None      5     59        3892      0     0         14  \n",
       "..                    ...    ...    ...         ...    ...   ...        ...  \n",
       "6    Towards Data Science    343   1372        2795    370    50         11  \n",
       "3    Towards Data Science    266   1005        2532    315    44         10  \n",
       "5    Towards Data Science   2320   8806        3371   2000   356         14  \n",
       "1    Towards Data Science     96    559        3549     53    16         13  \n",
       "17   Towards Data Science    165    693        1191    901    49          6  \n",
       "\n",
       "[133 rows x 10 columns]"
      ]
     },
     "execution_count": 9,
     "metadata": {},
     "output_type": "execute_result"
    }
   ],
   "source": [
    "df = data[['title', 'tags', 'published_date', 'publication', 'reads', 'views', 'word_count', 'claps', 'fans', 'read_time']]\n",
    "\n",
    "df"
   ]
  },
  {
   "cell_type": "markdown",
   "id": "0945752d",
   "metadata": {
    "id": "0945752d"
   },
   "source": [
    "## Wyświetlanie danych"
   ]
  },
  {
   "cell_type": "markdown",
   "id": "69495733",
   "metadata": {
    "id": "69495733"
   },
   "source": [
    "Za pomocą *.loc* wyświetl artykuły, które zostały przeczytane więcej niż 1000 razy."
   ]
  },
  {
   "cell_type": "code",
   "execution_count": 10,
   "id": "ee6bb012",
   "metadata": {
    "colab": {
     "base_uri": "https://localhost:8080/",
     "height": 424
    },
    "id": "ee6bb012",
    "outputId": "25c90e42-4540-4169-9733-6e9c6929a502"
   },
   "outputs": [
    {
     "data": {
      "text/html": [
       "<div>\n",
       "<style scoped>\n",
       "    .dataframe tbody tr th:only-of-type {\n",
       "        vertical-align: middle;\n",
       "    }\n",
       "\n",
       "    .dataframe tbody tr th {\n",
       "        vertical-align: top;\n",
       "    }\n",
       "\n",
       "    .dataframe thead th {\n",
       "        text-align: right;\n",
       "    }\n",
       "</style>\n",
       "<table border=\"1\" class=\"dataframe\">\n",
       "  <thead>\n",
       "    <tr style=\"text-align: right;\">\n",
       "      <th></th>\n",
       "      <th>title</th>\n",
       "      <th>tags</th>\n",
       "      <th>published_date</th>\n",
       "      <th>publication</th>\n",
       "      <th>reads</th>\n",
       "      <th>views</th>\n",
       "      <th>word_count</th>\n",
       "      <th>claps</th>\n",
       "      <th>fans</th>\n",
       "      <th>read_time</th>\n",
       "    </tr>\n",
       "  </thead>\n",
       "  <tbody>\n",
       "    <tr>\n",
       "      <th>131</th>\n",
       "      <td>Deep Neural Network Classifier</td>\n",
       "      <td>[Machine Learning, Neural Networks, TensorFlow...</td>\n",
       "      <td>2017-07-25 17:54:00</td>\n",
       "      <td>None</td>\n",
       "      <td>1717</td>\n",
       "      <td>9723</td>\n",
       "      <td>1778</td>\n",
       "      <td>73</td>\n",
       "      <td>20</td>\n",
       "      <td>14</td>\n",
       "    </tr>\n",
       "    <tr>\n",
       "      <th>122</th>\n",
       "      <td>Object Recognition with Google’s Convolutional...</td>\n",
       "      <td>[Machine Learning, Neural Networks, Python, Ob...</td>\n",
       "      <td>2017-07-27 21:17:00</td>\n",
       "      <td>None</td>\n",
       "      <td>5690</td>\n",
       "      <td>24079</td>\n",
       "      <td>2345</td>\n",
       "      <td>240</td>\n",
       "      <td>56</td>\n",
       "      <td>12</td>\n",
       "    </tr>\n",
       "    <tr>\n",
       "      <th>127</th>\n",
       "      <td>Facial Recognition Using Google’s Convolutiona...</td>\n",
       "      <td>[Machine Learning, Python, Neural Networks, Fa...</td>\n",
       "      <td>2017-08-07 14:24:00</td>\n",
       "      <td>None</td>\n",
       "      <td>3992</td>\n",
       "      <td>28387</td>\n",
       "      <td>6666</td>\n",
       "      <td>704</td>\n",
       "      <td>76</td>\n",
       "      <td>38</td>\n",
       "    </tr>\n",
       "    <tr>\n",
       "      <th>107</th>\n",
       "      <td>Controlling your Location in Google Chrome</td>\n",
       "      <td>[Privacy, Security, Google, Internet]</td>\n",
       "      <td>2017-08-15 14:02:00</td>\n",
       "      <td>None</td>\n",
       "      <td>2734</td>\n",
       "      <td>9589</td>\n",
       "      <td>1214</td>\n",
       "      <td>5</td>\n",
       "      <td>5</td>\n",
       "      <td>6</td>\n",
       "    </tr>\n",
       "    <tr>\n",
       "      <th>112</th>\n",
       "      <td>Machine Learning with Python on the Enron Dataset</td>\n",
       "      <td>[Machine Learning, Python, Udacity, Data Analy...</td>\n",
       "      <td>2017-08-20 17:06:00</td>\n",
       "      <td>None</td>\n",
       "      <td>2049</td>\n",
       "      <td>13367</td>\n",
       "      <td>6800</td>\n",
       "      <td>167</td>\n",
       "      <td>32</td>\n",
       "      <td>31</td>\n",
       "    </tr>\n",
       "    <tr>\n",
       "      <th>...</th>\n",
       "      <td>...</td>\n",
       "      <td>...</td>\n",
       "      <td>...</td>\n",
       "      <td>...</td>\n",
       "      <td>...</td>\n",
       "      <td>...</td>\n",
       "      <td>...</td>\n",
       "      <td>...</td>\n",
       "      <td>...</td>\n",
       "      <td>...</td>\n",
       "    </tr>\n",
       "    <tr>\n",
       "      <th>24</th>\n",
       "      <td>Docker for Data Science Without the Hassle</td>\n",
       "      <td>[Docker, Data Science, Open Source, Education,...</td>\n",
       "      <td>2018-12-17 20:04:00</td>\n",
       "      <td>Towards Data Science</td>\n",
       "      <td>2135</td>\n",
       "      <td>6766</td>\n",
       "      <td>1075</td>\n",
       "      <td>730</td>\n",
       "      <td>187</td>\n",
       "      <td>5</td>\n",
       "    </tr>\n",
       "    <tr>\n",
       "      <th>12</th>\n",
       "      <td>The Copernican Principle and How to Use Statis...</td>\n",
       "      <td>[Science, Towards Data Science, Education, Sta...</td>\n",
       "      <td>2018-12-29 11:36:00</td>\n",
       "      <td>Towards Data Science</td>\n",
       "      <td>1517</td>\n",
       "      <td>5070</td>\n",
       "      <td>1898</td>\n",
       "      <td>730</td>\n",
       "      <td>155</td>\n",
       "      <td>8</td>\n",
       "    </tr>\n",
       "    <tr>\n",
       "      <th>19</th>\n",
       "      <td>The Next Level of Data Visualization in Python</td>\n",
       "      <td>[Data Science, Data Visualization, Python, Edu...</td>\n",
       "      <td>2019-01-08 22:09:00</td>\n",
       "      <td>Towards Data Science</td>\n",
       "      <td>24002</td>\n",
       "      <td>71225</td>\n",
       "      <td>1457</td>\n",
       "      <td>7600</td>\n",
       "      <td>1697</td>\n",
       "      <td>8</td>\n",
       "    </tr>\n",
       "    <tr>\n",
       "      <th>2</th>\n",
       "      <td>A Non-Technical Reading List for Data Science</td>\n",
       "      <td>[Data Science, Reading, Education, Towards Dat...</td>\n",
       "      <td>2019-01-10 15:14:00</td>\n",
       "      <td>Towards Data Science</td>\n",
       "      <td>2809</td>\n",
       "      <td>15291</td>\n",
       "      <td>3715</td>\n",
       "      <td>1800</td>\n",
       "      <td>369</td>\n",
       "      <td>15</td>\n",
       "    </tr>\n",
       "    <tr>\n",
       "      <th>5</th>\n",
       "      <td>The Poisson Distribution and Poisson Process E...</td>\n",
       "      <td>[Statistics, Data Science, Towards Data Scienc...</td>\n",
       "      <td>2019-01-20 16:28:00</td>\n",
       "      <td>Towards Data Science</td>\n",
       "      <td>2320</td>\n",
       "      <td>8806</td>\n",
       "      <td>3371</td>\n",
       "      <td>2000</td>\n",
       "      <td>356</td>\n",
       "      <td>14</td>\n",
       "    </tr>\n",
       "  </tbody>\n",
       "</table>\n",
       "<p>86 rows × 10 columns</p>\n",
       "</div>"
      ],
      "text/plain": [
       "                                                 title  \\\n",
       "131                     Deep Neural Network Classifier   \n",
       "122  Object Recognition with Google’s Convolutional...   \n",
       "127  Facial Recognition Using Google’s Convolutiona...   \n",
       "107         Controlling your Location in Google Chrome   \n",
       "112  Machine Learning with Python on the Enron Dataset   \n",
       "..                                                 ...   \n",
       "24          Docker for Data Science Without the Hassle   \n",
       "12   The Copernican Principle and How to Use Statis...   \n",
       "19      The Next Level of Data Visualization in Python   \n",
       "2        A Non-Technical Reading List for Data Science   \n",
       "5    The Poisson Distribution and Poisson Process E...   \n",
       "\n",
       "                                                  tags      published_date  \\\n",
       "131  [Machine Learning, Neural Networks, TensorFlow... 2017-07-25 17:54:00   \n",
       "122  [Machine Learning, Neural Networks, Python, Ob... 2017-07-27 21:17:00   \n",
       "127  [Machine Learning, Python, Neural Networks, Fa... 2017-08-07 14:24:00   \n",
       "107              [Privacy, Security, Google, Internet] 2017-08-15 14:02:00   \n",
       "112  [Machine Learning, Python, Udacity, Data Analy... 2017-08-20 17:06:00   \n",
       "..                                                 ...                 ...   \n",
       "24   [Docker, Data Science, Open Source, Education,... 2018-12-17 20:04:00   \n",
       "12   [Science, Towards Data Science, Education, Sta... 2018-12-29 11:36:00   \n",
       "19   [Data Science, Data Visualization, Python, Edu... 2019-01-08 22:09:00   \n",
       "2    [Data Science, Reading, Education, Towards Dat... 2019-01-10 15:14:00   \n",
       "5    [Statistics, Data Science, Towards Data Scienc... 2019-01-20 16:28:00   \n",
       "\n",
       "              publication  reads  views  word_count  claps  fans  read_time  \n",
       "131                  None   1717   9723        1778     73    20         14  \n",
       "122                  None   5690  24079        2345    240    56         12  \n",
       "127                  None   3992  28387        6666    704    76         38  \n",
       "107                  None   2734   9589        1214      5     5          6  \n",
       "112                  None   2049  13367        6800    167    32         31  \n",
       "..                    ...    ...    ...         ...    ...   ...        ...  \n",
       "24   Towards Data Science   2135   6766        1075    730   187          5  \n",
       "12   Towards Data Science   1517   5070        1898    730   155          8  \n",
       "19   Towards Data Science  24002  71225        1457   7600  1697          8  \n",
       "2    Towards Data Science   2809  15291        3715   1800   369         15  \n",
       "5    Towards Data Science   2320   8806        3371   2000   356         14  \n",
       "\n",
       "[86 rows x 10 columns]"
      ]
     },
     "execution_count": 10,
     "metadata": {},
     "output_type": "execute_result"
    }
   ],
   "source": [
    "df.loc[df['reads'] > 1000]"
   ]
  },
  {
   "cell_type": "markdown",
   "id": "2ee83a73",
   "metadata": {
    "id": "2ee83a73"
   },
   "source": [
    "Teraz za pomocą *.loc* wyświetl artykuły, które zostały przeczytane więcej niż 500 razy."
   ]
  },
  {
   "cell_type": "code",
   "execution_count": 11,
   "id": "29656655",
   "metadata": {
    "colab": {
     "base_uri": "https://localhost:8080/",
     "height": 424
    },
    "id": "29656655",
    "outputId": "2380d16c-256c-46fe-ec06-77610e17dbbf"
   },
   "outputs": [
    {
     "data": {
      "text/html": [
       "<div>\n",
       "<style scoped>\n",
       "    .dataframe tbody tr th:only-of-type {\n",
       "        vertical-align: middle;\n",
       "    }\n",
       "\n",
       "    .dataframe tbody tr th {\n",
       "        vertical-align: top;\n",
       "    }\n",
       "\n",
       "    .dataframe thead th {\n",
       "        text-align: right;\n",
       "    }\n",
       "</style>\n",
       "<table border=\"1\" class=\"dataframe\">\n",
       "  <thead>\n",
       "    <tr style=\"text-align: right;\">\n",
       "      <th></th>\n",
       "      <th>title</th>\n",
       "      <th>tags</th>\n",
       "      <th>published_date</th>\n",
       "      <th>publication</th>\n",
       "      <th>reads</th>\n",
       "      <th>views</th>\n",
       "      <th>word_count</th>\n",
       "      <th>claps</th>\n",
       "      <th>fans</th>\n",
       "      <th>read_time</th>\n",
       "    </tr>\n",
       "  </thead>\n",
       "  <tbody>\n",
       "    <tr>\n",
       "      <th>131</th>\n",
       "      <td>Deep Neural Network Classifier</td>\n",
       "      <td>[Machine Learning, Neural Networks, TensorFlow...</td>\n",
       "      <td>2017-07-25 17:54:00</td>\n",
       "      <td>None</td>\n",
       "      <td>1717</td>\n",
       "      <td>9723</td>\n",
       "      <td>1778</td>\n",
       "      <td>73</td>\n",
       "      <td>20</td>\n",
       "      <td>14</td>\n",
       "    </tr>\n",
       "    <tr>\n",
       "      <th>122</th>\n",
       "      <td>Object Recognition with Google’s Convolutional...</td>\n",
       "      <td>[Machine Learning, Neural Networks, Python, Ob...</td>\n",
       "      <td>2017-07-27 21:17:00</td>\n",
       "      <td>None</td>\n",
       "      <td>5690</td>\n",
       "      <td>24079</td>\n",
       "      <td>2345</td>\n",
       "      <td>240</td>\n",
       "      <td>56</td>\n",
       "      <td>12</td>\n",
       "    </tr>\n",
       "    <tr>\n",
       "      <th>127</th>\n",
       "      <td>Facial Recognition Using Google’s Convolutiona...</td>\n",
       "      <td>[Machine Learning, Python, Neural Networks, Fa...</td>\n",
       "      <td>2017-08-07 14:24:00</td>\n",
       "      <td>None</td>\n",
       "      <td>3992</td>\n",
       "      <td>28387</td>\n",
       "      <td>6666</td>\n",
       "      <td>704</td>\n",
       "      <td>76</td>\n",
       "      <td>38</td>\n",
       "    </tr>\n",
       "    <tr>\n",
       "      <th>124</th>\n",
       "      <td>Exploratory Data Analysis with R</td>\n",
       "      <td>[Data Science, R Programming, Data Analysis, U...</td>\n",
       "      <td>2017-08-08 12:58:00</td>\n",
       "      <td>None</td>\n",
       "      <td>509</td>\n",
       "      <td>4174</td>\n",
       "      <td>7559</td>\n",
       "      <td>58</td>\n",
       "      <td>13</td>\n",
       "      <td>43</td>\n",
       "    </tr>\n",
       "    <tr>\n",
       "      <th>119</th>\n",
       "      <td>Data Analysis with Python</td>\n",
       "      <td>[Python, Data Analysis, Data Visualization, Ba...</td>\n",
       "      <td>2017-08-12 15:17:00</td>\n",
       "      <td>None</td>\n",
       "      <td>664</td>\n",
       "      <td>5581</td>\n",
       "      <td>5508</td>\n",
       "      <td>87</td>\n",
       "      <td>17</td>\n",
       "      <td>29</td>\n",
       "    </tr>\n",
       "    <tr>\n",
       "      <th>...</th>\n",
       "      <td>...</td>\n",
       "      <td>...</td>\n",
       "      <td>...</td>\n",
       "      <td>...</td>\n",
       "      <td>...</td>\n",
       "      <td>...</td>\n",
       "      <td>...</td>\n",
       "      <td>...</td>\n",
       "      <td>...</td>\n",
       "      <td>...</td>\n",
       "    </tr>\n",
       "    <tr>\n",
       "      <th>12</th>\n",
       "      <td>The Copernican Principle and How to Use Statis...</td>\n",
       "      <td>[Science, Towards Data Science, Education, Sta...</td>\n",
       "      <td>2018-12-29 11:36:00</td>\n",
       "      <td>Towards Data Science</td>\n",
       "      <td>1517</td>\n",
       "      <td>5070</td>\n",
       "      <td>1898</td>\n",
       "      <td>730</td>\n",
       "      <td>155</td>\n",
       "      <td>8</td>\n",
       "    </tr>\n",
       "    <tr>\n",
       "      <th>8</th>\n",
       "      <td>Data Science with Medium Story Stats in Python</td>\n",
       "      <td>[Data Science, Towards Data Science, Python, E...</td>\n",
       "      <td>2018-12-31 17:53:00</td>\n",
       "      <td>Towards Data Science</td>\n",
       "      <td>754</td>\n",
       "      <td>3768</td>\n",
       "      <td>2813</td>\n",
       "      <td>582</td>\n",
       "      <td>109</td>\n",
       "      <td>12</td>\n",
       "    </tr>\n",
       "    <tr>\n",
       "      <th>19</th>\n",
       "      <td>The Next Level of Data Visualization in Python</td>\n",
       "      <td>[Data Science, Data Visualization, Python, Edu...</td>\n",
       "      <td>2019-01-08 22:09:00</td>\n",
       "      <td>Towards Data Science</td>\n",
       "      <td>24002</td>\n",
       "      <td>71225</td>\n",
       "      <td>1457</td>\n",
       "      <td>7600</td>\n",
       "      <td>1697</td>\n",
       "      <td>8</td>\n",
       "    </tr>\n",
       "    <tr>\n",
       "      <th>2</th>\n",
       "      <td>A Non-Technical Reading List for Data Science</td>\n",
       "      <td>[Data Science, Reading, Education, Towards Dat...</td>\n",
       "      <td>2019-01-10 15:14:00</td>\n",
       "      <td>Towards Data Science</td>\n",
       "      <td>2809</td>\n",
       "      <td>15291</td>\n",
       "      <td>3715</td>\n",
       "      <td>1800</td>\n",
       "      <td>369</td>\n",
       "      <td>15</td>\n",
       "    </tr>\n",
       "    <tr>\n",
       "      <th>5</th>\n",
       "      <td>The Poisson Distribution and Poisson Process E...</td>\n",
       "      <td>[Statistics, Data Science, Towards Data Scienc...</td>\n",
       "      <td>2019-01-20 16:28:00</td>\n",
       "      <td>Towards Data Science</td>\n",
       "      <td>2320</td>\n",
       "      <td>8806</td>\n",
       "      <td>3371</td>\n",
       "      <td>2000</td>\n",
       "      <td>356</td>\n",
       "      <td>14</td>\n",
       "    </tr>\n",
       "  </tbody>\n",
       "</table>\n",
       "<p>94 rows × 10 columns</p>\n",
       "</div>"
      ],
      "text/plain": [
       "                                                 title  \\\n",
       "131                     Deep Neural Network Classifier   \n",
       "122  Object Recognition with Google’s Convolutional...   \n",
       "127  Facial Recognition Using Google’s Convolutiona...   \n",
       "124                   Exploratory Data Analysis with R   \n",
       "119                          Data Analysis with Python   \n",
       "..                                                 ...   \n",
       "12   The Copernican Principle and How to Use Statis...   \n",
       "8       Data Science with Medium Story Stats in Python   \n",
       "19      The Next Level of Data Visualization in Python   \n",
       "2        A Non-Technical Reading List for Data Science   \n",
       "5    The Poisson Distribution and Poisson Process E...   \n",
       "\n",
       "                                                  tags      published_date  \\\n",
       "131  [Machine Learning, Neural Networks, TensorFlow... 2017-07-25 17:54:00   \n",
       "122  [Machine Learning, Neural Networks, Python, Ob... 2017-07-27 21:17:00   \n",
       "127  [Machine Learning, Python, Neural Networks, Fa... 2017-08-07 14:24:00   \n",
       "124  [Data Science, R Programming, Data Analysis, U... 2017-08-08 12:58:00   \n",
       "119  [Python, Data Analysis, Data Visualization, Ba... 2017-08-12 15:17:00   \n",
       "..                                                 ...                 ...   \n",
       "12   [Science, Towards Data Science, Education, Sta... 2018-12-29 11:36:00   \n",
       "8    [Data Science, Towards Data Science, Python, E... 2018-12-31 17:53:00   \n",
       "19   [Data Science, Data Visualization, Python, Edu... 2019-01-08 22:09:00   \n",
       "2    [Data Science, Reading, Education, Towards Dat... 2019-01-10 15:14:00   \n",
       "5    [Statistics, Data Science, Towards Data Scienc... 2019-01-20 16:28:00   \n",
       "\n",
       "              publication  reads  views  word_count  claps  fans  read_time  \n",
       "131                  None   1717   9723        1778     73    20         14  \n",
       "122                  None   5690  24079        2345    240    56         12  \n",
       "127                  None   3992  28387        6666    704    76         38  \n",
       "124                  None    509   4174        7559     58    13         43  \n",
       "119                  None    664   5581        5508     87    17         29  \n",
       "..                    ...    ...    ...         ...    ...   ...        ...  \n",
       "12   Towards Data Science   1517   5070        1898    730   155          8  \n",
       "8    Towards Data Science    754   3768        2813    582   109         12  \n",
       "19   Towards Data Science  24002  71225        1457   7600  1697          8  \n",
       "2    Towards Data Science   2809  15291        3715   1800   369         15  \n",
       "5    Towards Data Science   2320   8806        3371   2000   356         14  \n",
       "\n",
       "[94 rows x 10 columns]"
      ]
     },
     "execution_count": 11,
     "metadata": {},
     "output_type": "execute_result"
    }
   ],
   "source": [
    "df.loc[df['reads'] > 500]"
   ]
  },
  {
   "cell_type": "markdown",
   "id": "8e3a7fd1",
   "metadata": {
    "id": "8e3a7fd1"
   },
   "source": [
    "To najprostszy przykład pokazujący, że interaktywna zmiana parametrów jest potrzebna, by usprawnić proces analizy danych. \\\n",
    "Można to zrobić na przykład za pomocą specjalnej metody, z dekoratorem *@interact*:"
   ]
  },
  {
   "cell_type": "code",
   "execution_count": 12,
   "id": "fedb5c76",
   "metadata": {
    "id": "fedb5c76"
   },
   "outputs": [],
   "source": [
    "from IPython.display import display, HTML"
   ]
  },
  {
   "cell_type": "code",
   "execution_count": 13,
   "id": "33200c61",
   "metadata": {
    "colab": {
     "base_uri": "https://localhost:8080/",
     "height": 574,
     "referenced_widgets": [
      "b7521f33664548c3a0300900abee16d7",
      "f2f462cd6f864041b7b4f8c442a2e478",
      "044a03c3c14d48ae90fc8487503d72b1",
      "db2722ac478245e589b4d5ca26b08ad2",
      "6372fe5e97f341d79ac724d156fc1a06",
      "e67252228fe24baea543568117cc6bfc",
      "2030ad35953e451ab31d10fe9640d650",
      "b6add506370343a4bc992c0c5ee3e30e",
      "73be4addd08d40659dc0dcfe881c45b3",
      "7a5b0abdb2804776bc778a6a5c842007"
     ]
    },
    "id": "33200c61",
    "outputId": "da4a012f-662d-439f-b24e-8669f55a49f3"
   },
   "outputs": [
    {
     "data": {
      "application/vnd.jupyter.widget-view+json": {
       "model_id": "cf296fcedbd04e66bb1483ed737f59e7",
       "version_major": 2,
       "version_minor": 0
      },
      "text/plain": [
       "interactive(children=(Text(value='claps', description='column'), IntSlider(value=5000, description='x', max=15…"
      ]
     },
     "metadata": {},
     "output_type": "display_data"
    }
   ],
   "source": [
    "@interact\n",
    "def show_articles_more_than(column='claps', x=5000):\n",
    "    display(HTML(f'<h3>Showing articles with more than {x} {column}<h3>'))\n",
    "    display(df.loc[df[column] > x])"
   ]
  },
  {
   "cell_type": "markdown",
   "id": "0a740351",
   "metadata": {
    "id": "0a740351"
   },
   "source": [
    "Dokumentacja [Interact](https://ipywidgets.readthedocs.io/en/stable/examples/Using%20Interact.html). Tłumaczy m. in., w jaki sposób parametry funkcji są mapowane do widgetów.\n",
    "\n",
    "Zauważ, że dekorator *@interact* automatycznie wywnioskował, że potrzebujemy pola tekstowego dla kolumny i suwaka int dla x. \n",
    "\n",
    "Gdy potrzebujemy wymusić pewne ograniczenia interakcji, możemy ustawić dodatkowe opcje tworzonej funkcji, takie jak *dropdown* czy granice dla wielkości numerycznych - format to (start, stop, krok):"
   ]
  },
  {
   "cell_type": "code",
   "execution_count": 14,
   "id": "538e2615",
   "metadata": {
    "colab": {
     "base_uri": "https://localhost:8080/",
     "height": 1000,
     "referenced_widgets": [
      "4088c66de8b84f8d85a84832130209d7",
      "3ba1cb0156d9447fa4ca1e94ecfb1523",
      "e481a7da3d6f4feeb446fa15047b257f",
      "d09743faa3e64e1d88ebc82f980d64f2",
      "30b27634fb3f4e8faf2e69530eb6902b",
      "58460783fe9c4e5ebc7947863b4128c3",
      "f8e016f84a624774961dcf04b0fa145d",
      "fbd7a5f5df844dfaa034793ca82fb28d",
      "d11a706e4669408fbd7c89bfc54d180d",
      "7f30992404a84b80b7f19e1a78a31af5"
     ]
    },
    "id": "538e2615",
    "outputId": "0618f8e9-6f7f-4fab-9673-405cfbd2ccc5"
   },
   "outputs": [
    {
     "data": {
      "application/vnd.jupyter.widget-view+json": {
       "model_id": "30f99a8fb0514b1aac738aac3d4ced93",
       "version_major": 2,
       "version_minor": 0
      },
      "text/plain": [
       "interactive(children=(Dropdown(description='column', options=('reads', 'views', 'word_count', 'claps', 'fans',…"
      ]
     },
     "metadata": {},
     "output_type": "display_data"
    }
   ],
   "source": [
    "@interact\n",
    "def show_titles_more_than(column=list(df.select_dtypes('number').columns), \n",
    "                          x=(1000, 5000, 100)):\n",
    "    display(HTML(f'<h3>Showing articles with more than {x} {column}<h3>'))\n",
    "    display(df.loc[df[column] > x])"
   ]
  },
  {
   "cell_type": "markdown",
   "id": "85f5772b",
   "metadata": {
    "id": "85f5772b"
   },
   "source": [
    "## Dataframe explorer"
   ]
  },
  {
   "cell_type": "markdown",
   "id": "1bf1a4b9",
   "metadata": {
    "id": "1bf1a4b9"
   },
   "source": [
    "Stwórz funkcję z dekoratorem *@interact*, żeby szybko znajdować korelację między dwoma wybranymi kolumnami."
   ]
  },
  {
   "cell_type": "code",
   "execution_count": 15,
   "id": "c8472339",
   "metadata": {
    "colab": {
     "base_uri": "https://localhost:8080/",
     "height": 134,
     "referenced_widgets": [
      "72cd75b695374e0fa664d7032286b53c",
      "c55549b2462b429aa0c5afd47a975fdd",
      "19cc64c60a9d46128cb96b58d32172d9",
      "fe7be303caed479cb3106d32cbb3b43a",
      "f2f9adf2c2184e068289c876d6f080ff",
      "ccb606602f8144b7916ea6ea9607805b",
      "e4601341de134cb6987bb3d8a24313fa",
      "dc4947277ead4ca9b21dd44680e150af",
      "8d677f4ae6f043d5b1cadb953c040420",
      "96f75aad96bb4f95a503178d914f3dbb"
     ]
    },
    "id": "c8472339",
    "outputId": "ce9e9b93-1778-484b-84a1-4ff29baaabbf"
   },
   "outputs": [
    {
     "data": {
      "application/vnd.jupyter.widget-view+json": {
       "model_id": "b97f07dd69db4c13b44853eda4a669e0",
       "version_major": 2,
       "version_minor": 0
      },
      "text/plain": [
       "interactive(children=(Dropdown(description='column1', options=('reads', 'views', 'word_count', 'claps', 'fans'…"
      ]
     },
     "metadata": {},
     "output_type": "display_data"
    }
   ],
   "source": [
    "@interact\n",
    "def columns_correlation(column1=list(df.select_dtypes('number').columns), \n",
    "                        column2=list(df.select_dtypes('number').columns)):\n",
    "  display(HTML(f'<h3>Correlation between {column1} and {column2} is: {df[column1].corr(df[column2])}<h3>'))\n"
   ]
  },
  {
   "cell_type": "markdown",
   "id": "c5bbe64d",
   "metadata": {
    "id": "c5bbe64d"
   },
   "source": [
    "Stwórz funkcję z dekoratorem *@interact*, żeby wywołać funkcję *describe()* dla wybranej kolumny."
   ]
  },
  {
   "cell_type": "code",
   "execution_count": 16,
   "id": "2f0b7d72",
   "metadata": {
    "colab": {
     "base_uri": "https://localhost:8080/",
     "height": 139,
     "referenced_widgets": [
      "597517d165664315a597b859b8827246",
      "48b5675838204689bd88a89ad41ccc4c",
      "3141c042a34f45e486d3b783bc1f0dcd",
      "7ce8044253324f7997ff3b1d36c3001b",
      "11aceba7403549e1adcdc6f8846d1ef9",
      "b21e8ee1833c46f1a4d1011b99221de0",
      "e7052a167e0d42a3b0e7abcad4f23efe"
     ]
    },
    "id": "2f0b7d72",
    "outputId": "6fc0e5fa-65b0-4b9b-b8b7-f7612d8f7340"
   },
   "outputs": [
    {
     "data": {
      "application/vnd.jupyter.widget-view+json": {
       "model_id": "904949c292864ade8af7b482c8dabfcb",
       "version_major": 2,
       "version_minor": 0
      },
      "text/plain": [
       "interactive(children=(Dropdown(description='column', options=('title', 'tags', 'published_date', 'publication'…"
      ]
     },
     "metadata": {},
     "output_type": "display_data"
    }
   ],
   "source": [
    "@interact\n",
    "def columns_describe(column=list(df.columns)):\n",
    "  display(HTML(f'<h3>Description of {column} is: <h3>\\n<h5>{df[column].describe()}<h5>'))"
   ]
  },
  {
   "cell_type": "markdown",
   "id": "418c04e1",
   "metadata": {
    "id": "418c04e1"
   },
   "source": [
    "## Widgety dla wykresów\n",
    "Widgety interaktywne są szczególnie przydatne przy wybieraniu danych do wykresu. W tym wypadku również możemy użyć tego samego dekoratora *@interact*, z funkcjami wizualizującymi nasze dane.\n",
    "\n",
    "**Uwaga.** Obiekt DataFrame nie ma metody iplot, jeśli nie jest połączony z plotly. Potrzebujemy **cufflinks**, aby połączyć pandas z plotly i dodać metodę iplot."
   ]
  },
  {
   "cell_type": "markdown",
   "id": "549b53e5",
   "metadata": {
    "id": "549b53e5"
   },
   "source": [
    "Dodatkowo, aby uniknąć uwierzytelniania, potrzebujemy trybu offline."
   ]
  },
  {
   "cell_type": "code",
   "execution_count": 17,
   "id": "2a8ae9e6",
   "metadata": {
    "colab": {
     "base_uri": "https://localhost:8080/",
     "height": 17
    },
    "id": "2a8ae9e6",
    "outputId": "ef76d192-ff2d-423b-ebd1-b55a5f7b9ba9"
   },
   "outputs": [
    {
     "data": {
      "text/html": [
       "        <script type=\"text/javascript\">\n",
       "        window.PlotlyConfig = {MathJaxConfig: 'local'};\n",
       "        if (window.MathJax) {MathJax.Hub.Config({SVG: {font: \"STIX-Web\"}});}\n",
       "        if (typeof require !== 'undefined') {\n",
       "        require.undef(\"plotly\");\n",
       "        requirejs.config({\n",
       "            paths: {\n",
       "                'plotly': ['https://cdn.plot.ly/plotly-2.8.3.min']\n",
       "            }\n",
       "        });\n",
       "        require(['plotly'], function(Plotly) {\n",
       "            window._Plotly = Plotly;\n",
       "        });\n",
       "        }\n",
       "        </script>\n",
       "        "
      ]
     },
     "metadata": {},
     "output_type": "display_data"
    }
   ],
   "source": [
    "import cufflinks as cf\n",
    "cf.go_offline(connected=True)\n",
    "cf.set_config_file(colorscale='plotly', world_readable=True)"
   ]
  },
  {
   "cell_type": "code",
   "execution_count": 18,
   "id": "d684471e",
   "metadata": {
    "colab": {
     "base_uri": "https://localhost:8080/",
     "height": 17
    },
    "id": "d684471e",
    "outputId": "9c71d347-8b1a-4b62-bdda-53098139f164"
   },
   "outputs": [
    {
     "data": {
      "text/html": [
       "        <script type=\"text/javascript\">\n",
       "        window.PlotlyConfig = {MathJaxConfig: 'local'};\n",
       "        if (window.MathJax) {MathJax.Hub.Config({SVG: {font: \"STIX-Web\"}});}\n",
       "        if (typeof require !== 'undefined') {\n",
       "        require.undef(\"plotly\");\n",
       "        requirejs.config({\n",
       "            paths: {\n",
       "                'plotly': ['https://cdn.plot.ly/plotly-2.8.3.min']\n",
       "            }\n",
       "        });\n",
       "        require(['plotly'], function(Plotly) {\n",
       "            window._Plotly = Plotly;\n",
       "        });\n",
       "        }\n",
       "        </script>\n",
       "        "
      ]
     },
     "metadata": {},
     "output_type": "display_data"
    }
   ],
   "source": [
    "from plotly.offline import iplot, init_notebook_mode\n",
    "init_notebook_mode(connected=True)"
   ]
  },
  {
   "cell_type": "code",
   "execution_count": 19,
   "id": "65bf1945",
   "metadata": {
    "colab": {
     "base_uri": "https://localhost:8080/",
     "height": 606,
     "referenced_widgets": [
      "bac49c5681c645cea5037bf67beaecc5",
      "e3967d58c4da4f55902ca1044c32fa6c",
      "88afd24f360944f29a36f78a84999ad4",
      "48876c065f974c0fa019d7849b26828b",
      "f54c7ff70f4449be9c1591476a81f440",
      "3c1ad4cb6aca414dbbfeaff92f28d114",
      "6895e53b6810458f9bf8d577b22c6278",
      "dbc7f149428f44549016670e5b447171",
      "07cced5592cc415e9baceac761147abe",
      "0f2454ec5bd44a6699ef46bdca9c95ff"
     ]
    },
    "id": "65bf1945",
    "outputId": "50ace3cd-ecab-4c8c-972b-ab3c7445825b"
   },
   "outputs": [
    {
     "data": {
      "application/vnd.jupyter.widget-view+json": {
       "model_id": "5c5e75d6b6ee4616894a326bbe12c1f0",
       "version_major": 2,
       "version_minor": 0
      },
      "text/plain": [
       "interactive(children=(Dropdown(description='x', options=('reads', 'views', 'word_count', 'claps', 'fans', 'rea…"
      ]
     },
     "metadata": {},
     "output_type": "display_data"
    }
   ],
   "source": [
    "@interact\n",
    "def scatter_plot(x=list(df.select_dtypes('number').columns), \n",
    "                 y=list(df.select_dtypes('number').columns)[1:]):\n",
    "    df.iplot(kind='scatter', x=x, y=y, mode='markers', \n",
    "             xTitle=x.title(), yTitle=y.title(), title=f'{y.title()} vs {x.title()}')"
   ]
  },
  {
   "cell_type": "markdown",
   "id": "1af78359",
   "metadata": {
    "id": "1af78359"
   },
   "source": [
    "Dodaj więcej opcji do funkcji scatter_plot:\n",
    "1. Parametr theme, korzystając z tych dostępnych w cf.themes.THEMES.keys()\n",
    "2. Parametr colorscale, korzystając z tych dostępnych w cf.colors.\\_scales\\_names.keys())"
   ]
  },
  {
   "cell_type": "code",
   "execution_count": 20,
   "id": "3d97ffc3",
   "metadata": {
    "colab": {
     "base_uri": "https://localhost:8080/",
     "height": 670,
     "referenced_widgets": [
      "e4f38d90af98403ca326845eb327643d",
      "037734dd2af14b1997bc3444ce85ed7b",
      "ba402184d87c47d0b6d432844a088129",
      "d8a5b69a88f74ab59c2c4a4d82b385c8",
      "074b5de630f24ca8861d96c0ad1c75f1",
      "88532716d1394ee09f64bad1165ac9f6",
      "7fd557517d6b48519605604a50c89c4f",
      "58eb193c7ccf40469d21790bb95e549c",
      "daa654866ad844cfa5aaa21b69191745",
      "ab6d18cad9784838aad2d360a7d43ce8",
      "896a5e2123634503a81e8a902c3f9955",
      "9b288b3760314bd9bbf029902c441788",
      "e38b88e2bfab455a89ef933f33ac3f77",
      "c027eaaa9b3e4242ac18f53b839fd33a",
      "b369242fa1f44fc0a9f28b1bd39ba614",
      "f79b89bde6af475fbd67b319fc17db24"
     ]
    },
    "id": "3d97ffc3",
    "outputId": "3d12a458-89b2-4417-d726-7e1d846ef88c"
   },
   "outputs": [
    {
     "data": {
      "application/vnd.jupyter.widget-view+json": {
       "model_id": "b608fd08cbb74431adf6bb37dbdf52e3",
       "version_major": 2,
       "version_minor": 0
      },
      "text/plain": [
       "interactive(children=(Dropdown(description='x', options=('reads', 'views', 'word_count', 'claps', 'fans', 'rea…"
      ]
     },
     "metadata": {},
     "output_type": "display_data"
    }
   ],
   "source": [
    "@interact\n",
    "def scatter_plot_w_theme_colorscale(x=list(df.select_dtypes('number').columns), \n",
    "                                    y=list(df.select_dtypes('number').columns)[1:],\n",
    "                                    theme=list(cf.themes.THEMES.keys()),\n",
    "                                    colorscale=list(cf.colors._scales_names.keys())):\n",
    "    df.iplot(kind='scatter', x=x, y=y, mode='markers', xTitle=x.title(), yTitle=y.title(), title=f'{y.title()} vs {x.title()}',\n",
    "             theme=theme, colorscale=colorscale)"
   ]
  },
  {
   "cell_type": "markdown",
   "id": "d5670ecf",
   "metadata": {
    "id": "d5670ecf"
   },
   "source": [
    "Do funkcji scatter_plot dodaj parametr categories, grupujący nasze dane. Przetestuj jego działanie."
   ]
  },
  {
   "cell_type": "code",
   "execution_count": 21,
   "id": "09b7b81c",
   "metadata": {
    "id": "09b7b81c"
   },
   "outputs": [],
   "source": [
    "df['binned_read_time'] = pd.cut(df['read_time'], bins=range(0, 56, 5))\n",
    "df['binned_read_time'] = df['binned_read_time'].astype(str)\n",
    "\n",
    "df['binned_word_count'] = pd.cut(df['word_count'], bins=range(0, 100001, 1000))\n",
    "df['binned_word_count'] = df['binned_word_count'].astype(str)\n",
    "\n",
    "categories=['binned_read_time', 'binned_word_count', 'publication']"
   ]
  },
  {
   "cell_type": "code",
   "execution_count": 22,
   "id": "3eb05c12",
   "metadata": {
    "colab": {
     "base_uri": "https://localhost:8080/",
     "height": 702,
     "referenced_widgets": [
      "07691b64df124528961ee1adae7f0b67",
      "b01820d88e764d10bcd716190a30a6d5",
      "ef0a2832470f42379036d3c38d438ac5",
      "1b2bb6969b824071a4acffe03aff78ef",
      "df827642f3f548e9a07366d23141d79b",
      "deaeded7143445af932cc4d235bf9702",
      "c166d411ec6845db8537c8be8ee3afbb",
      "bdca331791b049fa9415906edcc1cf33",
      "430395e408684e599254002ff8ab41ba",
      "e241981625be413180783dee62727d6d",
      "5bb0676e0cb243a099eccd515435a0c2",
      "532f294cf17c4c658445b18d19dbd035",
      "729de19aac4d496a8ac155001ea7d787",
      "045b23dbd29143b38d020be4d33abf50",
      "74c0b9447e7641a6a09c3a8e3ad795be",
      "ad0b4d0e944445ea878e7589c531c3f7",
      "7b4b44a3993c4d9fa3445d3e5dd90bd9",
      "657c1b7bec8241169435235e39e1e404",
      "168cdaf2f14e43378aeefdac3c97a489"
     ]
    },
    "id": "3eb05c12",
    "outputId": "b8091923-1901-4b58-b3ae-fc130e9a999c"
   },
   "outputs": [
    {
     "data": {
      "application/vnd.jupyter.widget-view+json": {
       "model_id": "6631ae0249844262ab2bffb1f41183f5",
       "version_major": 2,
       "version_minor": 0
      },
      "text/plain": [
       "interactive(children=(Dropdown(description='x', options=('reads', 'views', 'word_count', 'claps', 'fans', 'rea…"
      ]
     },
     "metadata": {},
     "output_type": "display_data"
    }
   ],
   "source": [
    "@interact\n",
    "def scatter_plot_categories(x=list(df.select_dtypes('number').columns), \n",
    "                            y=list(df.select_dtypes('number').columns)[1:],\n",
    "                            theme=list(cf.themes.THEMES.keys()),\n",
    "                            colorscale=list(cf.colors._scales_names.keys()),\n",
    "                            categories=['binned_read_time', 'binned_word_count', 'publication', 'types']):\n",
    "    df.iplot(kind='scatter', x=x, y=y, mode='markers', xTitle=x.title(), yTitle=y.title(), title=f'{y.title()} vs {x.title()}',\n",
    "             theme=theme, colorscale=colorscale)"
   ]
  },
  {
   "cell_type": "markdown",
   "id": "8ffe72a8",
   "metadata": {
    "id": "8ffe72a8"
   },
   "source": [
    "Być może zauważyłeś, że aktualizacja wykresu przebiegała powoli. W takim przypadku możesz użyć dekoratora *@interact_manual*, który dostarcza przycisku do aktualizacji. \n",
    "\n",
    "Sprawdź działanie widgetu z dekoratorem *@interact_manual*."
   ]
  },
  {
   "cell_type": "code",
   "execution_count": 23,
   "id": "10f75ad5",
   "metadata": {
    "id": "10f75ad5"
   },
   "outputs": [],
   "source": [
    "from ipywidgets import interact_manual"
   ]
  },
  {
   "cell_type": "code",
   "execution_count": 24,
   "id": "ed212669",
   "metadata": {
    "colab": {
     "base_uri": "https://localhost:8080/",
     "height": 734,
     "referenced_widgets": [
      "0e16d67a0b5c4672aa840b4086dad9db",
      "1adb64795d374fe2955a13be583f6bc5",
      "a23fcba1ce424310a0beb1eacc0132fb",
      "fad38ca3984d47e18d35ae6f99d7107c",
      "3afb2e702a9b427ab1f57b5805ca3a96",
      "a0d1108892214f0f82ac5cc887f553a6",
      "7e3a8f72ca9643b9bdff9ba4651dbfe7",
      "506e20037cf74c6eaa4ed4fe1f2f5d5b",
      "cba1cc65aeac429ca6dae0d54cb5da3c",
      "3a01a160254e4ff9b9d2aedf142c08f4",
      "5e66b479799f49378668d2cddf0276b8",
      "df2664dac8e34611b6a61c016cacf662",
      "c0212b1468f346bdaa5877a8143df16e",
      "d3cb0cc80a184c029214af7554187fc0",
      "ad7247d0c89941a7b7c92ae850aa7a2c",
      "314110a444764752bbf3e01fd8e0e0f0",
      "16fd33c4c214414e9e3147380493523c",
      "19e0247f196a47699fdb4b396962c95c",
      "723f75f15d514636979dd93bb579bd83",
      "6f17dd4c0b8e41e880ee5634aba97564",
      "1a68919e10024f8888ef0eee0725db7d",
      "46e6cc0c1de2491d8a4b31c6d4b02cb9"
     ]
    },
    "id": "ed212669",
    "outputId": "9d9d6c47-1982-431f-fa89-bd129c2c29f6"
   },
   "outputs": [
    {
     "data": {
      "application/vnd.jupyter.widget-view+json": {
       "model_id": "2bb1ab4b00b94168b2836a8c0824ebf8",
       "version_major": 2,
       "version_minor": 0
      },
      "text/plain": [
       "interactive(children=(Dropdown(description='x', options=('reads', 'views', 'word_count', 'claps', 'fans', 'rea…"
      ]
     },
     "metadata": {},
     "output_type": "display_data"
    }
   ],
   "source": [
    "@interact_manual\n",
    "def scatter_plot_categories(x=list(df.select_dtypes('number').columns), \n",
    "                            y=list(df.select_dtypes('number').columns)[1:],\n",
    "                            theme=list(cf.themes.THEMES.keys()),\n",
    "                            colorscale=list(cf.colors._scales_names.keys()),\n",
    "                            categories=['binned_read_time', 'binned_word_count', 'publication', 'types']):\n",
    "    df.iplot(kind='scatter', x=x, y=y, mode='markers', xTitle=x.title(), yTitle=y.title(), title=f'{y.title()} vs {x.title()}',\n",
    "             theme=theme, colorscale=colorscale)"
   ]
  },
  {
   "cell_type": "markdown",
   "id": "2dcb1c66",
   "metadata": {
    "id": "2dcb1c66"
   },
   "source": [
    "## Własne widgety\n",
    "Aby skorzystać jeszcze więcej z biblioteki ipywidgets, możemy sami tworzyć widgety i używać ich w funkcji interakcji.\n",
    "\n",
    "Stwórz własny widget. Napisz funkcję stats_for_article_published_between, która pobiera datę początkową i końcową, oraz wyświetla statystyki dla wszystkich artykułów opublikowanych między nimi."
   ]
  },
  {
   "cell_type": "code",
   "execution_count": 25,
   "id": "076a7fdc",
   "metadata": {
    "id": "076a7fdc"
   },
   "outputs": [],
   "source": [
    "df.set_index('published_date', inplace=True)"
   ]
  },
  {
   "cell_type": "code",
   "execution_count": 26,
   "id": "57392607",
   "metadata": {
    "id": "57392607"
   },
   "outputs": [],
   "source": [
    "def stats_for_article_published_between(start_date, end_date):\n",
    "    start_date = pd.Timestamp(start_date)\n",
    "    end_date = pd.Timestamp(end_date)\n",
    "    stats = df.loc[(df.index >= start_date) & (df.index <= end_date)].copy()\n",
    "    num_articles = len(stats)\n",
    "    total_words = stats['word_count'].sum()\n",
    "    total_read_time = stats['read_time'].sum()\n",
    "\n",
    "    print(f'You published {num_articles} articles between {start_date.date()} and {end_date.date()}.')\n",
    "    print(f'These articles totalled {total_words:,} words and {total_read_time/60:.2f} hours to read.')"
   ]
  },
  {
   "cell_type": "markdown",
   "id": "c8333a4b",
   "metadata": {
    "id": "c8333a4b"
   },
   "source": [
    "Za pomocą następującego kodu funkcja staje się interaktywna:"
   ]
  },
  {
   "cell_type": "code",
   "execution_count": 27,
   "id": "e7a1b84b",
   "metadata": {
    "colab": {
     "base_uri": "https://localhost:8080/",
     "height": 116,
     "referenced_widgets": [
      "281ceded52eb4dab9855ce43650f30a3",
      "9751f28e3d704f33a19bc45d087a4dd4",
      "5653aaf906594bb89b212269048f0991",
      "e6926519dc514ba0bc70d3ada1d232fe",
      "c778ca9a88324c8a9d95550d04d778c9",
      "f65502bb150748848141d72a133ef6c7",
      "74cb0e8967fa46e5a14daa55052fbbec",
      "646881c927624c89a903c5fc7563036c",
      "035f7068d7fd4eadbedf520ea6c6be3c",
      "fee9e0dc81bb416f96e9b0af3974135e"
     ]
    },
    "id": "e7a1b84b",
    "outputId": "01cbeb3f-d2b4-4d23-860c-be6a67a8e77f"
   },
   "outputs": [
    {
     "data": {
      "application/vnd.jupyter.widget-view+json": {
       "model_id": "75a1ea4df47a42e28d5b25b8872b488f",
       "version_major": 2,
       "version_minor": 0
      },
      "text/plain": [
       "interactive(children=(DatePicker(value=Timestamp('2018-01-01 00:00:00'), description='start_date'), DatePicker…"
      ]
     },
     "metadata": {},
     "output_type": "display_data"
    }
   ],
   "source": [
    "_ = interact(stats_for_article_published_between,\n",
    "             start_date=widgets.DatePicker(value=pd.to_datetime('2018-01-01')),\n",
    "             end_date=widgets.DatePicker(value=pd.to_datetime('2019-01-01')))"
   ]
  },
  {
   "cell_type": "markdown",
   "id": "328d9ecb",
   "metadata": {
    "id": "328d9ecb"
   },
   "source": [
    "Napisz funkcję plot_up_to, aby narysować wykres kumulatywnej sumy wartości wybranej kolumny, do wybranego dnia.  \n",
    "\n",
    "Użyj Dropdown i DatePicker w funkcji *interact*."
   ]
  },
  {
   "cell_type": "code",
   "execution_count": 28,
   "id": "f60cb27a",
   "metadata": {
    "colab": {
     "base_uri": "https://localhost:8080/",
     "height": 606,
     "referenced_widgets": [
      "146bce42917f4aec8dc6a0acd772af23",
      "0d49575f918b4679a37122a0021b87e6",
      "bbcd75a418d54a668f4c2607239b1446",
      "627b16aa0c6c47279eafb1f75cefa146",
      "a164a6a5eb6842f7b21254588484cc91",
      "374ddb5d01a04a12b8ede94bcd7a644d",
      "458c832e18ac421d980e29733ec53927",
      "01bcc36111d54109b4028a7d3be43b44",
      "29e9ae26a1d24889a8d48ee006229126",
      "1cc4130374fd48e2bd1173cf5ecff0f0"
     ]
    },
    "id": "f60cb27a",
    "outputId": "ae9170eb-6104-4723-c0c8-4ef8e735e18f"
   },
   "outputs": [
    {
     "data": {
      "application/vnd.jupyter.widget-view+json": {
       "model_id": "888436c3baee400882cfc2348d3386dd",
       "version_major": 2,
       "version_minor": 0
      },
      "text/plain": [
       "interactive(children=(Dropdown(description='column', options=('reads', 'views', 'word_count', 'claps', 'fans',…"
      ]
     },
     "metadata": {},
     "output_type": "display_data"
    }
   ],
   "source": [
    "def plot_up_to(column, date):\n",
    "    date = pd.Timestamp(date)\n",
    "    df2plot = df.loc[df.index <= date].copy()\n",
    "\n",
    "    df2plot[column].cumsum().iplot(mode='markers+lines', xTitle='published date',\n",
    "                                   yTitle=column, title=f'Cumulative {column.title()} Until {date.date()}')\n",
    "    \n",
    "_ = interact(plot_up_to, column=widgets.Dropdown(options=list(df.select_dtypes('number').columns)), \n",
    "             date = widgets.DatePicker(value=pd.to_datetime('2019-01-01')))"
   ]
  },
  {
   "cell_type": "markdown",
   "id": "4ff28f2b",
   "metadata": {
    "id": "4ff28f2b"
   },
   "source": [
    "## Przeglądanie zdjęć"
   ]
  },
  {
   "cell_type": "markdown",
   "id": "24630340",
   "metadata": {
    "id": "24630340"
   },
   "source": [
    "Stwórz funkcję z dekoratorem *@interact*, żeby przeglądać zdjęcia znajdujące się w wybranym folderze. Folder z 3-5 zdjęciami również umieść na repozytorium."
   ]
  },
  {
   "cell_type": "code",
   "execution_count": 29,
   "id": "a2de8881",
   "metadata": {
    "id": "a2de8881"
   },
   "outputs": [],
   "source": [
    "import os\n",
    "from IPython.display import Image"
   ]
  },
  {
   "cell_type": "code",
   "execution_count": 30,
   "id": "zRjOZm50VuK3",
   "metadata": {
    "colab": {
     "base_uri": "https://localhost:8080/",
     "height": 409,
     "referenced_widgets": [
      "876367b8f49c4580956c7b50a646cce9",
      "b587b9678450446ea05989ed63f4c96b",
      "d62e6a07fe034bd0a54e4b9854091c73",
      "5269c605cc76468d905c1b2e1711a267",
      "f4a76c024fea48cb865efb3103730a5b",
      "949d435f21f044d3b7309802b79dd81d",
      "ab95a0f106994194855eb7489e311893"
     ]
    },
    "id": "zRjOZm50VuK3",
    "outputId": "1ca9964f-eef9-458b-cf0b-3a4e9618b69b"
   },
   "outputs": [
    {
     "data": {
      "application/vnd.jupyter.widget-view+json": {
       "model_id": "fa7ead6de800454cb750ff8190ee5dfa",
       "version_major": 2,
       "version_minor": 0
      },
      "text/plain": [
       "interactive(children=(Dropdown(description='file', options=('autumn.jpg', 'spring.jpg', 'summer.jpg', 'winter.…"
      ]
     },
     "metadata": {},
     "output_type": "display_data"
    }
   ],
   "source": [
    "images_dir = 'images/'\n",
    "@interact\n",
    "def show_image(file=os.listdir(images_dir)):\n",
    "    display(Image(images_dir+file))"
   ]
  },
  {
   "cell_type": "markdown",
   "id": "44ae98fd",
   "metadata": {
    "id": "44ae98fd"
   },
   "source": [
    "## Przeglądanie plików"
   ]
  },
  {
   "cell_type": "markdown",
   "id": "eed9135b",
   "metadata": {
    "id": "eed9135b"
   },
   "source": [
    "Stwórz funkcję z dekoratorem *@interact*, żeby przeglądać pliki znajdujące się w wybranych folderach.\n",
    "Skorzystaj z następujących (przykładowych) opcji komendy *ls*: **ls -a -t -r -l -h**. Więcej informacji znajduje się [tutaj](https://www.rapidtables.com/code/linux/ls.html)."
   ]
  },
  {
   "cell_type": "code",
   "execution_count": 31,
   "id": "17c40c21",
   "metadata": {
    "id": "17c40c21"
   },
   "outputs": [],
   "source": [
    "import subprocess"
   ]
  },
  {
   "cell_type": "code",
   "execution_count": 44,
   "id": "5lT8cqLPWFkf",
   "metadata": {
    "colab": {
     "base_uri": "https://localhost:8080/",
     "height": 84,
     "referenced_widgets": [
      "8da5f1e3829f4bfdaae66319900584ba",
      "cfc9b4653068416ca447d0f9779a06ff",
      "2331c3610c164420b02bc0fee7a686dc",
      "f7fa5ce650df418e8a39f87270237863",
      "845c73b31ef54d91975f7b536893a6ba",
      "8dd5da09f30e44a98423960840cbaaa3",
      "75be5bf6813a42a0ba8094a3b7433280"
     ]
    },
    "id": "5lT8cqLPWFkf",
    "outputId": "a0a1a743-fa51-4ca5-e1d0-0b5fd22ac6b3"
   },
   "outputs": [
    {
     "data": {
      "application/vnd.jupyter.widget-view+json": {
       "model_id": "6ce33c957ad04e708f4897dc2da35985",
       "version_major": 2,
       "version_minor": 0
      },
      "text/plain": [
       "interactive(children=(Dropdown(description='dir', options=('.git', '.idea', '.ipynb_checkpoints', 'cities', 'i…"
      ]
     },
     "metadata": {},
     "output_type": "display_data"
    }
   ],
   "source": [
    "@interact\n",
    "def show_dir(dir=list(filter(os.path.isdir, os.listdir()))):\n",
    "    x = os.listdir(dir)\n",
    "    print(x)"
   ]
  },
  {
   "cell_type": "markdown",
   "id": "f3f06fc6",
   "metadata": {
    "id": "f3f06fc6"
   },
   "source": [
    "## Zależne widgety\n",
    "Jeśli chcemy opcje jednego widgetu uzależnić od wartości innego widgetu, używamy metody *observe*. \n",
    "\n",
    "Wykorzystaj metodę *observe*, żeby zmienić funkcję przeglądania zdjęć tak, by móc wybierać zarówno ścieżkę, jak i obraz do wyświetlenia. Drugi folder z 3-5 zdjęciami również umieść na repozytorium."
   ]
  },
  {
   "cell_type": "code",
   "execution_count": 33,
   "id": "6a964559",
   "metadata": {
    "colab": {
     "base_uri": "https://localhost:8080/",
     "height": 507,
     "referenced_widgets": [
      "e2d429cc32cc42a6860ce951c63f393c",
      "61b45bd03005485dbe576b0745e141d5",
      "6b7532b73a4d4882a0e45b1d63d07ee6",
      "ae3497def63b4f4fa1f2a6cabd5160ec",
      "0428924617cf4871b4d01df1e8c5d8f6",
      "4b853ca790ff432896a24829ecdf3d24",
      "9757d82395de4e0c9def560e70dc932f",
      "276fb505e02341cba67add3e7b24f4fa",
      "351028f2c5844084a3c6e7d2929cad86",
      "f7f61e35164c4bc9b664cc83a6c46f37"
     ]
    },
    "id": "6a964559",
    "outputId": "6f9dea5a-fad5-41b9-9244-b82a9de9ba03"
   },
   "outputs": [
    {
     "data": {
      "application/vnd.jupyter.widget-view+json": {
       "model_id": "4ffd7a355ad64570b5e8fb2e5af98b36",
       "version_major": 2,
       "version_minor": 0
      },
      "text/plain": [
       "interactive(children=(Dropdown(description='fdir', options=('images', 'cities'), value='images'), Dropdown(des…"
      ]
     },
     "metadata": {},
     "output_type": "display_data"
    }
   ],
   "source": [
    "directory = widgets.Dropdown(options=['images', 'cities'])\n",
    "images = widgets.Dropdown(options=os.listdir(directory.value))\n",
    "\n",
    "def update_images(*args):\n",
    "    images.options = os.listdir(directory.value)\n",
    "\n",
    "directory.observe(update_images, 'value')\n",
    "\n",
    "def show_images(fdir, file):\n",
    "    display(Image(f'{fdir}/{file}'))\n",
    "\n",
    "_ = interact(show_images, fdir=directory, file=images)"
   ]
  },
  {
   "cell_type": "markdown",
   "id": "0949a222",
   "metadata": {
    "id": "0949a222"
   },
   "source": [
    "Możemy również przypisać zmienną do outputu funkcji *interact*, a następnie ponownie użyć widgetu. Może mieć to jednak niezamierzone skutki!\n",
    "\n",
    "Teraz zmiana wartości w jednej lokalizacji zmienia ją w obu miejscach! Może to być drobna niedogodność, ale zaletą jest to, że możemy ponownie wykorzystać interaktywny element."
   ]
  },
  {
   "cell_type": "code",
   "execution_count": 34,
   "id": "dd85b6e0",
   "metadata": {
    "colab": {
     "base_uri": "https://localhost:8080/",
     "height": 507,
     "referenced_widgets": [
      "c63e1d1d394944129894e782d3b6e1d6",
      "9744272ac6a84918a86d3ecdc00521c4",
      "6b7532b73a4d4882a0e45b1d63d07ee6",
      "ae3497def63b4f4fa1f2a6cabd5160ec",
      "2e80e3640d3a4f5dadf9a9b656866efd",
      "4b853ca790ff432896a24829ecdf3d24",
      "9757d82395de4e0c9def560e70dc932f",
      "276fb505e02341cba67add3e7b24f4fa",
      "351028f2c5844084a3c6e7d2929cad86",
      "69b625153557405dbf5b788272fe1584"
     ]
    },
    "id": "dd85b6e0",
    "outputId": "4a6db1b1-d048-42aa-dad7-e427e65a8092"
   },
   "outputs": [
    {
     "data": {
      "application/vnd.jupyter.widget-view+json": {
       "model_id": "13581644c7974dd5adf7cce9a1f1fdbe",
       "version_major": 2,
       "version_minor": 0
      },
      "text/plain": [
       "interactive(children=(Dropdown(description='fdir', options=('images', 'cities'), value='images'), Dropdown(des…"
      ]
     },
     "metadata": {},
     "output_type": "display_data"
    }
   ],
   "source": [
    "dependent_widget = interact(show_images, fdir=directory, file=images)"
   ]
  },
  {
   "cell_type": "code",
   "execution_count": 35,
   "id": "f23278f0",
   "metadata": {
    "colab": {
     "base_uri": "https://localhost:8080/",
     "height": 507,
     "referenced_widgets": [
      "c63e1d1d394944129894e782d3b6e1d6",
      "9744272ac6a84918a86d3ecdc00521c4",
      "6b7532b73a4d4882a0e45b1d63d07ee6",
      "ae3497def63b4f4fa1f2a6cabd5160ec",
      "2e80e3640d3a4f5dadf9a9b656866efd",
      "4b853ca790ff432896a24829ecdf3d24",
      "9757d82395de4e0c9def560e70dc932f",
      "276fb505e02341cba67add3e7b24f4fa",
      "351028f2c5844084a3c6e7d2929cad86",
      "69b625153557405dbf5b788272fe1584"
     ]
    },
    "id": "f23278f0",
    "outputId": "849ee9d6-c3dc-490a-dd38-095b4fe82c14",
    "scrolled": true
   },
   "outputs": [
    {
     "data": {
      "application/vnd.jupyter.widget-view+json": {
       "model_id": "13581644c7974dd5adf7cce9a1f1fdbe",
       "version_major": 2,
       "version_minor": 0
      },
      "text/plain": [
       "interactive(children=(Dropdown(description='fdir', options=('images', 'cities'), value='images'), Dropdown(des…"
      ]
     },
     "metadata": {},
     "output_type": "display_data"
    }
   ],
   "source": [
    "dependent_widget.widget"
   ]
  },
  {
   "cell_type": "markdown",
   "id": "570928f7",
   "metadata": {
    "id": "570928f7"
   },
   "source": [
    "## Wnioski"
   ]
  },
  {
   "cell_type": "code",
   "execution_count": null,
   "id": "1810d225",
   "metadata": {
    "pycharm": {
     "name": "#%%\n"
    }
   },
   "outputs": [],
   "source": []
  }
 ],
 "metadata": {
  "colab": {
   "collapsed_sections": [
    "4ff28f2b",
    "44ae98fd",
    "f3f06fc6",
    "570928f7"
   ],
   "name": "Lab. 14 - Raporty i wizualizacja danych.ipynb",
   "provenance": []
  },
  "kernelspec": {
   "display_name": "Python 3 (ipykernel)",
   "language": "python",
   "name": "python3"
  },
  "language_info": {
   "codemirror_mode": {
    "name": "ipython",
    "version": 3
   },
   "file_extension": ".py",
   "mimetype": "text/x-python",
   "name": "python",
   "nbconvert_exporter": "python",
   "pygments_lexer": "ipython3",
   "version": "3.10.2"
  },
  "widgets": {
   "application/vnd.jupyter.widget-state+json": {
    "01bcc36111d54109b4028a7d3be43b44": {
     "model_module": "@jupyter-widgets/controls",
     "model_module_version": "1.5.0",
     "model_name": "DescriptionStyleModel",
     "state": {
      "_model_module": "@jupyter-widgets/controls",
      "_model_module_version": "1.5.0",
      "_model_name": "DescriptionStyleModel",
      "_view_count": null,
      "_view_module": "@jupyter-widgets/base",
      "_view_module_version": "1.2.0",
      "_view_name": "StyleView",
      "description_width": ""
     }
    },
    "035f7068d7fd4eadbedf520ea6c6be3c": {
     "model_module": "@jupyter-widgets/base",
     "model_module_version": "1.2.0",
     "model_name": "LayoutModel",
     "state": {
      "_model_module": "@jupyter-widgets/base",
      "_model_module_version": "1.2.0",
      "_model_name": "LayoutModel",
      "_view_count": null,
      "_view_module": "@jupyter-widgets/base",
      "_view_module_version": "1.2.0",
      "_view_name": "LayoutView",
      "align_content": null,
      "align_items": null,
      "align_self": null,
      "border": null,
      "bottom": null,
      "display": null,
      "flex": null,
      "flex_flow": null,
      "grid_area": null,
      "grid_auto_columns": null,
      "grid_auto_flow": null,
      "grid_auto_rows": null,
      "grid_column": null,
      "grid_gap": null,
      "grid_row": null,
      "grid_template_areas": null,
      "grid_template_columns": null,
      "grid_template_rows": null,
      "height": null,
      "justify_content": null,
      "justify_items": null,
      "left": null,
      "margin": null,
      "max_height": null,
      "max_width": null,
      "min_height": null,
      "min_width": null,
      "object_fit": null,
      "object_position": null,
      "order": null,
      "overflow": null,
      "overflow_x": null,
      "overflow_y": null,
      "padding": null,
      "right": null,
      "top": null,
      "visibility": null,
      "width": null
     }
    },
    "037734dd2af14b1997bc3444ce85ed7b": {
     "model_module": "@jupyter-widgets/base",
     "model_module_version": "1.2.0",
     "model_name": "LayoutModel",
     "state": {
      "_model_module": "@jupyter-widgets/base",
      "_model_module_version": "1.2.0",
      "_model_name": "LayoutModel",
      "_view_count": null,
      "_view_module": "@jupyter-widgets/base",
      "_view_module_version": "1.2.0",
      "_view_name": "LayoutView",
      "align_content": null,
      "align_items": null,
      "align_self": null,
      "border": null,
      "bottom": null,
      "display": null,
      "flex": null,
      "flex_flow": null,
      "grid_area": null,
      "grid_auto_columns": null,
      "grid_auto_flow": null,
      "grid_auto_rows": null,
      "grid_column": null,
      "grid_gap": null,
      "grid_row": null,
      "grid_template_areas": null,
      "grid_template_columns": null,
      "grid_template_rows": null,
      "height": null,
      "justify_content": null,
      "justify_items": null,
      "left": null,
      "margin": null,
      "max_height": null,
      "max_width": null,
      "min_height": null,
      "min_width": null,
      "object_fit": null,
      "object_position": null,
      "order": null,
      "overflow": null,
      "overflow_x": null,
      "overflow_y": null,
      "padding": null,
      "right": null,
      "top": null,
      "visibility": null,
      "width": null
     }
    },
    "0428924617cf4871b4d01df1e8c5d8f6": {
     "model_module": "@jupyter-widgets/output",
     "model_module_version": "1.0.0",
     "model_name": "OutputModel",
     "state": {
      "_dom_classes": [],
      "_model_module": "@jupyter-widgets/output",
      "_model_module_version": "1.0.0",
      "_model_name": "OutputModel",
      "_view_count": null,
      "_view_module": "@jupyter-widgets/output",
      "_view_module_version": "1.0.0",
      "_view_name": "OutputView",
      "layout": "IPY_MODEL_f7f61e35164c4bc9b664cc83a6c46f37",
      "msg_id": "",
      "outputs": [
       {
        "data": {
         "image/jpeg": "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\n",
         "text/plain": "<IPython.core.display.Image object>"
        },
        "metadata": {},
        "output_type": "display_data"
       }
      ]
     }
    },
    "044a03c3c14d48ae90fc8487503d72b1": {
     "model_module": "@jupyter-widgets/controls",
     "model_module_version": "1.5.0",
     "model_name": "TextModel",
     "state": {
      "_dom_classes": [],
      "_model_module": "@jupyter-widgets/controls",
      "_model_module_version": "1.5.0",
      "_model_name": "TextModel",
      "_view_count": null,
      "_view_module": "@jupyter-widgets/controls",
      "_view_module_version": "1.5.0",
      "_view_name": "TextView",
      "continuous_update": true,
      "description": "column",
      "description_tooltip": null,
      "disabled": false,
      "layout": "IPY_MODEL_2030ad35953e451ab31d10fe9640d650",
      "placeholder": "​",
      "style": "IPY_MODEL_e67252228fe24baea543568117cc6bfc",
      "value": "claps"
     }
    },
    "045b23dbd29143b38d020be4d33abf50": {
     "model_module": "@jupyter-widgets/base",
     "model_module_version": "1.2.0",
     "model_name": "LayoutModel",
     "state": {
      "_model_module": "@jupyter-widgets/base",
      "_model_module_version": "1.2.0",
      "_model_name": "LayoutModel",
      "_view_count": null,
      "_view_module": "@jupyter-widgets/base",
      "_view_module_version": "1.2.0",
      "_view_name": "LayoutView",
      "align_content": null,
      "align_items": null,
      "align_self": null,
      "border": null,
      "bottom": null,
      "display": null,
      "flex": null,
      "flex_flow": null,
      "grid_area": null,
      "grid_auto_columns": null,
      "grid_auto_flow": null,
      "grid_auto_rows": null,
      "grid_column": null,
      "grid_gap": null,
      "grid_row": null,
      "grid_template_areas": null,
      "grid_template_columns": null,
      "grid_template_rows": null,
      "height": null,
      "justify_content": null,
      "justify_items": null,
      "left": null,
      "margin": null,
      "max_height": null,
      "max_width": null,
      "min_height": null,
      "min_width": null,
      "object_fit": null,
      "object_position": null,
      "order": null,
      "overflow": null,
      "overflow_x": null,
      "overflow_y": null,
      "padding": null,
      "right": null,
      "top": null,
      "visibility": null,
      "width": null
     }
    },
    "074b5de630f24ca8861d96c0ad1c75f1": {
     "model_module": "@jupyter-widgets/controls",
     "model_module_version": "1.5.0",
     "model_name": "DropdownModel",
     "state": {
      "_dom_classes": [],
      "_model_module": "@jupyter-widgets/controls",
      "_model_module_version": "1.5.0",
      "_model_name": "DropdownModel",
      "_options_labels": [
       "ggplot",
       "pearl",
       "solar",
       "space",
       "white",
       "polar",
       "henanigans"
      ],
      "_view_count": null,
      "_view_module": "@jupyter-widgets/controls",
      "_view_module_version": "1.5.0",
      "_view_name": "DropdownView",
      "description": "theme",
      "description_tooltip": null,
      "disabled": false,
      "index": 0,
      "layout": "IPY_MODEL_e38b88e2bfab455a89ef933f33ac3f77",
      "style": "IPY_MODEL_9b288b3760314bd9bbf029902c441788"
     }
    },
    "07691b64df124528961ee1adae7f0b67": {
     "model_module": "@jupyter-widgets/controls",
     "model_module_version": "1.5.0",
     "model_name": "VBoxModel",
     "state": {
      "_dom_classes": [
       "widget-interact"
      ],
      "_model_module": "@jupyter-widgets/controls",
      "_model_module_version": "1.5.0",
      "_model_name": "VBoxModel",
      "_view_count": null,
      "_view_module": "@jupyter-widgets/controls",
      "_view_module_version": "1.5.0",
      "_view_name": "VBoxView",
      "box_style": "",
      "children": [
       "IPY_MODEL_ef0a2832470f42379036d3c38d438ac5",
       "IPY_MODEL_1b2bb6969b824071a4acffe03aff78ef",
       "IPY_MODEL_df827642f3f548e9a07366d23141d79b",
       "IPY_MODEL_deaeded7143445af932cc4d235bf9702",
       "IPY_MODEL_c166d411ec6845db8537c8be8ee3afbb",
       "IPY_MODEL_bdca331791b049fa9415906edcc1cf33"
      ],
      "layout": "IPY_MODEL_b01820d88e764d10bcd716190a30a6d5"
     }
    },
    "07cced5592cc415e9baceac761147abe": {
     "model_module": "@jupyter-widgets/base",
     "model_module_version": "1.2.0",
     "model_name": "LayoutModel",
     "state": {
      "_model_module": "@jupyter-widgets/base",
      "_model_module_version": "1.2.0",
      "_model_name": "LayoutModel",
      "_view_count": null,
      "_view_module": "@jupyter-widgets/base",
      "_view_module_version": "1.2.0",
      "_view_name": "LayoutView",
      "align_content": null,
      "align_items": null,
      "align_self": null,
      "border": null,
      "bottom": null,
      "display": null,
      "flex": null,
      "flex_flow": null,
      "grid_area": null,
      "grid_auto_columns": null,
      "grid_auto_flow": null,
      "grid_auto_rows": null,
      "grid_column": null,
      "grid_gap": null,
      "grid_row": null,
      "grid_template_areas": null,
      "grid_template_columns": null,
      "grid_template_rows": null,
      "height": null,
      "justify_content": null,
      "justify_items": null,
      "left": null,
      "margin": null,
      "max_height": null,
      "max_width": null,
      "min_height": null,
      "min_width": null,
      "object_fit": null,
      "object_position": null,
      "order": null,
      "overflow": null,
      "overflow_x": null,
      "overflow_y": null,
      "padding": null,
      "right": null,
      "top": null,
      "visibility": null,
      "width": null
     }
    },
    "0d49575f918b4679a37122a0021b87e6": {
     "model_module": "@jupyter-widgets/base",
     "model_module_version": "1.2.0",
     "model_name": "LayoutModel",
     "state": {
      "_model_module": "@jupyter-widgets/base",
      "_model_module_version": "1.2.0",
      "_model_name": "LayoutModel",
      "_view_count": null,
      "_view_module": "@jupyter-widgets/base",
      "_view_module_version": "1.2.0",
      "_view_name": "LayoutView",
      "align_content": null,
      "align_items": null,
      "align_self": null,
      "border": null,
      "bottom": null,
      "display": null,
      "flex": null,
      "flex_flow": null,
      "grid_area": null,
      "grid_auto_columns": null,
      "grid_auto_flow": null,
      "grid_auto_rows": null,
      "grid_column": null,
      "grid_gap": null,
      "grid_row": null,
      "grid_template_areas": null,
      "grid_template_columns": null,
      "grid_template_rows": null,
      "height": null,
      "justify_content": null,
      "justify_items": null,
      "left": null,
      "margin": null,
      "max_height": null,
      "max_width": null,
      "min_height": null,
      "min_width": null,
      "object_fit": null,
      "object_position": null,
      "order": null,
      "overflow": null,
      "overflow_x": null,
      "overflow_y": null,
      "padding": null,
      "right": null,
      "top": null,
      "visibility": null,
      "width": null
     }
    },
    "0e16d67a0b5c4672aa840b4086dad9db": {
     "model_module": "@jupyter-widgets/controls",
     "model_module_version": "1.5.0",
     "model_name": "VBoxModel",
     "state": {
      "_dom_classes": [
       "widget-interact"
      ],
      "_model_module": "@jupyter-widgets/controls",
      "_model_module_version": "1.5.0",
      "_model_name": "VBoxModel",
      "_view_count": null,
      "_view_module": "@jupyter-widgets/controls",
      "_view_module_version": "1.5.0",
      "_view_name": "VBoxView",
      "box_style": "",
      "children": [
       "IPY_MODEL_a23fcba1ce424310a0beb1eacc0132fb",
       "IPY_MODEL_fad38ca3984d47e18d35ae6f99d7107c",
       "IPY_MODEL_3afb2e702a9b427ab1f57b5805ca3a96",
       "IPY_MODEL_a0d1108892214f0f82ac5cc887f553a6",
       "IPY_MODEL_7e3a8f72ca9643b9bdff9ba4651dbfe7",
       "IPY_MODEL_506e20037cf74c6eaa4ed4fe1f2f5d5b",
       "IPY_MODEL_cba1cc65aeac429ca6dae0d54cb5da3c"
      ],
      "layout": "IPY_MODEL_1adb64795d374fe2955a13be583f6bc5"
     }
    },
    "0f2454ec5bd44a6699ef46bdca9c95ff": {
     "model_module": "@jupyter-widgets/base",
     "model_module_version": "1.2.0",
     "model_name": "LayoutModel",
     "state": {
      "_model_module": "@jupyter-widgets/base",
      "_model_module_version": "1.2.0",
      "_model_name": "LayoutModel",
      "_view_count": null,
      "_view_module": "@jupyter-widgets/base",
      "_view_module_version": "1.2.0",
      "_view_name": "LayoutView",
      "align_content": null,
      "align_items": null,
      "align_self": null,
      "border": null,
      "bottom": null,
      "display": null,
      "flex": null,
      "flex_flow": null,
      "grid_area": null,
      "grid_auto_columns": null,
      "grid_auto_flow": null,
      "grid_auto_rows": null,
      "grid_column": null,
      "grid_gap": null,
      "grid_row": null,
      "grid_template_areas": null,
      "grid_template_columns": null,
      "grid_template_rows": null,
      "height": null,
      "justify_content": null,
      "justify_items": null,
      "left": null,
      "margin": null,
      "max_height": null,
      "max_width": null,
      "min_height": null,
      "min_width": null,
      "object_fit": null,
      "object_position": null,
      "order": null,
      "overflow": null,
      "overflow_x": null,
      "overflow_y": null,
      "padding": null,
      "right": null,
      "top": null,
      "visibility": null,
      "width": null
     }
    },
    "11aceba7403549e1adcdc6f8846d1ef9": {
     "model_module": "@jupyter-widgets/controls",
     "model_module_version": "1.5.0",
     "model_name": "DescriptionStyleModel",
     "state": {
      "_model_module": "@jupyter-widgets/controls",
      "_model_module_version": "1.5.0",
      "_model_name": "DescriptionStyleModel",
      "_view_count": null,
      "_view_module": "@jupyter-widgets/base",
      "_view_module_version": "1.2.0",
      "_view_name": "StyleView",
      "description_width": ""
     }
    },
    "146bce42917f4aec8dc6a0acd772af23": {
     "model_module": "@jupyter-widgets/controls",
     "model_module_version": "1.5.0",
     "model_name": "VBoxModel",
     "state": {
      "_dom_classes": [
       "widget-interact"
      ],
      "_model_module": "@jupyter-widgets/controls",
      "_model_module_version": "1.5.0",
      "_model_name": "VBoxModel",
      "_view_count": null,
      "_view_module": "@jupyter-widgets/controls",
      "_view_module_version": "1.5.0",
      "_view_name": "VBoxView",
      "box_style": "",
      "children": [
       "IPY_MODEL_bbcd75a418d54a668f4c2607239b1446",
       "IPY_MODEL_627b16aa0c6c47279eafb1f75cefa146",
       "IPY_MODEL_a164a6a5eb6842f7b21254588484cc91"
      ],
      "layout": "IPY_MODEL_0d49575f918b4679a37122a0021b87e6"
     }
    },
    "168cdaf2f14e43378aeefdac3c97a489": {
     "model_module": "@jupyter-widgets/base",
     "model_module_version": "1.2.0",
     "model_name": "LayoutModel",
     "state": {
      "_model_module": "@jupyter-widgets/base",
      "_model_module_version": "1.2.0",
      "_model_name": "LayoutModel",
      "_view_count": null,
      "_view_module": "@jupyter-widgets/base",
      "_view_module_version": "1.2.0",
      "_view_name": "LayoutView",
      "align_content": null,
      "align_items": null,
      "align_self": null,
      "border": null,
      "bottom": null,
      "display": null,
      "flex": null,
      "flex_flow": null,
      "grid_area": null,
      "grid_auto_columns": null,
      "grid_auto_flow": null,
      "grid_auto_rows": null,
      "grid_column": null,
      "grid_gap": null,
      "grid_row": null,
      "grid_template_areas": null,
      "grid_template_columns": null,
      "grid_template_rows": null,
      "height": null,
      "justify_content": null,
      "justify_items": null,
      "left": null,
      "margin": null,
      "max_height": null,
      "max_width": null,
      "min_height": null,
      "min_width": null,
      "object_fit": null,
      "object_position": null,
      "order": null,
      "overflow": null,
      "overflow_x": null,
      "overflow_y": null,
      "padding": null,
      "right": null,
      "top": null,
      "visibility": null,
      "width": null
     }
    },
    "16fd33c4c214414e9e3147380493523c": {
     "model_module": "@jupyter-widgets/base",
     "model_module_version": "1.2.0",
     "model_name": "LayoutModel",
     "state": {
      "_model_module": "@jupyter-widgets/base",
      "_model_module_version": "1.2.0",
      "_model_name": "LayoutModel",
      "_view_count": null,
      "_view_module": "@jupyter-widgets/base",
      "_view_module_version": "1.2.0",
      "_view_name": "LayoutView",
      "align_content": null,
      "align_items": null,
      "align_self": null,
      "border": null,
      "bottom": null,
      "display": null,
      "flex": null,
      "flex_flow": null,
      "grid_area": null,
      "grid_auto_columns": null,
      "grid_auto_flow": null,
      "grid_auto_rows": null,
      "grid_column": null,
      "grid_gap": null,
      "grid_row": null,
      "grid_template_areas": null,
      "grid_template_columns": null,
      "grid_template_rows": null,
      "height": null,
      "justify_content": null,
      "justify_items": null,
      "left": null,
      "margin": null,
      "max_height": null,
      "max_width": null,
      "min_height": null,
      "min_width": null,
      "object_fit": null,
      "object_position": null,
      "order": null,
      "overflow": null,
      "overflow_x": null,
      "overflow_y": null,
      "padding": null,
      "right": null,
      "top": null,
      "visibility": null,
      "width": null
     }
    },
    "19cc64c60a9d46128cb96b58d32172d9": {
     "model_module": "@jupyter-widgets/controls",
     "model_module_version": "1.5.0",
     "model_name": "DropdownModel",
     "state": {
      "_dom_classes": [],
      "_model_module": "@jupyter-widgets/controls",
      "_model_module_version": "1.5.0",
      "_model_name": "DropdownModel",
      "_options_labels": [
       "reads",
       "views",
       "word_count",
       "claps",
       "fans",
       "read_time"
      ],
      "_view_count": null,
      "_view_module": "@jupyter-widgets/controls",
      "_view_module_version": "1.5.0",
      "_view_name": "DropdownView",
      "description": "column1",
      "description_tooltip": null,
      "disabled": false,
      "index": 0,
      "layout": "IPY_MODEL_e4601341de134cb6987bb3d8a24313fa",
      "style": "IPY_MODEL_ccb606602f8144b7916ea6ea9607805b"
     }
    },
    "19e0247f196a47699fdb4b396962c95c": {
     "model_module": "@jupyter-widgets/controls",
     "model_module_version": "1.5.0",
     "model_name": "DescriptionStyleModel",
     "state": {
      "_model_module": "@jupyter-widgets/controls",
      "_model_module_version": "1.5.0",
      "_model_name": "DescriptionStyleModel",
      "_view_count": null,
      "_view_module": "@jupyter-widgets/base",
      "_view_module_version": "1.2.0",
      "_view_name": "StyleView",
      "description_width": ""
     }
    },
    "1a68919e10024f8888ef0eee0725db7d": {
     "model_module": "@jupyter-widgets/base",
     "model_module_version": "1.2.0",
     "model_name": "LayoutModel",
     "state": {
      "_model_module": "@jupyter-widgets/base",
      "_model_module_version": "1.2.0",
      "_model_name": "LayoutModel",
      "_view_count": null,
      "_view_module": "@jupyter-widgets/base",
      "_view_module_version": "1.2.0",
      "_view_name": "LayoutView",
      "align_content": null,
      "align_items": null,
      "align_self": null,
      "border": null,
      "bottom": null,
      "display": null,
      "flex": null,
      "flex_flow": null,
      "grid_area": null,
      "grid_auto_columns": null,
      "grid_auto_flow": null,
      "grid_auto_rows": null,
      "grid_column": null,
      "grid_gap": null,
      "grid_row": null,
      "grid_template_areas": null,
      "grid_template_columns": null,
      "grid_template_rows": null,
      "height": null,
      "justify_content": null,
      "justify_items": null,
      "left": null,
      "margin": null,
      "max_height": null,
      "max_width": null,
      "min_height": null,
      "min_width": null,
      "object_fit": null,
      "object_position": null,
      "order": null,
      "overflow": null,
      "overflow_x": null,
      "overflow_y": null,
      "padding": null,
      "right": null,
      "top": null,
      "visibility": null,
      "width": null
     }
    },
    "1adb64795d374fe2955a13be583f6bc5": {
     "model_module": "@jupyter-widgets/base",
     "model_module_version": "1.2.0",
     "model_name": "LayoutModel",
     "state": {
      "_model_module": "@jupyter-widgets/base",
      "_model_module_version": "1.2.0",
      "_model_name": "LayoutModel",
      "_view_count": null,
      "_view_module": "@jupyter-widgets/base",
      "_view_module_version": "1.2.0",
      "_view_name": "LayoutView",
      "align_content": null,
      "align_items": null,
      "align_self": null,
      "border": null,
      "bottom": null,
      "display": null,
      "flex": null,
      "flex_flow": null,
      "grid_area": null,
      "grid_auto_columns": null,
      "grid_auto_flow": null,
      "grid_auto_rows": null,
      "grid_column": null,
      "grid_gap": null,
      "grid_row": null,
      "grid_template_areas": null,
      "grid_template_columns": null,
      "grid_template_rows": null,
      "height": null,
      "justify_content": null,
      "justify_items": null,
      "left": null,
      "margin": null,
      "max_height": null,
      "max_width": null,
      "min_height": null,
      "min_width": null,
      "object_fit": null,
      "object_position": null,
      "order": null,
      "overflow": null,
      "overflow_x": null,
      "overflow_y": null,
      "padding": null,
      "right": null,
      "top": null,
      "visibility": null,
      "width": null
     }
    },
    "1b2bb6969b824071a4acffe03aff78ef": {
     "model_module": "@jupyter-widgets/controls",
     "model_module_version": "1.5.0",
     "model_name": "DropdownModel",
     "state": {
      "_dom_classes": [],
      "_model_module": "@jupyter-widgets/controls",
      "_model_module_version": "1.5.0",
      "_model_name": "DropdownModel",
      "_options_labels": [
       "views",
       "word_count",
       "claps",
       "fans",
       "read_time"
      ],
      "_view_count": null,
      "_view_module": "@jupyter-widgets/controls",
      "_view_module_version": "1.5.0",
      "_view_name": "DropdownView",
      "description": "y",
      "description_tooltip": null,
      "disabled": false,
      "index": 0,
      "layout": "IPY_MODEL_532f294cf17c4c658445b18d19dbd035",
      "style": "IPY_MODEL_5bb0676e0cb243a099eccd515435a0c2"
     }
    },
    "1cc4130374fd48e2bd1173cf5ecff0f0": {
     "model_module": "@jupyter-widgets/base",
     "model_module_version": "1.2.0",
     "model_name": "LayoutModel",
     "state": {
      "_model_module": "@jupyter-widgets/base",
      "_model_module_version": "1.2.0",
      "_model_name": "LayoutModel",
      "_view_count": null,
      "_view_module": "@jupyter-widgets/base",
      "_view_module_version": "1.2.0",
      "_view_name": "LayoutView",
      "align_content": null,
      "align_items": null,
      "align_self": null,
      "border": null,
      "bottom": null,
      "display": null,
      "flex": null,
      "flex_flow": null,
      "grid_area": null,
      "grid_auto_columns": null,
      "grid_auto_flow": null,
      "grid_auto_rows": null,
      "grid_column": null,
      "grid_gap": null,
      "grid_row": null,
      "grid_template_areas": null,
      "grid_template_columns": null,
      "grid_template_rows": null,
      "height": null,
      "justify_content": null,
      "justify_items": null,
      "left": null,
      "margin": null,
      "max_height": null,
      "max_width": null,
      "min_height": null,
      "min_width": null,
      "object_fit": null,
      "object_position": null,
      "order": null,
      "overflow": null,
      "overflow_x": null,
      "overflow_y": null,
      "padding": null,
      "right": null,
      "top": null,
      "visibility": null,
      "width": null
     }
    },
    "2030ad35953e451ab31d10fe9640d650": {
     "model_module": "@jupyter-widgets/base",
     "model_module_version": "1.2.0",
     "model_name": "LayoutModel",
     "state": {
      "_model_module": "@jupyter-widgets/base",
      "_model_module_version": "1.2.0",
      "_model_name": "LayoutModel",
      "_view_count": null,
      "_view_module": "@jupyter-widgets/base",
      "_view_module_version": "1.2.0",
      "_view_name": "LayoutView",
      "align_content": null,
      "align_items": null,
      "align_self": null,
      "border": null,
      "bottom": null,
      "display": null,
      "flex": null,
      "flex_flow": null,
      "grid_area": null,
      "grid_auto_columns": null,
      "grid_auto_flow": null,
      "grid_auto_rows": null,
      "grid_column": null,
      "grid_gap": null,
      "grid_row": null,
      "grid_template_areas": null,
      "grid_template_columns": null,
      "grid_template_rows": null,
      "height": null,
      "justify_content": null,
      "justify_items": null,
      "left": null,
      "margin": null,
      "max_height": null,
      "max_width": null,
      "min_height": null,
      "min_width": null,
      "object_fit": null,
      "object_position": null,
      "order": null,
      "overflow": null,
      "overflow_x": null,
      "overflow_y": null,
      "padding": null,
      "right": null,
      "top": null,
      "visibility": null,
      "width": null
     }
    },
    "2331c3610c164420b02bc0fee7a686dc": {
     "model_module": "@jupyter-widgets/controls",
     "model_module_version": "1.5.0",
     "model_name": "DropdownModel",
     "state": {
      "_dom_classes": [],
      "_model_module": "@jupyter-widgets/controls",
      "_model_module_version": "1.5.0",
      "_model_name": "DropdownModel",
      "_options_labels": [
       ".config",
       "cities",
       "images",
       ".ipynb_checkpoints",
       "sample_data"
      ],
      "_view_count": null,
      "_view_module": "@jupyter-widgets/controls",
      "_view_module_version": "1.5.0",
      "_view_name": "DropdownView",
      "description": "dir",
      "description_tooltip": null,
      "disabled": false,
      "index": 0,
      "layout": "IPY_MODEL_8dd5da09f30e44a98423960840cbaaa3",
      "style": "IPY_MODEL_845c73b31ef54d91975f7b536893a6ba"
     }
    },
    "276fb505e02341cba67add3e7b24f4fa": {
     "model_module": "@jupyter-widgets/controls",
     "model_module_version": "1.5.0",
     "model_name": "DescriptionStyleModel",
     "state": {
      "_model_module": "@jupyter-widgets/controls",
      "_model_module_version": "1.5.0",
      "_model_name": "DescriptionStyleModel",
      "_view_count": null,
      "_view_module": "@jupyter-widgets/base",
      "_view_module_version": "1.2.0",
      "_view_name": "StyleView",
      "description_width": ""
     }
    },
    "281ceded52eb4dab9855ce43650f30a3": {
     "model_module": "@jupyter-widgets/controls",
     "model_module_version": "1.5.0",
     "model_name": "VBoxModel",
     "state": {
      "_dom_classes": [
       "widget-interact"
      ],
      "_model_module": "@jupyter-widgets/controls",
      "_model_module_version": "1.5.0",
      "_model_name": "VBoxModel",
      "_view_count": null,
      "_view_module": "@jupyter-widgets/controls",
      "_view_module_version": "1.5.0",
      "_view_name": "VBoxView",
      "box_style": "",
      "children": [
       "IPY_MODEL_5653aaf906594bb89b212269048f0991",
       "IPY_MODEL_e6926519dc514ba0bc70d3ada1d232fe",
       "IPY_MODEL_c778ca9a88324c8a9d95550d04d778c9"
      ],
      "layout": "IPY_MODEL_9751f28e3d704f33a19bc45d087a4dd4"
     }
    },
    "29e9ae26a1d24889a8d48ee006229126": {
     "model_module": "@jupyter-widgets/base",
     "model_module_version": "1.2.0",
     "model_name": "LayoutModel",
     "state": {
      "_model_module": "@jupyter-widgets/base",
      "_model_module_version": "1.2.0",
      "_model_name": "LayoutModel",
      "_view_count": null,
      "_view_module": "@jupyter-widgets/base",
      "_view_module_version": "1.2.0",
      "_view_name": "LayoutView",
      "align_content": null,
      "align_items": null,
      "align_self": null,
      "border": null,
      "bottom": null,
      "display": null,
      "flex": null,
      "flex_flow": null,
      "grid_area": null,
      "grid_auto_columns": null,
      "grid_auto_flow": null,
      "grid_auto_rows": null,
      "grid_column": null,
      "grid_gap": null,
      "grid_row": null,
      "grid_template_areas": null,
      "grid_template_columns": null,
      "grid_template_rows": null,
      "height": null,
      "justify_content": null,
      "justify_items": null,
      "left": null,
      "margin": null,
      "max_height": null,
      "max_width": null,
      "min_height": null,
      "min_width": null,
      "object_fit": null,
      "object_position": null,
      "order": null,
      "overflow": null,
      "overflow_x": null,
      "overflow_y": null,
      "padding": null,
      "right": null,
      "top": null,
      "visibility": null,
      "width": null
     }
    },
    "2e80e3640d3a4f5dadf9a9b656866efd": {
     "model_module": "@jupyter-widgets/output",
     "model_module_version": "1.0.0",
     "model_name": "OutputModel",
     "state": {
      "_dom_classes": [],
      "_model_module": "@jupyter-widgets/output",
      "_model_module_version": "1.0.0",
      "_model_name": "OutputModel",
      "_view_count": null,
      "_view_module": "@jupyter-widgets/output",
      "_view_module_version": "1.0.0",
      "_view_name": "OutputView",
      "layout": "IPY_MODEL_69b625153557405dbf5b788272fe1584",
      "msg_id": "",
      "outputs": [
       {
        "data": {
         "image/jpeg": "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\n",
         "text/plain": "<IPython.core.display.Image object>"
        },
        "metadata": {},
        "output_type": "display_data"
       }
      ]
     }
    },
    "30b27634fb3f4e8faf2e69530eb6902b": {
     "model_module": "@jupyter-widgets/output",
     "model_module_version": "1.0.0",
     "model_name": "OutputModel",
     "state": {
      "_dom_classes": [],
      "_model_module": "@jupyter-widgets/output",
      "_model_module_version": "1.0.0",
      "_model_name": "OutputModel",
      "_view_count": null,
      "_view_module": "@jupyter-widgets/output",
      "_view_module_version": "1.0.0",
      "_view_name": "OutputView",
      "layout": "IPY_MODEL_7f30992404a84b80b7f19e1a78a31af5",
      "msg_id": "",
      "outputs": [
       {
        "data": {
         "text/html": "<h3>Showing articles with more than 3000 reads<h3>",
         "text/plain": "<IPython.core.display.HTML object>"
        },
        "metadata": {},
        "output_type": "display_data"
       },
       {
        "data": {
         "text/html": "\n  <div id=\"df-b727cde3-6198-4e8c-9711-b4f6ba319fb0\">\n    <div class=\"colab-df-container\">\n      <div>\n<style scoped>\n    .dataframe tbody tr th:only-of-type {\n        vertical-align: middle;\n    }\n\n    .dataframe tbody tr th {\n        vertical-align: top;\n    }\n\n    .dataframe thead th {\n        text-align: right;\n    }\n</style>\n<table border=\"1\" class=\"dataframe\">\n  <thead>\n    <tr style=\"text-align: right;\">\n      <th></th>\n      <th>title</th>\n      <th>tags</th>\n      <th>published_date</th>\n      <th>publication</th>\n      <th>reads</th>\n      <th>views</th>\n      <th>word_count</th>\n      <th>claps</th>\n      <th>fans</th>\n      <th>read_time</th>\n    </tr>\n  </thead>\n  <tbody>\n    <tr>\n      <th>122</th>\n      <td>Object Recognition with Google’s Convolutional...</td>\n      <td>[Machine Learning, Neural Networks, Python, Ob...</td>\n      <td>2017-07-27 21:17:00</td>\n      <td>None</td>\n      <td>5690</td>\n      <td>24079</td>\n      <td>2345</td>\n      <td>240</td>\n      <td>56</td>\n      <td>12</td>\n    </tr>\n    <tr>\n      <th>127</th>\n      <td>Facial Recognition Using Google’s Convolutiona...</td>\n      <td>[Machine Learning, Python, Neural Networks, Fa...</td>\n      <td>2017-08-07 14:24:00</td>\n      <td>None</td>\n      <td>3992</td>\n      <td>28387</td>\n      <td>6666</td>\n      <td>704</td>\n      <td>76</td>\n      <td>38</td>\n    </tr>\n    <tr>\n      <th>110</th>\n      <td>Random Forest in Python</td>\n      <td>[Machine Learning, Data Science, Random Forest...</td>\n      <td>2017-12-27 11:20:00</td>\n      <td>Towards Data Science</td>\n      <td>30709</td>\n      <td>173714</td>\n      <td>4494</td>\n      <td>4900</td>\n      <td>887</td>\n      <td>21</td>\n    </tr>\n    <tr>\n      <th>113</th>\n      <td>Random Forest Simple Explanation</td>\n      <td>[Machine Learning, Learning, Data Science, Mod...</td>\n      <td>2017-12-27 11:22:00</td>\n      <td>None</td>\n      <td>37187</td>\n      <td>88394</td>\n      <td>2850</td>\n      <td>3000</td>\n      <td>466</td>\n      <td>11</td>\n    </tr>\n    <tr>\n      <th>123</th>\n      <td>Improving the Random Forest in Python Part 1</td>\n      <td>[Machine Learning, Python, Data Science, Learn...</td>\n      <td>2018-01-06 20:15:00</td>\n      <td>Towards Data Science</td>\n      <td>7815</td>\n      <td>34222</td>\n      <td>3504</td>\n      <td>865</td>\n      <td>119</td>\n      <td>17</td>\n    </tr>\n    <tr>\n      <th>108</th>\n      <td>Hyperparameter Tuning the Random Forest in Python</td>\n      <td>[Machine Learning, Python, Data Science, Data]</td>\n      <td>2018-01-09 21:49:00</td>\n      <td>Towards Data Science</td>\n      <td>27492</td>\n      <td>114637</td>\n      <td>2456</td>\n      <td>2100</td>\n      <td>413</td>\n      <td>12</td>\n    </tr>\n    <tr>\n      <th>104</th>\n      <td>Time Series Analysis in Python: An Introduction</td>\n      <td>[Data Science, Data, Programming, Python, Towa...</td>\n      <td>2018-01-12 20:48:00</td>\n      <td>Towards Data Science</td>\n      <td>32752</td>\n      <td>130417</td>\n      <td>2974</td>\n      <td>4100</td>\n      <td>915</td>\n      <td>14</td>\n    </tr>\n    <tr>\n      <th>101</th>\n      <td>Stock Analysis in Python</td>\n      <td>[Data Science, Programming, Python, Analysis, ...</td>\n      <td>2018-01-17 15:24:00</td>\n      <td>Towards Data Science</td>\n      <td>21619</td>\n      <td>81609</td>\n      <td>2395</td>\n      <td>2800</td>\n      <td>558</td>\n      <td>11</td>\n    </tr>\n    <tr>\n      <th>99</th>\n      <td>A Review of the Coursera Machine Learning Spec...</td>\n      <td>[Data Science, Machine Learning, Programming, ...</td>\n      <td>2018-01-17 19:42:00</td>\n      <td>Towards Data Science</td>\n      <td>3214</td>\n      <td>5171</td>\n      <td>1169</td>\n      <td>82</td>\n      <td>21</td>\n      <td>5</td>\n    </tr>\n    <tr>\n      <th>100</th>\n      <td>Stock Prediction in Python</td>\n      <td>[Machine Learning, Data Science, Programming, ...</td>\n      <td>2018-01-19 15:30:00</td>\n      <td>Towards Data Science</td>\n      <td>41978</td>\n      <td>134699</td>\n      <td>2528</td>\n      <td>7300</td>\n      <td>1563</td>\n      <td>12</td>\n    </tr>\n    <tr>\n      <th>95</th>\n      <td>Correlation vs. Causation: An Example</td>\n      <td>[Data Science, Statistics, Education, Critical...</td>\n      <td>2018-01-19 20:16:00</td>\n      <td>Towards Data Science</td>\n      <td>7360</td>\n      <td>20529</td>\n      <td>1361</td>\n      <td>1200</td>\n      <td>210</td>\n      <td>6</td>\n    </tr>\n    <tr>\n      <th>90</th>\n      <td>Overfitting vs. Underfitting: A Conceptual Exp...</td>\n      <td>[Data Science, Machine Learning, Model, Educat...</td>\n      <td>2018-01-27 20:17:00</td>\n      <td>Towards Data Science</td>\n      <td>7123</td>\n      <td>17040</td>\n      <td>1562</td>\n      <td>1600</td>\n      <td>332</td>\n      <td>6</td>\n    </tr>\n    <tr>\n      <th>91</th>\n      <td>Overfitting vs. Underfitting: A Complete Example</td>\n      <td>[Machine Learning, Data Science, Education, Te...</td>\n      <td>2018-01-28 08:40:00</td>\n      <td>Towards Data Science</td>\n      <td>11039</td>\n      <td>35745</td>\n      <td>2480</td>\n      <td>1100</td>\n      <td>184</td>\n      <td>11</td>\n    </tr>\n    <tr>\n      <th>98</th>\n      <td>How to Master New Skills</td>\n      <td>[Data Science, Education, Programming, Space, ...</td>\n      <td>2018-01-31 11:41:00</td>\n      <td>Towards Data Science</td>\n      <td>7282</td>\n      <td>15370</td>\n      <td>1281</td>\n      <td>4300</td>\n      <td>746</td>\n      <td>6</td>\n    </tr>\n    <tr>\n      <th>93</th>\n      <td>Statistical Significance Explained</td>\n      <td>[Data Science, Hypothesis Testing, P Value, St...</td>\n      <td>2018-02-02 09:26:00</td>\n      <td>Towards Data Science</td>\n      <td>15106</td>\n      <td>50691</td>\n      <td>2450</td>\n      <td>4970</td>\n      <td>915</td>\n      <td>10</td>\n    </tr>\n    <tr>\n      <th>88</th>\n      <td>Python is the Perfect Tool for any Problem</td>\n      <td>[Python, Programming, Education, Data Science,...</td>\n      <td>2018-02-04 09:12:00</td>\n      <td>Towards Data Science</td>\n      <td>30099</td>\n      <td>48157</td>\n      <td>721</td>\n      <td>12900</td>\n      <td>2234</td>\n      <td>3</td>\n    </tr>\n    <tr>\n      <th>89</th>\n      <td>Markov Chain Monte Carlo in Python</td>\n      <td>[Machine Learning, Data Science, Programming, ...</td>\n      <td>2018-02-09 22:29:00</td>\n      <td>Towards Data Science</td>\n      <td>16735</td>\n      <td>57830</td>\n      <td>2772</td>\n      <td>5100</td>\n      <td>996</td>\n      <td>12</td>\n    </tr>\n    <tr>\n      <th>83</th>\n      <td>Bayes’ Rule Applied</td>\n      <td>[Statistics, Programming, Education, Data Anal...</td>\n      <td>2018-02-14 11:27:00</td>\n      <td>Towards Data Science</td>\n      <td>11491</td>\n      <td>35505</td>\n      <td>1944</td>\n      <td>6000</td>\n      <td>1095</td>\n      <td>9</td>\n    </tr>\n    <tr>\n      <th>86</th>\n      <td>Unintended Consequences and Goodhart’s Law</td>\n      <td>[Machine Learning, Education, Data Science, Me...</td>\n      <td>2018-02-24 09:33:00</td>\n      <td>Towards Data Science</td>\n      <td>5881</td>\n      <td>13571</td>\n      <td>933</td>\n      <td>977</td>\n      <td>195</td>\n      <td>4</td>\n    </tr>\n    <tr>\n      <th>82</th>\n      <td>Beyond Accuracy: Precision and Recall</td>\n      <td>[Machine Learning, Data Science, Education, St...</td>\n      <td>2018-03-03 11:10:00</td>\n      <td>Towards Data Science</td>\n      <td>26327</td>\n      <td>128661</td>\n      <td>2565</td>\n      <td>7000</td>\n      <td>1340</td>\n      <td>11</td>\n    </tr>\n    <tr>\n      <th>84</th>\n      <td>Controlling the Web with Python</td>\n      <td>[Python, Education, Programming, Internet, Tow...</td>\n      <td>2018-03-10 16:16:00</td>\n      <td>Towards Data Science</td>\n      <td>14614</td>\n      <td>65054</td>\n      <td>1906</td>\n      <td>7000</td>\n      <td>1233</td>\n      <td>9</td>\n    </tr>\n    <tr>\n      <th>79</th>\n      <td>Data Visualization with Bokeh in Python, Part ...</td>\n      <td>[Data Science, Python, Education, Visualizatio...</td>\n      <td>2018-03-17 10:29:00</td>\n      <td>Towards Data Science</td>\n      <td>20479</td>\n      <td>55791</td>\n      <td>2394</td>\n      <td>2700</td>\n      <td>528</td>\n      <td>11</td>\n    </tr>\n    <tr>\n      <th>81</th>\n      <td>Data Visualization with Bokeh in Python, Part ...</td>\n      <td>[Data Visualization, Python, Education, Progra...</td>\n      <td>2018-03-20 09:47:00</td>\n      <td>Towards Data Science</td>\n      <td>11278</td>\n      <td>30494</td>\n      <td>2220</td>\n      <td>1100</td>\n      <td>204</td>\n      <td>10</td>\n    </tr>\n    <tr>\n      <th>80</th>\n      <td>Histograms and Density Plots in Python</td>\n      <td>[Data Science, Programming, Education, Python,...</td>\n      <td>2018-03-23 12:44:00</td>\n      <td>Towards Data Science</td>\n      <td>32075</td>\n      <td>118318</td>\n      <td>2614</td>\n      <td>3000</td>\n      <td>574</td>\n      <td>11</td>\n    </tr>\n    <tr>\n      <th>74</th>\n      <td>Data Visualization with Bokeh in Python, Part ...</td>\n      <td>[Python, Data Visualization, Programming, Boke...</td>\n      <td>2018-03-31 08:36:00</td>\n      <td>Towards Data Science</td>\n      <td>18754</td>\n      <td>56245</td>\n      <td>2365</td>\n      <td>2600</td>\n      <td>563</td>\n      <td>10</td>\n    </tr>\n    <tr>\n      <th>76</th>\n      <td>Visualizing Data with Pairs Plots in Python</td>\n      <td>[Data Science, Education, Programming, Data Vi...</td>\n      <td>2018-04-06 14:12:00</td>\n      <td>Towards Data Science</td>\n      <td>15764</td>\n      <td>50184</td>\n      <td>1577</td>\n      <td>2900</td>\n      <td>626</td>\n      <td>8</td>\n    </tr>\n    <tr>\n      <th>75</th>\n      <td>Introduction to Bayesian Linear Regression</td>\n      <td>[Data Science, Education, Statistics, Learning...</td>\n      <td>2018-04-13 20:38:00</td>\n      <td>Towards Data Science</td>\n      <td>19805</td>\n      <td>58471</td>\n      <td>2394</td>\n      <td>5500</td>\n      <td>980</td>\n      <td>10</td>\n    </tr>\n    <tr>\n      <th>72</th>\n      <td>Bayesian Linear Regression in Python: Using Ma...</td>\n      <td>[Machine Learning, Education, Data Analysis, P...</td>\n      <td>2018-04-20 13:31:00</td>\n      <td>Towards Data Science</td>\n      <td>6796</td>\n      <td>21887</td>\n      <td>2690</td>\n      <td>1300</td>\n      <td>268</td>\n      <td>12</td>\n    </tr>\n    <tr>\n      <th>73</th>\n      <td>Bayesian Linear Regression in Python: Using Ma...</td>\n      <td>[Machine Learning, Education, Data Analysis, P...</td>\n      <td>2018-04-20 13:34:00</td>\n      <td>Towards Data Science</td>\n      <td>6708</td>\n      <td>25208</td>\n      <td>2620</td>\n      <td>1000</td>\n      <td>227</td>\n      <td>12</td>\n    </tr>\n    <tr>\n      <th>65</th>\n      <td>Web Scraping, Regular Expressions, and Data Vi...</td>\n      <td>[Data Science, Programming, Education, Compute...</td>\n      <td>2018-04-28 15:27:00</td>\n      <td>Towards Data Science</td>\n      <td>21607</td>\n      <td>68317</td>\n      <td>1480</td>\n      <td>8000</td>\n      <td>1652</td>\n      <td>7</td>\n    </tr>\n    <tr>\n      <th>69</th>\n      <td>A Complete Machine Learning Project Walk-Throu...</td>\n      <td>[Machine Learning, Education, Data Science, Py...</td>\n      <td>2018-05-16 12:33:00</td>\n      <td>Towards Data Science</td>\n      <td>23587</td>\n      <td>124970</td>\n      <td>3553</td>\n      <td>13600</td>\n      <td>2588</td>\n      <td>15</td>\n    </tr>\n    <tr>\n      <th>67</th>\n      <td>A Complete Machine Learning Walk-Through in Py...</td>\n      <td>[Machine Learning, Education, Towards Data Sci...</td>\n      <td>2018-05-17 09:34:00</td>\n      <td>Towards Data Science</td>\n      <td>9629</td>\n      <td>46238</td>\n      <td>3106</td>\n      <td>4100</td>\n      <td>845</td>\n      <td>13</td>\n    </tr>\n    <tr>\n      <th>71</th>\n      <td>A Complete Machine Learning Walk-Through in Py...</td>\n      <td>[Machine Learning, Towards Data Science, Educa...</td>\n      <td>2018-05-18 09:48:00</td>\n      <td>Towards Data Science</td>\n      <td>6508</td>\n      <td>27428</td>\n      <td>2622</td>\n      <td>2200</td>\n      <td>486</td>\n      <td>11</td>\n    </tr>\n    <tr>\n      <th>77</th>\n      <td>Automated Machine Learning on the Cloud in Python</td>\n      <td>[Machine Learning, Towards Data Science, Data ...</td>\n      <td>2018-05-21 14:16:00</td>\n      <td>Towards Data Science</td>\n      <td>8467</td>\n      <td>33761</td>\n      <td>2338</td>\n      <td>3900</td>\n      <td>861</td>\n      <td>9</td>\n    </tr>\n    <tr>\n      <th>62</th>\n      <td>Machine Learning Kaggle Competition Part One: ...</td>\n      <td>[Data Science, Machine Learning, Towards Data ...</td>\n      <td>2018-05-28 11:39:00</td>\n      <td>Towards Data Science</td>\n      <td>10398</td>\n      <td>43577</td>\n      <td>2975</td>\n      <td>6400</td>\n      <td>1212</td>\n      <td>12</td>\n    </tr>\n    <tr>\n      <th>66</th>\n      <td>Automated Feature Engineering in Python</td>\n      <td>[Machine Learning, Towards Data Science, Data ...</td>\n      <td>2018-06-02 10:01:00</td>\n      <td>Towards Data Science</td>\n      <td>25139</td>\n      <td>114762</td>\n      <td>2648</td>\n      <td>8500</td>\n      <td>1868</td>\n      <td>11</td>\n    </tr>\n    <tr>\n      <th>63</th>\n      <td>A Feature Selection Tool for Machine Learning ...</td>\n      <td>[Machine Learning, Python, Education, Programm...</td>\n      <td>2018-06-22 10:12:00</td>\n      <td>Towards Data Science</td>\n      <td>20592</td>\n      <td>80618</td>\n      <td>1998</td>\n      <td>5500</td>\n      <td>1203</td>\n      <td>10</td>\n    </tr>\n    <tr>\n      <th>64</th>\n      <td>A Conceptual Explanation of Bayesian Hyperpara...</td>\n      <td>[Machine Learning, Education, Bayesian Machine...</td>\n      <td>2018-06-24 08:26:00</td>\n      <td>Towards Data Science</td>\n      <td>5854</td>\n      <td>26665</td>\n      <td>3393</td>\n      <td>2400</td>\n      <td>403</td>\n      <td>14</td>\n    </tr>\n    <tr>\n      <th>70</th>\n      <td>An Introductory Example of Bayesian Optimizati...</td>\n      <td>[Machine Learning, Education, Towards Data Sci...</td>\n      <td>2018-06-28 08:33:00</td>\n      <td>Towards Data Science</td>\n      <td>8890</td>\n      <td>32502</td>\n      <td>1957</td>\n      <td>2800</td>\n      <td>479</td>\n      <td>9</td>\n    </tr>\n    <tr>\n      <th>56</th>\n      <td>Automated Machine Learning Hyperparameter Tuni...</td>\n      <td>[Machine Learning, Data Science, Towards Data ...</td>\n      <td>2018-07-03 11:04:00</td>\n      <td>Towards Data Science</td>\n      <td>6988</td>\n      <td>48494</td>\n      <td>4298</td>\n      <td>2400</td>\n      <td>459</td>\n      <td>18</td>\n    </tr>\n    <tr>\n      <th>60</th>\n      <td>Why Automated Feature Engineering Will Change ...</td>\n      <td>[Machine Learning, Data Science, Towards Data ...</td>\n      <td>2018-08-09 09:04:00</td>\n      <td>Towards Data Science</td>\n      <td>7077</td>\n      <td>29190</td>\n      <td>2634</td>\n      <td>3300</td>\n      <td>527</td>\n      <td>11</td>\n    </tr>\n    <tr>\n      <th>51</th>\n      <td>The most important part of a data science proj...</td>\n      <td>[Data Science, Education, Towards Data Science...</td>\n      <td>2018-08-11 05:53:00</td>\n      <td>Towards Data Science</td>\n      <td>5924</td>\n      <td>18228</td>\n      <td>2041</td>\n      <td>4400</td>\n      <td>721</td>\n      <td>8</td>\n    </tr>\n    <tr>\n      <th>48</th>\n      <td>How to Visualize a Decision Tree from a Random...</td>\n      <td>[Machine Learning, Education, Python, Towards ...</td>\n      <td>2018-08-18 19:49:00</td>\n      <td>Towards Data Science</td>\n      <td>13261</td>\n      <td>30141</td>\n      <td>373</td>\n      <td>906</td>\n      <td>260</td>\n      <td>3</td>\n    </tr>\n    <tr>\n      <th>54</th>\n      <td>A “Data Science for Good“ Machine Learning Pro...</td>\n      <td>[Machine Learning, Data Science, Education, Py...</td>\n      <td>2018-08-20 09:48:00</td>\n      <td>Towards Data Science</td>\n      <td>7398</td>\n      <td>44201</td>\n      <td>3996</td>\n      <td>3800</td>\n      <td>791</td>\n      <td>17</td>\n    </tr>\n    <tr>\n      <th>49</th>\n      <td>Practical Advice for Data Science Writing</td>\n      <td>[Data Science, Education, Writing, Advice, Tow...</td>\n      <td>2018-09-03 17:27:00</td>\n      <td>Towards Data Science</td>\n      <td>4030</td>\n      <td>14989</td>\n      <td>2658</td>\n      <td>2900</td>\n      <td>532</td>\n      <td>10</td>\n    </tr>\n    <tr>\n      <th>50</th>\n      <td>Another Machine Learning Walk-Through and a Ch...</td>\n      <td>[Machine Learning, Data Science, Python, Towar...</td>\n      <td>2018-09-10 09:26:00</td>\n      <td>Towards Data Science</td>\n      <td>4714</td>\n      <td>24975</td>\n      <td>3756</td>\n      <td>3100</td>\n      <td>589</td>\n      <td>15</td>\n    </tr>\n    <tr>\n      <th>41</th>\n      <td>Wikipedia Data Science: Working with the World...</td>\n      <td>[Programming, Data Science, Education, Towards...</td>\n      <td>2018-09-23 10:26:00</td>\n      <td>Towards Data Science</td>\n      <td>4462</td>\n      <td>24517</td>\n      <td>3756</td>\n      <td>3400</td>\n      <td>665</td>\n      <td>17</td>\n    </tr>\n    <tr>\n      <th>33</th>\n      <td>Neural Network Embeddings Explained</td>\n      <td>[Machine Learning, Data Science, Deep Learning...</td>\n      <td>2018-10-01 21:04:00</td>\n      <td>Towards Data Science</td>\n      <td>8035</td>\n      <td>29689</td>\n      <td>1809</td>\n      <td>2600</td>\n      <td>564</td>\n      <td>8</td>\n    </tr>\n    <tr>\n      <th>52</th>\n      <td>Simpson’s Paradox: How to Prove Opposite Argum...</td>\n      <td>[Data Science, Statistics, Education, Towards ...</td>\n      <td>2018-10-12 12:31:00</td>\n      <td>Towards Data Science</td>\n      <td>3175</td>\n      <td>13464</td>\n      <td>2483</td>\n      <td>2100</td>\n      <td>365</td>\n      <td>10</td>\n    </tr>\n    <tr>\n      <th>38</th>\n      <td>My Weaknesses as a Data Scientist</td>\n      <td>[Data Science, Education, Learning, Writing, T...</td>\n      <td>2018-10-26 15:32:00</td>\n      <td>Towards Data Science</td>\n      <td>9583</td>\n      <td>33755</td>\n      <td>2933</td>\n      <td>3300</td>\n      <td>659</td>\n      <td>11</td>\n    </tr>\n    <tr>\n      <th>42</th>\n      <td>Recurrent Neural Networks by Example in Python</td>\n      <td>[Machine Learning, Deep Learning, Education, T...</td>\n      <td>2018-11-04 21:30:00</td>\n      <td>Towards Data Science</td>\n      <td>6029</td>\n      <td>35601</td>\n      <td>3797</td>\n      <td>2500</td>\n      <td>607</td>\n      <td>15</td>\n    </tr>\n    <tr>\n      <th>45</th>\n      <td>Deploying a Keras Deep Learning Model as a Web...</td>\n      <td>[Machine Learning, Data Science, Deep Learning...</td>\n      <td>2018-11-17 21:54:00</td>\n      <td>Towards Data Science</td>\n      <td>8606</td>\n      <td>28625</td>\n      <td>1561</td>\n      <td>2300</td>\n      <td>612</td>\n      <td>7</td>\n    </tr>\n    <tr>\n      <th>47</th>\n      <td>Deploying a Python Web App on AWS</td>\n      <td>[Programming, Web Development, Data Science, E...</td>\n      <td>2018-11-18 19:57:00</td>\n      <td>Towards Data Science</td>\n      <td>5627</td>\n      <td>16118</td>\n      <td>1355</td>\n      <td>1400</td>\n      <td>321</td>\n      <td>6</td>\n    </tr>\n    <tr>\n      <th>39</th>\n      <td>Estimating Probabilities with Bayesian Modelin...</td>\n      <td>[Data Science, Statistics, Education, Towards ...</td>\n      <td>2018-11-28 10:23:00</td>\n      <td>Towards Data Science</td>\n      <td>5103</td>\n      <td>23622</td>\n      <td>2824</td>\n      <td>2800</td>\n      <td>524</td>\n      <td>12</td>\n    </tr>\n    <tr>\n      <th>27</th>\n      <td>Python and Slack: A Natural Match</td>\n      <td>[Data Science, Programming, Education, Applica...</td>\n      <td>2018-12-01 11:50:00</td>\n      <td>Towards Data Science</td>\n      <td>4616</td>\n      <td>23617</td>\n      <td>1397</td>\n      <td>2100</td>\n      <td>405</td>\n      <td>8</td>\n    </tr>\n    <tr>\n      <th>25</th>\n      <td>Jupyter Notebook Extensions</td>\n      <td>[Data Science, Programming, Towards Data Scien...</td>\n      <td>2018-12-07 16:16:00</td>\n      <td>Towards Data Science</td>\n      <td>11925</td>\n      <td>26603</td>\n      <td>877</td>\n      <td>3800</td>\n      <td>852</td>\n      <td>5</td>\n    </tr>\n    <tr>\n      <th>26</th>\n      <td>Introduction to Interactive Time Series Visual...</td>\n      <td>[Data Visualization, Data Science, Python, Edu...</td>\n      <td>2018-12-15 12:39:00</td>\n      <td>Towards Data Science</td>\n      <td>3836</td>\n      <td>13166</td>\n      <td>1806</td>\n      <td>1000</td>\n      <td>275</td>\n      <td>9</td>\n    </tr>\n    <tr>\n      <th>19</th>\n      <td>The Next Level of Data Visualization in Python</td>\n      <td>[Data Science, Data Visualization, Python, Edu...</td>\n      <td>2019-01-08 22:09:00</td>\n      <td>Towards Data Science</td>\n      <td>24002</td>\n      <td>71225</td>\n      <td>1457</td>\n      <td>7600</td>\n      <td>1697</td>\n      <td>8</td>\n    </tr>\n  </tbody>\n</table>\n</div>\n      <button class=\"colab-df-convert\" onclick=\"convertToInteractive('df-b727cde3-6198-4e8c-9711-b4f6ba319fb0')\"\n              title=\"Convert this dataframe to an interactive table.\"\n              style=\"display:none;\">\n        \n  <svg xmlns=\"http://www.w3.org/2000/svg\" height=\"24px\"viewBox=\"0 0 24 24\"\n       width=\"24px\">\n    <path d=\"M0 0h24v24H0V0z\" fill=\"none\"/>\n    <path d=\"M18.56 5.44l.94 2.06.94-2.06 2.06-.94-2.06-.94-.94-2.06-.94 2.06-2.06.94zm-11 1L8.5 8.5l.94-2.06 2.06-.94-2.06-.94L8.5 2.5l-.94 2.06-2.06.94zm10 10l.94 2.06.94-2.06 2.06-.94-2.06-.94-.94-2.06-.94 2.06-2.06.94z\"/><path d=\"M17.41 7.96l-1.37-1.37c-.4-.4-.92-.59-1.43-.59-.52 0-1.04.2-1.43.59L10.3 9.45l-7.72 7.72c-.78.78-.78 2.05 0 2.83L4 21.41c.39.39.9.59 1.41.59.51 0 1.02-.2 1.41-.59l7.78-7.78 2.81-2.81c.8-.78.8-2.07 0-2.86zM5.41 20L4 18.59l7.72-7.72 1.47 1.35L5.41 20z\"/>\n  </svg>\n      </button>\n      \n  <style>\n    .colab-df-container {\n      display:flex;\n      flex-wrap:wrap;\n      gap: 12px;\n    }\n\n    .colab-df-convert {\n      background-color: #E8F0FE;\n      border: none;\n      border-radius: 50%;\n      cursor: pointer;\n      display: none;\n      fill: #1967D2;\n      height: 32px;\n      padding: 0 0 0 0;\n      width: 32px;\n    }\n\n    .colab-df-convert:hover {\n      background-color: #E2EBFA;\n      box-shadow: 0px 1px 2px rgba(60, 64, 67, 0.3), 0px 1px 3px 1px rgba(60, 64, 67, 0.15);\n      fill: #174EA6;\n    }\n\n    [theme=dark] .colab-df-convert {\n      background-color: #3B4455;\n      fill: #D2E3FC;\n    }\n\n    [theme=dark] .colab-df-convert:hover {\n      background-color: #434B5C;\n      box-shadow: 0px 1px 3px 1px rgba(0, 0, 0, 0.15);\n      filter: drop-shadow(0px 1px 2px rgba(0, 0, 0, 0.3));\n      fill: #FFFFFF;\n    }\n  </style>\n\n      <script>\n        const buttonEl =\n          document.querySelector('#df-b727cde3-6198-4e8c-9711-b4f6ba319fb0 button.colab-df-convert');\n        buttonEl.style.display =\n          google.colab.kernel.accessAllowed ? 'block' : 'none';\n\n        async function convertToInteractive(key) {\n          const element = document.querySelector('#df-b727cde3-6198-4e8c-9711-b4f6ba319fb0');\n          const dataTable =\n            await google.colab.kernel.invokeFunction('convertToInteractive',\n                                                     [key], {});\n          if (!dataTable) return;\n\n          const docLinkHtml = 'Like what you see? Visit the ' +\n            '<a target=\"_blank\" href=https://colab.research.google.com/notebooks/data_table.ipynb>data table notebook</a>'\n            + ' to learn more about interactive tables.';\n          element.innerHTML = '';\n          dataTable['output_type'] = 'display_data';\n          await google.colab.output.renderOutput(dataTable, element);\n          const docLink = document.createElement('div');\n          docLink.innerHTML = docLinkHtml;\n          element.appendChild(docLink);\n        }\n      </script>\n    </div>\n  </div>\n  ",
         "text/plain": "                                                 title  ... read_time\n122  Object Recognition with Google’s Convolutional...  ...        12\n127  Facial Recognition Using Google’s Convolutiona...  ...        38\n110                            Random Forest in Python  ...        21\n113                   Random Forest Simple Explanation  ...        11\n123       Improving the Random Forest in Python Part 1  ...        17\n108  Hyperparameter Tuning the Random Forest in Python  ...        12\n104    Time Series Analysis in Python: An Introduction  ...        14\n101                           Stock Analysis in Python  ...        11\n99   A Review of the Coursera Machine Learning Spec...  ...         5\n100                         Stock Prediction in Python  ...        12\n95               Correlation vs. Causation: An Example  ...         6\n90   Overfitting vs. Underfitting: A Conceptual Exp...  ...         6\n91    Overfitting vs. Underfitting: A Complete Example  ...        11\n98                            How to Master New Skills  ...         6\n93                  Statistical Significance Explained  ...        10\n88          Python is the Perfect Tool for any Problem  ...         3\n89                  Markov Chain Monte Carlo in Python  ...        12\n83                                 Bayes’ Rule Applied  ...         9\n86          Unintended Consequences and Goodhart’s Law  ...         4\n82               Beyond Accuracy: Precision and Recall  ...        11\n84                     Controlling the Web with Python  ...         9\n79   Data Visualization with Bokeh in Python, Part ...  ...        11\n81   Data Visualization with Bokeh in Python, Part ...  ...        10\n80              Histograms and Density Plots in Python  ...        11\n74   Data Visualization with Bokeh in Python, Part ...  ...        10\n76         Visualizing Data with Pairs Plots in Python  ...         8\n75          Introduction to Bayesian Linear Regression  ...        10\n72   Bayesian Linear Regression in Python: Using Ma...  ...        12\n73   Bayesian Linear Regression in Python: Using Ma...  ...        12\n65   Web Scraping, Regular Expressions, and Data Vi...  ...         7\n69   A Complete Machine Learning Project Walk-Throu...  ...        15\n67   A Complete Machine Learning Walk-Through in Py...  ...        13\n71   A Complete Machine Learning Walk-Through in Py...  ...        11\n77   Automated Machine Learning on the Cloud in Python  ...         9\n62   Machine Learning Kaggle Competition Part One: ...  ...        12\n66             Automated Feature Engineering in Python  ...        11\n63   A Feature Selection Tool for Machine Learning ...  ...        10\n64   A Conceptual Explanation of Bayesian Hyperpara...  ...        14\n70   An Introductory Example of Bayesian Optimizati...  ...         9\n56   Automated Machine Learning Hyperparameter Tuni...  ...        18\n60   Why Automated Feature Engineering Will Change ...  ...        11\n51   The most important part of a data science proj...  ...         8\n48   How to Visualize a Decision Tree from a Random...  ...         3\n54   A “Data Science for Good“ Machine Learning Pro...  ...        17\n49           Practical Advice for Data Science Writing  ...        10\n50   Another Machine Learning Walk-Through and a Ch...  ...        15\n41   Wikipedia Data Science: Working with the World...  ...        17\n33                 Neural Network Embeddings Explained  ...         8\n52   Simpson’s Paradox: How to Prove Opposite Argum...  ...        10\n38                   My Weaknesses as a Data Scientist  ...        11\n42      Recurrent Neural Networks by Example in Python  ...        15\n45   Deploying a Keras Deep Learning Model as a Web...  ...         7\n47                   Deploying a Python Web App on AWS  ...         6\n39   Estimating Probabilities with Bayesian Modelin...  ...        12\n27                   Python and Slack: A Natural Match  ...         8\n25                         Jupyter Notebook Extensions  ...         5\n26   Introduction to Interactive Time Series Visual...  ...         9\n19      The Next Level of Data Visualization in Python  ...         8\n\n[58 rows x 10 columns]"
        },
        "metadata": {},
        "output_type": "display_data"
       }
      ]
     }
    },
    "314110a444764752bbf3e01fd8e0e0f0": {
     "model_module": "@jupyter-widgets/controls",
     "model_module_version": "1.5.0",
     "model_name": "DescriptionStyleModel",
     "state": {
      "_model_module": "@jupyter-widgets/controls",
      "_model_module_version": "1.5.0",
      "_model_name": "DescriptionStyleModel",
      "_view_count": null,
      "_view_module": "@jupyter-widgets/base",
      "_view_module_version": "1.2.0",
      "_view_name": "StyleView",
      "description_width": ""
     }
    },
    "3141c042a34f45e486d3b783bc1f0dcd": {
     "model_module": "@jupyter-widgets/controls",
     "model_module_version": "1.5.0",
     "model_name": "DropdownModel",
     "state": {
      "_dom_classes": [],
      "_model_module": "@jupyter-widgets/controls",
      "_model_module_version": "1.5.0",
      "_model_name": "DropdownModel",
      "_options_labels": [
       "title",
       "tags",
       "published_date",
       "publication",
       "reads",
       "views",
       "word_count",
       "claps",
       "fans",
       "read_time"
      ],
      "_view_count": null,
      "_view_module": "@jupyter-widgets/controls",
      "_view_module_version": "1.5.0",
      "_view_name": "DropdownView",
      "description": "column",
      "description_tooltip": null,
      "disabled": false,
      "index": 0,
      "layout": "IPY_MODEL_b21e8ee1833c46f1a4d1011b99221de0",
      "style": "IPY_MODEL_11aceba7403549e1adcdc6f8846d1ef9"
     }
    },
    "351028f2c5844084a3c6e7d2929cad86": {
     "model_module": "@jupyter-widgets/base",
     "model_module_version": "1.2.0",
     "model_name": "LayoutModel",
     "state": {
      "_model_module": "@jupyter-widgets/base",
      "_model_module_version": "1.2.0",
      "_model_name": "LayoutModel",
      "_view_count": null,
      "_view_module": "@jupyter-widgets/base",
      "_view_module_version": "1.2.0",
      "_view_name": "LayoutView",
      "align_content": null,
      "align_items": null,
      "align_self": null,
      "border": null,
      "bottom": null,
      "display": null,
      "flex": null,
      "flex_flow": null,
      "grid_area": null,
      "grid_auto_columns": null,
      "grid_auto_flow": null,
      "grid_auto_rows": null,
      "grid_column": null,
      "grid_gap": null,
      "grid_row": null,
      "grid_template_areas": null,
      "grid_template_columns": null,
      "grid_template_rows": null,
      "height": null,
      "justify_content": null,
      "justify_items": null,
      "left": null,
      "margin": null,
      "max_height": null,
      "max_width": null,
      "min_height": null,
      "min_width": null,
      "object_fit": null,
      "object_position": null,
      "order": null,
      "overflow": null,
      "overflow_x": null,
      "overflow_y": null,
      "padding": null,
      "right": null,
      "top": null,
      "visibility": null,
      "width": null
     }
    },
    "374ddb5d01a04a12b8ede94bcd7a644d": {
     "model_module": "@jupyter-widgets/controls",
     "model_module_version": "1.5.0",
     "model_name": "DescriptionStyleModel",
     "state": {
      "_model_module": "@jupyter-widgets/controls",
      "_model_module_version": "1.5.0",
      "_model_name": "DescriptionStyleModel",
      "_view_count": null,
      "_view_module": "@jupyter-widgets/base",
      "_view_module_version": "1.2.0",
      "_view_name": "StyleView",
      "description_width": ""
     }
    },
    "3a01a160254e4ff9b9d2aedf142c08f4": {
     "model_module": "@jupyter-widgets/controls",
     "model_module_version": "1.5.0",
     "model_name": "DescriptionStyleModel",
     "state": {
      "_model_module": "@jupyter-widgets/controls",
      "_model_module_version": "1.5.0",
      "_model_name": "DescriptionStyleModel",
      "_view_count": null,
      "_view_module": "@jupyter-widgets/base",
      "_view_module_version": "1.2.0",
      "_view_name": "StyleView",
      "description_width": ""
     }
    },
    "3afb2e702a9b427ab1f57b5805ca3a96": {
     "model_module": "@jupyter-widgets/controls",
     "model_module_version": "1.5.0",
     "model_name": "DropdownModel",
     "state": {
      "_dom_classes": [],
      "_model_module": "@jupyter-widgets/controls",
      "_model_module_version": "1.5.0",
      "_model_name": "DropdownModel",
      "_options_labels": [
       "ggplot",
       "pearl",
       "solar",
       "space",
       "white",
       "polar",
       "henanigans"
      ],
      "_view_count": null,
      "_view_module": "@jupyter-widgets/controls",
      "_view_module_version": "1.5.0",
      "_view_name": "DropdownView",
      "description": "theme",
      "description_tooltip": null,
      "disabled": false,
      "index": 0,
      "layout": "IPY_MODEL_ad7247d0c89941a7b7c92ae850aa7a2c",
      "style": "IPY_MODEL_d3cb0cc80a184c029214af7554187fc0"
     }
    },
    "3ba1cb0156d9447fa4ca1e94ecfb1523": {
     "model_module": "@jupyter-widgets/base",
     "model_module_version": "1.2.0",
     "model_name": "LayoutModel",
     "state": {
      "_model_module": "@jupyter-widgets/base",
      "_model_module_version": "1.2.0",
      "_model_name": "LayoutModel",
      "_view_count": null,
      "_view_module": "@jupyter-widgets/base",
      "_view_module_version": "1.2.0",
      "_view_name": "LayoutView",
      "align_content": null,
      "align_items": null,
      "align_self": null,
      "border": null,
      "bottom": null,
      "display": null,
      "flex": null,
      "flex_flow": null,
      "grid_area": null,
      "grid_auto_columns": null,
      "grid_auto_flow": null,
      "grid_auto_rows": null,
      "grid_column": null,
      "grid_gap": null,
      "grid_row": null,
      "grid_template_areas": null,
      "grid_template_columns": null,
      "grid_template_rows": null,
      "height": null,
      "justify_content": null,
      "justify_items": null,
      "left": null,
      "margin": null,
      "max_height": null,
      "max_width": null,
      "min_height": null,
      "min_width": null,
      "object_fit": null,
      "object_position": null,
      "order": null,
      "overflow": null,
      "overflow_x": null,
      "overflow_y": null,
      "padding": null,
      "right": null,
      "top": null,
      "visibility": null,
      "width": null
     }
    },
    "3c1ad4cb6aca414dbbfeaff92f28d114": {
     "model_module": "@jupyter-widgets/controls",
     "model_module_version": "1.5.0",
     "model_name": "DescriptionStyleModel",
     "state": {
      "_model_module": "@jupyter-widgets/controls",
      "_model_module_version": "1.5.0",
      "_model_name": "DescriptionStyleModel",
      "_view_count": null,
      "_view_module": "@jupyter-widgets/base",
      "_view_module_version": "1.2.0",
      "_view_name": "StyleView",
      "description_width": ""
     }
    },
    "4088c66de8b84f8d85a84832130209d7": {
     "model_module": "@jupyter-widgets/controls",
     "model_module_version": "1.5.0",
     "model_name": "VBoxModel",
     "state": {
      "_dom_classes": [
       "widget-interact"
      ],
      "_model_module": "@jupyter-widgets/controls",
      "_model_module_version": "1.5.0",
      "_model_name": "VBoxModel",
      "_view_count": null,
      "_view_module": "@jupyter-widgets/controls",
      "_view_module_version": "1.5.0",
      "_view_name": "VBoxView",
      "box_style": "",
      "children": [
       "IPY_MODEL_e481a7da3d6f4feeb446fa15047b257f",
       "IPY_MODEL_d09743faa3e64e1d88ebc82f980d64f2",
       "IPY_MODEL_30b27634fb3f4e8faf2e69530eb6902b"
      ],
      "layout": "IPY_MODEL_3ba1cb0156d9447fa4ca1e94ecfb1523"
     }
    },
    "430395e408684e599254002ff8ab41ba": {
     "model_module": "@jupyter-widgets/controls",
     "model_module_version": "1.5.0",
     "model_name": "DescriptionStyleModel",
     "state": {
      "_model_module": "@jupyter-widgets/controls",
      "_model_module_version": "1.5.0",
      "_model_name": "DescriptionStyleModel",
      "_view_count": null,
      "_view_module": "@jupyter-widgets/base",
      "_view_module_version": "1.2.0",
      "_view_name": "StyleView",
      "description_width": ""
     }
    },
    "458c832e18ac421d980e29733ec53927": {
     "model_module": "@jupyter-widgets/base",
     "model_module_version": "1.2.0",
     "model_name": "LayoutModel",
     "state": {
      "_model_module": "@jupyter-widgets/base",
      "_model_module_version": "1.2.0",
      "_model_name": "LayoutModel",
      "_view_count": null,
      "_view_module": "@jupyter-widgets/base",
      "_view_module_version": "1.2.0",
      "_view_name": "LayoutView",
      "align_content": null,
      "align_items": null,
      "align_self": null,
      "border": null,
      "bottom": null,
      "display": null,
      "flex": null,
      "flex_flow": null,
      "grid_area": null,
      "grid_auto_columns": null,
      "grid_auto_flow": null,
      "grid_auto_rows": null,
      "grid_column": null,
      "grid_gap": null,
      "grid_row": null,
      "grid_template_areas": null,
      "grid_template_columns": null,
      "grid_template_rows": null,
      "height": null,
      "justify_content": null,
      "justify_items": null,
      "left": null,
      "margin": null,
      "max_height": null,
      "max_width": null,
      "min_height": null,
      "min_width": null,
      "object_fit": null,
      "object_position": null,
      "order": null,
      "overflow": null,
      "overflow_x": null,
      "overflow_y": null,
      "padding": null,
      "right": null,
      "top": null,
      "visibility": null,
      "width": null
     }
    },
    "46e6cc0c1de2491d8a4b31c6d4b02cb9": {
     "model_module": "@jupyter-widgets/base",
     "model_module_version": "1.2.0",
     "model_name": "LayoutModel",
     "state": {
      "_model_module": "@jupyter-widgets/base",
      "_model_module_version": "1.2.0",
      "_model_name": "LayoutModel",
      "_view_count": null,
      "_view_module": "@jupyter-widgets/base",
      "_view_module_version": "1.2.0",
      "_view_name": "LayoutView",
      "align_content": null,
      "align_items": null,
      "align_self": null,
      "border": null,
      "bottom": null,
      "display": null,
      "flex": null,
      "flex_flow": null,
      "grid_area": null,
      "grid_auto_columns": null,
      "grid_auto_flow": null,
      "grid_auto_rows": null,
      "grid_column": null,
      "grid_gap": null,
      "grid_row": null,
      "grid_template_areas": null,
      "grid_template_columns": null,
      "grid_template_rows": null,
      "height": null,
      "justify_content": null,
      "justify_items": null,
      "left": null,
      "margin": null,
      "max_height": null,
      "max_width": null,
      "min_height": null,
      "min_width": null,
      "object_fit": null,
      "object_position": null,
      "order": null,
      "overflow": null,
      "overflow_x": null,
      "overflow_y": null,
      "padding": null,
      "right": null,
      "top": null,
      "visibility": null,
      "width": null
     }
    },
    "48876c065f974c0fa019d7849b26828b": {
     "model_module": "@jupyter-widgets/controls",
     "model_module_version": "1.5.0",
     "model_name": "DropdownModel",
     "state": {
      "_dom_classes": [],
      "_model_module": "@jupyter-widgets/controls",
      "_model_module_version": "1.5.0",
      "_model_name": "DropdownModel",
      "_options_labels": [
       "views",
       "word_count",
       "claps",
       "fans",
       "read_time"
      ],
      "_view_count": null,
      "_view_module": "@jupyter-widgets/controls",
      "_view_module_version": "1.5.0",
      "_view_name": "DropdownView",
      "description": "y",
      "description_tooltip": null,
      "disabled": false,
      "index": 0,
      "layout": "IPY_MODEL_07cced5592cc415e9baceac761147abe",
      "style": "IPY_MODEL_dbc7f149428f44549016670e5b447171"
     }
    },
    "48b5675838204689bd88a89ad41ccc4c": {
     "model_module": "@jupyter-widgets/base",
     "model_module_version": "1.2.0",
     "model_name": "LayoutModel",
     "state": {
      "_model_module": "@jupyter-widgets/base",
      "_model_module_version": "1.2.0",
      "_model_name": "LayoutModel",
      "_view_count": null,
      "_view_module": "@jupyter-widgets/base",
      "_view_module_version": "1.2.0",
      "_view_name": "LayoutView",
      "align_content": null,
      "align_items": null,
      "align_self": null,
      "border": null,
      "bottom": null,
      "display": null,
      "flex": null,
      "flex_flow": null,
      "grid_area": null,
      "grid_auto_columns": null,
      "grid_auto_flow": null,
      "grid_auto_rows": null,
      "grid_column": null,
      "grid_gap": null,
      "grid_row": null,
      "grid_template_areas": null,
      "grid_template_columns": null,
      "grid_template_rows": null,
      "height": null,
      "justify_content": null,
      "justify_items": null,
      "left": null,
      "margin": null,
      "max_height": null,
      "max_width": null,
      "min_height": null,
      "min_width": null,
      "object_fit": null,
      "object_position": null,
      "order": null,
      "overflow": null,
      "overflow_x": null,
      "overflow_y": null,
      "padding": null,
      "right": null,
      "top": null,
      "visibility": null,
      "width": null
     }
    },
    "4b853ca790ff432896a24829ecdf3d24": {
     "model_module": "@jupyter-widgets/controls",
     "model_module_version": "1.5.0",
     "model_name": "DescriptionStyleModel",
     "state": {
      "_model_module": "@jupyter-widgets/controls",
      "_model_module_version": "1.5.0",
      "_model_name": "DescriptionStyleModel",
      "_view_count": null,
      "_view_module": "@jupyter-widgets/base",
      "_view_module_version": "1.2.0",
      "_view_name": "StyleView",
      "description_width": ""
     }
    },
    "506e20037cf74c6eaa4ed4fe1f2f5d5b": {
     "model_module": "@jupyter-widgets/controls",
     "model_module_version": "1.5.0",
     "model_name": "ButtonModel",
     "state": {
      "_dom_classes": [],
      "_model_module": "@jupyter-widgets/controls",
      "_model_module_version": "1.5.0",
      "_model_name": "ButtonModel",
      "_view_count": null,
      "_view_module": "@jupyter-widgets/controls",
      "_view_module_version": "1.5.0",
      "_view_name": "ButtonView",
      "button_style": "",
      "description": "Run Interact",
      "disabled": false,
      "icon": "",
      "layout": "IPY_MODEL_1a68919e10024f8888ef0eee0725db7d",
      "style": "IPY_MODEL_6f17dd4c0b8e41e880ee5634aba97564",
      "tooltip": ""
     }
    },
    "5269c605cc76468d905c1b2e1711a267": {
     "model_module": "@jupyter-widgets/output",
     "model_module_version": "1.0.0",
     "model_name": "OutputModel",
     "state": {
      "_dom_classes": [],
      "_model_module": "@jupyter-widgets/output",
      "_model_module_version": "1.0.0",
      "_model_name": "OutputModel",
      "_view_count": null,
      "_view_module": "@jupyter-widgets/output",
      "_view_module_version": "1.0.0",
      "_view_name": "OutputView",
      "layout": "IPY_MODEL_ab95a0f106994194855eb7489e311893",
      "msg_id": "",
      "outputs": [
       {
        "data": {
         "image/jpeg": "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\n",
         "text/plain": "<IPython.core.display.Image object>"
        },
        "metadata": {},
        "output_type": "display_data"
       }
      ]
     }
    },
    "532f294cf17c4c658445b18d19dbd035": {
     "model_module": "@jupyter-widgets/base",
     "model_module_version": "1.2.0",
     "model_name": "LayoutModel",
     "state": {
      "_model_module": "@jupyter-widgets/base",
      "_model_module_version": "1.2.0",
      "_model_name": "LayoutModel",
      "_view_count": null,
      "_view_module": "@jupyter-widgets/base",
      "_view_module_version": "1.2.0",
      "_view_name": "LayoutView",
      "align_content": null,
      "align_items": null,
      "align_self": null,
      "border": null,
      "bottom": null,
      "display": null,
      "flex": null,
      "flex_flow": null,
      "grid_area": null,
      "grid_auto_columns": null,
      "grid_auto_flow": null,
      "grid_auto_rows": null,
      "grid_column": null,
      "grid_gap": null,
      "grid_row": null,
      "grid_template_areas": null,
      "grid_template_columns": null,
      "grid_template_rows": null,
      "height": null,
      "justify_content": null,
      "justify_items": null,
      "left": null,
      "margin": null,
      "max_height": null,
      "max_width": null,
      "min_height": null,
      "min_width": null,
      "object_fit": null,
      "object_position": null,
      "order": null,
      "overflow": null,
      "overflow_x": null,
      "overflow_y": null,
      "padding": null,
      "right": null,
      "top": null,
      "visibility": null,
      "width": null
     }
    },
    "5653aaf906594bb89b212269048f0991": {
     "model_module": "@jupyter-widgets/controls",
     "model_module_version": "1.5.0",
     "model_name": "DatePickerModel",
     "state": {
      "_dom_classes": [],
      "_model_module": "@jupyter-widgets/controls",
      "_model_module_version": "1.5.0",
      "_model_name": "DatePickerModel",
      "_view_count": null,
      "_view_module": "@jupyter-widgets/controls",
      "_view_module_version": "1.5.0",
      "_view_name": "DatePickerView",
      "description": "start_date",
      "description_tooltip": null,
      "disabled": false,
      "layout": "IPY_MODEL_74cb0e8967fa46e5a14daa55052fbbec",
      "style": "IPY_MODEL_f65502bb150748848141d72a133ef6c7",
      "value": {
       "date": 1,
       "month": 0,
       "year": 2018
      }
     }
    },
    "58460783fe9c4e5ebc7947863b4128c3": {
     "model_module": "@jupyter-widgets/controls",
     "model_module_version": "1.5.0",
     "model_name": "DescriptionStyleModel",
     "state": {
      "_model_module": "@jupyter-widgets/controls",
      "_model_module_version": "1.5.0",
      "_model_name": "DescriptionStyleModel",
      "_view_count": null,
      "_view_module": "@jupyter-widgets/base",
      "_view_module_version": "1.2.0",
      "_view_name": "StyleView",
      "description_width": ""
     }
    },
    "58eb193c7ccf40469d21790bb95e549c": {
     "model_module": "@jupyter-widgets/controls",
     "model_module_version": "1.5.0",
     "model_name": "DescriptionStyleModel",
     "state": {
      "_model_module": "@jupyter-widgets/controls",
      "_model_module_version": "1.5.0",
      "_model_name": "DescriptionStyleModel",
      "_view_count": null,
      "_view_module": "@jupyter-widgets/base",
      "_view_module_version": "1.2.0",
      "_view_name": "StyleView",
      "description_width": ""
     }
    },
    "597517d165664315a597b859b8827246": {
     "model_module": "@jupyter-widgets/controls",
     "model_module_version": "1.5.0",
     "model_name": "VBoxModel",
     "state": {
      "_dom_classes": [
       "widget-interact"
      ],
      "_model_module": "@jupyter-widgets/controls",
      "_model_module_version": "1.5.0",
      "_model_name": "VBoxModel",
      "_view_count": null,
      "_view_module": "@jupyter-widgets/controls",
      "_view_module_version": "1.5.0",
      "_view_name": "VBoxView",
      "box_style": "",
      "children": [
       "IPY_MODEL_3141c042a34f45e486d3b783bc1f0dcd",
       "IPY_MODEL_7ce8044253324f7997ff3b1d36c3001b"
      ],
      "layout": "IPY_MODEL_48b5675838204689bd88a89ad41ccc4c"
     }
    },
    "5bb0676e0cb243a099eccd515435a0c2": {
     "model_module": "@jupyter-widgets/controls",
     "model_module_version": "1.5.0",
     "model_name": "DescriptionStyleModel",
     "state": {
      "_model_module": "@jupyter-widgets/controls",
      "_model_module_version": "1.5.0",
      "_model_name": "DescriptionStyleModel",
      "_view_count": null,
      "_view_module": "@jupyter-widgets/base",
      "_view_module_version": "1.2.0",
      "_view_name": "StyleView",
      "description_width": ""
     }
    },
    "5e66b479799f49378668d2cddf0276b8": {
     "model_module": "@jupyter-widgets/base",
     "model_module_version": "1.2.0",
     "model_name": "LayoutModel",
     "state": {
      "_model_module": "@jupyter-widgets/base",
      "_model_module_version": "1.2.0",
      "_model_name": "LayoutModel",
      "_view_count": null,
      "_view_module": "@jupyter-widgets/base",
      "_view_module_version": "1.2.0",
      "_view_name": "LayoutView",
      "align_content": null,
      "align_items": null,
      "align_self": null,
      "border": null,
      "bottom": null,
      "display": null,
      "flex": null,
      "flex_flow": null,
      "grid_area": null,
      "grid_auto_columns": null,
      "grid_auto_flow": null,
      "grid_auto_rows": null,
      "grid_column": null,
      "grid_gap": null,
      "grid_row": null,
      "grid_template_areas": null,
      "grid_template_columns": null,
      "grid_template_rows": null,
      "height": null,
      "justify_content": null,
      "justify_items": null,
      "left": null,
      "margin": null,
      "max_height": null,
      "max_width": null,
      "min_height": null,
      "min_width": null,
      "object_fit": null,
      "object_position": null,
      "order": null,
      "overflow": null,
      "overflow_x": null,
      "overflow_y": null,
      "padding": null,
      "right": null,
      "top": null,
      "visibility": null,
      "width": null
     }
    },
    "61b45bd03005485dbe576b0745e141d5": {
     "model_module": "@jupyter-widgets/base",
     "model_module_version": "1.2.0",
     "model_name": "LayoutModel",
     "state": {
      "_model_module": "@jupyter-widgets/base",
      "_model_module_version": "1.2.0",
      "_model_name": "LayoutModel",
      "_view_count": null,
      "_view_module": "@jupyter-widgets/base",
      "_view_module_version": "1.2.0",
      "_view_name": "LayoutView",
      "align_content": null,
      "align_items": null,
      "align_self": null,
      "border": null,
      "bottom": null,
      "display": null,
      "flex": null,
      "flex_flow": null,
      "grid_area": null,
      "grid_auto_columns": null,
      "grid_auto_flow": null,
      "grid_auto_rows": null,
      "grid_column": null,
      "grid_gap": null,
      "grid_row": null,
      "grid_template_areas": null,
      "grid_template_columns": null,
      "grid_template_rows": null,
      "height": null,
      "justify_content": null,
      "justify_items": null,
      "left": null,
      "margin": null,
      "max_height": null,
      "max_width": null,
      "min_height": null,
      "min_width": null,
      "object_fit": null,
      "object_position": null,
      "order": null,
      "overflow": null,
      "overflow_x": null,
      "overflow_y": null,
      "padding": null,
      "right": null,
      "top": null,
      "visibility": null,
      "width": null
     }
    },
    "627b16aa0c6c47279eafb1f75cefa146": {
     "model_module": "@jupyter-widgets/controls",
     "model_module_version": "1.5.0",
     "model_name": "DatePickerModel",
     "state": {
      "_dom_classes": [],
      "_model_module": "@jupyter-widgets/controls",
      "_model_module_version": "1.5.0",
      "_model_name": "DatePickerModel",
      "_view_count": null,
      "_view_module": "@jupyter-widgets/controls",
      "_view_module_version": "1.5.0",
      "_view_name": "DatePickerView",
      "description": "date",
      "description_tooltip": null,
      "disabled": false,
      "layout": "IPY_MODEL_29e9ae26a1d24889a8d48ee006229126",
      "style": "IPY_MODEL_01bcc36111d54109b4028a7d3be43b44",
      "value": {
       "date": 1,
       "month": 0,
       "year": 2019
      }
     }
    },
    "6372fe5e97f341d79ac724d156fc1a06": {
     "model_module": "@jupyter-widgets/output",
     "model_module_version": "1.0.0",
     "model_name": "OutputModel",
     "state": {
      "_dom_classes": [],
      "_model_module": "@jupyter-widgets/output",
      "_model_module_version": "1.0.0",
      "_model_name": "OutputModel",
      "_view_count": null,
      "_view_module": "@jupyter-widgets/output",
      "_view_module_version": "1.0.0",
      "_view_name": "OutputView",
      "layout": "IPY_MODEL_7a5b0abdb2804776bc778a6a5c842007",
      "msg_id": "",
      "outputs": [
       {
        "data": {
         "text/html": "<h3>Showing articles with more than 5000 claps<h3>",
         "text/plain": "<IPython.core.display.HTML object>"
        },
        "metadata": {},
        "output_type": "display_data"
       },
       {
        "data": {
         "text/html": "\n  <div id=\"df-44681502-cdf2-49a3-b794-e96e2943ceda\">\n    <div class=\"colab-df-container\">\n      <div>\n<style scoped>\n    .dataframe tbody tr th:only-of-type {\n        vertical-align: middle;\n    }\n\n    .dataframe tbody tr th {\n        vertical-align: top;\n    }\n\n    .dataframe thead th {\n        text-align: right;\n    }\n</style>\n<table border=\"1\" class=\"dataframe\">\n  <thead>\n    <tr style=\"text-align: right;\">\n      <th></th>\n      <th>title</th>\n      <th>tags</th>\n      <th>published_date</th>\n      <th>publication</th>\n      <th>reads</th>\n      <th>views</th>\n      <th>word_count</th>\n      <th>claps</th>\n      <th>fans</th>\n      <th>read_time</th>\n    </tr>\n  </thead>\n  <tbody>\n    <tr>\n      <th>100</th>\n      <td>Stock Prediction in Python</td>\n      <td>[Machine Learning, Data Science, Programming, ...</td>\n      <td>2018-01-19 15:30:00</td>\n      <td>Towards Data Science</td>\n      <td>41978</td>\n      <td>134699</td>\n      <td>2528</td>\n      <td>7300</td>\n      <td>1563</td>\n      <td>12</td>\n    </tr>\n    <tr>\n      <th>88</th>\n      <td>Python is the Perfect Tool for any Problem</td>\n      <td>[Python, Programming, Education, Data Science,...</td>\n      <td>2018-02-04 09:12:00</td>\n      <td>Towards Data Science</td>\n      <td>30099</td>\n      <td>48157</td>\n      <td>721</td>\n      <td>12900</td>\n      <td>2234</td>\n      <td>3</td>\n    </tr>\n    <tr>\n      <th>89</th>\n      <td>Markov Chain Monte Carlo in Python</td>\n      <td>[Machine Learning, Data Science, Programming, ...</td>\n      <td>2018-02-09 22:29:00</td>\n      <td>Towards Data Science</td>\n      <td>16735</td>\n      <td>57830</td>\n      <td>2772</td>\n      <td>5100</td>\n      <td>996</td>\n      <td>12</td>\n    </tr>\n    <tr>\n      <th>83</th>\n      <td>Bayes’ Rule Applied</td>\n      <td>[Statistics, Programming, Education, Data Anal...</td>\n      <td>2018-02-14 11:27:00</td>\n      <td>Towards Data Science</td>\n      <td>11491</td>\n      <td>35505</td>\n      <td>1944</td>\n      <td>6000</td>\n      <td>1095</td>\n      <td>9</td>\n    </tr>\n    <tr>\n      <th>82</th>\n      <td>Beyond Accuracy: Precision and Recall</td>\n      <td>[Machine Learning, Data Science, Education, St...</td>\n      <td>2018-03-03 11:10:00</td>\n      <td>Towards Data Science</td>\n      <td>26327</td>\n      <td>128661</td>\n      <td>2565</td>\n      <td>7000</td>\n      <td>1340</td>\n      <td>11</td>\n    </tr>\n    <tr>\n      <th>84</th>\n      <td>Controlling the Web with Python</td>\n      <td>[Python, Education, Programming, Internet, Tow...</td>\n      <td>2018-03-10 16:16:00</td>\n      <td>Towards Data Science</td>\n      <td>14614</td>\n      <td>65054</td>\n      <td>1906</td>\n      <td>7000</td>\n      <td>1233</td>\n      <td>9</td>\n    </tr>\n    <tr>\n      <th>75</th>\n      <td>Introduction to Bayesian Linear Regression</td>\n      <td>[Data Science, Education, Statistics, Learning...</td>\n      <td>2018-04-13 20:38:00</td>\n      <td>Towards Data Science</td>\n      <td>19805</td>\n      <td>58471</td>\n      <td>2394</td>\n      <td>5500</td>\n      <td>980</td>\n      <td>10</td>\n    </tr>\n    <tr>\n      <th>65</th>\n      <td>Web Scraping, Regular Expressions, and Data Vi...</td>\n      <td>[Data Science, Programming, Education, Compute...</td>\n      <td>2018-04-28 15:27:00</td>\n      <td>Towards Data Science</td>\n      <td>21607</td>\n      <td>68317</td>\n      <td>1480</td>\n      <td>8000</td>\n      <td>1652</td>\n      <td>7</td>\n    </tr>\n    <tr>\n      <th>69</th>\n      <td>A Complete Machine Learning Project Walk-Throu...</td>\n      <td>[Machine Learning, Education, Data Science, Py...</td>\n      <td>2018-05-16 12:33:00</td>\n      <td>Towards Data Science</td>\n      <td>23587</td>\n      <td>124970</td>\n      <td>3553</td>\n      <td>13600</td>\n      <td>2588</td>\n      <td>15</td>\n    </tr>\n    <tr>\n      <th>62</th>\n      <td>Machine Learning Kaggle Competition Part One: ...</td>\n      <td>[Data Science, Machine Learning, Towards Data ...</td>\n      <td>2018-05-28 11:39:00</td>\n      <td>Towards Data Science</td>\n      <td>10398</td>\n      <td>43577</td>\n      <td>2975</td>\n      <td>6400</td>\n      <td>1212</td>\n      <td>12</td>\n    </tr>\n    <tr>\n      <th>66</th>\n      <td>Automated Feature Engineering in Python</td>\n      <td>[Machine Learning, Towards Data Science, Data ...</td>\n      <td>2018-06-02 10:01:00</td>\n      <td>Towards Data Science</td>\n      <td>25139</td>\n      <td>114762</td>\n      <td>2648</td>\n      <td>8500</td>\n      <td>1868</td>\n      <td>11</td>\n    </tr>\n    <tr>\n      <th>63</th>\n      <td>A Feature Selection Tool for Machine Learning ...</td>\n      <td>[Machine Learning, Python, Education, Programm...</td>\n      <td>2018-06-22 10:12:00</td>\n      <td>Towards Data Science</td>\n      <td>20592</td>\n      <td>80618</td>\n      <td>1998</td>\n      <td>5500</td>\n      <td>1203</td>\n      <td>10</td>\n    </tr>\n    <tr>\n      <th>19</th>\n      <td>The Next Level of Data Visualization in Python</td>\n      <td>[Data Science, Data Visualization, Python, Edu...</td>\n      <td>2019-01-08 22:09:00</td>\n      <td>Towards Data Science</td>\n      <td>24002</td>\n      <td>71225</td>\n      <td>1457</td>\n      <td>7600</td>\n      <td>1697</td>\n      <td>8</td>\n    </tr>\n  </tbody>\n</table>\n</div>\n      <button class=\"colab-df-convert\" onclick=\"convertToInteractive('df-44681502-cdf2-49a3-b794-e96e2943ceda')\"\n              title=\"Convert this dataframe to an interactive table.\"\n              style=\"display:none;\">\n        \n  <svg xmlns=\"http://www.w3.org/2000/svg\" height=\"24px\"viewBox=\"0 0 24 24\"\n       width=\"24px\">\n    <path d=\"M0 0h24v24H0V0z\" fill=\"none\"/>\n    <path d=\"M18.56 5.44l.94 2.06.94-2.06 2.06-.94-2.06-.94-.94-2.06-.94 2.06-2.06.94zm-11 1L8.5 8.5l.94-2.06 2.06-.94-2.06-.94L8.5 2.5l-.94 2.06-2.06.94zm10 10l.94 2.06.94-2.06 2.06-.94-2.06-.94-.94-2.06-.94 2.06-2.06.94z\"/><path d=\"M17.41 7.96l-1.37-1.37c-.4-.4-.92-.59-1.43-.59-.52 0-1.04.2-1.43.59L10.3 9.45l-7.72 7.72c-.78.78-.78 2.05 0 2.83L4 21.41c.39.39.9.59 1.41.59.51 0 1.02-.2 1.41-.59l7.78-7.78 2.81-2.81c.8-.78.8-2.07 0-2.86zM5.41 20L4 18.59l7.72-7.72 1.47 1.35L5.41 20z\"/>\n  </svg>\n      </button>\n      \n  <style>\n    .colab-df-container {\n      display:flex;\n      flex-wrap:wrap;\n      gap: 12px;\n    }\n\n    .colab-df-convert {\n      background-color: #E8F0FE;\n      border: none;\n      border-radius: 50%;\n      cursor: pointer;\n      display: none;\n      fill: #1967D2;\n      height: 32px;\n      padding: 0 0 0 0;\n      width: 32px;\n    }\n\n    .colab-df-convert:hover {\n      background-color: #E2EBFA;\n      box-shadow: 0px 1px 2px rgba(60, 64, 67, 0.3), 0px 1px 3px 1px rgba(60, 64, 67, 0.15);\n      fill: #174EA6;\n    }\n\n    [theme=dark] .colab-df-convert {\n      background-color: #3B4455;\n      fill: #D2E3FC;\n    }\n\n    [theme=dark] .colab-df-convert:hover {\n      background-color: #434B5C;\n      box-shadow: 0px 1px 3px 1px rgba(0, 0, 0, 0.15);\n      filter: drop-shadow(0px 1px 2px rgba(0, 0, 0, 0.3));\n      fill: #FFFFFF;\n    }\n  </style>\n\n      <script>\n        const buttonEl =\n          document.querySelector('#df-44681502-cdf2-49a3-b794-e96e2943ceda button.colab-df-convert');\n        buttonEl.style.display =\n          google.colab.kernel.accessAllowed ? 'block' : 'none';\n\n        async function convertToInteractive(key) {\n          const element = document.querySelector('#df-44681502-cdf2-49a3-b794-e96e2943ceda');\n          const dataTable =\n            await google.colab.kernel.invokeFunction('convertToInteractive',\n                                                     [key], {});\n          if (!dataTable) return;\n\n          const docLinkHtml = 'Like what you see? Visit the ' +\n            '<a target=\"_blank\" href=https://colab.research.google.com/notebooks/data_table.ipynb>data table notebook</a>'\n            + ' to learn more about interactive tables.';\n          element.innerHTML = '';\n          dataTable['output_type'] = 'display_data';\n          await google.colab.output.renderOutput(dataTable, element);\n          const docLink = document.createElement('div');\n          docLink.innerHTML = docLinkHtml;\n          element.appendChild(docLink);\n        }\n      </script>\n    </div>\n  </div>\n  ",
         "text/plain": "                                                 title  ... read_time\n100                         Stock Prediction in Python  ...        12\n88          Python is the Perfect Tool for any Problem  ...         3\n89                  Markov Chain Monte Carlo in Python  ...        12\n83                                 Bayes’ Rule Applied  ...         9\n82               Beyond Accuracy: Precision and Recall  ...        11\n84                     Controlling the Web with Python  ...         9\n75          Introduction to Bayesian Linear Regression  ...        10\n65   Web Scraping, Regular Expressions, and Data Vi...  ...         7\n69   A Complete Machine Learning Project Walk-Throu...  ...        15\n62   Machine Learning Kaggle Competition Part One: ...  ...        12\n66             Automated Feature Engineering in Python  ...        11\n63   A Feature Selection Tool for Machine Learning ...  ...        10\n19      The Next Level of Data Visualization in Python  ...         8\n\n[13 rows x 10 columns]"
        },
        "metadata": {},
        "output_type": "display_data"
       }
      ]
     }
    },
    "646881c927624c89a903c5fc7563036c": {
     "model_module": "@jupyter-widgets/controls",
     "model_module_version": "1.5.0",
     "model_name": "DescriptionStyleModel",
     "state": {
      "_model_module": "@jupyter-widgets/controls",
      "_model_module_version": "1.5.0",
      "_model_name": "DescriptionStyleModel",
      "_view_count": null,
      "_view_module": "@jupyter-widgets/base",
      "_view_module_version": "1.2.0",
      "_view_name": "StyleView",
      "description_width": ""
     }
    },
    "657c1b7bec8241169435235e39e1e404": {
     "model_module": "@jupyter-widgets/base",
     "model_module_version": "1.2.0",
     "model_name": "LayoutModel",
     "state": {
      "_model_module": "@jupyter-widgets/base",
      "_model_module_version": "1.2.0",
      "_model_name": "LayoutModel",
      "_view_count": null,
      "_view_module": "@jupyter-widgets/base",
      "_view_module_version": "1.2.0",
      "_view_name": "LayoutView",
      "align_content": null,
      "align_items": null,
      "align_self": null,
      "border": null,
      "bottom": null,
      "display": null,
      "flex": null,
      "flex_flow": null,
      "grid_area": null,
      "grid_auto_columns": null,
      "grid_auto_flow": null,
      "grid_auto_rows": null,
      "grid_column": null,
      "grid_gap": null,
      "grid_row": null,
      "grid_template_areas": null,
      "grid_template_columns": null,
      "grid_template_rows": null,
      "height": null,
      "justify_content": null,
      "justify_items": null,
      "left": null,
      "margin": null,
      "max_height": null,
      "max_width": null,
      "min_height": null,
      "min_width": null,
      "object_fit": null,
      "object_position": null,
      "order": null,
      "overflow": null,
      "overflow_x": null,
      "overflow_y": null,
      "padding": null,
      "right": null,
      "top": null,
      "visibility": null,
      "width": null
     }
    },
    "6895e53b6810458f9bf8d577b22c6278": {
     "model_module": "@jupyter-widgets/base",
     "model_module_version": "1.2.0",
     "model_name": "LayoutModel",
     "state": {
      "_model_module": "@jupyter-widgets/base",
      "_model_module_version": "1.2.0",
      "_model_name": "LayoutModel",
      "_view_count": null,
      "_view_module": "@jupyter-widgets/base",
      "_view_module_version": "1.2.0",
      "_view_name": "LayoutView",
      "align_content": null,
      "align_items": null,
      "align_self": null,
      "border": null,
      "bottom": null,
      "display": null,
      "flex": null,
      "flex_flow": null,
      "grid_area": null,
      "grid_auto_columns": null,
      "grid_auto_flow": null,
      "grid_auto_rows": null,
      "grid_column": null,
      "grid_gap": null,
      "grid_row": null,
      "grid_template_areas": null,
      "grid_template_columns": null,
      "grid_template_rows": null,
      "height": null,
      "justify_content": null,
      "justify_items": null,
      "left": null,
      "margin": null,
      "max_height": null,
      "max_width": null,
      "min_height": null,
      "min_width": null,
      "object_fit": null,
      "object_position": null,
      "order": null,
      "overflow": null,
      "overflow_x": null,
      "overflow_y": null,
      "padding": null,
      "right": null,
      "top": null,
      "visibility": null,
      "width": null
     }
    },
    "69b625153557405dbf5b788272fe1584": {
     "model_module": "@jupyter-widgets/base",
     "model_module_version": "1.2.0",
     "model_name": "LayoutModel",
     "state": {
      "_model_module": "@jupyter-widgets/base",
      "_model_module_version": "1.2.0",
      "_model_name": "LayoutModel",
      "_view_count": null,
      "_view_module": "@jupyter-widgets/base",
      "_view_module_version": "1.2.0",
      "_view_name": "LayoutView",
      "align_content": null,
      "align_items": null,
      "align_self": null,
      "border": null,
      "bottom": null,
      "display": null,
      "flex": null,
      "flex_flow": null,
      "grid_area": null,
      "grid_auto_columns": null,
      "grid_auto_flow": null,
      "grid_auto_rows": null,
      "grid_column": null,
      "grid_gap": null,
      "grid_row": null,
      "grid_template_areas": null,
      "grid_template_columns": null,
      "grid_template_rows": null,
      "height": null,
      "justify_content": null,
      "justify_items": null,
      "left": null,
      "margin": null,
      "max_height": null,
      "max_width": null,
      "min_height": null,
      "min_width": null,
      "object_fit": null,
      "object_position": null,
      "order": null,
      "overflow": null,
      "overflow_x": null,
      "overflow_y": null,
      "padding": null,
      "right": null,
      "top": null,
      "visibility": null,
      "width": null
     }
    },
    "6b7532b73a4d4882a0e45b1d63d07ee6": {
     "model_module": "@jupyter-widgets/controls",
     "model_module_version": "1.5.0",
     "model_name": "DropdownModel",
     "state": {
      "_dom_classes": [],
      "_model_module": "@jupyter-widgets/controls",
      "_model_module_version": "1.5.0",
      "_model_name": "DropdownModel",
      "_options_labels": [
       "images",
       "cities"
      ],
      "_view_count": null,
      "_view_module": "@jupyter-widgets/controls",
      "_view_module_version": "1.5.0",
      "_view_name": "DropdownView",
      "description": "fdir",
      "description_tooltip": null,
      "disabled": false,
      "index": 0,
      "layout": "IPY_MODEL_9757d82395de4e0c9def560e70dc932f",
      "style": "IPY_MODEL_4b853ca790ff432896a24829ecdf3d24"
     }
    },
    "6f17dd4c0b8e41e880ee5634aba97564": {
     "model_module": "@jupyter-widgets/controls",
     "model_module_version": "1.5.0",
     "model_name": "ButtonStyleModel",
     "state": {
      "_model_module": "@jupyter-widgets/controls",
      "_model_module_version": "1.5.0",
      "_model_name": "ButtonStyleModel",
      "_view_count": null,
      "_view_module": "@jupyter-widgets/base",
      "_view_module_version": "1.2.0",
      "_view_name": "StyleView",
      "button_color": null,
      "font_weight": ""
     }
    },
    "723f75f15d514636979dd93bb579bd83": {
     "model_module": "@jupyter-widgets/base",
     "model_module_version": "1.2.0",
     "model_name": "LayoutModel",
     "state": {
      "_model_module": "@jupyter-widgets/base",
      "_model_module_version": "1.2.0",
      "_model_name": "LayoutModel",
      "_view_count": null,
      "_view_module": "@jupyter-widgets/base",
      "_view_module_version": "1.2.0",
      "_view_name": "LayoutView",
      "align_content": null,
      "align_items": null,
      "align_self": null,
      "border": null,
      "bottom": null,
      "display": null,
      "flex": null,
      "flex_flow": null,
      "grid_area": null,
      "grid_auto_columns": null,
      "grid_auto_flow": null,
      "grid_auto_rows": null,
      "grid_column": null,
      "grid_gap": null,
      "grid_row": null,
      "grid_template_areas": null,
      "grid_template_columns": null,
      "grid_template_rows": null,
      "height": null,
      "justify_content": null,
      "justify_items": null,
      "left": null,
      "margin": null,
      "max_height": null,
      "max_width": null,
      "min_height": null,
      "min_width": null,
      "object_fit": null,
      "object_position": null,
      "order": null,
      "overflow": null,
      "overflow_x": null,
      "overflow_y": null,
      "padding": null,
      "right": null,
      "top": null,
      "visibility": null,
      "width": null
     }
    },
    "729de19aac4d496a8ac155001ea7d787": {
     "model_module": "@jupyter-widgets/controls",
     "model_module_version": "1.5.0",
     "model_name": "DescriptionStyleModel",
     "state": {
      "_model_module": "@jupyter-widgets/controls",
      "_model_module_version": "1.5.0",
      "_model_name": "DescriptionStyleModel",
      "_view_count": null,
      "_view_module": "@jupyter-widgets/base",
      "_view_module_version": "1.2.0",
      "_view_name": "StyleView",
      "description_width": ""
     }
    },
    "72cd75b695374e0fa664d7032286b53c": {
     "model_module": "@jupyter-widgets/controls",
     "model_module_version": "1.5.0",
     "model_name": "VBoxModel",
     "state": {
      "_dom_classes": [
       "widget-interact"
      ],
      "_model_module": "@jupyter-widgets/controls",
      "_model_module_version": "1.5.0",
      "_model_name": "VBoxModel",
      "_view_count": null,
      "_view_module": "@jupyter-widgets/controls",
      "_view_module_version": "1.5.0",
      "_view_name": "VBoxView",
      "box_style": "",
      "children": [
       "IPY_MODEL_19cc64c60a9d46128cb96b58d32172d9",
       "IPY_MODEL_fe7be303caed479cb3106d32cbb3b43a",
       "IPY_MODEL_f2f9adf2c2184e068289c876d6f080ff"
      ],
      "layout": "IPY_MODEL_c55549b2462b429aa0c5afd47a975fdd"
     }
    },
    "73be4addd08d40659dc0dcfe881c45b3": {
     "model_module": "@jupyter-widgets/base",
     "model_module_version": "1.2.0",
     "model_name": "LayoutModel",
     "state": {
      "_model_module": "@jupyter-widgets/base",
      "_model_module_version": "1.2.0",
      "_model_name": "LayoutModel",
      "_view_count": null,
      "_view_module": "@jupyter-widgets/base",
      "_view_module_version": "1.2.0",
      "_view_name": "LayoutView",
      "align_content": null,
      "align_items": null,
      "align_self": null,
      "border": null,
      "bottom": null,
      "display": null,
      "flex": null,
      "flex_flow": null,
      "grid_area": null,
      "grid_auto_columns": null,
      "grid_auto_flow": null,
      "grid_auto_rows": null,
      "grid_column": null,
      "grid_gap": null,
      "grid_row": null,
      "grid_template_areas": null,
      "grid_template_columns": null,
      "grid_template_rows": null,
      "height": null,
      "justify_content": null,
      "justify_items": null,
      "left": null,
      "margin": null,
      "max_height": null,
      "max_width": null,
      "min_height": null,
      "min_width": null,
      "object_fit": null,
      "object_position": null,
      "order": null,
      "overflow": null,
      "overflow_x": null,
      "overflow_y": null,
      "padding": null,
      "right": null,
      "top": null,
      "visibility": null,
      "width": null
     }
    },
    "74c0b9447e7641a6a09c3a8e3ad795be": {
     "model_module": "@jupyter-widgets/controls",
     "model_module_version": "1.5.0",
     "model_name": "DescriptionStyleModel",
     "state": {
      "_model_module": "@jupyter-widgets/controls",
      "_model_module_version": "1.5.0",
      "_model_name": "DescriptionStyleModel",
      "_view_count": null,
      "_view_module": "@jupyter-widgets/base",
      "_view_module_version": "1.2.0",
      "_view_name": "StyleView",
      "description_width": ""
     }
    },
    "74cb0e8967fa46e5a14daa55052fbbec": {
     "model_module": "@jupyter-widgets/base",
     "model_module_version": "1.2.0",
     "model_name": "LayoutModel",
     "state": {
      "_model_module": "@jupyter-widgets/base",
      "_model_module_version": "1.2.0",
      "_model_name": "LayoutModel",
      "_view_count": null,
      "_view_module": "@jupyter-widgets/base",
      "_view_module_version": "1.2.0",
      "_view_name": "LayoutView",
      "align_content": null,
      "align_items": null,
      "align_self": null,
      "border": null,
      "bottom": null,
      "display": null,
      "flex": null,
      "flex_flow": null,
      "grid_area": null,
      "grid_auto_columns": null,
      "grid_auto_flow": null,
      "grid_auto_rows": null,
      "grid_column": null,
      "grid_gap": null,
      "grid_row": null,
      "grid_template_areas": null,
      "grid_template_columns": null,
      "grid_template_rows": null,
      "height": null,
      "justify_content": null,
      "justify_items": null,
      "left": null,
      "margin": null,
      "max_height": null,
      "max_width": null,
      "min_height": null,
      "min_width": null,
      "object_fit": null,
      "object_position": null,
      "order": null,
      "overflow": null,
      "overflow_x": null,
      "overflow_y": null,
      "padding": null,
      "right": null,
      "top": null,
      "visibility": null,
      "width": null
     }
    },
    "75be5bf6813a42a0ba8094a3b7433280": {
     "model_module": "@jupyter-widgets/base",
     "model_module_version": "1.2.0",
     "model_name": "LayoutModel",
     "state": {
      "_model_module": "@jupyter-widgets/base",
      "_model_module_version": "1.2.0",
      "_model_name": "LayoutModel",
      "_view_count": null,
      "_view_module": "@jupyter-widgets/base",
      "_view_module_version": "1.2.0",
      "_view_name": "LayoutView",
      "align_content": null,
      "align_items": null,
      "align_self": null,
      "border": null,
      "bottom": null,
      "display": null,
      "flex": null,
      "flex_flow": null,
      "grid_area": null,
      "grid_auto_columns": null,
      "grid_auto_flow": null,
      "grid_auto_rows": null,
      "grid_column": null,
      "grid_gap": null,
      "grid_row": null,
      "grid_template_areas": null,
      "grid_template_columns": null,
      "grid_template_rows": null,
      "height": null,
      "justify_content": null,
      "justify_items": null,
      "left": null,
      "margin": null,
      "max_height": null,
      "max_width": null,
      "min_height": null,
      "min_width": null,
      "object_fit": null,
      "object_position": null,
      "order": null,
      "overflow": null,
      "overflow_x": null,
      "overflow_y": null,
      "padding": null,
      "right": null,
      "top": null,
      "visibility": null,
      "width": null
     }
    },
    "7a5b0abdb2804776bc778a6a5c842007": {
     "model_module": "@jupyter-widgets/base",
     "model_module_version": "1.2.0",
     "model_name": "LayoutModel",
     "state": {
      "_model_module": "@jupyter-widgets/base",
      "_model_module_version": "1.2.0",
      "_model_name": "LayoutModel",
      "_view_count": null,
      "_view_module": "@jupyter-widgets/base",
      "_view_module_version": "1.2.0",
      "_view_name": "LayoutView",
      "align_content": null,
      "align_items": null,
      "align_self": null,
      "border": null,
      "bottom": null,
      "display": null,
      "flex": null,
      "flex_flow": null,
      "grid_area": null,
      "grid_auto_columns": null,
      "grid_auto_flow": null,
      "grid_auto_rows": null,
      "grid_column": null,
      "grid_gap": null,
      "grid_row": null,
      "grid_template_areas": null,
      "grid_template_columns": null,
      "grid_template_rows": null,
      "height": null,
      "justify_content": null,
      "justify_items": null,
      "left": null,
      "margin": null,
      "max_height": null,
      "max_width": null,
      "min_height": null,
      "min_width": null,
      "object_fit": null,
      "object_position": null,
      "order": null,
      "overflow": null,
      "overflow_x": null,
      "overflow_y": null,
      "padding": null,
      "right": null,
      "top": null,
      "visibility": null,
      "width": null
     }
    },
    "7b4b44a3993c4d9fa3445d3e5dd90bd9": {
     "model_module": "@jupyter-widgets/controls",
     "model_module_version": "1.5.0",
     "model_name": "DescriptionStyleModel",
     "state": {
      "_model_module": "@jupyter-widgets/controls",
      "_model_module_version": "1.5.0",
      "_model_name": "DescriptionStyleModel",
      "_view_count": null,
      "_view_module": "@jupyter-widgets/base",
      "_view_module_version": "1.2.0",
      "_view_name": "StyleView",
      "description_width": ""
     }
    },
    "7ce8044253324f7997ff3b1d36c3001b": {
     "model_module": "@jupyter-widgets/output",
     "model_module_version": "1.0.0",
     "model_name": "OutputModel",
     "state": {
      "_dom_classes": [],
      "_model_module": "@jupyter-widgets/output",
      "_model_module_version": "1.0.0",
      "_model_name": "OutputModel",
      "_view_count": null,
      "_view_module": "@jupyter-widgets/output",
      "_view_module_version": "1.0.0",
      "_view_name": "OutputView",
      "layout": "IPY_MODEL_e7052a167e0d42a3b0e7abcad4f23efe",
      "msg_id": "",
      "outputs": [
       {
        "data": {
         "text/html": "<h3>Description of title is: <h3>\n<h5>count                          133\nunique                         133\ntop       How to Master New Skills\nfreq                             1\nName: title, dtype: object<h5>",
         "text/plain": "<IPython.core.display.HTML object>"
        },
        "metadata": {},
        "output_type": "display_data"
       }
      ]
     }
    },
    "7e3a8f72ca9643b9bdff9ba4651dbfe7": {
     "model_module": "@jupyter-widgets/controls",
     "model_module_version": "1.5.0",
     "model_name": "DropdownModel",
     "state": {
      "_dom_classes": [],
      "_model_module": "@jupyter-widgets/controls",
      "_model_module_version": "1.5.0",
      "_model_name": "DropdownModel",
      "_options_labels": [
       "binned_read_time",
       "binned_word_count",
       "publication",
       "types"
      ],
      "_view_count": null,
      "_view_module": "@jupyter-widgets/controls",
      "_view_module_version": "1.5.0",
      "_view_name": "DropdownView",
      "description": "categories",
      "description_tooltip": null,
      "disabled": false,
      "index": 0,
      "layout": "IPY_MODEL_723f75f15d514636979dd93bb579bd83",
      "style": "IPY_MODEL_19e0247f196a47699fdb4b396962c95c"
     }
    },
    "7f30992404a84b80b7f19e1a78a31af5": {
     "model_module": "@jupyter-widgets/base",
     "model_module_version": "1.2.0",
     "model_name": "LayoutModel",
     "state": {
      "_model_module": "@jupyter-widgets/base",
      "_model_module_version": "1.2.0",
      "_model_name": "LayoutModel",
      "_view_count": null,
      "_view_module": "@jupyter-widgets/base",
      "_view_module_version": "1.2.0",
      "_view_name": "LayoutView",
      "align_content": null,
      "align_items": null,
      "align_self": null,
      "border": null,
      "bottom": null,
      "display": null,
      "flex": null,
      "flex_flow": null,
      "grid_area": null,
      "grid_auto_columns": null,
      "grid_auto_flow": null,
      "grid_auto_rows": null,
      "grid_column": null,
      "grid_gap": null,
      "grid_row": null,
      "grid_template_areas": null,
      "grid_template_columns": null,
      "grid_template_rows": null,
      "height": null,
      "justify_content": null,
      "justify_items": null,
      "left": null,
      "margin": null,
      "max_height": null,
      "max_width": null,
      "min_height": null,
      "min_width": null,
      "object_fit": null,
      "object_position": null,
      "order": null,
      "overflow": null,
      "overflow_x": null,
      "overflow_y": null,
      "padding": null,
      "right": null,
      "top": null,
      "visibility": null,
      "width": null
     }
    },
    "7fd557517d6b48519605604a50c89c4f": {
     "model_module": "@jupyter-widgets/output",
     "model_module_version": "1.0.0",
     "model_name": "OutputModel",
     "state": {
      "_dom_classes": [],
      "_model_module": "@jupyter-widgets/output",
      "_model_module_version": "1.0.0",
      "_model_name": "OutputModel",
      "_view_count": null,
      "_view_module": "@jupyter-widgets/output",
      "_view_module_version": "1.0.0",
      "_view_name": "OutputView",
      "layout": "IPY_MODEL_f79b89bde6af475fbd67b319fc17db24",
      "msg_id": "",
      "outputs": [
       {
        "data": {
         "application/vnd.plotly.v1+json": {
          "config": {
           "linkText": "Export to plot.ly",
           "plotlyServerURL": "https://plot.ly",
           "showLink": true
          },
          "data": [
           {
            "line": {
             "color": "rgba(216, 179, 101, 1.0)",
             "dash": "solid",
             "shape": "linear",
             "width": 1.3
            },
            "marker": {
             "size": 12,
             "symbol": "circle"
            },
            "mode": "markers",
            "name": "views",
            "text": "",
            "type": "scatter",
            "x": [
             70,
             54,
             222,
             19,
             5,
             62,
             1717,
             5690,
             45,
             15,
             3992,
             509,
             27,
             17,
             664,
             547,
             2734,
             2049,
             73,
             299,
             24,
             30709,
             37187,
             62,
             141,
             7815,
             794,
             1225,
             768,
             27492,
             32752,
             66,
             21619,
             3214,
             58,
             41978,
             7360,
             477,
             2284,
             7123,
             11039,
             7282,
             15106,
             30099,
             1355,
             16735,
             135,
             11491,
             2117,
             5881,
             26327,
             14614,
             20479,
             11278,
             32075,
             18754,
             15764,
             19805,
             6796,
             6708,
             21607,
             1506,
             23587,
             9629,
             6508,
             8467,
             10398,
             25139,
             1890,
             20592,
             5854,
             8890,
             6988,
             1008,
             2016,
             7077,
             5924,
             1157,
             13261,
             7398,
             1250,
             1259,
             2546,
             4030,
             4714,
             1544,
             348,
             4462,
             863,
             8035,
             1559,
             3175,
             558,
             9583,
             1330,
             6029,
             1312,
             2538,
             1249,
             1818,
             8606,
             5627,
             1805,
             5103,
             4616,
             11925,
             1312,
             426,
             3836,
             147,
             2135,
             62,
             371,
             25,
             1,
             13,
             8,
             8,
             40,
             3,
             265,
             1517,
             754,
             363,
             485,
             378,
             24002,
             2809,
             343,
             266,
             2320,
             96,
             165
            ],
            "y": [
             166,
             178,
             1109,
             53,
             59,
             315,
             9723,
             24079,
             136,
             69,
             28387,
             4174,
             145,
             58,
             5581,
             4798,
             9589,
             13367,
             136,
             2259,
             38,
             173714,
             88394,
             168,
             322,
             34222,
             2803,
             3573,
             2470,
             114637,
             130417,
             158,
             81609,
             5171,
             109,
             134699,
             20529,
             1700,
             4179,
             17040,
             35745,
             15370,
             50691,
             48157,
             3141,
             57830,
             232,
             35505,
             4946,
             13571,
             128661,
             65054,
             55791,
             30494,
             118318,
             56245,
             50184,
             58471,
             21887,
             25208,
             68317,
             2380,
             124970,
             46238,
             27428,
             33761,
             43577,
             114762,
             11243,
             80618,
             26665,
             32502,
             48494,
             5556,
             4781,
             29190,
             18228,
             4266,
             30141,
             44201,
             6385,
             1693,
             14561,
             14989,
             24975,
             3772,
             1905,
             24517,
             3044,
             29689,
             7608,
             13464,
             2154,
             33755,
             3342,
             35601,
             5389,
             6570,
             5740,
             8382,
             28625,
             16118,
             10056,
             23622,
             23617,
             26603,
             5933,
             891,
             13166,
             415,
             6766,
             256,
             978,
             226,
             3,
             107,
             85,
             27,
             139,
             37,
             1375,
             5070,
             3768,
             955,
             2783,
             1477,
             71225,
             15291,
             1372,
             1005,
             8806,
             559,
             693
            ]
           }
          ],
          "layout": {
           "legend": {
            "bgcolor": "#FFFFFF",
            "font": {
             "color": "#666666"
            }
           },
           "paper_bgcolor": "#FFFFFF",
           "plot_bgcolor": "#E5E5E5",
           "template": {
            "data": {
             "bar": [
              {
               "error_x": {
                "color": "#2a3f5f"
               },
               "error_y": {
                "color": "#2a3f5f"
               },
               "marker": {
                "line": {
                 "color": "#E5ECF6",
                 "width": 0.5
                }
               },
               "type": "bar"
              }
             ],
             "barpolar": [
              {
               "marker": {
                "line": {
                 "color": "#E5ECF6",
                 "width": 0.5
                }
               },
               "type": "barpolar"
              }
             ],
             "carpet": [
              {
               "aaxis": {
                "endlinecolor": "#2a3f5f",
                "gridcolor": "white",
                "linecolor": "white",
                "minorgridcolor": "white",
                "startlinecolor": "#2a3f5f"
               },
               "baxis": {
                "endlinecolor": "#2a3f5f",
                "gridcolor": "white",
                "linecolor": "white",
                "minorgridcolor": "white",
                "startlinecolor": "#2a3f5f"
               },
               "type": "carpet"
              }
             ],
             "choropleth": [
              {
               "colorbar": {
                "outlinewidth": 0,
                "ticks": ""
               },
               "type": "choropleth"
              }
             ],
             "contour": [
              {
               "colorbar": {
                "outlinewidth": 0,
                "ticks": ""
               },
               "colorscale": [
                [
                 0,
                 "#0d0887"
                ],
                [
                 0.1111111111111111,
                 "#46039f"
                ],
                [
                 0.2222222222222222,
                 "#7201a8"
                ],
                [
                 0.3333333333333333,
                 "#9c179e"
                ],
                [
                 0.4444444444444444,
                 "#bd3786"
                ],
                [
                 0.5555555555555556,
                 "#d8576b"
                ],
                [
                 0.6666666666666666,
                 "#ed7953"
                ],
                [
                 0.7777777777777778,
                 "#fb9f3a"
                ],
                [
                 0.8888888888888888,
                 "#fdca26"
                ],
                [
                 1,
                 "#f0f921"
                ]
               ],
               "type": "contour"
              }
             ],
             "contourcarpet": [
              {
               "colorbar": {
                "outlinewidth": 0,
                "ticks": ""
               },
               "type": "contourcarpet"
              }
             ],
             "heatmap": [
              {
               "colorbar": {
                "outlinewidth": 0,
                "ticks": ""
               },
               "colorscale": [
                [
                 0,
                 "#0d0887"
                ],
                [
                 0.1111111111111111,
                 "#46039f"
                ],
                [
                 0.2222222222222222,
                 "#7201a8"
                ],
                [
                 0.3333333333333333,
                 "#9c179e"
                ],
                [
                 0.4444444444444444,
                 "#bd3786"
                ],
                [
                 0.5555555555555556,
                 "#d8576b"
                ],
                [
                 0.6666666666666666,
                 "#ed7953"
                ],
                [
                 0.7777777777777778,
                 "#fb9f3a"
                ],
                [
                 0.8888888888888888,
                 "#fdca26"
                ],
                [
                 1,
                 "#f0f921"
                ]
               ],
               "type": "heatmap"
              }
             ],
             "heatmapgl": [
              {
               "colorbar": {
                "outlinewidth": 0,
                "ticks": ""
               },
               "colorscale": [
                [
                 0,
                 "#0d0887"
                ],
                [
                 0.1111111111111111,
                 "#46039f"
                ],
                [
                 0.2222222222222222,
                 "#7201a8"
                ],
                [
                 0.3333333333333333,
                 "#9c179e"
                ],
                [
                 0.4444444444444444,
                 "#bd3786"
                ],
                [
                 0.5555555555555556,
                 "#d8576b"
                ],
                [
                 0.6666666666666666,
                 "#ed7953"
                ],
                [
                 0.7777777777777778,
                 "#fb9f3a"
                ],
                [
                 0.8888888888888888,
                 "#fdca26"
                ],
                [
                 1,
                 "#f0f921"
                ]
               ],
               "type": "heatmapgl"
              }
             ],
             "histogram": [
              {
               "marker": {
                "colorbar": {
                 "outlinewidth": 0,
                 "ticks": ""
                }
               },
               "type": "histogram"
              }
             ],
             "histogram2d": [
              {
               "colorbar": {
                "outlinewidth": 0,
                "ticks": ""
               },
               "colorscale": [
                [
                 0,
                 "#0d0887"
                ],
                [
                 0.1111111111111111,
                 "#46039f"
                ],
                [
                 0.2222222222222222,
                 "#7201a8"
                ],
                [
                 0.3333333333333333,
                 "#9c179e"
                ],
                [
                 0.4444444444444444,
                 "#bd3786"
                ],
                [
                 0.5555555555555556,
                 "#d8576b"
                ],
                [
                 0.6666666666666666,
                 "#ed7953"
                ],
                [
                 0.7777777777777778,
                 "#fb9f3a"
                ],
                [
                 0.8888888888888888,
                 "#fdca26"
                ],
                [
                 1,
                 "#f0f921"
                ]
               ],
               "type": "histogram2d"
              }
             ],
             "histogram2dcontour": [
              {
               "colorbar": {
                "outlinewidth": 0,
                "ticks": ""
               },
               "colorscale": [
                [
                 0,
                 "#0d0887"
                ],
                [
                 0.1111111111111111,
                 "#46039f"
                ],
                [
                 0.2222222222222222,
                 "#7201a8"
                ],
                [
                 0.3333333333333333,
                 "#9c179e"
                ],
                [
                 0.4444444444444444,
                 "#bd3786"
                ],
                [
                 0.5555555555555556,
                 "#d8576b"
                ],
                [
                 0.6666666666666666,
                 "#ed7953"
                ],
                [
                 0.7777777777777778,
                 "#fb9f3a"
                ],
                [
                 0.8888888888888888,
                 "#fdca26"
                ],
                [
                 1,
                 "#f0f921"
                ]
               ],
               "type": "histogram2dcontour"
              }
             ],
             "mesh3d": [
              {
               "colorbar": {
                "outlinewidth": 0,
                "ticks": ""
               },
               "type": "mesh3d"
              }
             ],
             "parcoords": [
              {
               "line": {
                "colorbar": {
                 "outlinewidth": 0,
                 "ticks": ""
                }
               },
               "type": "parcoords"
              }
             ],
             "pie": [
              {
               "automargin": true,
               "type": "pie"
              }
             ],
             "scatter": [
              {
               "marker": {
                "colorbar": {
                 "outlinewidth": 0,
                 "ticks": ""
                }
               },
               "type": "scatter"
              }
             ],
             "scatter3d": [
              {
               "line": {
                "colorbar": {
                 "outlinewidth": 0,
                 "ticks": ""
                }
               },
               "marker": {
                "colorbar": {
                 "outlinewidth": 0,
                 "ticks": ""
                }
               },
               "type": "scatter3d"
              }
             ],
             "scattercarpet": [
              {
               "marker": {
                "colorbar": {
                 "outlinewidth": 0,
                 "ticks": ""
                }
               },
               "type": "scattercarpet"
              }
             ],
             "scattergeo": [
              {
               "marker": {
                "colorbar": {
                 "outlinewidth": 0,
                 "ticks": ""
                }
               },
               "type": "scattergeo"
              }
             ],
             "scattergl": [
              {
               "marker": {
                "colorbar": {
                 "outlinewidth": 0,
                 "ticks": ""
                }
               },
               "type": "scattergl"
              }
             ],
             "scattermapbox": [
              {
               "marker": {
                "colorbar": {
                 "outlinewidth": 0,
                 "ticks": ""
                }
               },
               "type": "scattermapbox"
              }
             ],
             "scatterpolar": [
              {
               "marker": {
                "colorbar": {
                 "outlinewidth": 0,
                 "ticks": ""
                }
               },
               "type": "scatterpolar"
              }
             ],
             "scatterpolargl": [
              {
               "marker": {
                "colorbar": {
                 "outlinewidth": 0,
                 "ticks": ""
                }
               },
               "type": "scatterpolargl"
              }
             ],
             "scatterternary": [
              {
               "marker": {
                "colorbar": {
                 "outlinewidth": 0,
                 "ticks": ""
                }
               },
               "type": "scatterternary"
              }
             ],
             "surface": [
              {
               "colorbar": {
                "outlinewidth": 0,
                "ticks": ""
               },
               "colorscale": [
                [
                 0,
                 "#0d0887"
                ],
                [
                 0.1111111111111111,
                 "#46039f"
                ],
                [
                 0.2222222222222222,
                 "#7201a8"
                ],
                [
                 0.3333333333333333,
                 "#9c179e"
                ],
                [
                 0.4444444444444444,
                 "#bd3786"
                ],
                [
                 0.5555555555555556,
                 "#d8576b"
                ],
                [
                 0.6666666666666666,
                 "#ed7953"
                ],
                [
                 0.7777777777777778,
                 "#fb9f3a"
                ],
                [
                 0.8888888888888888,
                 "#fdca26"
                ],
                [
                 1,
                 "#f0f921"
                ]
               ],
               "type": "surface"
              }
             ],
             "table": [
              {
               "cells": {
                "fill": {
                 "color": "#EBF0F8"
                },
                "line": {
                 "color": "white"
                }
               },
               "header": {
                "fill": {
                 "color": "#C8D4E3"
                },
                "line": {
                 "color": "white"
                }
               },
               "type": "table"
              }
             ]
            },
            "layout": {
             "annotationdefaults": {
              "arrowcolor": "#2a3f5f",
              "arrowhead": 0,
              "arrowwidth": 1
             },
             "coloraxis": {
              "colorbar": {
               "outlinewidth": 0,
               "ticks": ""
              }
             },
             "colorscale": {
              "diverging": [
               [
                0,
                "#8e0152"
               ],
               [
                0.1,
                "#c51b7d"
               ],
               [
                0.2,
                "#de77ae"
               ],
               [
                0.3,
                "#f1b6da"
               ],
               [
                0.4,
                "#fde0ef"
               ],
               [
                0.5,
                "#f7f7f7"
               ],
               [
                0.6,
                "#e6f5d0"
               ],
               [
                0.7,
                "#b8e186"
               ],
               [
                0.8,
                "#7fbc41"
               ],
               [
                0.9,
                "#4d9221"
               ],
               [
                1,
                "#276419"
               ]
              ],
              "sequential": [
               [
                0,
                "#0d0887"
               ],
               [
                0.1111111111111111,
                "#46039f"
               ],
               [
                0.2222222222222222,
                "#7201a8"
               ],
               [
                0.3333333333333333,
                "#9c179e"
               ],
               [
                0.4444444444444444,
                "#bd3786"
               ],
               [
                0.5555555555555556,
                "#d8576b"
               ],
               [
                0.6666666666666666,
                "#ed7953"
               ],
               [
                0.7777777777777778,
                "#fb9f3a"
               ],
               [
                0.8888888888888888,
                "#fdca26"
               ],
               [
                1,
                "#f0f921"
               ]
              ],
              "sequentialminus": [
               [
                0,
                "#0d0887"
               ],
               [
                0.1111111111111111,
                "#46039f"
               ],
               [
                0.2222222222222222,
                "#7201a8"
               ],
               [
                0.3333333333333333,
                "#9c179e"
               ],
               [
                0.4444444444444444,
                "#bd3786"
               ],
               [
                0.5555555555555556,
                "#d8576b"
               ],
               [
                0.6666666666666666,
                "#ed7953"
               ],
               [
                0.7777777777777778,
                "#fb9f3a"
               ],
               [
                0.8888888888888888,
                "#fdca26"
               ],
               [
                1,
                "#f0f921"
               ]
              ]
             },
             "colorway": [
              "#636efa",
              "#EF553B",
              "#00cc96",
              "#ab63fa",
              "#FFA15A",
              "#19d3f3",
              "#FF6692",
              "#B6E880",
              "#FF97FF",
              "#FECB52"
             ],
             "font": {
              "color": "#2a3f5f"
             },
             "geo": {
              "bgcolor": "white",
              "lakecolor": "white",
              "landcolor": "#E5ECF6",
              "showlakes": true,
              "showland": true,
              "subunitcolor": "white"
             },
             "hoverlabel": {
              "align": "left"
             },
             "hovermode": "closest",
             "mapbox": {
              "style": "light"
             },
             "paper_bgcolor": "white",
             "plot_bgcolor": "#E5ECF6",
             "polar": {
              "angularaxis": {
               "gridcolor": "white",
               "linecolor": "white",
               "ticks": ""
              },
              "bgcolor": "#E5ECF6",
              "radialaxis": {
               "gridcolor": "white",
               "linecolor": "white",
               "ticks": ""
              }
             },
             "scene": {
              "xaxis": {
               "backgroundcolor": "#E5ECF6",
               "gridcolor": "white",
               "gridwidth": 2,
               "linecolor": "white",
               "showbackground": true,
               "ticks": "",
               "zerolinecolor": "white"
              },
              "yaxis": {
               "backgroundcolor": "#E5ECF6",
               "gridcolor": "white",
               "gridwidth": 2,
               "linecolor": "white",
               "showbackground": true,
               "ticks": "",
               "zerolinecolor": "white"
              },
              "zaxis": {
               "backgroundcolor": "#E5ECF6",
               "gridcolor": "white",
               "gridwidth": 2,
               "linecolor": "white",
               "showbackground": true,
               "ticks": "",
               "zerolinecolor": "white"
              }
             },
             "shapedefaults": {
              "line": {
               "color": "#2a3f5f"
              }
             },
             "ternary": {
              "aaxis": {
               "gridcolor": "white",
               "linecolor": "white",
               "ticks": ""
              },
              "baxis": {
               "gridcolor": "white",
               "linecolor": "white",
               "ticks": ""
              },
              "bgcolor": "#E5ECF6",
              "caxis": {
               "gridcolor": "white",
               "linecolor": "white",
               "ticks": ""
              }
             },
             "title": {
              "x": 0.05
             },
             "xaxis": {
              "automargin": true,
              "gridcolor": "white",
              "linecolor": "white",
              "ticks": "",
              "title": {
               "standoff": 15
              },
              "zerolinecolor": "white",
              "zerolinewidth": 2
             },
             "yaxis": {
              "automargin": true,
              "gridcolor": "white",
              "linecolor": "white",
              "ticks": "",
              "title": {
               "standoff": 15
              },
              "zerolinecolor": "white",
              "zerolinewidth": 2
             }
            }
           },
           "title": {
            "font": {
             "color": "#151516"
            },
            "text": "Views vs Reads"
           },
           "xaxis": {
            "gridcolor": "#F6F6F6",
            "showgrid": true,
            "tickfont": {
             "color": "#666666"
            },
            "title": {
             "font": {
              "color": "#666666"
             },
             "text": "Reads"
            },
            "zerolinecolor": "#F6F6F6"
           },
           "yaxis": {
            "gridcolor": "#F6F6F6",
            "showgrid": true,
            "tickfont": {
             "color": "#666666"
            },
            "title": {
             "font": {
              "color": "#666666"
             },
             "text": "Views"
            },
            "zerolinecolor": "#F6F6F6"
           }
          }
         },
         "text/html": "<div>\n        \n        \n            <div id=\"49c36ab0-123a-435f-91e4-0b31031f0f2f\" class=\"plotly-graph-div\" style=\"height:525px; width:100%;\"></div>\n            <script type=\"text/javascript\">\n                require([\"plotly\"], function(Plotly) {\n                    window.PLOTLYENV=window.PLOTLYENV || {};\n                    window.PLOTLYENV.BASE_URL='https://plot.ly';\n                    \n                if (document.getElementById(\"49c36ab0-123a-435f-91e4-0b31031f0f2f\")) {\n                    Plotly.newPlot(\n                        '49c36ab0-123a-435f-91e4-0b31031f0f2f',\n                        [{\"line\": {\"color\": \"rgba(216, 179, 101, 1.0)\", \"dash\": \"solid\", \"shape\": \"linear\", \"width\": 1.3}, \"marker\": {\"size\": 12, \"symbol\": \"circle\"}, \"mode\": \"markers\", \"name\": \"views\", \"text\": \"\", \"type\": \"scatter\", \"x\": [70, 54, 222, 19, 5, 62, 1717, 5690, 45, 15, 3992, 509, 27, 17, 664, 547, 2734, 2049, 73, 299, 24, 30709, 37187, 62, 141, 7815, 794, 1225, 768, 27492, 32752, 66, 21619, 3214, 58, 41978, 7360, 477, 2284, 7123, 11039, 7282, 15106, 30099, 1355, 16735, 135, 11491, 2117, 5881, 26327, 14614, 20479, 11278, 32075, 18754, 15764, 19805, 6796, 6708, 21607, 1506, 23587, 9629, 6508, 8467, 10398, 25139, 1890, 20592, 5854, 8890, 6988, 1008, 2016, 7077, 5924, 1157, 13261, 7398, 1250, 1259, 2546, 4030, 4714, 1544, 348, 4462, 863, 8035, 1559, 3175, 558, 9583, 1330, 6029, 1312, 2538, 1249, 1818, 8606, 5627, 1805, 5103, 4616, 11925, 1312, 426, 3836, 147, 2135, 62, 371, 25, 1, 13, 8, 8, 40, 3, 265, 1517, 754, 363, 485, 378, 24002, 2809, 343, 266, 2320, 96, 165], \"y\": [166, 178, 1109, 53, 59, 315, 9723, 24079, 136, 69, 28387, 4174, 145, 58, 5581, 4798, 9589, 13367, 136, 2259, 38, 173714, 88394, 168, 322, 34222, 2803, 3573, 2470, 114637, 130417, 158, 81609, 5171, 109, 134699, 20529, 1700, 4179, 17040, 35745, 15370, 50691, 48157, 3141, 57830, 232, 35505, 4946, 13571, 128661, 65054, 55791, 30494, 118318, 56245, 50184, 58471, 21887, 25208, 68317, 2380, 124970, 46238, 27428, 33761, 43577, 114762, 11243, 80618, 26665, 32502, 48494, 5556, 4781, 29190, 18228, 4266, 30141, 44201, 6385, 1693, 14561, 14989, 24975, 3772, 1905, 24517, 3044, 29689, 7608, 13464, 2154, 33755, 3342, 35601, 5389, 6570, 5740, 8382, 28625, 16118, 10056, 23622, 23617, 26603, 5933, 891, 13166, 415, 6766, 256, 978, 226, 3, 107, 85, 27, 139, 37, 1375, 5070, 3768, 955, 2783, 1477, 71225, 15291, 1372, 1005, 8806, 559, 693]}],\n                        {\"legend\": {\"bgcolor\": \"#FFFFFF\", \"font\": {\"color\": \"#666666\"}}, \"paper_bgcolor\": \"#FFFFFF\", \"plot_bgcolor\": \"#E5E5E5\", \"template\": {\"data\": {\"bar\": [{\"error_x\": {\"color\": \"#2a3f5f\"}, \"error_y\": {\"color\": \"#2a3f5f\"}, \"marker\": {\"line\": {\"color\": \"#E5ECF6\", \"width\": 0.5}}, \"type\": \"bar\"}], \"barpolar\": [{\"marker\": {\"line\": {\"color\": \"#E5ECF6\", \"width\": 0.5}}, \"type\": \"barpolar\"}], \"carpet\": [{\"aaxis\": {\"endlinecolor\": \"#2a3f5f\", \"gridcolor\": \"white\", \"linecolor\": \"white\", \"minorgridcolor\": \"white\", \"startlinecolor\": \"#2a3f5f\"}, \"baxis\": {\"endlinecolor\": \"#2a3f5f\", \"gridcolor\": \"white\", \"linecolor\": \"white\", \"minorgridcolor\": \"white\", \"startlinecolor\": \"#2a3f5f\"}, \"type\": \"carpet\"}], \"choropleth\": [{\"colorbar\": {\"outlinewidth\": 0, \"ticks\": \"\"}, \"type\": \"choropleth\"}], \"contour\": [{\"colorbar\": {\"outlinewidth\": 0, \"ticks\": \"\"}, \"colorscale\": [[0.0, \"#0d0887\"], [0.1111111111111111, \"#46039f\"], [0.2222222222222222, \"#7201a8\"], [0.3333333333333333, \"#9c179e\"], [0.4444444444444444, \"#bd3786\"], [0.5555555555555556, \"#d8576b\"], [0.6666666666666666, \"#ed7953\"], [0.7777777777777778, \"#fb9f3a\"], [0.8888888888888888, \"#fdca26\"], [1.0, \"#f0f921\"]], \"type\": \"contour\"}], \"contourcarpet\": [{\"colorbar\": {\"outlinewidth\": 0, \"ticks\": \"\"}, \"type\": \"contourcarpet\"}], \"heatmap\": [{\"colorbar\": {\"outlinewidth\": 0, \"ticks\": \"\"}, \"colorscale\": [[0.0, \"#0d0887\"], [0.1111111111111111, \"#46039f\"], [0.2222222222222222, \"#7201a8\"], [0.3333333333333333, \"#9c179e\"], [0.4444444444444444, \"#bd3786\"], [0.5555555555555556, \"#d8576b\"], [0.6666666666666666, \"#ed7953\"], [0.7777777777777778, \"#fb9f3a\"], [0.8888888888888888, \"#fdca26\"], [1.0, \"#f0f921\"]], \"type\": \"heatmap\"}], \"heatmapgl\": [{\"colorbar\": {\"outlinewidth\": 0, \"ticks\": \"\"}, \"colorscale\": [[0.0, \"#0d0887\"], [0.1111111111111111, \"#46039f\"], [0.2222222222222222, \"#7201a8\"], [0.3333333333333333, \"#9c179e\"], [0.4444444444444444, \"#bd3786\"], [0.5555555555555556, \"#d8576b\"], [0.6666666666666666, \"#ed7953\"], [0.7777777777777778, \"#fb9f3a\"], [0.8888888888888888, \"#fdca26\"], [1.0, \"#f0f921\"]], \"type\": \"heatmapgl\"}], \"histogram\": [{\"marker\": {\"colorbar\": {\"outlinewidth\": 0, \"ticks\": \"\"}}, \"type\": \"histogram\"}], \"histogram2d\": [{\"colorbar\": {\"outlinewidth\": 0, \"ticks\": \"\"}, \"colorscale\": [[0.0, \"#0d0887\"], [0.1111111111111111, \"#46039f\"], [0.2222222222222222, \"#7201a8\"], [0.3333333333333333, \"#9c179e\"], [0.4444444444444444, \"#bd3786\"], [0.5555555555555556, \"#d8576b\"], [0.6666666666666666, \"#ed7953\"], [0.7777777777777778, \"#fb9f3a\"], [0.8888888888888888, \"#fdca26\"], [1.0, \"#f0f921\"]], \"type\": \"histogram2d\"}], \"histogram2dcontour\": [{\"colorbar\": {\"outlinewidth\": 0, \"ticks\": \"\"}, \"colorscale\": [[0.0, \"#0d0887\"], [0.1111111111111111, \"#46039f\"], [0.2222222222222222, \"#7201a8\"], [0.3333333333333333, \"#9c179e\"], [0.4444444444444444, \"#bd3786\"], [0.5555555555555556, \"#d8576b\"], [0.6666666666666666, \"#ed7953\"], [0.7777777777777778, \"#fb9f3a\"], [0.8888888888888888, \"#fdca26\"], [1.0, \"#f0f921\"]], \"type\": \"histogram2dcontour\"}], \"mesh3d\": [{\"colorbar\": {\"outlinewidth\": 0, \"ticks\": \"\"}, \"type\": \"mesh3d\"}], \"parcoords\": [{\"line\": {\"colorbar\": {\"outlinewidth\": 0, \"ticks\": \"\"}}, \"type\": \"parcoords\"}], \"pie\": [{\"automargin\": true, \"type\": \"pie\"}], \"scatter\": [{\"marker\": {\"colorbar\": {\"outlinewidth\": 0, \"ticks\": \"\"}}, \"type\": \"scatter\"}], \"scatter3d\": [{\"line\": {\"colorbar\": {\"outlinewidth\": 0, \"ticks\": \"\"}}, \"marker\": {\"colorbar\": {\"outlinewidth\": 0, \"ticks\": \"\"}}, \"type\": \"scatter3d\"}], \"scattercarpet\": [{\"marker\": {\"colorbar\": {\"outlinewidth\": 0, \"ticks\": \"\"}}, \"type\": \"scattercarpet\"}], \"scattergeo\": [{\"marker\": {\"colorbar\": {\"outlinewidth\": 0, \"ticks\": \"\"}}, \"type\": \"scattergeo\"}], \"scattergl\": [{\"marker\": {\"colorbar\": {\"outlinewidth\": 0, \"ticks\": \"\"}}, \"type\": \"scattergl\"}], \"scattermapbox\": [{\"marker\": {\"colorbar\": {\"outlinewidth\": 0, \"ticks\": \"\"}}, \"type\": \"scattermapbox\"}], \"scatterpolar\": [{\"marker\": {\"colorbar\": {\"outlinewidth\": 0, \"ticks\": \"\"}}, \"type\": \"scatterpolar\"}], \"scatterpolargl\": [{\"marker\": {\"colorbar\": {\"outlinewidth\": 0, \"ticks\": \"\"}}, \"type\": \"scatterpolargl\"}], \"scatterternary\": [{\"marker\": {\"colorbar\": {\"outlinewidth\": 0, \"ticks\": \"\"}}, \"type\": \"scatterternary\"}], \"surface\": [{\"colorbar\": {\"outlinewidth\": 0, \"ticks\": \"\"}, \"colorscale\": [[0.0, \"#0d0887\"], [0.1111111111111111, \"#46039f\"], [0.2222222222222222, \"#7201a8\"], [0.3333333333333333, \"#9c179e\"], [0.4444444444444444, \"#bd3786\"], [0.5555555555555556, \"#d8576b\"], [0.6666666666666666, \"#ed7953\"], [0.7777777777777778, \"#fb9f3a\"], [0.8888888888888888, \"#fdca26\"], [1.0, \"#f0f921\"]], \"type\": \"surface\"}], \"table\": [{\"cells\": {\"fill\": {\"color\": \"#EBF0F8\"}, \"line\": {\"color\": \"white\"}}, \"header\": {\"fill\": {\"color\": \"#C8D4E3\"}, \"line\": {\"color\": \"white\"}}, \"type\": \"table\"}]}, \"layout\": {\"annotationdefaults\": {\"arrowcolor\": \"#2a3f5f\", \"arrowhead\": 0, \"arrowwidth\": 1}, \"coloraxis\": {\"colorbar\": {\"outlinewidth\": 0, \"ticks\": \"\"}}, \"colorscale\": {\"diverging\": [[0, \"#8e0152\"], [0.1, \"#c51b7d\"], [0.2, \"#de77ae\"], [0.3, \"#f1b6da\"], [0.4, \"#fde0ef\"], [0.5, \"#f7f7f7\"], [0.6, \"#e6f5d0\"], [0.7, \"#b8e186\"], [0.8, \"#7fbc41\"], [0.9, \"#4d9221\"], [1, \"#276419\"]], \"sequential\": [[0.0, \"#0d0887\"], [0.1111111111111111, \"#46039f\"], [0.2222222222222222, \"#7201a8\"], [0.3333333333333333, \"#9c179e\"], [0.4444444444444444, \"#bd3786\"], [0.5555555555555556, \"#d8576b\"], [0.6666666666666666, \"#ed7953\"], [0.7777777777777778, \"#fb9f3a\"], [0.8888888888888888, \"#fdca26\"], [1.0, \"#f0f921\"]], \"sequentialminus\": [[0.0, \"#0d0887\"], [0.1111111111111111, \"#46039f\"], [0.2222222222222222, \"#7201a8\"], [0.3333333333333333, \"#9c179e\"], [0.4444444444444444, \"#bd3786\"], [0.5555555555555556, \"#d8576b\"], [0.6666666666666666, \"#ed7953\"], [0.7777777777777778, \"#fb9f3a\"], [0.8888888888888888, \"#fdca26\"], [1.0, \"#f0f921\"]]}, \"colorway\": [\"#636efa\", \"#EF553B\", \"#00cc96\", \"#ab63fa\", \"#FFA15A\", \"#19d3f3\", \"#FF6692\", \"#B6E880\", \"#FF97FF\", \"#FECB52\"], \"font\": {\"color\": \"#2a3f5f\"}, \"geo\": {\"bgcolor\": \"white\", \"lakecolor\": \"white\", \"landcolor\": \"#E5ECF6\", \"showlakes\": true, \"showland\": true, \"subunitcolor\": \"white\"}, \"hoverlabel\": {\"align\": \"left\"}, \"hovermode\": \"closest\", \"mapbox\": {\"style\": \"light\"}, \"paper_bgcolor\": \"white\", \"plot_bgcolor\": \"#E5ECF6\", \"polar\": {\"angularaxis\": {\"gridcolor\": \"white\", \"linecolor\": \"white\", \"ticks\": \"\"}, \"bgcolor\": \"#E5ECF6\", \"radialaxis\": {\"gridcolor\": \"white\", \"linecolor\": \"white\", \"ticks\": \"\"}}, \"scene\": {\"xaxis\": {\"backgroundcolor\": \"#E5ECF6\", \"gridcolor\": \"white\", \"gridwidth\": 2, \"linecolor\": \"white\", \"showbackground\": true, \"ticks\": \"\", \"zerolinecolor\": \"white\"}, \"yaxis\": {\"backgroundcolor\": \"#E5ECF6\", \"gridcolor\": \"white\", \"gridwidth\": 2, \"linecolor\": \"white\", \"showbackground\": true, \"ticks\": \"\", \"zerolinecolor\": \"white\"}, \"zaxis\": {\"backgroundcolor\": \"#E5ECF6\", \"gridcolor\": \"white\", \"gridwidth\": 2, \"linecolor\": \"white\", \"showbackground\": true, \"ticks\": \"\", \"zerolinecolor\": \"white\"}}, \"shapedefaults\": {\"line\": {\"color\": \"#2a3f5f\"}}, \"ternary\": {\"aaxis\": {\"gridcolor\": \"white\", \"linecolor\": \"white\", \"ticks\": \"\"}, \"baxis\": {\"gridcolor\": \"white\", \"linecolor\": \"white\", \"ticks\": \"\"}, \"bgcolor\": \"#E5ECF6\", \"caxis\": {\"gridcolor\": \"white\", \"linecolor\": \"white\", \"ticks\": \"\"}}, \"title\": {\"x\": 0.05}, \"xaxis\": {\"automargin\": true, \"gridcolor\": \"white\", \"linecolor\": \"white\", \"ticks\": \"\", \"title\": {\"standoff\": 15}, \"zerolinecolor\": \"white\", \"zerolinewidth\": 2}, \"yaxis\": {\"automargin\": true, \"gridcolor\": \"white\", \"linecolor\": \"white\", \"ticks\": \"\", \"title\": {\"standoff\": 15}, \"zerolinecolor\": \"white\", \"zerolinewidth\": 2}}}, \"title\": {\"font\": {\"color\": \"#151516\"}, \"text\": \"Views vs Reads\"}, \"xaxis\": {\"gridcolor\": \"#F6F6F6\", \"showgrid\": true, \"tickfont\": {\"color\": \"#666666\"}, \"title\": {\"font\": {\"color\": \"#666666\"}, \"text\": \"Reads\"}, \"zerolinecolor\": \"#F6F6F6\"}, \"yaxis\": {\"gridcolor\": \"#F6F6F6\", \"showgrid\": true, \"tickfont\": {\"color\": \"#666666\"}, \"title\": {\"font\": {\"color\": \"#666666\"}, \"text\": \"Views\"}, \"zerolinecolor\": \"#F6F6F6\"}},\n                        {\"showLink\": true, \"linkText\": \"Export to plot.ly\", \"plotlyServerURL\": \"https://plot.ly\", \"responsive\": true}\n                    ).then(function(){\n                            \nvar gd = document.getElementById('49c36ab0-123a-435f-91e4-0b31031f0f2f');\nvar x = new MutationObserver(function (mutations, observer) {{\n        var display = window.getComputedStyle(gd).display;\n        if (!display || display === 'none') {{\n            console.log([gd, 'removed!']);\n            Plotly.purge(gd);\n            observer.disconnect();\n        }}\n}});\n\n// Listen for the removal of the full notebook cells\nvar notebookContainer = gd.closest('#notebook-container');\nif (notebookContainer) {{\n    x.observe(notebookContainer, {childList: true});\n}}\n\n// Listen for the clearing of the current output cell\nvar outputEl = gd.closest('.output');\nif (outputEl) {{\n    x.observe(outputEl, {childList: true});\n}}\n\n                        })\n                };\n                });\n            </script>\n        </div>"
        },
        "metadata": {},
        "output_type": "display_data"
       }
      ]
     }
    },
    "845c73b31ef54d91975f7b536893a6ba": {
     "model_module": "@jupyter-widgets/controls",
     "model_module_version": "1.5.0",
     "model_name": "DescriptionStyleModel",
     "state": {
      "_model_module": "@jupyter-widgets/controls",
      "_model_module_version": "1.5.0",
      "_model_name": "DescriptionStyleModel",
      "_view_count": null,
      "_view_module": "@jupyter-widgets/base",
      "_view_module_version": "1.2.0",
      "_view_name": "StyleView",
      "description_width": ""
     }
    },
    "876367b8f49c4580956c7b50a646cce9": {
     "model_module": "@jupyter-widgets/controls",
     "model_module_version": "1.5.0",
     "model_name": "VBoxModel",
     "state": {
      "_dom_classes": [
       "widget-interact"
      ],
      "_model_module": "@jupyter-widgets/controls",
      "_model_module_version": "1.5.0",
      "_model_name": "VBoxModel",
      "_view_count": null,
      "_view_module": "@jupyter-widgets/controls",
      "_view_module_version": "1.5.0",
      "_view_name": "VBoxView",
      "box_style": "",
      "children": [
       "IPY_MODEL_d62e6a07fe034bd0a54e4b9854091c73",
       "IPY_MODEL_5269c605cc76468d905c1b2e1711a267"
      ],
      "layout": "IPY_MODEL_b587b9678450446ea05989ed63f4c96b"
     }
    },
    "88532716d1394ee09f64bad1165ac9f6": {
     "model_module": "@jupyter-widgets/controls",
     "model_module_version": "1.5.0",
     "model_name": "DropdownModel",
     "state": {
      "_dom_classes": [],
      "_model_module": "@jupyter-widgets/controls",
      "_model_module_version": "1.5.0",
      "_model_name": "DropdownModel",
      "_options_labels": [
       "brbg",
       "prgn",
       "piyg",
       "puor",
       "rdbu",
       "rdgy",
       "rdylbu",
       "rdylgn",
       "spectral",
       "paired",
       "set3",
       "dflt",
       "original",
       "plotly",
       "henanigans",
       "accent",
       "dark2",
       "pastel1",
       "pastel2",
       "set1",
       "set2",
       "blues",
       "bugn",
       "bupu",
       "gnbu",
       "greens",
       "greys",
       "orrd",
       "oranges",
       "pubu",
       "pubugn",
       "purd",
       "purples",
       "rdpu",
       "reds",
       "ylgn",
       "ylgnbu",
       "ylorbr",
       "ylorrd",
       "ggplot",
       "polar"
      ],
      "_view_count": null,
      "_view_module": "@jupyter-widgets/controls",
      "_view_module_version": "1.5.0",
      "_view_name": "DropdownView",
      "description": "colorscale",
      "description_tooltip": null,
      "disabled": false,
      "index": 0,
      "layout": "IPY_MODEL_b369242fa1f44fc0a9f28b1bd39ba614",
      "style": "IPY_MODEL_c027eaaa9b3e4242ac18f53b839fd33a"
     }
    },
    "88afd24f360944f29a36f78a84999ad4": {
     "model_module": "@jupyter-widgets/controls",
     "model_module_version": "1.5.0",
     "model_name": "DropdownModel",
     "state": {
      "_dom_classes": [],
      "_model_module": "@jupyter-widgets/controls",
      "_model_module_version": "1.5.0",
      "_model_name": "DropdownModel",
      "_options_labels": [
       "reads",
       "views",
       "word_count",
       "claps",
       "fans",
       "read_time"
      ],
      "_view_count": null,
      "_view_module": "@jupyter-widgets/controls",
      "_view_module_version": "1.5.0",
      "_view_name": "DropdownView",
      "description": "x",
      "description_tooltip": null,
      "disabled": false,
      "index": 0,
      "layout": "IPY_MODEL_6895e53b6810458f9bf8d577b22c6278",
      "style": "IPY_MODEL_3c1ad4cb6aca414dbbfeaff92f28d114"
     }
    },
    "896a5e2123634503a81e8a902c3f9955": {
     "model_module": "@jupyter-widgets/base",
     "model_module_version": "1.2.0",
     "model_name": "LayoutModel",
     "state": {
      "_model_module": "@jupyter-widgets/base",
      "_model_module_version": "1.2.0",
      "_model_name": "LayoutModel",
      "_view_count": null,
      "_view_module": "@jupyter-widgets/base",
      "_view_module_version": "1.2.0",
      "_view_name": "LayoutView",
      "align_content": null,
      "align_items": null,
      "align_self": null,
      "border": null,
      "bottom": null,
      "display": null,
      "flex": null,
      "flex_flow": null,
      "grid_area": null,
      "grid_auto_columns": null,
      "grid_auto_flow": null,
      "grid_auto_rows": null,
      "grid_column": null,
      "grid_gap": null,
      "grid_row": null,
      "grid_template_areas": null,
      "grid_template_columns": null,
      "grid_template_rows": null,
      "height": null,
      "justify_content": null,
      "justify_items": null,
      "left": null,
      "margin": null,
      "max_height": null,
      "max_width": null,
      "min_height": null,
      "min_width": null,
      "object_fit": null,
      "object_position": null,
      "order": null,
      "overflow": null,
      "overflow_x": null,
      "overflow_y": null,
      "padding": null,
      "right": null,
      "top": null,
      "visibility": null,
      "width": null
     }
    },
    "8d677f4ae6f043d5b1cadb953c040420": {
     "model_module": "@jupyter-widgets/base",
     "model_module_version": "1.2.0",
     "model_name": "LayoutModel",
     "state": {
      "_model_module": "@jupyter-widgets/base",
      "_model_module_version": "1.2.0",
      "_model_name": "LayoutModel",
      "_view_count": null,
      "_view_module": "@jupyter-widgets/base",
      "_view_module_version": "1.2.0",
      "_view_name": "LayoutView",
      "align_content": null,
      "align_items": null,
      "align_self": null,
      "border": null,
      "bottom": null,
      "display": null,
      "flex": null,
      "flex_flow": null,
      "grid_area": null,
      "grid_auto_columns": null,
      "grid_auto_flow": null,
      "grid_auto_rows": null,
      "grid_column": null,
      "grid_gap": null,
      "grid_row": null,
      "grid_template_areas": null,
      "grid_template_columns": null,
      "grid_template_rows": null,
      "height": null,
      "justify_content": null,
      "justify_items": null,
      "left": null,
      "margin": null,
      "max_height": null,
      "max_width": null,
      "min_height": null,
      "min_width": null,
      "object_fit": null,
      "object_position": null,
      "order": null,
      "overflow": null,
      "overflow_x": null,
      "overflow_y": null,
      "padding": null,
      "right": null,
      "top": null,
      "visibility": null,
      "width": null
     }
    },
    "8da5f1e3829f4bfdaae66319900584ba": {
     "model_module": "@jupyter-widgets/controls",
     "model_module_version": "1.5.0",
     "model_name": "VBoxModel",
     "state": {
      "_dom_classes": [
       "widget-interact"
      ],
      "_model_module": "@jupyter-widgets/controls",
      "_model_module_version": "1.5.0",
      "_model_name": "VBoxModel",
      "_view_count": null,
      "_view_module": "@jupyter-widgets/controls",
      "_view_module_version": "1.5.0",
      "_view_name": "VBoxView",
      "box_style": "",
      "children": [
       "IPY_MODEL_2331c3610c164420b02bc0fee7a686dc",
       "IPY_MODEL_f7fa5ce650df418e8a39f87270237863"
      ],
      "layout": "IPY_MODEL_cfc9b4653068416ca447d0f9779a06ff"
     }
    },
    "8dd5da09f30e44a98423960840cbaaa3": {
     "model_module": "@jupyter-widgets/base",
     "model_module_version": "1.2.0",
     "model_name": "LayoutModel",
     "state": {
      "_model_module": "@jupyter-widgets/base",
      "_model_module_version": "1.2.0",
      "_model_name": "LayoutModel",
      "_view_count": null,
      "_view_module": "@jupyter-widgets/base",
      "_view_module_version": "1.2.0",
      "_view_name": "LayoutView",
      "align_content": null,
      "align_items": null,
      "align_self": null,
      "border": null,
      "bottom": null,
      "display": null,
      "flex": null,
      "flex_flow": null,
      "grid_area": null,
      "grid_auto_columns": null,
      "grid_auto_flow": null,
      "grid_auto_rows": null,
      "grid_column": null,
      "grid_gap": null,
      "grid_row": null,
      "grid_template_areas": null,
      "grid_template_columns": null,
      "grid_template_rows": null,
      "height": null,
      "justify_content": null,
      "justify_items": null,
      "left": null,
      "margin": null,
      "max_height": null,
      "max_width": null,
      "min_height": null,
      "min_width": null,
      "object_fit": null,
      "object_position": null,
      "order": null,
      "overflow": null,
      "overflow_x": null,
      "overflow_y": null,
      "padding": null,
      "right": null,
      "top": null,
      "visibility": null,
      "width": null
     }
    },
    "949d435f21f044d3b7309802b79dd81d": {
     "model_module": "@jupyter-widgets/base",
     "model_module_version": "1.2.0",
     "model_name": "LayoutModel",
     "state": {
      "_model_module": "@jupyter-widgets/base",
      "_model_module_version": "1.2.0",
      "_model_name": "LayoutModel",
      "_view_count": null,
      "_view_module": "@jupyter-widgets/base",
      "_view_module_version": "1.2.0",
      "_view_name": "LayoutView",
      "align_content": null,
      "align_items": null,
      "align_self": null,
      "border": null,
      "bottom": null,
      "display": null,
      "flex": null,
      "flex_flow": null,
      "grid_area": null,
      "grid_auto_columns": null,
      "grid_auto_flow": null,
      "grid_auto_rows": null,
      "grid_column": null,
      "grid_gap": null,
      "grid_row": null,
      "grid_template_areas": null,
      "grid_template_columns": null,
      "grid_template_rows": null,
      "height": null,
      "justify_content": null,
      "justify_items": null,
      "left": null,
      "margin": null,
      "max_height": null,
      "max_width": null,
      "min_height": null,
      "min_width": null,
      "object_fit": null,
      "object_position": null,
      "order": null,
      "overflow": null,
      "overflow_x": null,
      "overflow_y": null,
      "padding": null,
      "right": null,
      "top": null,
      "visibility": null,
      "width": null
     }
    },
    "96f75aad96bb4f95a503178d914f3dbb": {
     "model_module": "@jupyter-widgets/base",
     "model_module_version": "1.2.0",
     "model_name": "LayoutModel",
     "state": {
      "_model_module": "@jupyter-widgets/base",
      "_model_module_version": "1.2.0",
      "_model_name": "LayoutModel",
      "_view_count": null,
      "_view_module": "@jupyter-widgets/base",
      "_view_module_version": "1.2.0",
      "_view_name": "LayoutView",
      "align_content": null,
      "align_items": null,
      "align_self": null,
      "border": null,
      "bottom": null,
      "display": null,
      "flex": null,
      "flex_flow": null,
      "grid_area": null,
      "grid_auto_columns": null,
      "grid_auto_flow": null,
      "grid_auto_rows": null,
      "grid_column": null,
      "grid_gap": null,
      "grid_row": null,
      "grid_template_areas": null,
      "grid_template_columns": null,
      "grid_template_rows": null,
      "height": null,
      "justify_content": null,
      "justify_items": null,
      "left": null,
      "margin": null,
      "max_height": null,
      "max_width": null,
      "min_height": null,
      "min_width": null,
      "object_fit": null,
      "object_position": null,
      "order": null,
      "overflow": null,
      "overflow_x": null,
      "overflow_y": null,
      "padding": null,
      "right": null,
      "top": null,
      "visibility": null,
      "width": null
     }
    },
    "9744272ac6a84918a86d3ecdc00521c4": {
     "model_module": "@jupyter-widgets/base",
     "model_module_version": "1.2.0",
     "model_name": "LayoutModel",
     "state": {
      "_model_module": "@jupyter-widgets/base",
      "_model_module_version": "1.2.0",
      "_model_name": "LayoutModel",
      "_view_count": null,
      "_view_module": "@jupyter-widgets/base",
      "_view_module_version": "1.2.0",
      "_view_name": "LayoutView",
      "align_content": null,
      "align_items": null,
      "align_self": null,
      "border": null,
      "bottom": null,
      "display": null,
      "flex": null,
      "flex_flow": null,
      "grid_area": null,
      "grid_auto_columns": null,
      "grid_auto_flow": null,
      "grid_auto_rows": null,
      "grid_column": null,
      "grid_gap": null,
      "grid_row": null,
      "grid_template_areas": null,
      "grid_template_columns": null,
      "grid_template_rows": null,
      "height": null,
      "justify_content": null,
      "justify_items": null,
      "left": null,
      "margin": null,
      "max_height": null,
      "max_width": null,
      "min_height": null,
      "min_width": null,
      "object_fit": null,
      "object_position": null,
      "order": null,
      "overflow": null,
      "overflow_x": null,
      "overflow_y": null,
      "padding": null,
      "right": null,
      "top": null,
      "visibility": null,
      "width": null
     }
    },
    "9751f28e3d704f33a19bc45d087a4dd4": {
     "model_module": "@jupyter-widgets/base",
     "model_module_version": "1.2.0",
     "model_name": "LayoutModel",
     "state": {
      "_model_module": "@jupyter-widgets/base",
      "_model_module_version": "1.2.0",
      "_model_name": "LayoutModel",
      "_view_count": null,
      "_view_module": "@jupyter-widgets/base",
      "_view_module_version": "1.2.0",
      "_view_name": "LayoutView",
      "align_content": null,
      "align_items": null,
      "align_self": null,
      "border": null,
      "bottom": null,
      "display": null,
      "flex": null,
      "flex_flow": null,
      "grid_area": null,
      "grid_auto_columns": null,
      "grid_auto_flow": null,
      "grid_auto_rows": null,
      "grid_column": null,
      "grid_gap": null,
      "grid_row": null,
      "grid_template_areas": null,
      "grid_template_columns": null,
      "grid_template_rows": null,
      "height": null,
      "justify_content": null,
      "justify_items": null,
      "left": null,
      "margin": null,
      "max_height": null,
      "max_width": null,
      "min_height": null,
      "min_width": null,
      "object_fit": null,
      "object_position": null,
      "order": null,
      "overflow": null,
      "overflow_x": null,
      "overflow_y": null,
      "padding": null,
      "right": null,
      "top": null,
      "visibility": null,
      "width": null
     }
    },
    "9757d82395de4e0c9def560e70dc932f": {
     "model_module": "@jupyter-widgets/base",
     "model_module_version": "1.2.0",
     "model_name": "LayoutModel",
     "state": {
      "_model_module": "@jupyter-widgets/base",
      "_model_module_version": "1.2.0",
      "_model_name": "LayoutModel",
      "_view_count": null,
      "_view_module": "@jupyter-widgets/base",
      "_view_module_version": "1.2.0",
      "_view_name": "LayoutView",
      "align_content": null,
      "align_items": null,
      "align_self": null,
      "border": null,
      "bottom": null,
      "display": null,
      "flex": null,
      "flex_flow": null,
      "grid_area": null,
      "grid_auto_columns": null,
      "grid_auto_flow": null,
      "grid_auto_rows": null,
      "grid_column": null,
      "grid_gap": null,
      "grid_row": null,
      "grid_template_areas": null,
      "grid_template_columns": null,
      "grid_template_rows": null,
      "height": null,
      "justify_content": null,
      "justify_items": null,
      "left": null,
      "margin": null,
      "max_height": null,
      "max_width": null,
      "min_height": null,
      "min_width": null,
      "object_fit": null,
      "object_position": null,
      "order": null,
      "overflow": null,
      "overflow_x": null,
      "overflow_y": null,
      "padding": null,
      "right": null,
      "top": null,
      "visibility": null,
      "width": null
     }
    },
    "9b288b3760314bd9bbf029902c441788": {
     "model_module": "@jupyter-widgets/controls",
     "model_module_version": "1.5.0",
     "model_name": "DescriptionStyleModel",
     "state": {
      "_model_module": "@jupyter-widgets/controls",
      "_model_module_version": "1.5.0",
      "_model_name": "DescriptionStyleModel",
      "_view_count": null,
      "_view_module": "@jupyter-widgets/base",
      "_view_module_version": "1.2.0",
      "_view_name": "StyleView",
      "description_width": ""
     }
    },
    "a0d1108892214f0f82ac5cc887f553a6": {
     "model_module": "@jupyter-widgets/controls",
     "model_module_version": "1.5.0",
     "model_name": "DropdownModel",
     "state": {
      "_dom_classes": [],
      "_model_module": "@jupyter-widgets/controls",
      "_model_module_version": "1.5.0",
      "_model_name": "DropdownModel",
      "_options_labels": [
       "brbg",
       "prgn",
       "piyg",
       "puor",
       "rdbu",
       "rdgy",
       "rdylbu",
       "rdylgn",
       "spectral",
       "paired",
       "set3",
       "dflt",
       "original",
       "plotly",
       "henanigans",
       "accent",
       "dark2",
       "pastel1",
       "pastel2",
       "set1",
       "set2",
       "blues",
       "bugn",
       "bupu",
       "gnbu",
       "greens",
       "greys",
       "orrd",
       "oranges",
       "pubu",
       "pubugn",
       "purd",
       "purples",
       "rdpu",
       "reds",
       "ylgn",
       "ylgnbu",
       "ylorbr",
       "ylorrd",
       "ggplot",
       "polar"
      ],
      "_view_count": null,
      "_view_module": "@jupyter-widgets/controls",
      "_view_module_version": "1.5.0",
      "_view_name": "DropdownView",
      "description": "colorscale",
      "description_tooltip": null,
      "disabled": false,
      "index": 0,
      "layout": "IPY_MODEL_16fd33c4c214414e9e3147380493523c",
      "style": "IPY_MODEL_314110a444764752bbf3e01fd8e0e0f0"
     }
    },
    "a164a6a5eb6842f7b21254588484cc91": {
     "model_module": "@jupyter-widgets/output",
     "model_module_version": "1.0.0",
     "model_name": "OutputModel",
     "state": {
      "_dom_classes": [],
      "_model_module": "@jupyter-widgets/output",
      "_model_module_version": "1.0.0",
      "_model_name": "OutputModel",
      "_view_count": null,
      "_view_module": "@jupyter-widgets/output",
      "_view_module_version": "1.0.0",
      "_view_name": "OutputView",
      "layout": "IPY_MODEL_1cc4130374fd48e2bd1173cf5ecff0f0",
      "msg_id": "",
      "outputs": [
       {
        "data": {
         "application/vnd.plotly.v1+json": {
          "config": {
           "linkText": "Export to plot.ly",
           "plotlyServerURL": "https://plot.ly",
           "showLink": true
          },
          "data": [
           {
            "line": {
             "color": "rgba(31, 119, 180, 1.0)",
             "dash": "solid",
             "shape": "linear",
             "width": 1.3
            },
            "marker": {
             "size": 12,
             "symbol": "circle"
            },
            "mode": "markers+lines",
            "name": "reads",
            "text": "",
            "type": "scatter",
            "x": [
             "2017-06-10 14:25:00",
             "2017-06-17 22:02:00",
             "2017-06-30 12:55:00",
             "2017-07-01 09:08:00",
             "2017-07-05 08:51:00",
             "2017-07-19 21:09:00",
             "2017-07-25 17:54:00",
             "2017-07-27 21:17:00",
             "2017-07-30 17:50:00",
             "2017-08-01 14:21:00",
             "2017-08-07 14:24:00",
             "2017-08-08 12:58:00",
             "2017-08-08 12:58:00",
             "2017-08-10 19:58:00",
             "2017-08-12 15:17:00",
             "2017-08-12 17:03:00",
             "2017-08-15 14:02:00",
             "2017-08-20 17:06:00",
             "2017-08-22 15:09:00",
             "2017-09-22 15:04:00",
             "2017-12-16 10:20:00",
             "2017-12-27 11:20:00",
             "2017-12-27 11:22:00",
             "2017-12-29 18:51:00",
             "2018-01-01 13:45:00",
             "2018-01-06 20:15:00",
             "2018-01-07 20:37:00",
             "2018-01-08 09:45:00",
             "2018-01-08 16:58:00",
             "2018-01-09 21:49:00",
             "2018-01-12 20:48:00",
             "2018-01-13 09:51:00",
             "2018-01-17 15:24:00",
             "2018-01-17 19:42:00",
             "2018-01-18 08:55:00",
             "2018-01-19 15:30:00",
             "2018-01-19 20:16:00",
             "2018-01-22 14:22:00",
             "2018-01-24 18:27:00",
             "2018-01-27 20:17:00",
             "2018-01-28 08:40:00",
             "2018-01-31 11:41:00",
             "2018-02-02 09:26:00",
             "2018-02-04 09:12:00",
             "2018-02-07 09:09:00",
             "2018-02-09 22:29:00",
             "2018-02-11 18:57:00",
             "2018-02-14 11:27:00",
             "2018-02-20 12:49:00",
             "2018-02-24 09:33:00",
             "2018-03-03 11:10:00",
             "2018-03-10 16:16:00",
             "2018-03-17 10:29:00",
             "2018-03-20 09:47:00",
             "2018-03-23 12:44:00",
             "2018-03-31 08:36:00",
             "2018-04-06 14:12:00",
             "2018-04-13 20:38:00",
             "2018-04-20 13:31:00",
             "2018-04-20 13:34:00",
             "2018-04-28 15:27:00",
             "2018-04-30 11:04:00",
             "2018-05-16 12:33:00",
             "2018-05-17 09:34:00",
             "2018-05-18 09:48:00",
             "2018-05-21 14:16:00",
             "2018-05-28 11:39:00",
             "2018-06-02 10:01:00",
             "2018-06-19 20:35:00",
             "2018-06-22 10:12:00",
             "2018-06-24 08:26:00",
             "2018-06-28 08:33:00",
             "2018-07-03 11:04:00",
             "2018-07-20 08:57:00",
             "2018-07-26 09:35:00",
             "2018-08-09 09:04:00",
             "2018-08-11 05:53:00",
             "2018-08-16 14:43:00",
             "2018-08-18 19:49:00",
             "2018-08-20 09:48:00",
             "2018-08-20 09:51:00",
             "2018-08-29 19:08:00",
             "2018-08-30 12:44:00",
             "2018-09-03 17:27:00",
             "2018-09-10 09:26:00",
             "2018-09-16 10:31:00",
             "2018-09-16 17:55:00",
             "2018-09-23 10:26:00",
             "2018-09-26 13:41:00",
             "2018-10-01 21:04:00",
             "2018-10-04 13:10:00",
             "2018-10-12 12:31:00",
             "2018-10-17 10:26:00",
             "2018-10-26 15:32:00",
             "2018-11-01 20:44:00",
             "2018-11-04 21:30:00",
             "2018-11-07 10:14:00",
             "2018-11-07 10:17:00",
             "2018-11-12 09:00:00",
             "2018-11-15 08:35:00",
             "2018-11-17 21:54:00",
             "2018-11-18 19:57:00",
             "2018-11-26 13:25:00",
             "2018-11-28 10:23:00",
             "2018-12-01 11:50:00",
             "2018-12-07 16:16:00",
             "2018-12-08 14:41:00",
             "2018-12-09 21:16:00",
             "2018-12-15 12:39:00",
             "2018-12-16 21:03:00",
             "2018-12-17 20:04:00",
             "2018-12-24 20:23:00",
             "2018-12-25 15:28:00",
             "2018-12-25 21:22:00",
             "2018-12-25 21:24:00",
             "2018-12-25 21:25:00",
             "2018-12-25 21:26:00",
             "2018-12-25 21:26:00",
             "2018-12-25 21:27:00",
             "2018-12-27 08:00:00",
             "2018-12-27 12:31:00",
             "2018-12-29 11:36:00",
             "2018-12-31 17:53:00"
            ],
            "y": [
             70,
             124,
             346,
             365,
             370,
             432,
             2149,
             7839,
             7884,
             7899,
             11891,
             12400,
             12427,
             12444,
             13108,
             13655,
             16389,
             18438,
             18511,
             18810,
             18834,
             49543,
             86730,
             86792,
             86933,
             94748,
             95542,
             96767,
             97535,
             125027,
             157779,
             157845,
             179464,
             182678,
             182736,
             224714,
             232074,
             232551,
             234835,
             241958,
             252997,
             260279,
             275385,
             305484,
             306839,
             323574,
             323709,
             335200,
             337317,
             343198,
             369525,
             384139,
             404618,
             415896,
             447971,
             466725,
             482489,
             502294,
             509090,
             515798,
             537405,
             538911,
             562498,
             572127,
             578635,
             587102,
             597500,
             622639,
             624529,
             645121,
             650975,
             659865,
             666853,
             667861,
             669877,
             676954,
             682878,
             684035,
             697296,
             704694,
             705944,
             707203,
             709749,
             713779,
             718493,
             720037,
             720385,
             724847,
             725710,
             733745,
             735304,
             738479,
             739037,
             748620,
             749950,
             755979,
             757291,
             759829,
             761078,
             762896,
             771502,
             777129,
             778934,
             784037,
             788653,
             800578,
             801890,
             802316,
             806152,
             806299,
             808434,
             808496,
             808867,
             808892,
             808893,
             808906,
             808914,
             808922,
             808962,
             808965,
             809230,
             810747,
             811501
            ]
           }
          ],
          "layout": {
           "legend": {
            "bgcolor": "#F5F6F9",
            "font": {
             "color": "#4D5663"
            }
           },
           "paper_bgcolor": "#F5F6F9",
           "plot_bgcolor": "#F5F6F9",
           "template": {
            "data": {
             "bar": [
              {
               "error_x": {
                "color": "#2a3f5f"
               },
               "error_y": {
                "color": "#2a3f5f"
               },
               "marker": {
                "line": {
                 "color": "#E5ECF6",
                 "width": 0.5
                }
               },
               "type": "bar"
              }
             ],
             "barpolar": [
              {
               "marker": {
                "line": {
                 "color": "#E5ECF6",
                 "width": 0.5
                }
               },
               "type": "barpolar"
              }
             ],
             "carpet": [
              {
               "aaxis": {
                "endlinecolor": "#2a3f5f",
                "gridcolor": "white",
                "linecolor": "white",
                "minorgridcolor": "white",
                "startlinecolor": "#2a3f5f"
               },
               "baxis": {
                "endlinecolor": "#2a3f5f",
                "gridcolor": "white",
                "linecolor": "white",
                "minorgridcolor": "white",
                "startlinecolor": "#2a3f5f"
               },
               "type": "carpet"
              }
             ],
             "choropleth": [
              {
               "colorbar": {
                "outlinewidth": 0,
                "ticks": ""
               },
               "type": "choropleth"
              }
             ],
             "contour": [
              {
               "colorbar": {
                "outlinewidth": 0,
                "ticks": ""
               },
               "colorscale": [
                [
                 0,
                 "#0d0887"
                ],
                [
                 0.1111111111111111,
                 "#46039f"
                ],
                [
                 0.2222222222222222,
                 "#7201a8"
                ],
                [
                 0.3333333333333333,
                 "#9c179e"
                ],
                [
                 0.4444444444444444,
                 "#bd3786"
                ],
                [
                 0.5555555555555556,
                 "#d8576b"
                ],
                [
                 0.6666666666666666,
                 "#ed7953"
                ],
                [
                 0.7777777777777778,
                 "#fb9f3a"
                ],
                [
                 0.8888888888888888,
                 "#fdca26"
                ],
                [
                 1,
                 "#f0f921"
                ]
               ],
               "type": "contour"
              }
             ],
             "contourcarpet": [
              {
               "colorbar": {
                "outlinewidth": 0,
                "ticks": ""
               },
               "type": "contourcarpet"
              }
             ],
             "heatmap": [
              {
               "colorbar": {
                "outlinewidth": 0,
                "ticks": ""
               },
               "colorscale": [
                [
                 0,
                 "#0d0887"
                ],
                [
                 0.1111111111111111,
                 "#46039f"
                ],
                [
                 0.2222222222222222,
                 "#7201a8"
                ],
                [
                 0.3333333333333333,
                 "#9c179e"
                ],
                [
                 0.4444444444444444,
                 "#bd3786"
                ],
                [
                 0.5555555555555556,
                 "#d8576b"
                ],
                [
                 0.6666666666666666,
                 "#ed7953"
                ],
                [
                 0.7777777777777778,
                 "#fb9f3a"
                ],
                [
                 0.8888888888888888,
                 "#fdca26"
                ],
                [
                 1,
                 "#f0f921"
                ]
               ],
               "type": "heatmap"
              }
             ],
             "heatmapgl": [
              {
               "colorbar": {
                "outlinewidth": 0,
                "ticks": ""
               },
               "colorscale": [
                [
                 0,
                 "#0d0887"
                ],
                [
                 0.1111111111111111,
                 "#46039f"
                ],
                [
                 0.2222222222222222,
                 "#7201a8"
                ],
                [
                 0.3333333333333333,
                 "#9c179e"
                ],
                [
                 0.4444444444444444,
                 "#bd3786"
                ],
                [
                 0.5555555555555556,
                 "#d8576b"
                ],
                [
                 0.6666666666666666,
                 "#ed7953"
                ],
                [
                 0.7777777777777778,
                 "#fb9f3a"
                ],
                [
                 0.8888888888888888,
                 "#fdca26"
                ],
                [
                 1,
                 "#f0f921"
                ]
               ],
               "type": "heatmapgl"
              }
             ],
             "histogram": [
              {
               "marker": {
                "colorbar": {
                 "outlinewidth": 0,
                 "ticks": ""
                }
               },
               "type": "histogram"
              }
             ],
             "histogram2d": [
              {
               "colorbar": {
                "outlinewidth": 0,
                "ticks": ""
               },
               "colorscale": [
                [
                 0,
                 "#0d0887"
                ],
                [
                 0.1111111111111111,
                 "#46039f"
                ],
                [
                 0.2222222222222222,
                 "#7201a8"
                ],
                [
                 0.3333333333333333,
                 "#9c179e"
                ],
                [
                 0.4444444444444444,
                 "#bd3786"
                ],
                [
                 0.5555555555555556,
                 "#d8576b"
                ],
                [
                 0.6666666666666666,
                 "#ed7953"
                ],
                [
                 0.7777777777777778,
                 "#fb9f3a"
                ],
                [
                 0.8888888888888888,
                 "#fdca26"
                ],
                [
                 1,
                 "#f0f921"
                ]
               ],
               "type": "histogram2d"
              }
             ],
             "histogram2dcontour": [
              {
               "colorbar": {
                "outlinewidth": 0,
                "ticks": ""
               },
               "colorscale": [
                [
                 0,
                 "#0d0887"
                ],
                [
                 0.1111111111111111,
                 "#46039f"
                ],
                [
                 0.2222222222222222,
                 "#7201a8"
                ],
                [
                 0.3333333333333333,
                 "#9c179e"
                ],
                [
                 0.4444444444444444,
                 "#bd3786"
                ],
                [
                 0.5555555555555556,
                 "#d8576b"
                ],
                [
                 0.6666666666666666,
                 "#ed7953"
                ],
                [
                 0.7777777777777778,
                 "#fb9f3a"
                ],
                [
                 0.8888888888888888,
                 "#fdca26"
                ],
                [
                 1,
                 "#f0f921"
                ]
               ],
               "type": "histogram2dcontour"
              }
             ],
             "mesh3d": [
              {
               "colorbar": {
                "outlinewidth": 0,
                "ticks": ""
               },
               "type": "mesh3d"
              }
             ],
             "parcoords": [
              {
               "line": {
                "colorbar": {
                 "outlinewidth": 0,
                 "ticks": ""
                }
               },
               "type": "parcoords"
              }
             ],
             "pie": [
              {
               "automargin": true,
               "type": "pie"
              }
             ],
             "scatter": [
              {
               "marker": {
                "colorbar": {
                 "outlinewidth": 0,
                 "ticks": ""
                }
               },
               "type": "scatter"
              }
             ],
             "scatter3d": [
              {
               "line": {
                "colorbar": {
                 "outlinewidth": 0,
                 "ticks": ""
                }
               },
               "marker": {
                "colorbar": {
                 "outlinewidth": 0,
                 "ticks": ""
                }
               },
               "type": "scatter3d"
              }
             ],
             "scattercarpet": [
              {
               "marker": {
                "colorbar": {
                 "outlinewidth": 0,
                 "ticks": ""
                }
               },
               "type": "scattercarpet"
              }
             ],
             "scattergeo": [
              {
               "marker": {
                "colorbar": {
                 "outlinewidth": 0,
                 "ticks": ""
                }
               },
               "type": "scattergeo"
              }
             ],
             "scattergl": [
              {
               "marker": {
                "colorbar": {
                 "outlinewidth": 0,
                 "ticks": ""
                }
               },
               "type": "scattergl"
              }
             ],
             "scattermapbox": [
              {
               "marker": {
                "colorbar": {
                 "outlinewidth": 0,
                 "ticks": ""
                }
               },
               "type": "scattermapbox"
              }
             ],
             "scatterpolar": [
              {
               "marker": {
                "colorbar": {
                 "outlinewidth": 0,
                 "ticks": ""
                }
               },
               "type": "scatterpolar"
              }
             ],
             "scatterpolargl": [
              {
               "marker": {
                "colorbar": {
                 "outlinewidth": 0,
                 "ticks": ""
                }
               },
               "type": "scatterpolargl"
              }
             ],
             "scatterternary": [
              {
               "marker": {
                "colorbar": {
                 "outlinewidth": 0,
                 "ticks": ""
                }
               },
               "type": "scatterternary"
              }
             ],
             "surface": [
              {
               "colorbar": {
                "outlinewidth": 0,
                "ticks": ""
               },
               "colorscale": [
                [
                 0,
                 "#0d0887"
                ],
                [
                 0.1111111111111111,
                 "#46039f"
                ],
                [
                 0.2222222222222222,
                 "#7201a8"
                ],
                [
                 0.3333333333333333,
                 "#9c179e"
                ],
                [
                 0.4444444444444444,
                 "#bd3786"
                ],
                [
                 0.5555555555555556,
                 "#d8576b"
                ],
                [
                 0.6666666666666666,
                 "#ed7953"
                ],
                [
                 0.7777777777777778,
                 "#fb9f3a"
                ],
                [
                 0.8888888888888888,
                 "#fdca26"
                ],
                [
                 1,
                 "#f0f921"
                ]
               ],
               "type": "surface"
              }
             ],
             "table": [
              {
               "cells": {
                "fill": {
                 "color": "#EBF0F8"
                },
                "line": {
                 "color": "white"
                }
               },
               "header": {
                "fill": {
                 "color": "#C8D4E3"
                },
                "line": {
                 "color": "white"
                }
               },
               "type": "table"
              }
             ]
            },
            "layout": {
             "annotationdefaults": {
              "arrowcolor": "#2a3f5f",
              "arrowhead": 0,
              "arrowwidth": 1
             },
             "coloraxis": {
              "colorbar": {
               "outlinewidth": 0,
               "ticks": ""
              }
             },
             "colorscale": {
              "diverging": [
               [
                0,
                "#8e0152"
               ],
               [
                0.1,
                "#c51b7d"
               ],
               [
                0.2,
                "#de77ae"
               ],
               [
                0.3,
                "#f1b6da"
               ],
               [
                0.4,
                "#fde0ef"
               ],
               [
                0.5,
                "#f7f7f7"
               ],
               [
                0.6,
                "#e6f5d0"
               ],
               [
                0.7,
                "#b8e186"
               ],
               [
                0.8,
                "#7fbc41"
               ],
               [
                0.9,
                "#4d9221"
               ],
               [
                1,
                "#276419"
               ]
              ],
              "sequential": [
               [
                0,
                "#0d0887"
               ],
               [
                0.1111111111111111,
                "#46039f"
               ],
               [
                0.2222222222222222,
                "#7201a8"
               ],
               [
                0.3333333333333333,
                "#9c179e"
               ],
               [
                0.4444444444444444,
                "#bd3786"
               ],
               [
                0.5555555555555556,
                "#d8576b"
               ],
               [
                0.6666666666666666,
                "#ed7953"
               ],
               [
                0.7777777777777778,
                "#fb9f3a"
               ],
               [
                0.8888888888888888,
                "#fdca26"
               ],
               [
                1,
                "#f0f921"
               ]
              ],
              "sequentialminus": [
               [
                0,
                "#0d0887"
               ],
               [
                0.1111111111111111,
                "#46039f"
               ],
               [
                0.2222222222222222,
                "#7201a8"
               ],
               [
                0.3333333333333333,
                "#9c179e"
               ],
               [
                0.4444444444444444,
                "#bd3786"
               ],
               [
                0.5555555555555556,
                "#d8576b"
               ],
               [
                0.6666666666666666,
                "#ed7953"
               ],
               [
                0.7777777777777778,
                "#fb9f3a"
               ],
               [
                0.8888888888888888,
                "#fdca26"
               ],
               [
                1,
                "#f0f921"
               ]
              ]
             },
             "colorway": [
              "#636efa",
              "#EF553B",
              "#00cc96",
              "#ab63fa",
              "#FFA15A",
              "#19d3f3",
              "#FF6692",
              "#B6E880",
              "#FF97FF",
              "#FECB52"
             ],
             "font": {
              "color": "#2a3f5f"
             },
             "geo": {
              "bgcolor": "white",
              "lakecolor": "white",
              "landcolor": "#E5ECF6",
              "showlakes": true,
              "showland": true,
              "subunitcolor": "white"
             },
             "hoverlabel": {
              "align": "left"
             },
             "hovermode": "closest",
             "mapbox": {
              "style": "light"
             },
             "paper_bgcolor": "white",
             "plot_bgcolor": "#E5ECF6",
             "polar": {
              "angularaxis": {
               "gridcolor": "white",
               "linecolor": "white",
               "ticks": ""
              },
              "bgcolor": "#E5ECF6",
              "radialaxis": {
               "gridcolor": "white",
               "linecolor": "white",
               "ticks": ""
              }
             },
             "scene": {
              "xaxis": {
               "backgroundcolor": "#E5ECF6",
               "gridcolor": "white",
               "gridwidth": 2,
               "linecolor": "white",
               "showbackground": true,
               "ticks": "",
               "zerolinecolor": "white"
              },
              "yaxis": {
               "backgroundcolor": "#E5ECF6",
               "gridcolor": "white",
               "gridwidth": 2,
               "linecolor": "white",
               "showbackground": true,
               "ticks": "",
               "zerolinecolor": "white"
              },
              "zaxis": {
               "backgroundcolor": "#E5ECF6",
               "gridcolor": "white",
               "gridwidth": 2,
               "linecolor": "white",
               "showbackground": true,
               "ticks": "",
               "zerolinecolor": "white"
              }
             },
             "shapedefaults": {
              "line": {
               "color": "#2a3f5f"
              }
             },
             "ternary": {
              "aaxis": {
               "gridcolor": "white",
               "linecolor": "white",
               "ticks": ""
              },
              "baxis": {
               "gridcolor": "white",
               "linecolor": "white",
               "ticks": ""
              },
              "bgcolor": "#E5ECF6",
              "caxis": {
               "gridcolor": "white",
               "linecolor": "white",
               "ticks": ""
              }
             },
             "title": {
              "x": 0.05
             },
             "xaxis": {
              "automargin": true,
              "gridcolor": "white",
              "linecolor": "white",
              "ticks": "",
              "title": {
               "standoff": 15
              },
              "zerolinecolor": "white",
              "zerolinewidth": 2
             },
             "yaxis": {
              "automargin": true,
              "gridcolor": "white",
              "linecolor": "white",
              "ticks": "",
              "title": {
               "standoff": 15
              },
              "zerolinecolor": "white",
              "zerolinewidth": 2
             }
            }
           },
           "title": {
            "font": {
             "color": "#4D5663"
            },
            "text": "Cumulative Reads Until 2019-01-01"
           },
           "xaxis": {
            "gridcolor": "#E1E5ED",
            "showgrid": true,
            "tickfont": {
             "color": "#4D5663"
            },
            "title": {
             "font": {
              "color": "#4D5663"
             },
             "text": "published date"
            },
            "zerolinecolor": "#E1E5ED"
           },
           "yaxis": {
            "gridcolor": "#E1E5ED",
            "showgrid": true,
            "tickfont": {
             "color": "#4D5663"
            },
            "title": {
             "font": {
              "color": "#4D5663"
             },
             "text": "reads"
            },
            "zerolinecolor": "#E1E5ED"
           }
          }
         },
         "text/html": "<div>\n        \n        \n            <div id=\"05be8940-e546-4f67-a8fc-d00d5d9f6220\" class=\"plotly-graph-div\" style=\"height:525px; width:100%;\"></div>\n            <script type=\"text/javascript\">\n                require([\"plotly\"], function(Plotly) {\n                    window.PLOTLYENV=window.PLOTLYENV || {};\n                    window.PLOTLYENV.BASE_URL='https://plot.ly';\n                    \n                if (document.getElementById(\"05be8940-e546-4f67-a8fc-d00d5d9f6220\")) {\n                    Plotly.newPlot(\n                        '05be8940-e546-4f67-a8fc-d00d5d9f6220',\n                        [{\"line\": {\"color\": \"rgba(31, 119, 180, 1.0)\", \"dash\": \"solid\", \"shape\": \"linear\", \"width\": 1.3}, \"marker\": {\"size\": 12, \"symbol\": \"circle\"}, \"mode\": \"markers+lines\", \"name\": \"reads\", \"text\": \"\", \"type\": \"scatter\", \"x\": [\"2017-06-10 14:25:00\", \"2017-06-17 22:02:00\", \"2017-06-30 12:55:00\", \"2017-07-01 09:08:00\", \"2017-07-05 08:51:00\", \"2017-07-19 21:09:00\", \"2017-07-25 17:54:00\", \"2017-07-27 21:17:00\", \"2017-07-30 17:50:00\", \"2017-08-01 14:21:00\", \"2017-08-07 14:24:00\", \"2017-08-08 12:58:00\", \"2017-08-08 12:58:00\", \"2017-08-10 19:58:00\", \"2017-08-12 15:17:00\", \"2017-08-12 17:03:00\", \"2017-08-15 14:02:00\", \"2017-08-20 17:06:00\", \"2017-08-22 15:09:00\", \"2017-09-22 15:04:00\", \"2017-12-16 10:20:00\", \"2017-12-27 11:20:00\", \"2017-12-27 11:22:00\", \"2017-12-29 18:51:00\", \"2018-01-01 13:45:00\", \"2018-01-06 20:15:00\", \"2018-01-07 20:37:00\", \"2018-01-08 09:45:00\", \"2018-01-08 16:58:00\", \"2018-01-09 21:49:00\", \"2018-01-12 20:48:00\", \"2018-01-13 09:51:00\", \"2018-01-17 15:24:00\", \"2018-01-17 19:42:00\", \"2018-01-18 08:55:00\", \"2018-01-19 15:30:00\", \"2018-01-19 20:16:00\", \"2018-01-22 14:22:00\", \"2018-01-24 18:27:00\", \"2018-01-27 20:17:00\", \"2018-01-28 08:40:00\", \"2018-01-31 11:41:00\", \"2018-02-02 09:26:00\", \"2018-02-04 09:12:00\", \"2018-02-07 09:09:00\", \"2018-02-09 22:29:00\", \"2018-02-11 18:57:00\", \"2018-02-14 11:27:00\", \"2018-02-20 12:49:00\", \"2018-02-24 09:33:00\", \"2018-03-03 11:10:00\", \"2018-03-10 16:16:00\", \"2018-03-17 10:29:00\", \"2018-03-20 09:47:00\", \"2018-03-23 12:44:00\", \"2018-03-31 08:36:00\", \"2018-04-06 14:12:00\", \"2018-04-13 20:38:00\", \"2018-04-20 13:31:00\", \"2018-04-20 13:34:00\", \"2018-04-28 15:27:00\", \"2018-04-30 11:04:00\", \"2018-05-16 12:33:00\", \"2018-05-17 09:34:00\", \"2018-05-18 09:48:00\", \"2018-05-21 14:16:00\", \"2018-05-28 11:39:00\", \"2018-06-02 10:01:00\", \"2018-06-19 20:35:00\", \"2018-06-22 10:12:00\", \"2018-06-24 08:26:00\", \"2018-06-28 08:33:00\", \"2018-07-03 11:04:00\", \"2018-07-20 08:57:00\", \"2018-07-26 09:35:00\", \"2018-08-09 09:04:00\", \"2018-08-11 05:53:00\", \"2018-08-16 14:43:00\", \"2018-08-18 19:49:00\", \"2018-08-20 09:48:00\", \"2018-08-20 09:51:00\", \"2018-08-29 19:08:00\", \"2018-08-30 12:44:00\", \"2018-09-03 17:27:00\", \"2018-09-10 09:26:00\", \"2018-09-16 10:31:00\", \"2018-09-16 17:55:00\", \"2018-09-23 10:26:00\", \"2018-09-26 13:41:00\", \"2018-10-01 21:04:00\", \"2018-10-04 13:10:00\", \"2018-10-12 12:31:00\", \"2018-10-17 10:26:00\", \"2018-10-26 15:32:00\", \"2018-11-01 20:44:00\", \"2018-11-04 21:30:00\", \"2018-11-07 10:14:00\", \"2018-11-07 10:17:00\", \"2018-11-12 09:00:00\", \"2018-11-15 08:35:00\", \"2018-11-17 21:54:00\", \"2018-11-18 19:57:00\", \"2018-11-26 13:25:00\", \"2018-11-28 10:23:00\", \"2018-12-01 11:50:00\", \"2018-12-07 16:16:00\", \"2018-12-08 14:41:00\", \"2018-12-09 21:16:00\", \"2018-12-15 12:39:00\", \"2018-12-16 21:03:00\", \"2018-12-17 20:04:00\", \"2018-12-24 20:23:00\", \"2018-12-25 15:28:00\", \"2018-12-25 21:22:00\", \"2018-12-25 21:24:00\", \"2018-12-25 21:25:00\", \"2018-12-25 21:26:00\", \"2018-12-25 21:26:00\", \"2018-12-25 21:27:00\", \"2018-12-27 08:00:00\", \"2018-12-27 12:31:00\", \"2018-12-29 11:36:00\", \"2018-12-31 17:53:00\"], \"y\": [70, 124, 346, 365, 370, 432, 2149, 7839, 7884, 7899, 11891, 12400, 12427, 12444, 13108, 13655, 16389, 18438, 18511, 18810, 18834, 49543, 86730, 86792, 86933, 94748, 95542, 96767, 97535, 125027, 157779, 157845, 179464, 182678, 182736, 224714, 232074, 232551, 234835, 241958, 252997, 260279, 275385, 305484, 306839, 323574, 323709, 335200, 337317, 343198, 369525, 384139, 404618, 415896, 447971, 466725, 482489, 502294, 509090, 515798, 537405, 538911, 562498, 572127, 578635, 587102, 597500, 622639, 624529, 645121, 650975, 659865, 666853, 667861, 669877, 676954, 682878, 684035, 697296, 704694, 705944, 707203, 709749, 713779, 718493, 720037, 720385, 724847, 725710, 733745, 735304, 738479, 739037, 748620, 749950, 755979, 757291, 759829, 761078, 762896, 771502, 777129, 778934, 784037, 788653, 800578, 801890, 802316, 806152, 806299, 808434, 808496, 808867, 808892, 808893, 808906, 808914, 808922, 808962, 808965, 809230, 810747, 811501]}],\n                        {\"legend\": {\"bgcolor\": \"#F5F6F9\", \"font\": {\"color\": \"#4D5663\"}}, \"paper_bgcolor\": \"#F5F6F9\", \"plot_bgcolor\": \"#F5F6F9\", \"template\": {\"data\": {\"bar\": [{\"error_x\": {\"color\": \"#2a3f5f\"}, \"error_y\": {\"color\": \"#2a3f5f\"}, \"marker\": {\"line\": {\"color\": \"#E5ECF6\", \"width\": 0.5}}, \"type\": \"bar\"}], \"barpolar\": [{\"marker\": {\"line\": {\"color\": \"#E5ECF6\", \"width\": 0.5}}, \"type\": \"barpolar\"}], \"carpet\": [{\"aaxis\": {\"endlinecolor\": \"#2a3f5f\", \"gridcolor\": \"white\", \"linecolor\": \"white\", \"minorgridcolor\": \"white\", \"startlinecolor\": \"#2a3f5f\"}, \"baxis\": {\"endlinecolor\": \"#2a3f5f\", \"gridcolor\": \"white\", \"linecolor\": \"white\", \"minorgridcolor\": \"white\", \"startlinecolor\": \"#2a3f5f\"}, \"type\": \"carpet\"}], \"choropleth\": [{\"colorbar\": {\"outlinewidth\": 0, \"ticks\": \"\"}, \"type\": \"choropleth\"}], \"contour\": [{\"colorbar\": {\"outlinewidth\": 0, \"ticks\": \"\"}, \"colorscale\": [[0.0, \"#0d0887\"], [0.1111111111111111, \"#46039f\"], [0.2222222222222222, \"#7201a8\"], [0.3333333333333333, \"#9c179e\"], [0.4444444444444444, \"#bd3786\"], [0.5555555555555556, \"#d8576b\"], [0.6666666666666666, \"#ed7953\"], [0.7777777777777778, \"#fb9f3a\"], [0.8888888888888888, \"#fdca26\"], [1.0, \"#f0f921\"]], \"type\": \"contour\"}], \"contourcarpet\": [{\"colorbar\": {\"outlinewidth\": 0, \"ticks\": \"\"}, \"type\": \"contourcarpet\"}], \"heatmap\": [{\"colorbar\": {\"outlinewidth\": 0, \"ticks\": \"\"}, \"colorscale\": [[0.0, \"#0d0887\"], [0.1111111111111111, \"#46039f\"], [0.2222222222222222, \"#7201a8\"], [0.3333333333333333, \"#9c179e\"], [0.4444444444444444, \"#bd3786\"], [0.5555555555555556, \"#d8576b\"], [0.6666666666666666, \"#ed7953\"], [0.7777777777777778, \"#fb9f3a\"], [0.8888888888888888, \"#fdca26\"], [1.0, \"#f0f921\"]], \"type\": \"heatmap\"}], \"heatmapgl\": [{\"colorbar\": {\"outlinewidth\": 0, \"ticks\": \"\"}, \"colorscale\": [[0.0, \"#0d0887\"], [0.1111111111111111, \"#46039f\"], [0.2222222222222222, \"#7201a8\"], [0.3333333333333333, \"#9c179e\"], [0.4444444444444444, \"#bd3786\"], [0.5555555555555556, \"#d8576b\"], [0.6666666666666666, \"#ed7953\"], [0.7777777777777778, \"#fb9f3a\"], [0.8888888888888888, \"#fdca26\"], [1.0, \"#f0f921\"]], \"type\": \"heatmapgl\"}], \"histogram\": [{\"marker\": {\"colorbar\": {\"outlinewidth\": 0, \"ticks\": \"\"}}, \"type\": \"histogram\"}], \"histogram2d\": [{\"colorbar\": {\"outlinewidth\": 0, \"ticks\": \"\"}, \"colorscale\": [[0.0, \"#0d0887\"], [0.1111111111111111, \"#46039f\"], [0.2222222222222222, \"#7201a8\"], [0.3333333333333333, \"#9c179e\"], [0.4444444444444444, \"#bd3786\"], [0.5555555555555556, \"#d8576b\"], [0.6666666666666666, \"#ed7953\"], [0.7777777777777778, \"#fb9f3a\"], [0.8888888888888888, \"#fdca26\"], [1.0, \"#f0f921\"]], \"type\": \"histogram2d\"}], \"histogram2dcontour\": [{\"colorbar\": {\"outlinewidth\": 0, \"ticks\": \"\"}, \"colorscale\": [[0.0, \"#0d0887\"], [0.1111111111111111, \"#46039f\"], [0.2222222222222222, \"#7201a8\"], [0.3333333333333333, \"#9c179e\"], [0.4444444444444444, \"#bd3786\"], [0.5555555555555556, \"#d8576b\"], [0.6666666666666666, \"#ed7953\"], [0.7777777777777778, \"#fb9f3a\"], [0.8888888888888888, \"#fdca26\"], [1.0, \"#f0f921\"]], \"type\": \"histogram2dcontour\"}], \"mesh3d\": [{\"colorbar\": {\"outlinewidth\": 0, \"ticks\": \"\"}, \"type\": \"mesh3d\"}], \"parcoords\": [{\"line\": {\"colorbar\": {\"outlinewidth\": 0, \"ticks\": \"\"}}, \"type\": \"parcoords\"}], \"pie\": [{\"automargin\": true, \"type\": \"pie\"}], \"scatter\": [{\"marker\": {\"colorbar\": {\"outlinewidth\": 0, \"ticks\": \"\"}}, \"type\": \"scatter\"}], \"scatter3d\": [{\"line\": {\"colorbar\": {\"outlinewidth\": 0, \"ticks\": \"\"}}, \"marker\": {\"colorbar\": {\"outlinewidth\": 0, \"ticks\": \"\"}}, \"type\": \"scatter3d\"}], \"scattercarpet\": [{\"marker\": {\"colorbar\": {\"outlinewidth\": 0, \"ticks\": \"\"}}, \"type\": \"scattercarpet\"}], \"scattergeo\": [{\"marker\": {\"colorbar\": {\"outlinewidth\": 0, \"ticks\": \"\"}}, \"type\": \"scattergeo\"}], \"scattergl\": [{\"marker\": {\"colorbar\": {\"outlinewidth\": 0, \"ticks\": \"\"}}, \"type\": \"scattergl\"}], \"scattermapbox\": [{\"marker\": {\"colorbar\": {\"outlinewidth\": 0, \"ticks\": \"\"}}, \"type\": \"scattermapbox\"}], \"scatterpolar\": [{\"marker\": {\"colorbar\": {\"outlinewidth\": 0, \"ticks\": \"\"}}, \"type\": \"scatterpolar\"}], \"scatterpolargl\": [{\"marker\": {\"colorbar\": {\"outlinewidth\": 0, \"ticks\": \"\"}}, \"type\": \"scatterpolargl\"}], \"scatterternary\": [{\"marker\": {\"colorbar\": {\"outlinewidth\": 0, \"ticks\": \"\"}}, \"type\": \"scatterternary\"}], \"surface\": [{\"colorbar\": {\"outlinewidth\": 0, \"ticks\": \"\"}, \"colorscale\": [[0.0, \"#0d0887\"], [0.1111111111111111, \"#46039f\"], [0.2222222222222222, \"#7201a8\"], [0.3333333333333333, \"#9c179e\"], [0.4444444444444444, \"#bd3786\"], [0.5555555555555556, \"#d8576b\"], [0.6666666666666666, \"#ed7953\"], [0.7777777777777778, \"#fb9f3a\"], [0.8888888888888888, \"#fdca26\"], [1.0, \"#f0f921\"]], \"type\": \"surface\"}], \"table\": [{\"cells\": {\"fill\": {\"color\": \"#EBF0F8\"}, \"line\": {\"color\": \"white\"}}, \"header\": {\"fill\": {\"color\": \"#C8D4E3\"}, \"line\": {\"color\": \"white\"}}, \"type\": \"table\"}]}, \"layout\": {\"annotationdefaults\": {\"arrowcolor\": \"#2a3f5f\", \"arrowhead\": 0, \"arrowwidth\": 1}, \"coloraxis\": {\"colorbar\": {\"outlinewidth\": 0, \"ticks\": \"\"}}, \"colorscale\": {\"diverging\": [[0, \"#8e0152\"], [0.1, \"#c51b7d\"], [0.2, \"#de77ae\"], [0.3, \"#f1b6da\"], [0.4, \"#fde0ef\"], [0.5, \"#f7f7f7\"], [0.6, \"#e6f5d0\"], [0.7, \"#b8e186\"], [0.8, \"#7fbc41\"], [0.9, \"#4d9221\"], [1, \"#276419\"]], \"sequential\": [[0.0, \"#0d0887\"], [0.1111111111111111, \"#46039f\"], [0.2222222222222222, \"#7201a8\"], [0.3333333333333333, \"#9c179e\"], [0.4444444444444444, \"#bd3786\"], [0.5555555555555556, \"#d8576b\"], [0.6666666666666666, \"#ed7953\"], [0.7777777777777778, \"#fb9f3a\"], [0.8888888888888888, \"#fdca26\"], [1.0, \"#f0f921\"]], \"sequentialminus\": [[0.0, \"#0d0887\"], [0.1111111111111111, \"#46039f\"], [0.2222222222222222, \"#7201a8\"], [0.3333333333333333, \"#9c179e\"], [0.4444444444444444, \"#bd3786\"], [0.5555555555555556, \"#d8576b\"], [0.6666666666666666, \"#ed7953\"], [0.7777777777777778, \"#fb9f3a\"], [0.8888888888888888, \"#fdca26\"], [1.0, \"#f0f921\"]]}, \"colorway\": [\"#636efa\", \"#EF553B\", \"#00cc96\", \"#ab63fa\", \"#FFA15A\", \"#19d3f3\", \"#FF6692\", \"#B6E880\", \"#FF97FF\", \"#FECB52\"], \"font\": {\"color\": \"#2a3f5f\"}, \"geo\": {\"bgcolor\": \"white\", \"lakecolor\": \"white\", \"landcolor\": \"#E5ECF6\", \"showlakes\": true, \"showland\": true, \"subunitcolor\": \"white\"}, \"hoverlabel\": {\"align\": \"left\"}, \"hovermode\": \"closest\", \"mapbox\": {\"style\": \"light\"}, \"paper_bgcolor\": \"white\", \"plot_bgcolor\": \"#E5ECF6\", \"polar\": {\"angularaxis\": {\"gridcolor\": \"white\", \"linecolor\": \"white\", \"ticks\": \"\"}, \"bgcolor\": \"#E5ECF6\", \"radialaxis\": {\"gridcolor\": \"white\", \"linecolor\": \"white\", \"ticks\": \"\"}}, \"scene\": {\"xaxis\": {\"backgroundcolor\": \"#E5ECF6\", \"gridcolor\": \"white\", \"gridwidth\": 2, \"linecolor\": \"white\", \"showbackground\": true, \"ticks\": \"\", \"zerolinecolor\": \"white\"}, \"yaxis\": {\"backgroundcolor\": \"#E5ECF6\", \"gridcolor\": \"white\", \"gridwidth\": 2, \"linecolor\": \"white\", \"showbackground\": true, \"ticks\": \"\", \"zerolinecolor\": \"white\"}, \"zaxis\": {\"backgroundcolor\": \"#E5ECF6\", \"gridcolor\": \"white\", \"gridwidth\": 2, \"linecolor\": \"white\", \"showbackground\": true, \"ticks\": \"\", \"zerolinecolor\": \"white\"}}, \"shapedefaults\": {\"line\": {\"color\": \"#2a3f5f\"}}, \"ternary\": {\"aaxis\": {\"gridcolor\": \"white\", \"linecolor\": \"white\", \"ticks\": \"\"}, \"baxis\": {\"gridcolor\": \"white\", \"linecolor\": \"white\", \"ticks\": \"\"}, \"bgcolor\": \"#E5ECF6\", \"caxis\": {\"gridcolor\": \"white\", \"linecolor\": \"white\", \"ticks\": \"\"}}, \"title\": {\"x\": 0.05}, \"xaxis\": {\"automargin\": true, \"gridcolor\": \"white\", \"linecolor\": \"white\", \"ticks\": \"\", \"title\": {\"standoff\": 15}, \"zerolinecolor\": \"white\", \"zerolinewidth\": 2}, \"yaxis\": {\"automargin\": true, \"gridcolor\": \"white\", \"linecolor\": \"white\", \"ticks\": \"\", \"title\": {\"standoff\": 15}, \"zerolinecolor\": \"white\", \"zerolinewidth\": 2}}}, \"title\": {\"font\": {\"color\": \"#4D5663\"}, \"text\": \"Cumulative Reads Until 2019-01-01\"}, \"xaxis\": {\"gridcolor\": \"#E1E5ED\", \"showgrid\": true, \"tickfont\": {\"color\": \"#4D5663\"}, \"title\": {\"font\": {\"color\": \"#4D5663\"}, \"text\": \"published date\"}, \"zerolinecolor\": \"#E1E5ED\"}, \"yaxis\": {\"gridcolor\": \"#E1E5ED\", \"showgrid\": true, \"tickfont\": {\"color\": \"#4D5663\"}, \"title\": {\"font\": {\"color\": \"#4D5663\"}, \"text\": \"reads\"}, \"zerolinecolor\": \"#E1E5ED\"}},\n                        {\"showLink\": true, \"linkText\": \"Export to plot.ly\", \"plotlyServerURL\": \"https://plot.ly\", \"responsive\": true}\n                    ).then(function(){\n                            \nvar gd = document.getElementById('05be8940-e546-4f67-a8fc-d00d5d9f6220');\nvar x = new MutationObserver(function (mutations, observer) {{\n        var display = window.getComputedStyle(gd).display;\n        if (!display || display === 'none') {{\n            console.log([gd, 'removed!']);\n            Plotly.purge(gd);\n            observer.disconnect();\n        }}\n}});\n\n// Listen for the removal of the full notebook cells\nvar notebookContainer = gd.closest('#notebook-container');\nif (notebookContainer) {{\n    x.observe(notebookContainer, {childList: true});\n}}\n\n// Listen for the clearing of the current output cell\nvar outputEl = gd.closest('.output');\nif (outputEl) {{\n    x.observe(outputEl, {childList: true});\n}}\n\n                        })\n                };\n                });\n            </script>\n        </div>"
        },
        "metadata": {},
        "output_type": "display_data"
       }
      ]
     }
    },
    "a23fcba1ce424310a0beb1eacc0132fb": {
     "model_module": "@jupyter-widgets/controls",
     "model_module_version": "1.5.0",
     "model_name": "DropdownModel",
     "state": {
      "_dom_classes": [],
      "_model_module": "@jupyter-widgets/controls",
      "_model_module_version": "1.5.0",
      "_model_name": "DropdownModel",
      "_options_labels": [
       "reads",
       "views",
       "word_count",
       "claps",
       "fans",
       "read_time"
      ],
      "_view_count": null,
      "_view_module": "@jupyter-widgets/controls",
      "_view_module_version": "1.5.0",
      "_view_name": "DropdownView",
      "description": "x",
      "description_tooltip": null,
      "disabled": false,
      "index": 0,
      "layout": "IPY_MODEL_5e66b479799f49378668d2cddf0276b8",
      "style": "IPY_MODEL_3a01a160254e4ff9b9d2aedf142c08f4"
     }
    },
    "ab6d18cad9784838aad2d360a7d43ce8": {
     "model_module": "@jupyter-widgets/controls",
     "model_module_version": "1.5.0",
     "model_name": "DescriptionStyleModel",
     "state": {
      "_model_module": "@jupyter-widgets/controls",
      "_model_module_version": "1.5.0",
      "_model_name": "DescriptionStyleModel",
      "_view_count": null,
      "_view_module": "@jupyter-widgets/base",
      "_view_module_version": "1.2.0",
      "_view_name": "StyleView",
      "description_width": ""
     }
    },
    "ab95a0f106994194855eb7489e311893": {
     "model_module": "@jupyter-widgets/base",
     "model_module_version": "1.2.0",
     "model_name": "LayoutModel",
     "state": {
      "_model_module": "@jupyter-widgets/base",
      "_model_module_version": "1.2.0",
      "_model_name": "LayoutModel",
      "_view_count": null,
      "_view_module": "@jupyter-widgets/base",
      "_view_module_version": "1.2.0",
      "_view_name": "LayoutView",
      "align_content": null,
      "align_items": null,
      "align_self": null,
      "border": null,
      "bottom": null,
      "display": null,
      "flex": null,
      "flex_flow": null,
      "grid_area": null,
      "grid_auto_columns": null,
      "grid_auto_flow": null,
      "grid_auto_rows": null,
      "grid_column": null,
      "grid_gap": null,
      "grid_row": null,
      "grid_template_areas": null,
      "grid_template_columns": null,
      "grid_template_rows": null,
      "height": null,
      "justify_content": null,
      "justify_items": null,
      "left": null,
      "margin": null,
      "max_height": null,
      "max_width": null,
      "min_height": null,
      "min_width": null,
      "object_fit": null,
      "object_position": null,
      "order": null,
      "overflow": null,
      "overflow_x": null,
      "overflow_y": null,
      "padding": null,
      "right": null,
      "top": null,
      "visibility": null,
      "width": null
     }
    },
    "ad0b4d0e944445ea878e7589c531c3f7": {
     "model_module": "@jupyter-widgets/base",
     "model_module_version": "1.2.0",
     "model_name": "LayoutModel",
     "state": {
      "_model_module": "@jupyter-widgets/base",
      "_model_module_version": "1.2.0",
      "_model_name": "LayoutModel",
      "_view_count": null,
      "_view_module": "@jupyter-widgets/base",
      "_view_module_version": "1.2.0",
      "_view_name": "LayoutView",
      "align_content": null,
      "align_items": null,
      "align_self": null,
      "border": null,
      "bottom": null,
      "display": null,
      "flex": null,
      "flex_flow": null,
      "grid_area": null,
      "grid_auto_columns": null,
      "grid_auto_flow": null,
      "grid_auto_rows": null,
      "grid_column": null,
      "grid_gap": null,
      "grid_row": null,
      "grid_template_areas": null,
      "grid_template_columns": null,
      "grid_template_rows": null,
      "height": null,
      "justify_content": null,
      "justify_items": null,
      "left": null,
      "margin": null,
      "max_height": null,
      "max_width": null,
      "min_height": null,
      "min_width": null,
      "object_fit": null,
      "object_position": null,
      "order": null,
      "overflow": null,
      "overflow_x": null,
      "overflow_y": null,
      "padding": null,
      "right": null,
      "top": null,
      "visibility": null,
      "width": null
     }
    },
    "ad7247d0c89941a7b7c92ae850aa7a2c": {
     "model_module": "@jupyter-widgets/base",
     "model_module_version": "1.2.0",
     "model_name": "LayoutModel",
     "state": {
      "_model_module": "@jupyter-widgets/base",
      "_model_module_version": "1.2.0",
      "_model_name": "LayoutModel",
      "_view_count": null,
      "_view_module": "@jupyter-widgets/base",
      "_view_module_version": "1.2.0",
      "_view_name": "LayoutView",
      "align_content": null,
      "align_items": null,
      "align_self": null,
      "border": null,
      "bottom": null,
      "display": null,
      "flex": null,
      "flex_flow": null,
      "grid_area": null,
      "grid_auto_columns": null,
      "grid_auto_flow": null,
      "grid_auto_rows": null,
      "grid_column": null,
      "grid_gap": null,
      "grid_row": null,
      "grid_template_areas": null,
      "grid_template_columns": null,
      "grid_template_rows": null,
      "height": null,
      "justify_content": null,
      "justify_items": null,
      "left": null,
      "margin": null,
      "max_height": null,
      "max_width": null,
      "min_height": null,
      "min_width": null,
      "object_fit": null,
      "object_position": null,
      "order": null,
      "overflow": null,
      "overflow_x": null,
      "overflow_y": null,
      "padding": null,
      "right": null,
      "top": null,
      "visibility": null,
      "width": null
     }
    },
    "ae3497def63b4f4fa1f2a6cabd5160ec": {
     "model_module": "@jupyter-widgets/controls",
     "model_module_version": "1.5.0",
     "model_name": "DropdownModel",
     "state": {
      "_dom_classes": [],
      "_model_module": "@jupyter-widgets/controls",
      "_model_module_version": "1.5.0",
      "_model_name": "DropdownModel",
      "_options_labels": [
       "summer.jpg",
       "winter.jpg",
       "spring.jpg",
       "autumn.jpg"
      ],
      "_view_count": null,
      "_view_module": "@jupyter-widgets/controls",
      "_view_module_version": "1.5.0",
      "_view_name": "DropdownView",
      "description": "file",
      "description_tooltip": null,
      "disabled": false,
      "index": 0,
      "layout": "IPY_MODEL_351028f2c5844084a3c6e7d2929cad86",
      "style": "IPY_MODEL_276fb505e02341cba67add3e7b24f4fa"
     }
    },
    "b01820d88e764d10bcd716190a30a6d5": {
     "model_module": "@jupyter-widgets/base",
     "model_module_version": "1.2.0",
     "model_name": "LayoutModel",
     "state": {
      "_model_module": "@jupyter-widgets/base",
      "_model_module_version": "1.2.0",
      "_model_name": "LayoutModel",
      "_view_count": null,
      "_view_module": "@jupyter-widgets/base",
      "_view_module_version": "1.2.0",
      "_view_name": "LayoutView",
      "align_content": null,
      "align_items": null,
      "align_self": null,
      "border": null,
      "bottom": null,
      "display": null,
      "flex": null,
      "flex_flow": null,
      "grid_area": null,
      "grid_auto_columns": null,
      "grid_auto_flow": null,
      "grid_auto_rows": null,
      "grid_column": null,
      "grid_gap": null,
      "grid_row": null,
      "grid_template_areas": null,
      "grid_template_columns": null,
      "grid_template_rows": null,
      "height": null,
      "justify_content": null,
      "justify_items": null,
      "left": null,
      "margin": null,
      "max_height": null,
      "max_width": null,
      "min_height": null,
      "min_width": null,
      "object_fit": null,
      "object_position": null,
      "order": null,
      "overflow": null,
      "overflow_x": null,
      "overflow_y": null,
      "padding": null,
      "right": null,
      "top": null,
      "visibility": null,
      "width": null
     }
    },
    "b21e8ee1833c46f1a4d1011b99221de0": {
     "model_module": "@jupyter-widgets/base",
     "model_module_version": "1.2.0",
     "model_name": "LayoutModel",
     "state": {
      "_model_module": "@jupyter-widgets/base",
      "_model_module_version": "1.2.0",
      "_model_name": "LayoutModel",
      "_view_count": null,
      "_view_module": "@jupyter-widgets/base",
      "_view_module_version": "1.2.0",
      "_view_name": "LayoutView",
      "align_content": null,
      "align_items": null,
      "align_self": null,
      "border": null,
      "bottom": null,
      "display": null,
      "flex": null,
      "flex_flow": null,
      "grid_area": null,
      "grid_auto_columns": null,
      "grid_auto_flow": null,
      "grid_auto_rows": null,
      "grid_column": null,
      "grid_gap": null,
      "grid_row": null,
      "grid_template_areas": null,
      "grid_template_columns": null,
      "grid_template_rows": null,
      "height": null,
      "justify_content": null,
      "justify_items": null,
      "left": null,
      "margin": null,
      "max_height": null,
      "max_width": null,
      "min_height": null,
      "min_width": null,
      "object_fit": null,
      "object_position": null,
      "order": null,
      "overflow": null,
      "overflow_x": null,
      "overflow_y": null,
      "padding": null,
      "right": null,
      "top": null,
      "visibility": null,
      "width": null
     }
    },
    "b369242fa1f44fc0a9f28b1bd39ba614": {
     "model_module": "@jupyter-widgets/base",
     "model_module_version": "1.2.0",
     "model_name": "LayoutModel",
     "state": {
      "_model_module": "@jupyter-widgets/base",
      "_model_module_version": "1.2.0",
      "_model_name": "LayoutModel",
      "_view_count": null,
      "_view_module": "@jupyter-widgets/base",
      "_view_module_version": "1.2.0",
      "_view_name": "LayoutView",
      "align_content": null,
      "align_items": null,
      "align_self": null,
      "border": null,
      "bottom": null,
      "display": null,
      "flex": null,
      "flex_flow": null,
      "grid_area": null,
      "grid_auto_columns": null,
      "grid_auto_flow": null,
      "grid_auto_rows": null,
      "grid_column": null,
      "grid_gap": null,
      "grid_row": null,
      "grid_template_areas": null,
      "grid_template_columns": null,
      "grid_template_rows": null,
      "height": null,
      "justify_content": null,
      "justify_items": null,
      "left": null,
      "margin": null,
      "max_height": null,
      "max_width": null,
      "min_height": null,
      "min_width": null,
      "object_fit": null,
      "object_position": null,
      "order": null,
      "overflow": null,
      "overflow_x": null,
      "overflow_y": null,
      "padding": null,
      "right": null,
      "top": null,
      "visibility": null,
      "width": null
     }
    },
    "b587b9678450446ea05989ed63f4c96b": {
     "model_module": "@jupyter-widgets/base",
     "model_module_version": "1.2.0",
     "model_name": "LayoutModel",
     "state": {
      "_model_module": "@jupyter-widgets/base",
      "_model_module_version": "1.2.0",
      "_model_name": "LayoutModel",
      "_view_count": null,
      "_view_module": "@jupyter-widgets/base",
      "_view_module_version": "1.2.0",
      "_view_name": "LayoutView",
      "align_content": null,
      "align_items": null,
      "align_self": null,
      "border": null,
      "bottom": null,
      "display": null,
      "flex": null,
      "flex_flow": null,
      "grid_area": null,
      "grid_auto_columns": null,
      "grid_auto_flow": null,
      "grid_auto_rows": null,
      "grid_column": null,
      "grid_gap": null,
      "grid_row": null,
      "grid_template_areas": null,
      "grid_template_columns": null,
      "grid_template_rows": null,
      "height": null,
      "justify_content": null,
      "justify_items": null,
      "left": null,
      "margin": null,
      "max_height": null,
      "max_width": null,
      "min_height": null,
      "min_width": null,
      "object_fit": null,
      "object_position": null,
      "order": null,
      "overflow": null,
      "overflow_x": null,
      "overflow_y": null,
      "padding": null,
      "right": null,
      "top": null,
      "visibility": null,
      "width": null
     }
    },
    "b6add506370343a4bc992c0c5ee3e30e": {
     "model_module": "@jupyter-widgets/controls",
     "model_module_version": "1.5.0",
     "model_name": "SliderStyleModel",
     "state": {
      "_model_module": "@jupyter-widgets/controls",
      "_model_module_version": "1.5.0",
      "_model_name": "SliderStyleModel",
      "_view_count": null,
      "_view_module": "@jupyter-widgets/base",
      "_view_module_version": "1.2.0",
      "_view_name": "StyleView",
      "description_width": "",
      "handle_color": null
     }
    },
    "b7521f33664548c3a0300900abee16d7": {
     "model_module": "@jupyter-widgets/controls",
     "model_module_version": "1.5.0",
     "model_name": "VBoxModel",
     "state": {
      "_dom_classes": [
       "widget-interact"
      ],
      "_model_module": "@jupyter-widgets/controls",
      "_model_module_version": "1.5.0",
      "_model_name": "VBoxModel",
      "_view_count": null,
      "_view_module": "@jupyter-widgets/controls",
      "_view_module_version": "1.5.0",
      "_view_name": "VBoxView",
      "box_style": "",
      "children": [
       "IPY_MODEL_044a03c3c14d48ae90fc8487503d72b1",
       "IPY_MODEL_db2722ac478245e589b4d5ca26b08ad2",
       "IPY_MODEL_6372fe5e97f341d79ac724d156fc1a06"
      ],
      "layout": "IPY_MODEL_f2f462cd6f864041b7b4f8c442a2e478"
     }
    },
    "ba402184d87c47d0b6d432844a088129": {
     "model_module": "@jupyter-widgets/controls",
     "model_module_version": "1.5.0",
     "model_name": "DropdownModel",
     "state": {
      "_dom_classes": [],
      "_model_module": "@jupyter-widgets/controls",
      "_model_module_version": "1.5.0",
      "_model_name": "DropdownModel",
      "_options_labels": [
       "reads",
       "views",
       "word_count",
       "claps",
       "fans",
       "read_time"
      ],
      "_view_count": null,
      "_view_module": "@jupyter-widgets/controls",
      "_view_module_version": "1.5.0",
      "_view_name": "DropdownView",
      "description": "x",
      "description_tooltip": null,
      "disabled": false,
      "index": 0,
      "layout": "IPY_MODEL_daa654866ad844cfa5aaa21b69191745",
      "style": "IPY_MODEL_58eb193c7ccf40469d21790bb95e549c"
     }
    },
    "bac49c5681c645cea5037bf67beaecc5": {
     "model_module": "@jupyter-widgets/controls",
     "model_module_version": "1.5.0",
     "model_name": "VBoxModel",
     "state": {
      "_dom_classes": [
       "widget-interact"
      ],
      "_model_module": "@jupyter-widgets/controls",
      "_model_module_version": "1.5.0",
      "_model_name": "VBoxModel",
      "_view_count": null,
      "_view_module": "@jupyter-widgets/controls",
      "_view_module_version": "1.5.0",
      "_view_name": "VBoxView",
      "box_style": "",
      "children": [
       "IPY_MODEL_88afd24f360944f29a36f78a84999ad4",
       "IPY_MODEL_48876c065f974c0fa019d7849b26828b",
       "IPY_MODEL_f54c7ff70f4449be9c1591476a81f440"
      ],
      "layout": "IPY_MODEL_e3967d58c4da4f55902ca1044c32fa6c"
     }
    },
    "bbcd75a418d54a668f4c2607239b1446": {
     "model_module": "@jupyter-widgets/controls",
     "model_module_version": "1.5.0",
     "model_name": "DropdownModel",
     "state": {
      "_dom_classes": [],
      "_model_module": "@jupyter-widgets/controls",
      "_model_module_version": "1.5.0",
      "_model_name": "DropdownModel",
      "_options_labels": [
       "reads",
       "views",
       "word_count",
       "claps",
       "fans",
       "read_time"
      ],
      "_view_count": null,
      "_view_module": "@jupyter-widgets/controls",
      "_view_module_version": "1.5.0",
      "_view_name": "DropdownView",
      "description": "column",
      "description_tooltip": null,
      "disabled": false,
      "index": 0,
      "layout": "IPY_MODEL_458c832e18ac421d980e29733ec53927",
      "style": "IPY_MODEL_374ddb5d01a04a12b8ede94bcd7a644d"
     }
    },
    "bdca331791b049fa9415906edcc1cf33": {
     "model_module": "@jupyter-widgets/output",
     "model_module_version": "1.0.0",
     "model_name": "OutputModel",
     "state": {
      "_dom_classes": [],
      "_model_module": "@jupyter-widgets/output",
      "_model_module_version": "1.0.0",
      "_model_name": "OutputModel",
      "_view_count": null,
      "_view_module": "@jupyter-widgets/output",
      "_view_module_version": "1.0.0",
      "_view_name": "OutputView",
      "layout": "IPY_MODEL_168cdaf2f14e43378aeefdac3c97a489",
      "msg_id": "",
      "outputs": [
       {
        "data": {
         "application/vnd.plotly.v1+json": {
          "config": {
           "linkText": "Export to plot.ly",
           "plotlyServerURL": "https://plot.ly",
           "showLink": true
          },
          "data": [
           {
            "line": {
             "color": "rgba(216, 179, 101, 1.0)",
             "dash": "solid",
             "shape": "linear",
             "width": 1.3
            },
            "marker": {
             "size": 12,
             "symbol": "circle"
            },
            "mode": "markers",
            "name": "views",
            "text": "",
            "type": "scatter",
            "x": [
             70,
             54,
             222,
             19,
             5,
             62,
             1717,
             5690,
             45,
             15,
             3992,
             509,
             27,
             17,
             664,
             547,
             2734,
             2049,
             73,
             299,
             24,
             30709,
             37187,
             62,
             141,
             7815,
             794,
             1225,
             768,
             27492,
             32752,
             66,
             21619,
             3214,
             58,
             41978,
             7360,
             477,
             2284,
             7123,
             11039,
             7282,
             15106,
             30099,
             1355,
             16735,
             135,
             11491,
             2117,
             5881,
             26327,
             14614,
             20479,
             11278,
             32075,
             18754,
             15764,
             19805,
             6796,
             6708,
             21607,
             1506,
             23587,
             9629,
             6508,
             8467,
             10398,
             25139,
             1890,
             20592,
             5854,
             8890,
             6988,
             1008,
             2016,
             7077,
             5924,
             1157,
             13261,
             7398,
             1250,
             1259,
             2546,
             4030,
             4714,
             1544,
             348,
             4462,
             863,
             8035,
             1559,
             3175,
             558,
             9583,
             1330,
             6029,
             1312,
             2538,
             1249,
             1818,
             8606,
             5627,
             1805,
             5103,
             4616,
             11925,
             1312,
             426,
             3836,
             147,
             2135,
             62,
             371,
             25,
             1,
             13,
             8,
             8,
             40,
             3,
             265,
             1517,
             754,
             363,
             485,
             378,
             24002,
             2809,
             343,
             266,
             2320,
             96,
             165
            ],
            "y": [
             166,
             178,
             1109,
             53,
             59,
             315,
             9723,
             24079,
             136,
             69,
             28387,
             4174,
             145,
             58,
             5581,
             4798,
             9589,
             13367,
             136,
             2259,
             38,
             173714,
             88394,
             168,
             322,
             34222,
             2803,
             3573,
             2470,
             114637,
             130417,
             158,
             81609,
             5171,
             109,
             134699,
             20529,
             1700,
             4179,
             17040,
             35745,
             15370,
             50691,
             48157,
             3141,
             57830,
             232,
             35505,
             4946,
             13571,
             128661,
             65054,
             55791,
             30494,
             118318,
             56245,
             50184,
             58471,
             21887,
             25208,
             68317,
             2380,
             124970,
             46238,
             27428,
             33761,
             43577,
             114762,
             11243,
             80618,
             26665,
             32502,
             48494,
             5556,
             4781,
             29190,
             18228,
             4266,
             30141,
             44201,
             6385,
             1693,
             14561,
             14989,
             24975,
             3772,
             1905,
             24517,
             3044,
             29689,
             7608,
             13464,
             2154,
             33755,
             3342,
             35601,
             5389,
             6570,
             5740,
             8382,
             28625,
             16118,
             10056,
             23622,
             23617,
             26603,
             5933,
             891,
             13166,
             415,
             6766,
             256,
             978,
             226,
             3,
             107,
             85,
             27,
             139,
             37,
             1375,
             5070,
             3768,
             955,
             2783,
             1477,
             71225,
             15291,
             1372,
             1005,
             8806,
             559,
             693
            ]
           }
          ],
          "layout": {
           "legend": {
            "bgcolor": "#FFFFFF",
            "font": {
             "color": "#666666"
            }
           },
           "paper_bgcolor": "#FFFFFF",
           "plot_bgcolor": "#E5E5E5",
           "template": {
            "data": {
             "bar": [
              {
               "error_x": {
                "color": "#2a3f5f"
               },
               "error_y": {
                "color": "#2a3f5f"
               },
               "marker": {
                "line": {
                 "color": "#E5ECF6",
                 "width": 0.5
                }
               },
               "type": "bar"
              }
             ],
             "barpolar": [
              {
               "marker": {
                "line": {
                 "color": "#E5ECF6",
                 "width": 0.5
                }
               },
               "type": "barpolar"
              }
             ],
             "carpet": [
              {
               "aaxis": {
                "endlinecolor": "#2a3f5f",
                "gridcolor": "white",
                "linecolor": "white",
                "minorgridcolor": "white",
                "startlinecolor": "#2a3f5f"
               },
               "baxis": {
                "endlinecolor": "#2a3f5f",
                "gridcolor": "white",
                "linecolor": "white",
                "minorgridcolor": "white",
                "startlinecolor": "#2a3f5f"
               },
               "type": "carpet"
              }
             ],
             "choropleth": [
              {
               "colorbar": {
                "outlinewidth": 0,
                "ticks": ""
               },
               "type": "choropleth"
              }
             ],
             "contour": [
              {
               "colorbar": {
                "outlinewidth": 0,
                "ticks": ""
               },
               "colorscale": [
                [
                 0,
                 "#0d0887"
                ],
                [
                 0.1111111111111111,
                 "#46039f"
                ],
                [
                 0.2222222222222222,
                 "#7201a8"
                ],
                [
                 0.3333333333333333,
                 "#9c179e"
                ],
                [
                 0.4444444444444444,
                 "#bd3786"
                ],
                [
                 0.5555555555555556,
                 "#d8576b"
                ],
                [
                 0.6666666666666666,
                 "#ed7953"
                ],
                [
                 0.7777777777777778,
                 "#fb9f3a"
                ],
                [
                 0.8888888888888888,
                 "#fdca26"
                ],
                [
                 1,
                 "#f0f921"
                ]
               ],
               "type": "contour"
              }
             ],
             "contourcarpet": [
              {
               "colorbar": {
                "outlinewidth": 0,
                "ticks": ""
               },
               "type": "contourcarpet"
              }
             ],
             "heatmap": [
              {
               "colorbar": {
                "outlinewidth": 0,
                "ticks": ""
               },
               "colorscale": [
                [
                 0,
                 "#0d0887"
                ],
                [
                 0.1111111111111111,
                 "#46039f"
                ],
                [
                 0.2222222222222222,
                 "#7201a8"
                ],
                [
                 0.3333333333333333,
                 "#9c179e"
                ],
                [
                 0.4444444444444444,
                 "#bd3786"
                ],
                [
                 0.5555555555555556,
                 "#d8576b"
                ],
                [
                 0.6666666666666666,
                 "#ed7953"
                ],
                [
                 0.7777777777777778,
                 "#fb9f3a"
                ],
                [
                 0.8888888888888888,
                 "#fdca26"
                ],
                [
                 1,
                 "#f0f921"
                ]
               ],
               "type": "heatmap"
              }
             ],
             "heatmapgl": [
              {
               "colorbar": {
                "outlinewidth": 0,
                "ticks": ""
               },
               "colorscale": [
                [
                 0,
                 "#0d0887"
                ],
                [
                 0.1111111111111111,
                 "#46039f"
                ],
                [
                 0.2222222222222222,
                 "#7201a8"
                ],
                [
                 0.3333333333333333,
                 "#9c179e"
                ],
                [
                 0.4444444444444444,
                 "#bd3786"
                ],
                [
                 0.5555555555555556,
                 "#d8576b"
                ],
                [
                 0.6666666666666666,
                 "#ed7953"
                ],
                [
                 0.7777777777777778,
                 "#fb9f3a"
                ],
                [
                 0.8888888888888888,
                 "#fdca26"
                ],
                [
                 1,
                 "#f0f921"
                ]
               ],
               "type": "heatmapgl"
              }
             ],
             "histogram": [
              {
               "marker": {
                "colorbar": {
                 "outlinewidth": 0,
                 "ticks": ""
                }
               },
               "type": "histogram"
              }
             ],
             "histogram2d": [
              {
               "colorbar": {
                "outlinewidth": 0,
                "ticks": ""
               },
               "colorscale": [
                [
                 0,
                 "#0d0887"
                ],
                [
                 0.1111111111111111,
                 "#46039f"
                ],
                [
                 0.2222222222222222,
                 "#7201a8"
                ],
                [
                 0.3333333333333333,
                 "#9c179e"
                ],
                [
                 0.4444444444444444,
                 "#bd3786"
                ],
                [
                 0.5555555555555556,
                 "#d8576b"
                ],
                [
                 0.6666666666666666,
                 "#ed7953"
                ],
                [
                 0.7777777777777778,
                 "#fb9f3a"
                ],
                [
                 0.8888888888888888,
                 "#fdca26"
                ],
                [
                 1,
                 "#f0f921"
                ]
               ],
               "type": "histogram2d"
              }
             ],
             "histogram2dcontour": [
              {
               "colorbar": {
                "outlinewidth": 0,
                "ticks": ""
               },
               "colorscale": [
                [
                 0,
                 "#0d0887"
                ],
                [
                 0.1111111111111111,
                 "#46039f"
                ],
                [
                 0.2222222222222222,
                 "#7201a8"
                ],
                [
                 0.3333333333333333,
                 "#9c179e"
                ],
                [
                 0.4444444444444444,
                 "#bd3786"
                ],
                [
                 0.5555555555555556,
                 "#d8576b"
                ],
                [
                 0.6666666666666666,
                 "#ed7953"
                ],
                [
                 0.7777777777777778,
                 "#fb9f3a"
                ],
                [
                 0.8888888888888888,
                 "#fdca26"
                ],
                [
                 1,
                 "#f0f921"
                ]
               ],
               "type": "histogram2dcontour"
              }
             ],
             "mesh3d": [
              {
               "colorbar": {
                "outlinewidth": 0,
                "ticks": ""
               },
               "type": "mesh3d"
              }
             ],
             "parcoords": [
              {
               "line": {
                "colorbar": {
                 "outlinewidth": 0,
                 "ticks": ""
                }
               },
               "type": "parcoords"
              }
             ],
             "pie": [
              {
               "automargin": true,
               "type": "pie"
              }
             ],
             "scatter": [
              {
               "marker": {
                "colorbar": {
                 "outlinewidth": 0,
                 "ticks": ""
                }
               },
               "type": "scatter"
              }
             ],
             "scatter3d": [
              {
               "line": {
                "colorbar": {
                 "outlinewidth": 0,
                 "ticks": ""
                }
               },
               "marker": {
                "colorbar": {
                 "outlinewidth": 0,
                 "ticks": ""
                }
               },
               "type": "scatter3d"
              }
             ],
             "scattercarpet": [
              {
               "marker": {
                "colorbar": {
                 "outlinewidth": 0,
                 "ticks": ""
                }
               },
               "type": "scattercarpet"
              }
             ],
             "scattergeo": [
              {
               "marker": {
                "colorbar": {
                 "outlinewidth": 0,
                 "ticks": ""
                }
               },
               "type": "scattergeo"
              }
             ],
             "scattergl": [
              {
               "marker": {
                "colorbar": {
                 "outlinewidth": 0,
                 "ticks": ""
                }
               },
               "type": "scattergl"
              }
             ],
             "scattermapbox": [
              {
               "marker": {
                "colorbar": {
                 "outlinewidth": 0,
                 "ticks": ""
                }
               },
               "type": "scattermapbox"
              }
             ],
             "scatterpolar": [
              {
               "marker": {
                "colorbar": {
                 "outlinewidth": 0,
                 "ticks": ""
                }
               },
               "type": "scatterpolar"
              }
             ],
             "scatterpolargl": [
              {
               "marker": {
                "colorbar": {
                 "outlinewidth": 0,
                 "ticks": ""
                }
               },
               "type": "scatterpolargl"
              }
             ],
             "scatterternary": [
              {
               "marker": {
                "colorbar": {
                 "outlinewidth": 0,
                 "ticks": ""
                }
               },
               "type": "scatterternary"
              }
             ],
             "surface": [
              {
               "colorbar": {
                "outlinewidth": 0,
                "ticks": ""
               },
               "colorscale": [
                [
                 0,
                 "#0d0887"
                ],
                [
                 0.1111111111111111,
                 "#46039f"
                ],
                [
                 0.2222222222222222,
                 "#7201a8"
                ],
                [
                 0.3333333333333333,
                 "#9c179e"
                ],
                [
                 0.4444444444444444,
                 "#bd3786"
                ],
                [
                 0.5555555555555556,
                 "#d8576b"
                ],
                [
                 0.6666666666666666,
                 "#ed7953"
                ],
                [
                 0.7777777777777778,
                 "#fb9f3a"
                ],
                [
                 0.8888888888888888,
                 "#fdca26"
                ],
                [
                 1,
                 "#f0f921"
                ]
               ],
               "type": "surface"
              }
             ],
             "table": [
              {
               "cells": {
                "fill": {
                 "color": "#EBF0F8"
                },
                "line": {
                 "color": "white"
                }
               },
               "header": {
                "fill": {
                 "color": "#C8D4E3"
                },
                "line": {
                 "color": "white"
                }
               },
               "type": "table"
              }
             ]
            },
            "layout": {
             "annotationdefaults": {
              "arrowcolor": "#2a3f5f",
              "arrowhead": 0,
              "arrowwidth": 1
             },
             "coloraxis": {
              "colorbar": {
               "outlinewidth": 0,
               "ticks": ""
              }
             },
             "colorscale": {
              "diverging": [
               [
                0,
                "#8e0152"
               ],
               [
                0.1,
                "#c51b7d"
               ],
               [
                0.2,
                "#de77ae"
               ],
               [
                0.3,
                "#f1b6da"
               ],
               [
                0.4,
                "#fde0ef"
               ],
               [
                0.5,
                "#f7f7f7"
               ],
               [
                0.6,
                "#e6f5d0"
               ],
               [
                0.7,
                "#b8e186"
               ],
               [
                0.8,
                "#7fbc41"
               ],
               [
                0.9,
                "#4d9221"
               ],
               [
                1,
                "#276419"
               ]
              ],
              "sequential": [
               [
                0,
                "#0d0887"
               ],
               [
                0.1111111111111111,
                "#46039f"
               ],
               [
                0.2222222222222222,
                "#7201a8"
               ],
               [
                0.3333333333333333,
                "#9c179e"
               ],
               [
                0.4444444444444444,
                "#bd3786"
               ],
               [
                0.5555555555555556,
                "#d8576b"
               ],
               [
                0.6666666666666666,
                "#ed7953"
               ],
               [
                0.7777777777777778,
                "#fb9f3a"
               ],
               [
                0.8888888888888888,
                "#fdca26"
               ],
               [
                1,
                "#f0f921"
               ]
              ],
              "sequentialminus": [
               [
                0,
                "#0d0887"
               ],
               [
                0.1111111111111111,
                "#46039f"
               ],
               [
                0.2222222222222222,
                "#7201a8"
               ],
               [
                0.3333333333333333,
                "#9c179e"
               ],
               [
                0.4444444444444444,
                "#bd3786"
               ],
               [
                0.5555555555555556,
                "#d8576b"
               ],
               [
                0.6666666666666666,
                "#ed7953"
               ],
               [
                0.7777777777777778,
                "#fb9f3a"
               ],
               [
                0.8888888888888888,
                "#fdca26"
               ],
               [
                1,
                "#f0f921"
               ]
              ]
             },
             "colorway": [
              "#636efa",
              "#EF553B",
              "#00cc96",
              "#ab63fa",
              "#FFA15A",
              "#19d3f3",
              "#FF6692",
              "#B6E880",
              "#FF97FF",
              "#FECB52"
             ],
             "font": {
              "color": "#2a3f5f"
             },
             "geo": {
              "bgcolor": "white",
              "lakecolor": "white",
              "landcolor": "#E5ECF6",
              "showlakes": true,
              "showland": true,
              "subunitcolor": "white"
             },
             "hoverlabel": {
              "align": "left"
             },
             "hovermode": "closest",
             "mapbox": {
              "style": "light"
             },
             "paper_bgcolor": "white",
             "plot_bgcolor": "#E5ECF6",
             "polar": {
              "angularaxis": {
               "gridcolor": "white",
               "linecolor": "white",
               "ticks": ""
              },
              "bgcolor": "#E5ECF6",
              "radialaxis": {
               "gridcolor": "white",
               "linecolor": "white",
               "ticks": ""
              }
             },
             "scene": {
              "xaxis": {
               "backgroundcolor": "#E5ECF6",
               "gridcolor": "white",
               "gridwidth": 2,
               "linecolor": "white",
               "showbackground": true,
               "ticks": "",
               "zerolinecolor": "white"
              },
              "yaxis": {
               "backgroundcolor": "#E5ECF6",
               "gridcolor": "white",
               "gridwidth": 2,
               "linecolor": "white",
               "showbackground": true,
               "ticks": "",
               "zerolinecolor": "white"
              },
              "zaxis": {
               "backgroundcolor": "#E5ECF6",
               "gridcolor": "white",
               "gridwidth": 2,
               "linecolor": "white",
               "showbackground": true,
               "ticks": "",
               "zerolinecolor": "white"
              }
             },
             "shapedefaults": {
              "line": {
               "color": "#2a3f5f"
              }
             },
             "ternary": {
              "aaxis": {
               "gridcolor": "white",
               "linecolor": "white",
               "ticks": ""
              },
              "baxis": {
               "gridcolor": "white",
               "linecolor": "white",
               "ticks": ""
              },
              "bgcolor": "#E5ECF6",
              "caxis": {
               "gridcolor": "white",
               "linecolor": "white",
               "ticks": ""
              }
             },
             "title": {
              "x": 0.05
             },
             "xaxis": {
              "automargin": true,
              "gridcolor": "white",
              "linecolor": "white",
              "ticks": "",
              "title": {
               "standoff": 15
              },
              "zerolinecolor": "white",
              "zerolinewidth": 2
             },
             "yaxis": {
              "automargin": true,
              "gridcolor": "white",
              "linecolor": "white",
              "ticks": "",
              "title": {
               "standoff": 15
              },
              "zerolinecolor": "white",
              "zerolinewidth": 2
             }
            }
           },
           "title": {
            "font": {
             "color": "#151516"
            },
            "text": "Views vs Reads"
           },
           "xaxis": {
            "gridcolor": "#F6F6F6",
            "showgrid": true,
            "tickfont": {
             "color": "#666666"
            },
            "title": {
             "font": {
              "color": "#666666"
             },
             "text": "Reads"
            },
            "zerolinecolor": "#F6F6F6"
           },
           "yaxis": {
            "gridcolor": "#F6F6F6",
            "showgrid": true,
            "tickfont": {
             "color": "#666666"
            },
            "title": {
             "font": {
              "color": "#666666"
             },
             "text": "Views"
            },
            "zerolinecolor": "#F6F6F6"
           }
          }
         },
         "text/html": "<div>\n        \n        \n            <div id=\"0203a107-bfe1-402b-80cf-b797ed18654a\" class=\"plotly-graph-div\" style=\"height:525px; width:100%;\"></div>\n            <script type=\"text/javascript\">\n                require([\"plotly\"], function(Plotly) {\n                    window.PLOTLYENV=window.PLOTLYENV || {};\n                    window.PLOTLYENV.BASE_URL='https://plot.ly';\n                    \n                if (document.getElementById(\"0203a107-bfe1-402b-80cf-b797ed18654a\")) {\n                    Plotly.newPlot(\n                        '0203a107-bfe1-402b-80cf-b797ed18654a',\n                        [{\"line\": {\"color\": \"rgba(216, 179, 101, 1.0)\", \"dash\": \"solid\", \"shape\": \"linear\", \"width\": 1.3}, \"marker\": {\"size\": 12, \"symbol\": \"circle\"}, \"mode\": \"markers\", \"name\": \"views\", \"text\": \"\", \"type\": \"scatter\", \"x\": [70, 54, 222, 19, 5, 62, 1717, 5690, 45, 15, 3992, 509, 27, 17, 664, 547, 2734, 2049, 73, 299, 24, 30709, 37187, 62, 141, 7815, 794, 1225, 768, 27492, 32752, 66, 21619, 3214, 58, 41978, 7360, 477, 2284, 7123, 11039, 7282, 15106, 30099, 1355, 16735, 135, 11491, 2117, 5881, 26327, 14614, 20479, 11278, 32075, 18754, 15764, 19805, 6796, 6708, 21607, 1506, 23587, 9629, 6508, 8467, 10398, 25139, 1890, 20592, 5854, 8890, 6988, 1008, 2016, 7077, 5924, 1157, 13261, 7398, 1250, 1259, 2546, 4030, 4714, 1544, 348, 4462, 863, 8035, 1559, 3175, 558, 9583, 1330, 6029, 1312, 2538, 1249, 1818, 8606, 5627, 1805, 5103, 4616, 11925, 1312, 426, 3836, 147, 2135, 62, 371, 25, 1, 13, 8, 8, 40, 3, 265, 1517, 754, 363, 485, 378, 24002, 2809, 343, 266, 2320, 96, 165], \"y\": [166, 178, 1109, 53, 59, 315, 9723, 24079, 136, 69, 28387, 4174, 145, 58, 5581, 4798, 9589, 13367, 136, 2259, 38, 173714, 88394, 168, 322, 34222, 2803, 3573, 2470, 114637, 130417, 158, 81609, 5171, 109, 134699, 20529, 1700, 4179, 17040, 35745, 15370, 50691, 48157, 3141, 57830, 232, 35505, 4946, 13571, 128661, 65054, 55791, 30494, 118318, 56245, 50184, 58471, 21887, 25208, 68317, 2380, 124970, 46238, 27428, 33761, 43577, 114762, 11243, 80618, 26665, 32502, 48494, 5556, 4781, 29190, 18228, 4266, 30141, 44201, 6385, 1693, 14561, 14989, 24975, 3772, 1905, 24517, 3044, 29689, 7608, 13464, 2154, 33755, 3342, 35601, 5389, 6570, 5740, 8382, 28625, 16118, 10056, 23622, 23617, 26603, 5933, 891, 13166, 415, 6766, 256, 978, 226, 3, 107, 85, 27, 139, 37, 1375, 5070, 3768, 955, 2783, 1477, 71225, 15291, 1372, 1005, 8806, 559, 693]}],\n                        {\"legend\": {\"bgcolor\": \"#FFFFFF\", \"font\": {\"color\": \"#666666\"}}, \"paper_bgcolor\": \"#FFFFFF\", \"plot_bgcolor\": \"#E5E5E5\", \"template\": {\"data\": {\"bar\": [{\"error_x\": {\"color\": \"#2a3f5f\"}, \"error_y\": {\"color\": \"#2a3f5f\"}, \"marker\": {\"line\": {\"color\": \"#E5ECF6\", \"width\": 0.5}}, \"type\": \"bar\"}], \"barpolar\": [{\"marker\": {\"line\": {\"color\": \"#E5ECF6\", \"width\": 0.5}}, \"type\": \"barpolar\"}], \"carpet\": [{\"aaxis\": {\"endlinecolor\": \"#2a3f5f\", \"gridcolor\": \"white\", \"linecolor\": \"white\", \"minorgridcolor\": \"white\", \"startlinecolor\": \"#2a3f5f\"}, \"baxis\": {\"endlinecolor\": \"#2a3f5f\", \"gridcolor\": \"white\", \"linecolor\": \"white\", \"minorgridcolor\": \"white\", \"startlinecolor\": \"#2a3f5f\"}, \"type\": \"carpet\"}], \"choropleth\": [{\"colorbar\": {\"outlinewidth\": 0, \"ticks\": \"\"}, \"type\": \"choropleth\"}], \"contour\": [{\"colorbar\": {\"outlinewidth\": 0, \"ticks\": \"\"}, \"colorscale\": [[0.0, \"#0d0887\"], [0.1111111111111111, \"#46039f\"], [0.2222222222222222, \"#7201a8\"], [0.3333333333333333, \"#9c179e\"], [0.4444444444444444, \"#bd3786\"], [0.5555555555555556, \"#d8576b\"], [0.6666666666666666, \"#ed7953\"], [0.7777777777777778, \"#fb9f3a\"], [0.8888888888888888, \"#fdca26\"], [1.0, \"#f0f921\"]], \"type\": \"contour\"}], \"contourcarpet\": [{\"colorbar\": {\"outlinewidth\": 0, \"ticks\": \"\"}, \"type\": \"contourcarpet\"}], \"heatmap\": [{\"colorbar\": {\"outlinewidth\": 0, \"ticks\": \"\"}, \"colorscale\": [[0.0, \"#0d0887\"], [0.1111111111111111, \"#46039f\"], [0.2222222222222222, \"#7201a8\"], [0.3333333333333333, \"#9c179e\"], [0.4444444444444444, \"#bd3786\"], [0.5555555555555556, \"#d8576b\"], [0.6666666666666666, \"#ed7953\"], [0.7777777777777778, \"#fb9f3a\"], [0.8888888888888888, \"#fdca26\"], [1.0, \"#f0f921\"]], \"type\": \"heatmap\"}], \"heatmapgl\": [{\"colorbar\": {\"outlinewidth\": 0, \"ticks\": \"\"}, \"colorscale\": [[0.0, \"#0d0887\"], [0.1111111111111111, \"#46039f\"], [0.2222222222222222, \"#7201a8\"], [0.3333333333333333, \"#9c179e\"], [0.4444444444444444, \"#bd3786\"], [0.5555555555555556, \"#d8576b\"], [0.6666666666666666, \"#ed7953\"], [0.7777777777777778, \"#fb9f3a\"], [0.8888888888888888, \"#fdca26\"], [1.0, \"#f0f921\"]], \"type\": \"heatmapgl\"}], \"histogram\": [{\"marker\": {\"colorbar\": {\"outlinewidth\": 0, \"ticks\": \"\"}}, \"type\": \"histogram\"}], \"histogram2d\": [{\"colorbar\": {\"outlinewidth\": 0, \"ticks\": \"\"}, \"colorscale\": [[0.0, \"#0d0887\"], [0.1111111111111111, \"#46039f\"], [0.2222222222222222, \"#7201a8\"], [0.3333333333333333, \"#9c179e\"], [0.4444444444444444, \"#bd3786\"], [0.5555555555555556, \"#d8576b\"], [0.6666666666666666, \"#ed7953\"], [0.7777777777777778, \"#fb9f3a\"], [0.8888888888888888, \"#fdca26\"], [1.0, \"#f0f921\"]], \"type\": \"histogram2d\"}], \"histogram2dcontour\": [{\"colorbar\": {\"outlinewidth\": 0, \"ticks\": \"\"}, \"colorscale\": [[0.0, \"#0d0887\"], [0.1111111111111111, \"#46039f\"], [0.2222222222222222, \"#7201a8\"], [0.3333333333333333, \"#9c179e\"], [0.4444444444444444, \"#bd3786\"], [0.5555555555555556, \"#d8576b\"], [0.6666666666666666, \"#ed7953\"], [0.7777777777777778, \"#fb9f3a\"], [0.8888888888888888, \"#fdca26\"], [1.0, \"#f0f921\"]], \"type\": \"histogram2dcontour\"}], \"mesh3d\": [{\"colorbar\": {\"outlinewidth\": 0, \"ticks\": \"\"}, \"type\": \"mesh3d\"}], \"parcoords\": [{\"line\": {\"colorbar\": {\"outlinewidth\": 0, \"ticks\": \"\"}}, \"type\": \"parcoords\"}], \"pie\": [{\"automargin\": true, \"type\": \"pie\"}], \"scatter\": [{\"marker\": {\"colorbar\": {\"outlinewidth\": 0, \"ticks\": \"\"}}, \"type\": \"scatter\"}], \"scatter3d\": [{\"line\": {\"colorbar\": {\"outlinewidth\": 0, \"ticks\": \"\"}}, \"marker\": {\"colorbar\": {\"outlinewidth\": 0, \"ticks\": \"\"}}, \"type\": \"scatter3d\"}], \"scattercarpet\": [{\"marker\": {\"colorbar\": {\"outlinewidth\": 0, \"ticks\": \"\"}}, \"type\": \"scattercarpet\"}], \"scattergeo\": [{\"marker\": {\"colorbar\": {\"outlinewidth\": 0, \"ticks\": \"\"}}, \"type\": \"scattergeo\"}], \"scattergl\": [{\"marker\": {\"colorbar\": {\"outlinewidth\": 0, \"ticks\": \"\"}}, \"type\": \"scattergl\"}], \"scattermapbox\": [{\"marker\": {\"colorbar\": {\"outlinewidth\": 0, \"ticks\": \"\"}}, \"type\": \"scattermapbox\"}], \"scatterpolar\": [{\"marker\": {\"colorbar\": {\"outlinewidth\": 0, \"ticks\": \"\"}}, \"type\": \"scatterpolar\"}], \"scatterpolargl\": [{\"marker\": {\"colorbar\": {\"outlinewidth\": 0, \"ticks\": \"\"}}, \"type\": \"scatterpolargl\"}], \"scatterternary\": [{\"marker\": {\"colorbar\": {\"outlinewidth\": 0, \"ticks\": \"\"}}, \"type\": \"scatterternary\"}], \"surface\": [{\"colorbar\": {\"outlinewidth\": 0, \"ticks\": \"\"}, \"colorscale\": [[0.0, \"#0d0887\"], [0.1111111111111111, \"#46039f\"], [0.2222222222222222, \"#7201a8\"], [0.3333333333333333, \"#9c179e\"], [0.4444444444444444, \"#bd3786\"], [0.5555555555555556, \"#d8576b\"], [0.6666666666666666, \"#ed7953\"], [0.7777777777777778, \"#fb9f3a\"], [0.8888888888888888, \"#fdca26\"], [1.0, \"#f0f921\"]], \"type\": \"surface\"}], \"table\": [{\"cells\": {\"fill\": {\"color\": \"#EBF0F8\"}, \"line\": {\"color\": \"white\"}}, \"header\": {\"fill\": {\"color\": \"#C8D4E3\"}, \"line\": {\"color\": \"white\"}}, \"type\": \"table\"}]}, \"layout\": {\"annotationdefaults\": {\"arrowcolor\": \"#2a3f5f\", \"arrowhead\": 0, \"arrowwidth\": 1}, \"coloraxis\": {\"colorbar\": {\"outlinewidth\": 0, \"ticks\": \"\"}}, \"colorscale\": {\"diverging\": [[0, \"#8e0152\"], [0.1, \"#c51b7d\"], [0.2, \"#de77ae\"], [0.3, \"#f1b6da\"], [0.4, \"#fde0ef\"], [0.5, \"#f7f7f7\"], [0.6, \"#e6f5d0\"], [0.7, \"#b8e186\"], [0.8, \"#7fbc41\"], [0.9, \"#4d9221\"], [1, \"#276419\"]], \"sequential\": [[0.0, \"#0d0887\"], [0.1111111111111111, \"#46039f\"], [0.2222222222222222, \"#7201a8\"], [0.3333333333333333, \"#9c179e\"], [0.4444444444444444, \"#bd3786\"], [0.5555555555555556, \"#d8576b\"], [0.6666666666666666, \"#ed7953\"], [0.7777777777777778, \"#fb9f3a\"], [0.8888888888888888, \"#fdca26\"], [1.0, \"#f0f921\"]], \"sequentialminus\": [[0.0, \"#0d0887\"], [0.1111111111111111, \"#46039f\"], [0.2222222222222222, \"#7201a8\"], [0.3333333333333333, \"#9c179e\"], [0.4444444444444444, \"#bd3786\"], [0.5555555555555556, \"#d8576b\"], [0.6666666666666666, \"#ed7953\"], [0.7777777777777778, \"#fb9f3a\"], [0.8888888888888888, \"#fdca26\"], [1.0, \"#f0f921\"]]}, \"colorway\": [\"#636efa\", \"#EF553B\", \"#00cc96\", \"#ab63fa\", \"#FFA15A\", \"#19d3f3\", \"#FF6692\", \"#B6E880\", \"#FF97FF\", \"#FECB52\"], \"font\": {\"color\": \"#2a3f5f\"}, \"geo\": {\"bgcolor\": \"white\", \"lakecolor\": \"white\", \"landcolor\": \"#E5ECF6\", \"showlakes\": true, \"showland\": true, \"subunitcolor\": \"white\"}, \"hoverlabel\": {\"align\": \"left\"}, \"hovermode\": \"closest\", \"mapbox\": {\"style\": \"light\"}, \"paper_bgcolor\": \"white\", \"plot_bgcolor\": \"#E5ECF6\", \"polar\": {\"angularaxis\": {\"gridcolor\": \"white\", \"linecolor\": \"white\", \"ticks\": \"\"}, \"bgcolor\": \"#E5ECF6\", \"radialaxis\": {\"gridcolor\": \"white\", \"linecolor\": \"white\", \"ticks\": \"\"}}, \"scene\": {\"xaxis\": {\"backgroundcolor\": \"#E5ECF6\", \"gridcolor\": \"white\", \"gridwidth\": 2, \"linecolor\": \"white\", \"showbackground\": true, \"ticks\": \"\", \"zerolinecolor\": \"white\"}, \"yaxis\": {\"backgroundcolor\": \"#E5ECF6\", \"gridcolor\": \"white\", \"gridwidth\": 2, \"linecolor\": \"white\", \"showbackground\": true, \"ticks\": \"\", \"zerolinecolor\": \"white\"}, \"zaxis\": {\"backgroundcolor\": \"#E5ECF6\", \"gridcolor\": \"white\", \"gridwidth\": 2, \"linecolor\": \"white\", \"showbackground\": true, \"ticks\": \"\", \"zerolinecolor\": \"white\"}}, \"shapedefaults\": {\"line\": {\"color\": \"#2a3f5f\"}}, \"ternary\": {\"aaxis\": {\"gridcolor\": \"white\", \"linecolor\": \"white\", \"ticks\": \"\"}, \"baxis\": {\"gridcolor\": \"white\", \"linecolor\": \"white\", \"ticks\": \"\"}, \"bgcolor\": \"#E5ECF6\", \"caxis\": {\"gridcolor\": \"white\", \"linecolor\": \"white\", \"ticks\": \"\"}}, \"title\": {\"x\": 0.05}, \"xaxis\": {\"automargin\": true, \"gridcolor\": \"white\", \"linecolor\": \"white\", \"ticks\": \"\", \"title\": {\"standoff\": 15}, \"zerolinecolor\": \"white\", \"zerolinewidth\": 2}, \"yaxis\": {\"automargin\": true, \"gridcolor\": \"white\", \"linecolor\": \"white\", \"ticks\": \"\", \"title\": {\"standoff\": 15}, \"zerolinecolor\": \"white\", \"zerolinewidth\": 2}}}, \"title\": {\"font\": {\"color\": \"#151516\"}, \"text\": \"Views vs Reads\"}, \"xaxis\": {\"gridcolor\": \"#F6F6F6\", \"showgrid\": true, \"tickfont\": {\"color\": \"#666666\"}, \"title\": {\"font\": {\"color\": \"#666666\"}, \"text\": \"Reads\"}, \"zerolinecolor\": \"#F6F6F6\"}, \"yaxis\": {\"gridcolor\": \"#F6F6F6\", \"showgrid\": true, \"tickfont\": {\"color\": \"#666666\"}, \"title\": {\"font\": {\"color\": \"#666666\"}, \"text\": \"Views\"}, \"zerolinecolor\": \"#F6F6F6\"}},\n                        {\"showLink\": true, \"linkText\": \"Export to plot.ly\", \"plotlyServerURL\": \"https://plot.ly\", \"responsive\": true}\n                    ).then(function(){\n                            \nvar gd = document.getElementById('0203a107-bfe1-402b-80cf-b797ed18654a');\nvar x = new MutationObserver(function (mutations, observer) {{\n        var display = window.getComputedStyle(gd).display;\n        if (!display || display === 'none') {{\n            console.log([gd, 'removed!']);\n            Plotly.purge(gd);\n            observer.disconnect();\n        }}\n}});\n\n// Listen for the removal of the full notebook cells\nvar notebookContainer = gd.closest('#notebook-container');\nif (notebookContainer) {{\n    x.observe(notebookContainer, {childList: true});\n}}\n\n// Listen for the clearing of the current output cell\nvar outputEl = gd.closest('.output');\nif (outputEl) {{\n    x.observe(outputEl, {childList: true});\n}}\n\n                        })\n                };\n                });\n            </script>\n        </div>"
        },
        "metadata": {},
        "output_type": "display_data"
       }
      ]
     }
    },
    "c0212b1468f346bdaa5877a8143df16e": {
     "model_module": "@jupyter-widgets/base",
     "model_module_version": "1.2.0",
     "model_name": "LayoutModel",
     "state": {
      "_model_module": "@jupyter-widgets/base",
      "_model_module_version": "1.2.0",
      "_model_name": "LayoutModel",
      "_view_count": null,
      "_view_module": "@jupyter-widgets/base",
      "_view_module_version": "1.2.0",
      "_view_name": "LayoutView",
      "align_content": null,
      "align_items": null,
      "align_self": null,
      "border": null,
      "bottom": null,
      "display": null,
      "flex": null,
      "flex_flow": null,
      "grid_area": null,
      "grid_auto_columns": null,
      "grid_auto_flow": null,
      "grid_auto_rows": null,
      "grid_column": null,
      "grid_gap": null,
      "grid_row": null,
      "grid_template_areas": null,
      "grid_template_columns": null,
      "grid_template_rows": null,
      "height": null,
      "justify_content": null,
      "justify_items": null,
      "left": null,
      "margin": null,
      "max_height": null,
      "max_width": null,
      "min_height": null,
      "min_width": null,
      "object_fit": null,
      "object_position": null,
      "order": null,
      "overflow": null,
      "overflow_x": null,
      "overflow_y": null,
      "padding": null,
      "right": null,
      "top": null,
      "visibility": null,
      "width": null
     }
    },
    "c027eaaa9b3e4242ac18f53b839fd33a": {
     "model_module": "@jupyter-widgets/controls",
     "model_module_version": "1.5.0",
     "model_name": "DescriptionStyleModel",
     "state": {
      "_model_module": "@jupyter-widgets/controls",
      "_model_module_version": "1.5.0",
      "_model_name": "DescriptionStyleModel",
      "_view_count": null,
      "_view_module": "@jupyter-widgets/base",
      "_view_module_version": "1.2.0",
      "_view_name": "StyleView",
      "description_width": ""
     }
    },
    "c166d411ec6845db8537c8be8ee3afbb": {
     "model_module": "@jupyter-widgets/controls",
     "model_module_version": "1.5.0",
     "model_name": "DropdownModel",
     "state": {
      "_dom_classes": [],
      "_model_module": "@jupyter-widgets/controls",
      "_model_module_version": "1.5.0",
      "_model_name": "DropdownModel",
      "_options_labels": [
       "binned_read_time",
       "binned_word_count",
       "publication",
       "types"
      ],
      "_view_count": null,
      "_view_module": "@jupyter-widgets/controls",
      "_view_module_version": "1.5.0",
      "_view_name": "DropdownView",
      "description": "categories",
      "description_tooltip": null,
      "disabled": false,
      "index": 0,
      "layout": "IPY_MODEL_657c1b7bec8241169435235e39e1e404",
      "style": "IPY_MODEL_7b4b44a3993c4d9fa3445d3e5dd90bd9"
     }
    },
    "c55549b2462b429aa0c5afd47a975fdd": {
     "model_module": "@jupyter-widgets/base",
     "model_module_version": "1.2.0",
     "model_name": "LayoutModel",
     "state": {
      "_model_module": "@jupyter-widgets/base",
      "_model_module_version": "1.2.0",
      "_model_name": "LayoutModel",
      "_view_count": null,
      "_view_module": "@jupyter-widgets/base",
      "_view_module_version": "1.2.0",
      "_view_name": "LayoutView",
      "align_content": null,
      "align_items": null,
      "align_self": null,
      "border": null,
      "bottom": null,
      "display": null,
      "flex": null,
      "flex_flow": null,
      "grid_area": null,
      "grid_auto_columns": null,
      "grid_auto_flow": null,
      "grid_auto_rows": null,
      "grid_column": null,
      "grid_gap": null,
      "grid_row": null,
      "grid_template_areas": null,
      "grid_template_columns": null,
      "grid_template_rows": null,
      "height": null,
      "justify_content": null,
      "justify_items": null,
      "left": null,
      "margin": null,
      "max_height": null,
      "max_width": null,
      "min_height": null,
      "min_width": null,
      "object_fit": null,
      "object_position": null,
      "order": null,
      "overflow": null,
      "overflow_x": null,
      "overflow_y": null,
      "padding": null,
      "right": null,
      "top": null,
      "visibility": null,
      "width": null
     }
    },
    "c63e1d1d394944129894e782d3b6e1d6": {
     "model_module": "@jupyter-widgets/controls",
     "model_module_version": "1.5.0",
     "model_name": "VBoxModel",
     "state": {
      "_dom_classes": [
       "widget-interact"
      ],
      "_model_module": "@jupyter-widgets/controls",
      "_model_module_version": "1.5.0",
      "_model_name": "VBoxModel",
      "_view_count": null,
      "_view_module": "@jupyter-widgets/controls",
      "_view_module_version": "1.5.0",
      "_view_name": "VBoxView",
      "box_style": "",
      "children": [
       "IPY_MODEL_6b7532b73a4d4882a0e45b1d63d07ee6",
       "IPY_MODEL_ae3497def63b4f4fa1f2a6cabd5160ec",
       "IPY_MODEL_2e80e3640d3a4f5dadf9a9b656866efd"
      ],
      "layout": "IPY_MODEL_9744272ac6a84918a86d3ecdc00521c4"
     }
    },
    "c778ca9a88324c8a9d95550d04d778c9": {
     "model_module": "@jupyter-widgets/output",
     "model_module_version": "1.0.0",
     "model_name": "OutputModel",
     "state": {
      "_dom_classes": [],
      "_model_module": "@jupyter-widgets/output",
      "_model_module_version": "1.0.0",
      "_model_name": "OutputModel",
      "_view_count": null,
      "_view_module": "@jupyter-widgets/output",
      "_view_module_version": "1.0.0",
      "_view_name": "OutputView",
      "layout": "IPY_MODEL_fee9e0dc81bb416f96e9b0af3974135e",
      "msg_id": "",
      "outputs": [
       {
        "name": "stdout",
        "output_type": "stream",
        "text": [
         "You published 99 articles between 2018-01-01 and 2019-01-01.\n",
         "These articles totalled 267,707 words and 18.85 hours to read.\n"
        ]
       }
      ]
     }
    },
    "cba1cc65aeac429ca6dae0d54cb5da3c": {
     "model_module": "@jupyter-widgets/output",
     "model_module_version": "1.0.0",
     "model_name": "OutputModel",
     "state": {
      "_dom_classes": [],
      "_model_module": "@jupyter-widgets/output",
      "_model_module_version": "1.0.0",
      "_model_name": "OutputModel",
      "_view_count": null,
      "_view_module": "@jupyter-widgets/output",
      "_view_module_version": "1.0.0",
      "_view_name": "OutputView",
      "layout": "IPY_MODEL_46e6cc0c1de2491d8a4b31c6d4b02cb9",
      "msg_id": "",
      "outputs": [
       {
        "data": {
         "application/vnd.plotly.v1+json": {
          "config": {
           "linkText": "Export to plot.ly",
           "plotlyServerURL": "https://plot.ly",
           "showLink": true
          },
          "data": [
           {
            "line": {
             "color": "rgba(216, 179, 101, 1.0)",
             "dash": "solid",
             "shape": "linear",
             "width": 1.3
            },
            "marker": {
             "size": 12,
             "symbol": "circle"
            },
            "mode": "markers",
            "name": "views",
            "text": "",
            "type": "scatter",
            "x": [
             70,
             54,
             222,
             19,
             5,
             62,
             1717,
             5690,
             45,
             15,
             3992,
             509,
             27,
             17,
             664,
             547,
             2734,
             2049,
             73,
             299,
             24,
             30709,
             37187,
             62,
             141,
             7815,
             794,
             1225,
             768,
             27492,
             32752,
             66,
             21619,
             3214,
             58,
             41978,
             7360,
             477,
             2284,
             7123,
             11039,
             7282,
             15106,
             30099,
             1355,
             16735,
             135,
             11491,
             2117,
             5881,
             26327,
             14614,
             20479,
             11278,
             32075,
             18754,
             15764,
             19805,
             6796,
             6708,
             21607,
             1506,
             23587,
             9629,
             6508,
             8467,
             10398,
             25139,
             1890,
             20592,
             5854,
             8890,
             6988,
             1008,
             2016,
             7077,
             5924,
             1157,
             13261,
             7398,
             1250,
             1259,
             2546,
             4030,
             4714,
             1544,
             348,
             4462,
             863,
             8035,
             1559,
             3175,
             558,
             9583,
             1330,
             6029,
             1312,
             2538,
             1249,
             1818,
             8606,
             5627,
             1805,
             5103,
             4616,
             11925,
             1312,
             426,
             3836,
             147,
             2135,
             62,
             371,
             25,
             1,
             13,
             8,
             8,
             40,
             3,
             265,
             1517,
             754,
             363,
             485,
             378,
             24002,
             2809,
             343,
             266,
             2320,
             96,
             165
            ],
            "y": [
             166,
             178,
             1109,
             53,
             59,
             315,
             9723,
             24079,
             136,
             69,
             28387,
             4174,
             145,
             58,
             5581,
             4798,
             9589,
             13367,
             136,
             2259,
             38,
             173714,
             88394,
             168,
             322,
             34222,
             2803,
             3573,
             2470,
             114637,
             130417,
             158,
             81609,
             5171,
             109,
             134699,
             20529,
             1700,
             4179,
             17040,
             35745,
             15370,
             50691,
             48157,
             3141,
             57830,
             232,
             35505,
             4946,
             13571,
             128661,
             65054,
             55791,
             30494,
             118318,
             56245,
             50184,
             58471,
             21887,
             25208,
             68317,
             2380,
             124970,
             46238,
             27428,
             33761,
             43577,
             114762,
             11243,
             80618,
             26665,
             32502,
             48494,
             5556,
             4781,
             29190,
             18228,
             4266,
             30141,
             44201,
             6385,
             1693,
             14561,
             14989,
             24975,
             3772,
             1905,
             24517,
             3044,
             29689,
             7608,
             13464,
             2154,
             33755,
             3342,
             35601,
             5389,
             6570,
             5740,
             8382,
             28625,
             16118,
             10056,
             23622,
             23617,
             26603,
             5933,
             891,
             13166,
             415,
             6766,
             256,
             978,
             226,
             3,
             107,
             85,
             27,
             139,
             37,
             1375,
             5070,
             3768,
             955,
             2783,
             1477,
             71225,
             15291,
             1372,
             1005,
             8806,
             559,
             693
            ]
           }
          ],
          "layout": {
           "legend": {
            "bgcolor": "#FFFFFF",
            "font": {
             "color": "#666666"
            }
           },
           "paper_bgcolor": "#FFFFFF",
           "plot_bgcolor": "#E5E5E5",
           "template": {
            "data": {
             "bar": [
              {
               "error_x": {
                "color": "#2a3f5f"
               },
               "error_y": {
                "color": "#2a3f5f"
               },
               "marker": {
                "line": {
                 "color": "#E5ECF6",
                 "width": 0.5
                }
               },
               "type": "bar"
              }
             ],
             "barpolar": [
              {
               "marker": {
                "line": {
                 "color": "#E5ECF6",
                 "width": 0.5
                }
               },
               "type": "barpolar"
              }
             ],
             "carpet": [
              {
               "aaxis": {
                "endlinecolor": "#2a3f5f",
                "gridcolor": "white",
                "linecolor": "white",
                "minorgridcolor": "white",
                "startlinecolor": "#2a3f5f"
               },
               "baxis": {
                "endlinecolor": "#2a3f5f",
                "gridcolor": "white",
                "linecolor": "white",
                "minorgridcolor": "white",
                "startlinecolor": "#2a3f5f"
               },
               "type": "carpet"
              }
             ],
             "choropleth": [
              {
               "colorbar": {
                "outlinewidth": 0,
                "ticks": ""
               },
               "type": "choropleth"
              }
             ],
             "contour": [
              {
               "colorbar": {
                "outlinewidth": 0,
                "ticks": ""
               },
               "colorscale": [
                [
                 0,
                 "#0d0887"
                ],
                [
                 0.1111111111111111,
                 "#46039f"
                ],
                [
                 0.2222222222222222,
                 "#7201a8"
                ],
                [
                 0.3333333333333333,
                 "#9c179e"
                ],
                [
                 0.4444444444444444,
                 "#bd3786"
                ],
                [
                 0.5555555555555556,
                 "#d8576b"
                ],
                [
                 0.6666666666666666,
                 "#ed7953"
                ],
                [
                 0.7777777777777778,
                 "#fb9f3a"
                ],
                [
                 0.8888888888888888,
                 "#fdca26"
                ],
                [
                 1,
                 "#f0f921"
                ]
               ],
               "type": "contour"
              }
             ],
             "contourcarpet": [
              {
               "colorbar": {
                "outlinewidth": 0,
                "ticks": ""
               },
               "type": "contourcarpet"
              }
             ],
             "heatmap": [
              {
               "colorbar": {
                "outlinewidth": 0,
                "ticks": ""
               },
               "colorscale": [
                [
                 0,
                 "#0d0887"
                ],
                [
                 0.1111111111111111,
                 "#46039f"
                ],
                [
                 0.2222222222222222,
                 "#7201a8"
                ],
                [
                 0.3333333333333333,
                 "#9c179e"
                ],
                [
                 0.4444444444444444,
                 "#bd3786"
                ],
                [
                 0.5555555555555556,
                 "#d8576b"
                ],
                [
                 0.6666666666666666,
                 "#ed7953"
                ],
                [
                 0.7777777777777778,
                 "#fb9f3a"
                ],
                [
                 0.8888888888888888,
                 "#fdca26"
                ],
                [
                 1,
                 "#f0f921"
                ]
               ],
               "type": "heatmap"
              }
             ],
             "heatmapgl": [
              {
               "colorbar": {
                "outlinewidth": 0,
                "ticks": ""
               },
               "colorscale": [
                [
                 0,
                 "#0d0887"
                ],
                [
                 0.1111111111111111,
                 "#46039f"
                ],
                [
                 0.2222222222222222,
                 "#7201a8"
                ],
                [
                 0.3333333333333333,
                 "#9c179e"
                ],
                [
                 0.4444444444444444,
                 "#bd3786"
                ],
                [
                 0.5555555555555556,
                 "#d8576b"
                ],
                [
                 0.6666666666666666,
                 "#ed7953"
                ],
                [
                 0.7777777777777778,
                 "#fb9f3a"
                ],
                [
                 0.8888888888888888,
                 "#fdca26"
                ],
                [
                 1,
                 "#f0f921"
                ]
               ],
               "type": "heatmapgl"
              }
             ],
             "histogram": [
              {
               "marker": {
                "colorbar": {
                 "outlinewidth": 0,
                 "ticks": ""
                }
               },
               "type": "histogram"
              }
             ],
             "histogram2d": [
              {
               "colorbar": {
                "outlinewidth": 0,
                "ticks": ""
               },
               "colorscale": [
                [
                 0,
                 "#0d0887"
                ],
                [
                 0.1111111111111111,
                 "#46039f"
                ],
                [
                 0.2222222222222222,
                 "#7201a8"
                ],
                [
                 0.3333333333333333,
                 "#9c179e"
                ],
                [
                 0.4444444444444444,
                 "#bd3786"
                ],
                [
                 0.5555555555555556,
                 "#d8576b"
                ],
                [
                 0.6666666666666666,
                 "#ed7953"
                ],
                [
                 0.7777777777777778,
                 "#fb9f3a"
                ],
                [
                 0.8888888888888888,
                 "#fdca26"
                ],
                [
                 1,
                 "#f0f921"
                ]
               ],
               "type": "histogram2d"
              }
             ],
             "histogram2dcontour": [
              {
               "colorbar": {
                "outlinewidth": 0,
                "ticks": ""
               },
               "colorscale": [
                [
                 0,
                 "#0d0887"
                ],
                [
                 0.1111111111111111,
                 "#46039f"
                ],
                [
                 0.2222222222222222,
                 "#7201a8"
                ],
                [
                 0.3333333333333333,
                 "#9c179e"
                ],
                [
                 0.4444444444444444,
                 "#bd3786"
                ],
                [
                 0.5555555555555556,
                 "#d8576b"
                ],
                [
                 0.6666666666666666,
                 "#ed7953"
                ],
                [
                 0.7777777777777778,
                 "#fb9f3a"
                ],
                [
                 0.8888888888888888,
                 "#fdca26"
                ],
                [
                 1,
                 "#f0f921"
                ]
               ],
               "type": "histogram2dcontour"
              }
             ],
             "mesh3d": [
              {
               "colorbar": {
                "outlinewidth": 0,
                "ticks": ""
               },
               "type": "mesh3d"
              }
             ],
             "parcoords": [
              {
               "line": {
                "colorbar": {
                 "outlinewidth": 0,
                 "ticks": ""
                }
               },
               "type": "parcoords"
              }
             ],
             "pie": [
              {
               "automargin": true,
               "type": "pie"
              }
             ],
             "scatter": [
              {
               "marker": {
                "colorbar": {
                 "outlinewidth": 0,
                 "ticks": ""
                }
               },
               "type": "scatter"
              }
             ],
             "scatter3d": [
              {
               "line": {
                "colorbar": {
                 "outlinewidth": 0,
                 "ticks": ""
                }
               },
               "marker": {
                "colorbar": {
                 "outlinewidth": 0,
                 "ticks": ""
                }
               },
               "type": "scatter3d"
              }
             ],
             "scattercarpet": [
              {
               "marker": {
                "colorbar": {
                 "outlinewidth": 0,
                 "ticks": ""
                }
               },
               "type": "scattercarpet"
              }
             ],
             "scattergeo": [
              {
               "marker": {
                "colorbar": {
                 "outlinewidth": 0,
                 "ticks": ""
                }
               },
               "type": "scattergeo"
              }
             ],
             "scattergl": [
              {
               "marker": {
                "colorbar": {
                 "outlinewidth": 0,
                 "ticks": ""
                }
               },
               "type": "scattergl"
              }
             ],
             "scattermapbox": [
              {
               "marker": {
                "colorbar": {
                 "outlinewidth": 0,
                 "ticks": ""
                }
               },
               "type": "scattermapbox"
              }
             ],
             "scatterpolar": [
              {
               "marker": {
                "colorbar": {
                 "outlinewidth": 0,
                 "ticks": ""
                }
               },
               "type": "scatterpolar"
              }
             ],
             "scatterpolargl": [
              {
               "marker": {
                "colorbar": {
                 "outlinewidth": 0,
                 "ticks": ""
                }
               },
               "type": "scatterpolargl"
              }
             ],
             "scatterternary": [
              {
               "marker": {
                "colorbar": {
                 "outlinewidth": 0,
                 "ticks": ""
                }
               },
               "type": "scatterternary"
              }
             ],
             "surface": [
              {
               "colorbar": {
                "outlinewidth": 0,
                "ticks": ""
               },
               "colorscale": [
                [
                 0,
                 "#0d0887"
                ],
                [
                 0.1111111111111111,
                 "#46039f"
                ],
                [
                 0.2222222222222222,
                 "#7201a8"
                ],
                [
                 0.3333333333333333,
                 "#9c179e"
                ],
                [
                 0.4444444444444444,
                 "#bd3786"
                ],
                [
                 0.5555555555555556,
                 "#d8576b"
                ],
                [
                 0.6666666666666666,
                 "#ed7953"
                ],
                [
                 0.7777777777777778,
                 "#fb9f3a"
                ],
                [
                 0.8888888888888888,
                 "#fdca26"
                ],
                [
                 1,
                 "#f0f921"
                ]
               ],
               "type": "surface"
              }
             ],
             "table": [
              {
               "cells": {
                "fill": {
                 "color": "#EBF0F8"
                },
                "line": {
                 "color": "white"
                }
               },
               "header": {
                "fill": {
                 "color": "#C8D4E3"
                },
                "line": {
                 "color": "white"
                }
               },
               "type": "table"
              }
             ]
            },
            "layout": {
             "annotationdefaults": {
              "arrowcolor": "#2a3f5f",
              "arrowhead": 0,
              "arrowwidth": 1
             },
             "coloraxis": {
              "colorbar": {
               "outlinewidth": 0,
               "ticks": ""
              }
             },
             "colorscale": {
              "diverging": [
               [
                0,
                "#8e0152"
               ],
               [
                0.1,
                "#c51b7d"
               ],
               [
                0.2,
                "#de77ae"
               ],
               [
                0.3,
                "#f1b6da"
               ],
               [
                0.4,
                "#fde0ef"
               ],
               [
                0.5,
                "#f7f7f7"
               ],
               [
                0.6,
                "#e6f5d0"
               ],
               [
                0.7,
                "#b8e186"
               ],
               [
                0.8,
                "#7fbc41"
               ],
               [
                0.9,
                "#4d9221"
               ],
               [
                1,
                "#276419"
               ]
              ],
              "sequential": [
               [
                0,
                "#0d0887"
               ],
               [
                0.1111111111111111,
                "#46039f"
               ],
               [
                0.2222222222222222,
                "#7201a8"
               ],
               [
                0.3333333333333333,
                "#9c179e"
               ],
               [
                0.4444444444444444,
                "#bd3786"
               ],
               [
                0.5555555555555556,
                "#d8576b"
               ],
               [
                0.6666666666666666,
                "#ed7953"
               ],
               [
                0.7777777777777778,
                "#fb9f3a"
               ],
               [
                0.8888888888888888,
                "#fdca26"
               ],
               [
                1,
                "#f0f921"
               ]
              ],
              "sequentialminus": [
               [
                0,
                "#0d0887"
               ],
               [
                0.1111111111111111,
                "#46039f"
               ],
               [
                0.2222222222222222,
                "#7201a8"
               ],
               [
                0.3333333333333333,
                "#9c179e"
               ],
               [
                0.4444444444444444,
                "#bd3786"
               ],
               [
                0.5555555555555556,
                "#d8576b"
               ],
               [
                0.6666666666666666,
                "#ed7953"
               ],
               [
                0.7777777777777778,
                "#fb9f3a"
               ],
               [
                0.8888888888888888,
                "#fdca26"
               ],
               [
                1,
                "#f0f921"
               ]
              ]
             },
             "colorway": [
              "#636efa",
              "#EF553B",
              "#00cc96",
              "#ab63fa",
              "#FFA15A",
              "#19d3f3",
              "#FF6692",
              "#B6E880",
              "#FF97FF",
              "#FECB52"
             ],
             "font": {
              "color": "#2a3f5f"
             },
             "geo": {
              "bgcolor": "white",
              "lakecolor": "white",
              "landcolor": "#E5ECF6",
              "showlakes": true,
              "showland": true,
              "subunitcolor": "white"
             },
             "hoverlabel": {
              "align": "left"
             },
             "hovermode": "closest",
             "mapbox": {
              "style": "light"
             },
             "paper_bgcolor": "white",
             "plot_bgcolor": "#E5ECF6",
             "polar": {
              "angularaxis": {
               "gridcolor": "white",
               "linecolor": "white",
               "ticks": ""
              },
              "bgcolor": "#E5ECF6",
              "radialaxis": {
               "gridcolor": "white",
               "linecolor": "white",
               "ticks": ""
              }
             },
             "scene": {
              "xaxis": {
               "backgroundcolor": "#E5ECF6",
               "gridcolor": "white",
               "gridwidth": 2,
               "linecolor": "white",
               "showbackground": true,
               "ticks": "",
               "zerolinecolor": "white"
              },
              "yaxis": {
               "backgroundcolor": "#E5ECF6",
               "gridcolor": "white",
               "gridwidth": 2,
               "linecolor": "white",
               "showbackground": true,
               "ticks": "",
               "zerolinecolor": "white"
              },
              "zaxis": {
               "backgroundcolor": "#E5ECF6",
               "gridcolor": "white",
               "gridwidth": 2,
               "linecolor": "white",
               "showbackground": true,
               "ticks": "",
               "zerolinecolor": "white"
              }
             },
             "shapedefaults": {
              "line": {
               "color": "#2a3f5f"
              }
             },
             "ternary": {
              "aaxis": {
               "gridcolor": "white",
               "linecolor": "white",
               "ticks": ""
              },
              "baxis": {
               "gridcolor": "white",
               "linecolor": "white",
               "ticks": ""
              },
              "bgcolor": "#E5ECF6",
              "caxis": {
               "gridcolor": "white",
               "linecolor": "white",
               "ticks": ""
              }
             },
             "title": {
              "x": 0.05
             },
             "xaxis": {
              "automargin": true,
              "gridcolor": "white",
              "linecolor": "white",
              "ticks": "",
              "title": {
               "standoff": 15
              },
              "zerolinecolor": "white",
              "zerolinewidth": 2
             },
             "yaxis": {
              "automargin": true,
              "gridcolor": "white",
              "linecolor": "white",
              "ticks": "",
              "title": {
               "standoff": 15
              },
              "zerolinecolor": "white",
              "zerolinewidth": 2
             }
            }
           },
           "title": {
            "font": {
             "color": "#151516"
            },
            "text": "Views vs Reads"
           },
           "xaxis": {
            "gridcolor": "#F6F6F6",
            "showgrid": true,
            "tickfont": {
             "color": "#666666"
            },
            "title": {
             "font": {
              "color": "#666666"
             },
             "text": "Reads"
            },
            "zerolinecolor": "#F6F6F6"
           },
           "yaxis": {
            "gridcolor": "#F6F6F6",
            "showgrid": true,
            "tickfont": {
             "color": "#666666"
            },
            "title": {
             "font": {
              "color": "#666666"
             },
             "text": "Views"
            },
            "zerolinecolor": "#F6F6F6"
           }
          }
         },
         "text/html": "<div>\n        \n        \n            <div id=\"c298e77e-2fc4-4e63-baa7-e3445dd6a999\" class=\"plotly-graph-div\" style=\"height:525px; width:100%;\"></div>\n            <script type=\"text/javascript\">\n                require([\"plotly\"], function(Plotly) {\n                    window.PLOTLYENV=window.PLOTLYENV || {};\n                    window.PLOTLYENV.BASE_URL='https://plot.ly';\n                    \n                if (document.getElementById(\"c298e77e-2fc4-4e63-baa7-e3445dd6a999\")) {\n                    Plotly.newPlot(\n                        'c298e77e-2fc4-4e63-baa7-e3445dd6a999',\n                        [{\"line\": {\"color\": \"rgba(216, 179, 101, 1.0)\", \"dash\": \"solid\", \"shape\": \"linear\", \"width\": 1.3}, \"marker\": {\"size\": 12, \"symbol\": \"circle\"}, \"mode\": \"markers\", \"name\": \"views\", \"text\": \"\", \"type\": \"scatter\", \"x\": [70, 54, 222, 19, 5, 62, 1717, 5690, 45, 15, 3992, 509, 27, 17, 664, 547, 2734, 2049, 73, 299, 24, 30709, 37187, 62, 141, 7815, 794, 1225, 768, 27492, 32752, 66, 21619, 3214, 58, 41978, 7360, 477, 2284, 7123, 11039, 7282, 15106, 30099, 1355, 16735, 135, 11491, 2117, 5881, 26327, 14614, 20479, 11278, 32075, 18754, 15764, 19805, 6796, 6708, 21607, 1506, 23587, 9629, 6508, 8467, 10398, 25139, 1890, 20592, 5854, 8890, 6988, 1008, 2016, 7077, 5924, 1157, 13261, 7398, 1250, 1259, 2546, 4030, 4714, 1544, 348, 4462, 863, 8035, 1559, 3175, 558, 9583, 1330, 6029, 1312, 2538, 1249, 1818, 8606, 5627, 1805, 5103, 4616, 11925, 1312, 426, 3836, 147, 2135, 62, 371, 25, 1, 13, 8, 8, 40, 3, 265, 1517, 754, 363, 485, 378, 24002, 2809, 343, 266, 2320, 96, 165], \"y\": [166, 178, 1109, 53, 59, 315, 9723, 24079, 136, 69, 28387, 4174, 145, 58, 5581, 4798, 9589, 13367, 136, 2259, 38, 173714, 88394, 168, 322, 34222, 2803, 3573, 2470, 114637, 130417, 158, 81609, 5171, 109, 134699, 20529, 1700, 4179, 17040, 35745, 15370, 50691, 48157, 3141, 57830, 232, 35505, 4946, 13571, 128661, 65054, 55791, 30494, 118318, 56245, 50184, 58471, 21887, 25208, 68317, 2380, 124970, 46238, 27428, 33761, 43577, 114762, 11243, 80618, 26665, 32502, 48494, 5556, 4781, 29190, 18228, 4266, 30141, 44201, 6385, 1693, 14561, 14989, 24975, 3772, 1905, 24517, 3044, 29689, 7608, 13464, 2154, 33755, 3342, 35601, 5389, 6570, 5740, 8382, 28625, 16118, 10056, 23622, 23617, 26603, 5933, 891, 13166, 415, 6766, 256, 978, 226, 3, 107, 85, 27, 139, 37, 1375, 5070, 3768, 955, 2783, 1477, 71225, 15291, 1372, 1005, 8806, 559, 693]}],\n                        {\"legend\": {\"bgcolor\": \"#FFFFFF\", \"font\": {\"color\": \"#666666\"}}, \"paper_bgcolor\": \"#FFFFFF\", \"plot_bgcolor\": \"#E5E5E5\", \"template\": {\"data\": {\"bar\": [{\"error_x\": {\"color\": \"#2a3f5f\"}, \"error_y\": {\"color\": \"#2a3f5f\"}, \"marker\": {\"line\": {\"color\": \"#E5ECF6\", \"width\": 0.5}}, \"type\": \"bar\"}], \"barpolar\": [{\"marker\": {\"line\": {\"color\": \"#E5ECF6\", \"width\": 0.5}}, \"type\": \"barpolar\"}], \"carpet\": [{\"aaxis\": {\"endlinecolor\": \"#2a3f5f\", \"gridcolor\": \"white\", \"linecolor\": \"white\", \"minorgridcolor\": \"white\", \"startlinecolor\": \"#2a3f5f\"}, \"baxis\": {\"endlinecolor\": \"#2a3f5f\", \"gridcolor\": \"white\", \"linecolor\": \"white\", \"minorgridcolor\": \"white\", \"startlinecolor\": \"#2a3f5f\"}, \"type\": \"carpet\"}], \"choropleth\": [{\"colorbar\": {\"outlinewidth\": 0, \"ticks\": \"\"}, \"type\": \"choropleth\"}], \"contour\": [{\"colorbar\": {\"outlinewidth\": 0, \"ticks\": \"\"}, \"colorscale\": [[0.0, \"#0d0887\"], [0.1111111111111111, \"#46039f\"], [0.2222222222222222, \"#7201a8\"], [0.3333333333333333, \"#9c179e\"], [0.4444444444444444, \"#bd3786\"], [0.5555555555555556, \"#d8576b\"], [0.6666666666666666, \"#ed7953\"], [0.7777777777777778, \"#fb9f3a\"], [0.8888888888888888, \"#fdca26\"], [1.0, \"#f0f921\"]], \"type\": \"contour\"}], \"contourcarpet\": [{\"colorbar\": {\"outlinewidth\": 0, \"ticks\": \"\"}, \"type\": \"contourcarpet\"}], \"heatmap\": [{\"colorbar\": {\"outlinewidth\": 0, \"ticks\": \"\"}, \"colorscale\": [[0.0, \"#0d0887\"], [0.1111111111111111, \"#46039f\"], [0.2222222222222222, \"#7201a8\"], [0.3333333333333333, \"#9c179e\"], [0.4444444444444444, \"#bd3786\"], [0.5555555555555556, \"#d8576b\"], [0.6666666666666666, \"#ed7953\"], [0.7777777777777778, \"#fb9f3a\"], [0.8888888888888888, \"#fdca26\"], [1.0, \"#f0f921\"]], \"type\": \"heatmap\"}], \"heatmapgl\": [{\"colorbar\": {\"outlinewidth\": 0, \"ticks\": \"\"}, \"colorscale\": [[0.0, \"#0d0887\"], [0.1111111111111111, \"#46039f\"], [0.2222222222222222, \"#7201a8\"], [0.3333333333333333, \"#9c179e\"], [0.4444444444444444, \"#bd3786\"], [0.5555555555555556, \"#d8576b\"], [0.6666666666666666, \"#ed7953\"], [0.7777777777777778, \"#fb9f3a\"], [0.8888888888888888, \"#fdca26\"], [1.0, \"#f0f921\"]], \"type\": \"heatmapgl\"}], \"histogram\": [{\"marker\": {\"colorbar\": {\"outlinewidth\": 0, \"ticks\": \"\"}}, \"type\": \"histogram\"}], \"histogram2d\": [{\"colorbar\": {\"outlinewidth\": 0, \"ticks\": \"\"}, \"colorscale\": [[0.0, \"#0d0887\"], [0.1111111111111111, \"#46039f\"], [0.2222222222222222, \"#7201a8\"], [0.3333333333333333, \"#9c179e\"], [0.4444444444444444, \"#bd3786\"], [0.5555555555555556, \"#d8576b\"], [0.6666666666666666, \"#ed7953\"], [0.7777777777777778, \"#fb9f3a\"], [0.8888888888888888, \"#fdca26\"], [1.0, \"#f0f921\"]], \"type\": \"histogram2d\"}], \"histogram2dcontour\": [{\"colorbar\": {\"outlinewidth\": 0, \"ticks\": \"\"}, \"colorscale\": [[0.0, \"#0d0887\"], [0.1111111111111111, \"#46039f\"], [0.2222222222222222, \"#7201a8\"], [0.3333333333333333, \"#9c179e\"], [0.4444444444444444, \"#bd3786\"], [0.5555555555555556, \"#d8576b\"], [0.6666666666666666, \"#ed7953\"], [0.7777777777777778, \"#fb9f3a\"], [0.8888888888888888, \"#fdca26\"], [1.0, \"#f0f921\"]], \"type\": \"histogram2dcontour\"}], \"mesh3d\": [{\"colorbar\": {\"outlinewidth\": 0, \"ticks\": \"\"}, \"type\": \"mesh3d\"}], \"parcoords\": [{\"line\": {\"colorbar\": {\"outlinewidth\": 0, \"ticks\": \"\"}}, \"type\": \"parcoords\"}], \"pie\": [{\"automargin\": true, \"type\": \"pie\"}], \"scatter\": [{\"marker\": {\"colorbar\": {\"outlinewidth\": 0, \"ticks\": \"\"}}, \"type\": \"scatter\"}], \"scatter3d\": [{\"line\": {\"colorbar\": {\"outlinewidth\": 0, \"ticks\": \"\"}}, \"marker\": {\"colorbar\": {\"outlinewidth\": 0, \"ticks\": \"\"}}, \"type\": \"scatter3d\"}], \"scattercarpet\": [{\"marker\": {\"colorbar\": {\"outlinewidth\": 0, \"ticks\": \"\"}}, \"type\": \"scattercarpet\"}], \"scattergeo\": [{\"marker\": {\"colorbar\": {\"outlinewidth\": 0, \"ticks\": \"\"}}, \"type\": \"scattergeo\"}], \"scattergl\": [{\"marker\": {\"colorbar\": {\"outlinewidth\": 0, \"ticks\": \"\"}}, \"type\": \"scattergl\"}], \"scattermapbox\": [{\"marker\": {\"colorbar\": {\"outlinewidth\": 0, \"ticks\": \"\"}}, \"type\": \"scattermapbox\"}], \"scatterpolar\": [{\"marker\": {\"colorbar\": {\"outlinewidth\": 0, \"ticks\": \"\"}}, \"type\": \"scatterpolar\"}], \"scatterpolargl\": [{\"marker\": {\"colorbar\": {\"outlinewidth\": 0, \"ticks\": \"\"}}, \"type\": \"scatterpolargl\"}], \"scatterternary\": [{\"marker\": {\"colorbar\": {\"outlinewidth\": 0, \"ticks\": \"\"}}, \"type\": \"scatterternary\"}], \"surface\": [{\"colorbar\": {\"outlinewidth\": 0, \"ticks\": \"\"}, \"colorscale\": [[0.0, \"#0d0887\"], [0.1111111111111111, \"#46039f\"], [0.2222222222222222, \"#7201a8\"], [0.3333333333333333, \"#9c179e\"], [0.4444444444444444, \"#bd3786\"], [0.5555555555555556, \"#d8576b\"], [0.6666666666666666, \"#ed7953\"], [0.7777777777777778, \"#fb9f3a\"], [0.8888888888888888, \"#fdca26\"], [1.0, \"#f0f921\"]], \"type\": \"surface\"}], \"table\": [{\"cells\": {\"fill\": {\"color\": \"#EBF0F8\"}, \"line\": {\"color\": \"white\"}}, \"header\": {\"fill\": {\"color\": \"#C8D4E3\"}, \"line\": {\"color\": \"white\"}}, \"type\": \"table\"}]}, \"layout\": {\"annotationdefaults\": {\"arrowcolor\": \"#2a3f5f\", \"arrowhead\": 0, \"arrowwidth\": 1}, \"coloraxis\": {\"colorbar\": {\"outlinewidth\": 0, \"ticks\": \"\"}}, \"colorscale\": {\"diverging\": [[0, \"#8e0152\"], [0.1, \"#c51b7d\"], [0.2, \"#de77ae\"], [0.3, \"#f1b6da\"], [0.4, \"#fde0ef\"], [0.5, \"#f7f7f7\"], [0.6, \"#e6f5d0\"], [0.7, \"#b8e186\"], [0.8, \"#7fbc41\"], [0.9, \"#4d9221\"], [1, \"#276419\"]], \"sequential\": [[0.0, \"#0d0887\"], [0.1111111111111111, \"#46039f\"], [0.2222222222222222, \"#7201a8\"], [0.3333333333333333, \"#9c179e\"], [0.4444444444444444, \"#bd3786\"], [0.5555555555555556, \"#d8576b\"], [0.6666666666666666, \"#ed7953\"], [0.7777777777777778, \"#fb9f3a\"], [0.8888888888888888, \"#fdca26\"], [1.0, \"#f0f921\"]], \"sequentialminus\": [[0.0, \"#0d0887\"], [0.1111111111111111, \"#46039f\"], [0.2222222222222222, \"#7201a8\"], [0.3333333333333333, \"#9c179e\"], [0.4444444444444444, \"#bd3786\"], [0.5555555555555556, \"#d8576b\"], [0.6666666666666666, \"#ed7953\"], [0.7777777777777778, \"#fb9f3a\"], [0.8888888888888888, \"#fdca26\"], [1.0, \"#f0f921\"]]}, \"colorway\": [\"#636efa\", \"#EF553B\", \"#00cc96\", \"#ab63fa\", \"#FFA15A\", \"#19d3f3\", \"#FF6692\", \"#B6E880\", \"#FF97FF\", \"#FECB52\"], \"font\": {\"color\": \"#2a3f5f\"}, \"geo\": {\"bgcolor\": \"white\", \"lakecolor\": \"white\", \"landcolor\": \"#E5ECF6\", \"showlakes\": true, \"showland\": true, \"subunitcolor\": \"white\"}, \"hoverlabel\": {\"align\": \"left\"}, \"hovermode\": \"closest\", \"mapbox\": {\"style\": \"light\"}, \"paper_bgcolor\": \"white\", \"plot_bgcolor\": \"#E5ECF6\", \"polar\": {\"angularaxis\": {\"gridcolor\": \"white\", \"linecolor\": \"white\", \"ticks\": \"\"}, \"bgcolor\": \"#E5ECF6\", \"radialaxis\": {\"gridcolor\": \"white\", \"linecolor\": \"white\", \"ticks\": \"\"}}, \"scene\": {\"xaxis\": {\"backgroundcolor\": \"#E5ECF6\", \"gridcolor\": \"white\", \"gridwidth\": 2, \"linecolor\": \"white\", \"showbackground\": true, \"ticks\": \"\", \"zerolinecolor\": \"white\"}, \"yaxis\": {\"backgroundcolor\": \"#E5ECF6\", \"gridcolor\": \"white\", \"gridwidth\": 2, \"linecolor\": \"white\", \"showbackground\": true, \"ticks\": \"\", \"zerolinecolor\": \"white\"}, \"zaxis\": {\"backgroundcolor\": \"#E5ECF6\", \"gridcolor\": \"white\", \"gridwidth\": 2, \"linecolor\": \"white\", \"showbackground\": true, \"ticks\": \"\", \"zerolinecolor\": \"white\"}}, \"shapedefaults\": {\"line\": {\"color\": \"#2a3f5f\"}}, \"ternary\": {\"aaxis\": {\"gridcolor\": \"white\", \"linecolor\": \"white\", \"ticks\": \"\"}, \"baxis\": {\"gridcolor\": \"white\", \"linecolor\": \"white\", \"ticks\": \"\"}, \"bgcolor\": \"#E5ECF6\", \"caxis\": {\"gridcolor\": \"white\", \"linecolor\": \"white\", \"ticks\": \"\"}}, \"title\": {\"x\": 0.05}, \"xaxis\": {\"automargin\": true, \"gridcolor\": \"white\", \"linecolor\": \"white\", \"ticks\": \"\", \"title\": {\"standoff\": 15}, \"zerolinecolor\": \"white\", \"zerolinewidth\": 2}, \"yaxis\": {\"automargin\": true, \"gridcolor\": \"white\", \"linecolor\": \"white\", \"ticks\": \"\", \"title\": {\"standoff\": 15}, \"zerolinecolor\": \"white\", \"zerolinewidth\": 2}}}, \"title\": {\"font\": {\"color\": \"#151516\"}, \"text\": \"Views vs Reads\"}, \"xaxis\": {\"gridcolor\": \"#F6F6F6\", \"showgrid\": true, \"tickfont\": {\"color\": \"#666666\"}, \"title\": {\"font\": {\"color\": \"#666666\"}, \"text\": \"Reads\"}, \"zerolinecolor\": \"#F6F6F6\"}, \"yaxis\": {\"gridcolor\": \"#F6F6F6\", \"showgrid\": true, \"tickfont\": {\"color\": \"#666666\"}, \"title\": {\"font\": {\"color\": \"#666666\"}, \"text\": \"Views\"}, \"zerolinecolor\": \"#F6F6F6\"}},\n                        {\"showLink\": true, \"linkText\": \"Export to plot.ly\", \"plotlyServerURL\": \"https://plot.ly\", \"responsive\": true}\n                    ).then(function(){\n                            \nvar gd = document.getElementById('c298e77e-2fc4-4e63-baa7-e3445dd6a999');\nvar x = new MutationObserver(function (mutations, observer) {{\n        var display = window.getComputedStyle(gd).display;\n        if (!display || display === 'none') {{\n            console.log([gd, 'removed!']);\n            Plotly.purge(gd);\n            observer.disconnect();\n        }}\n}});\n\n// Listen for the removal of the full notebook cells\nvar notebookContainer = gd.closest('#notebook-container');\nif (notebookContainer) {{\n    x.observe(notebookContainer, {childList: true});\n}}\n\n// Listen for the clearing of the current output cell\nvar outputEl = gd.closest('.output');\nif (outputEl) {{\n    x.observe(outputEl, {childList: true});\n}}\n\n                        })\n                };\n                });\n            </script>\n        </div>"
        },
        "metadata": {},
        "output_type": "display_data"
       }
      ]
     }
    },
    "ccb606602f8144b7916ea6ea9607805b": {
     "model_module": "@jupyter-widgets/controls",
     "model_module_version": "1.5.0",
     "model_name": "DescriptionStyleModel",
     "state": {
      "_model_module": "@jupyter-widgets/controls",
      "_model_module_version": "1.5.0",
      "_model_name": "DescriptionStyleModel",
      "_view_count": null,
      "_view_module": "@jupyter-widgets/base",
      "_view_module_version": "1.2.0",
      "_view_name": "StyleView",
      "description_width": ""
     }
    },
    "cfc9b4653068416ca447d0f9779a06ff": {
     "model_module": "@jupyter-widgets/base",
     "model_module_version": "1.2.0",
     "model_name": "LayoutModel",
     "state": {
      "_model_module": "@jupyter-widgets/base",
      "_model_module_version": "1.2.0",
      "_model_name": "LayoutModel",
      "_view_count": null,
      "_view_module": "@jupyter-widgets/base",
      "_view_module_version": "1.2.0",
      "_view_name": "LayoutView",
      "align_content": null,
      "align_items": null,
      "align_self": null,
      "border": null,
      "bottom": null,
      "display": null,
      "flex": null,
      "flex_flow": null,
      "grid_area": null,
      "grid_auto_columns": null,
      "grid_auto_flow": null,
      "grid_auto_rows": null,
      "grid_column": null,
      "grid_gap": null,
      "grid_row": null,
      "grid_template_areas": null,
      "grid_template_columns": null,
      "grid_template_rows": null,
      "height": null,
      "justify_content": null,
      "justify_items": null,
      "left": null,
      "margin": null,
      "max_height": null,
      "max_width": null,
      "min_height": null,
      "min_width": null,
      "object_fit": null,
      "object_position": null,
      "order": null,
      "overflow": null,
      "overflow_x": null,
      "overflow_y": null,
      "padding": null,
      "right": null,
      "top": null,
      "visibility": null,
      "width": null
     }
    },
    "d09743faa3e64e1d88ebc82f980d64f2": {
     "model_module": "@jupyter-widgets/controls",
     "model_module_version": "1.5.0",
     "model_name": "IntSliderModel",
     "state": {
      "_dom_classes": [],
      "_model_module": "@jupyter-widgets/controls",
      "_model_module_version": "1.5.0",
      "_model_name": "IntSliderModel",
      "_view_count": null,
      "_view_module": "@jupyter-widgets/controls",
      "_view_module_version": "1.5.0",
      "_view_name": "IntSliderView",
      "continuous_update": true,
      "description": "x",
      "description_tooltip": null,
      "disabled": false,
      "layout": "IPY_MODEL_d11a706e4669408fbd7c89bfc54d180d",
      "max": 5000,
      "min": 1000,
      "orientation": "horizontal",
      "readout": true,
      "readout_format": "d",
      "step": 100,
      "style": "IPY_MODEL_fbd7a5f5df844dfaa034793ca82fb28d",
      "value": 3000
     }
    },
    "d11a706e4669408fbd7c89bfc54d180d": {
     "model_module": "@jupyter-widgets/base",
     "model_module_version": "1.2.0",
     "model_name": "LayoutModel",
     "state": {
      "_model_module": "@jupyter-widgets/base",
      "_model_module_version": "1.2.0",
      "_model_name": "LayoutModel",
      "_view_count": null,
      "_view_module": "@jupyter-widgets/base",
      "_view_module_version": "1.2.0",
      "_view_name": "LayoutView",
      "align_content": null,
      "align_items": null,
      "align_self": null,
      "border": null,
      "bottom": null,
      "display": null,
      "flex": null,
      "flex_flow": null,
      "grid_area": null,
      "grid_auto_columns": null,
      "grid_auto_flow": null,
      "grid_auto_rows": null,
      "grid_column": null,
      "grid_gap": null,
      "grid_row": null,
      "grid_template_areas": null,
      "grid_template_columns": null,
      "grid_template_rows": null,
      "height": null,
      "justify_content": null,
      "justify_items": null,
      "left": null,
      "margin": null,
      "max_height": null,
      "max_width": null,
      "min_height": null,
      "min_width": null,
      "object_fit": null,
      "object_position": null,
      "order": null,
      "overflow": null,
      "overflow_x": null,
      "overflow_y": null,
      "padding": null,
      "right": null,
      "top": null,
      "visibility": null,
      "width": null
     }
    },
    "d3cb0cc80a184c029214af7554187fc0": {
     "model_module": "@jupyter-widgets/controls",
     "model_module_version": "1.5.0",
     "model_name": "DescriptionStyleModel",
     "state": {
      "_model_module": "@jupyter-widgets/controls",
      "_model_module_version": "1.5.0",
      "_model_name": "DescriptionStyleModel",
      "_view_count": null,
      "_view_module": "@jupyter-widgets/base",
      "_view_module_version": "1.2.0",
      "_view_name": "StyleView",
      "description_width": ""
     }
    },
    "d62e6a07fe034bd0a54e4b9854091c73": {
     "model_module": "@jupyter-widgets/controls",
     "model_module_version": "1.5.0",
     "model_name": "DropdownModel",
     "state": {
      "_dom_classes": [],
      "_model_module": "@jupyter-widgets/controls",
      "_model_module_version": "1.5.0",
      "_model_name": "DropdownModel",
      "_options_labels": [
       "summer.jpg",
       "winter.jpg",
       "spring.jpg",
       "autumn.jpg"
      ],
      "_view_count": null,
      "_view_module": "@jupyter-widgets/controls",
      "_view_module_version": "1.5.0",
      "_view_name": "DropdownView",
      "description": "file",
      "description_tooltip": null,
      "disabled": false,
      "index": 3,
      "layout": "IPY_MODEL_949d435f21f044d3b7309802b79dd81d",
      "style": "IPY_MODEL_f4a76c024fea48cb865efb3103730a5b"
     }
    },
    "d8a5b69a88f74ab59c2c4a4d82b385c8": {
     "model_module": "@jupyter-widgets/controls",
     "model_module_version": "1.5.0",
     "model_name": "DropdownModel",
     "state": {
      "_dom_classes": [],
      "_model_module": "@jupyter-widgets/controls",
      "_model_module_version": "1.5.0",
      "_model_name": "DropdownModel",
      "_options_labels": [
       "views",
       "word_count",
       "claps",
       "fans",
       "read_time"
      ],
      "_view_count": null,
      "_view_module": "@jupyter-widgets/controls",
      "_view_module_version": "1.5.0",
      "_view_name": "DropdownView",
      "description": "y",
      "description_tooltip": null,
      "disabled": false,
      "index": 0,
      "layout": "IPY_MODEL_896a5e2123634503a81e8a902c3f9955",
      "style": "IPY_MODEL_ab6d18cad9784838aad2d360a7d43ce8"
     }
    },
    "daa654866ad844cfa5aaa21b69191745": {
     "model_module": "@jupyter-widgets/base",
     "model_module_version": "1.2.0",
     "model_name": "LayoutModel",
     "state": {
      "_model_module": "@jupyter-widgets/base",
      "_model_module_version": "1.2.0",
      "_model_name": "LayoutModel",
      "_view_count": null,
      "_view_module": "@jupyter-widgets/base",
      "_view_module_version": "1.2.0",
      "_view_name": "LayoutView",
      "align_content": null,
      "align_items": null,
      "align_self": null,
      "border": null,
      "bottom": null,
      "display": null,
      "flex": null,
      "flex_flow": null,
      "grid_area": null,
      "grid_auto_columns": null,
      "grid_auto_flow": null,
      "grid_auto_rows": null,
      "grid_column": null,
      "grid_gap": null,
      "grid_row": null,
      "grid_template_areas": null,
      "grid_template_columns": null,
      "grid_template_rows": null,
      "height": null,
      "justify_content": null,
      "justify_items": null,
      "left": null,
      "margin": null,
      "max_height": null,
      "max_width": null,
      "min_height": null,
      "min_width": null,
      "object_fit": null,
      "object_position": null,
      "order": null,
      "overflow": null,
      "overflow_x": null,
      "overflow_y": null,
      "padding": null,
      "right": null,
      "top": null,
      "visibility": null,
      "width": null
     }
    },
    "db2722ac478245e589b4d5ca26b08ad2": {
     "model_module": "@jupyter-widgets/controls",
     "model_module_version": "1.5.0",
     "model_name": "IntSliderModel",
     "state": {
      "_dom_classes": [],
      "_model_module": "@jupyter-widgets/controls",
      "_model_module_version": "1.5.0",
      "_model_name": "IntSliderModel",
      "_view_count": null,
      "_view_module": "@jupyter-widgets/controls",
      "_view_module_version": "1.5.0",
      "_view_name": "IntSliderView",
      "continuous_update": true,
      "description": "x",
      "description_tooltip": null,
      "disabled": false,
      "layout": "IPY_MODEL_73be4addd08d40659dc0dcfe881c45b3",
      "max": 15000,
      "min": -5000,
      "orientation": "horizontal",
      "readout": true,
      "readout_format": "d",
      "step": 1,
      "style": "IPY_MODEL_b6add506370343a4bc992c0c5ee3e30e",
      "value": 5000
     }
    },
    "dbc7f149428f44549016670e5b447171": {
     "model_module": "@jupyter-widgets/controls",
     "model_module_version": "1.5.0",
     "model_name": "DescriptionStyleModel",
     "state": {
      "_model_module": "@jupyter-widgets/controls",
      "_model_module_version": "1.5.0",
      "_model_name": "DescriptionStyleModel",
      "_view_count": null,
      "_view_module": "@jupyter-widgets/base",
      "_view_module_version": "1.2.0",
      "_view_name": "StyleView",
      "description_width": ""
     }
    },
    "dc4947277ead4ca9b21dd44680e150af": {
     "model_module": "@jupyter-widgets/controls",
     "model_module_version": "1.5.0",
     "model_name": "DescriptionStyleModel",
     "state": {
      "_model_module": "@jupyter-widgets/controls",
      "_model_module_version": "1.5.0",
      "_model_name": "DescriptionStyleModel",
      "_view_count": null,
      "_view_module": "@jupyter-widgets/base",
      "_view_module_version": "1.2.0",
      "_view_name": "StyleView",
      "description_width": ""
     }
    },
    "deaeded7143445af932cc4d235bf9702": {
     "model_module": "@jupyter-widgets/controls",
     "model_module_version": "1.5.0",
     "model_name": "DropdownModel",
     "state": {
      "_dom_classes": [],
      "_model_module": "@jupyter-widgets/controls",
      "_model_module_version": "1.5.0",
      "_model_name": "DropdownModel",
      "_options_labels": [
       "brbg",
       "prgn",
       "piyg",
       "puor",
       "rdbu",
       "rdgy",
       "rdylbu",
       "rdylgn",
       "spectral",
       "paired",
       "set3",
       "dflt",
       "original",
       "plotly",
       "henanigans",
       "accent",
       "dark2",
       "pastel1",
       "pastel2",
       "set1",
       "set2",
       "blues",
       "bugn",
       "bupu",
       "gnbu",
       "greens",
       "greys",
       "orrd",
       "oranges",
       "pubu",
       "pubugn",
       "purd",
       "purples",
       "rdpu",
       "reds",
       "ylgn",
       "ylgnbu",
       "ylorbr",
       "ylorrd",
       "ggplot",
       "polar"
      ],
      "_view_count": null,
      "_view_module": "@jupyter-widgets/controls",
      "_view_module_version": "1.5.0",
      "_view_name": "DropdownView",
      "description": "colorscale",
      "description_tooltip": null,
      "disabled": false,
      "index": 0,
      "layout": "IPY_MODEL_ad0b4d0e944445ea878e7589c531c3f7",
      "style": "IPY_MODEL_74c0b9447e7641a6a09c3a8e3ad795be"
     }
    },
    "df2664dac8e34611b6a61c016cacf662": {
     "model_module": "@jupyter-widgets/controls",
     "model_module_version": "1.5.0",
     "model_name": "DescriptionStyleModel",
     "state": {
      "_model_module": "@jupyter-widgets/controls",
      "_model_module_version": "1.5.0",
      "_model_name": "DescriptionStyleModel",
      "_view_count": null,
      "_view_module": "@jupyter-widgets/base",
      "_view_module_version": "1.2.0",
      "_view_name": "StyleView",
      "description_width": ""
     }
    },
    "df827642f3f548e9a07366d23141d79b": {
     "model_module": "@jupyter-widgets/controls",
     "model_module_version": "1.5.0",
     "model_name": "DropdownModel",
     "state": {
      "_dom_classes": [],
      "_model_module": "@jupyter-widgets/controls",
      "_model_module_version": "1.5.0",
      "_model_name": "DropdownModel",
      "_options_labels": [
       "ggplot",
       "pearl",
       "solar",
       "space",
       "white",
       "polar",
       "henanigans"
      ],
      "_view_count": null,
      "_view_module": "@jupyter-widgets/controls",
      "_view_module_version": "1.5.0",
      "_view_name": "DropdownView",
      "description": "theme",
      "description_tooltip": null,
      "disabled": false,
      "index": 0,
      "layout": "IPY_MODEL_045b23dbd29143b38d020be4d33abf50",
      "style": "IPY_MODEL_729de19aac4d496a8ac155001ea7d787"
     }
    },
    "e241981625be413180783dee62727d6d": {
     "model_module": "@jupyter-widgets/base",
     "model_module_version": "1.2.0",
     "model_name": "LayoutModel",
     "state": {
      "_model_module": "@jupyter-widgets/base",
      "_model_module_version": "1.2.0",
      "_model_name": "LayoutModel",
      "_view_count": null,
      "_view_module": "@jupyter-widgets/base",
      "_view_module_version": "1.2.0",
      "_view_name": "LayoutView",
      "align_content": null,
      "align_items": null,
      "align_self": null,
      "border": null,
      "bottom": null,
      "display": null,
      "flex": null,
      "flex_flow": null,
      "grid_area": null,
      "grid_auto_columns": null,
      "grid_auto_flow": null,
      "grid_auto_rows": null,
      "grid_column": null,
      "grid_gap": null,
      "grid_row": null,
      "grid_template_areas": null,
      "grid_template_columns": null,
      "grid_template_rows": null,
      "height": null,
      "justify_content": null,
      "justify_items": null,
      "left": null,
      "margin": null,
      "max_height": null,
      "max_width": null,
      "min_height": null,
      "min_width": null,
      "object_fit": null,
      "object_position": null,
      "order": null,
      "overflow": null,
      "overflow_x": null,
      "overflow_y": null,
      "padding": null,
      "right": null,
      "top": null,
      "visibility": null,
      "width": null
     }
    },
    "e2d429cc32cc42a6860ce951c63f393c": {
     "model_module": "@jupyter-widgets/controls",
     "model_module_version": "1.5.0",
     "model_name": "VBoxModel",
     "state": {
      "_dom_classes": [
       "widget-interact"
      ],
      "_model_module": "@jupyter-widgets/controls",
      "_model_module_version": "1.5.0",
      "_model_name": "VBoxModel",
      "_view_count": null,
      "_view_module": "@jupyter-widgets/controls",
      "_view_module_version": "1.5.0",
      "_view_name": "VBoxView",
      "box_style": "",
      "children": [
       "IPY_MODEL_6b7532b73a4d4882a0e45b1d63d07ee6",
       "IPY_MODEL_ae3497def63b4f4fa1f2a6cabd5160ec",
       "IPY_MODEL_0428924617cf4871b4d01df1e8c5d8f6"
      ],
      "layout": "IPY_MODEL_61b45bd03005485dbe576b0745e141d5"
     }
    },
    "e38b88e2bfab455a89ef933f33ac3f77": {
     "model_module": "@jupyter-widgets/base",
     "model_module_version": "1.2.0",
     "model_name": "LayoutModel",
     "state": {
      "_model_module": "@jupyter-widgets/base",
      "_model_module_version": "1.2.0",
      "_model_name": "LayoutModel",
      "_view_count": null,
      "_view_module": "@jupyter-widgets/base",
      "_view_module_version": "1.2.0",
      "_view_name": "LayoutView",
      "align_content": null,
      "align_items": null,
      "align_self": null,
      "border": null,
      "bottom": null,
      "display": null,
      "flex": null,
      "flex_flow": null,
      "grid_area": null,
      "grid_auto_columns": null,
      "grid_auto_flow": null,
      "grid_auto_rows": null,
      "grid_column": null,
      "grid_gap": null,
      "grid_row": null,
      "grid_template_areas": null,
      "grid_template_columns": null,
      "grid_template_rows": null,
      "height": null,
      "justify_content": null,
      "justify_items": null,
      "left": null,
      "margin": null,
      "max_height": null,
      "max_width": null,
      "min_height": null,
      "min_width": null,
      "object_fit": null,
      "object_position": null,
      "order": null,
      "overflow": null,
      "overflow_x": null,
      "overflow_y": null,
      "padding": null,
      "right": null,
      "top": null,
      "visibility": null,
      "width": null
     }
    },
    "e3967d58c4da4f55902ca1044c32fa6c": {
     "model_module": "@jupyter-widgets/base",
     "model_module_version": "1.2.0",
     "model_name": "LayoutModel",
     "state": {
      "_model_module": "@jupyter-widgets/base",
      "_model_module_version": "1.2.0",
      "_model_name": "LayoutModel",
      "_view_count": null,
      "_view_module": "@jupyter-widgets/base",
      "_view_module_version": "1.2.0",
      "_view_name": "LayoutView",
      "align_content": null,
      "align_items": null,
      "align_self": null,
      "border": null,
      "bottom": null,
      "display": null,
      "flex": null,
      "flex_flow": null,
      "grid_area": null,
      "grid_auto_columns": null,
      "grid_auto_flow": null,
      "grid_auto_rows": null,
      "grid_column": null,
      "grid_gap": null,
      "grid_row": null,
      "grid_template_areas": null,
      "grid_template_columns": null,
      "grid_template_rows": null,
      "height": null,
      "justify_content": null,
      "justify_items": null,
      "left": null,
      "margin": null,
      "max_height": null,
      "max_width": null,
      "min_height": null,
      "min_width": null,
      "object_fit": null,
      "object_position": null,
      "order": null,
      "overflow": null,
      "overflow_x": null,
      "overflow_y": null,
      "padding": null,
      "right": null,
      "top": null,
      "visibility": null,
      "width": null
     }
    },
    "e4601341de134cb6987bb3d8a24313fa": {
     "model_module": "@jupyter-widgets/base",
     "model_module_version": "1.2.0",
     "model_name": "LayoutModel",
     "state": {
      "_model_module": "@jupyter-widgets/base",
      "_model_module_version": "1.2.0",
      "_model_name": "LayoutModel",
      "_view_count": null,
      "_view_module": "@jupyter-widgets/base",
      "_view_module_version": "1.2.0",
      "_view_name": "LayoutView",
      "align_content": null,
      "align_items": null,
      "align_self": null,
      "border": null,
      "bottom": null,
      "display": null,
      "flex": null,
      "flex_flow": null,
      "grid_area": null,
      "grid_auto_columns": null,
      "grid_auto_flow": null,
      "grid_auto_rows": null,
      "grid_column": null,
      "grid_gap": null,
      "grid_row": null,
      "grid_template_areas": null,
      "grid_template_columns": null,
      "grid_template_rows": null,
      "height": null,
      "justify_content": null,
      "justify_items": null,
      "left": null,
      "margin": null,
      "max_height": null,
      "max_width": null,
      "min_height": null,
      "min_width": null,
      "object_fit": null,
      "object_position": null,
      "order": null,
      "overflow": null,
      "overflow_x": null,
      "overflow_y": null,
      "padding": null,
      "right": null,
      "top": null,
      "visibility": null,
      "width": null
     }
    },
    "e481a7da3d6f4feeb446fa15047b257f": {
     "model_module": "@jupyter-widgets/controls",
     "model_module_version": "1.5.0",
     "model_name": "DropdownModel",
     "state": {
      "_dom_classes": [],
      "_model_module": "@jupyter-widgets/controls",
      "_model_module_version": "1.5.0",
      "_model_name": "DropdownModel",
      "_options_labels": [
       "reads",
       "views",
       "word_count",
       "claps",
       "fans",
       "read_time"
      ],
      "_view_count": null,
      "_view_module": "@jupyter-widgets/controls",
      "_view_module_version": "1.5.0",
      "_view_name": "DropdownView",
      "description": "column",
      "description_tooltip": null,
      "disabled": false,
      "index": 0,
      "layout": "IPY_MODEL_f8e016f84a624774961dcf04b0fa145d",
      "style": "IPY_MODEL_58460783fe9c4e5ebc7947863b4128c3"
     }
    },
    "e4f38d90af98403ca326845eb327643d": {
     "model_module": "@jupyter-widgets/controls",
     "model_module_version": "1.5.0",
     "model_name": "VBoxModel",
     "state": {
      "_dom_classes": [
       "widget-interact"
      ],
      "_model_module": "@jupyter-widgets/controls",
      "_model_module_version": "1.5.0",
      "_model_name": "VBoxModel",
      "_view_count": null,
      "_view_module": "@jupyter-widgets/controls",
      "_view_module_version": "1.5.0",
      "_view_name": "VBoxView",
      "box_style": "",
      "children": [
       "IPY_MODEL_ba402184d87c47d0b6d432844a088129",
       "IPY_MODEL_d8a5b69a88f74ab59c2c4a4d82b385c8",
       "IPY_MODEL_074b5de630f24ca8861d96c0ad1c75f1",
       "IPY_MODEL_88532716d1394ee09f64bad1165ac9f6",
       "IPY_MODEL_7fd557517d6b48519605604a50c89c4f"
      ],
      "layout": "IPY_MODEL_037734dd2af14b1997bc3444ce85ed7b"
     }
    },
    "e67252228fe24baea543568117cc6bfc": {
     "model_module": "@jupyter-widgets/controls",
     "model_module_version": "1.5.0",
     "model_name": "DescriptionStyleModel",
     "state": {
      "_model_module": "@jupyter-widgets/controls",
      "_model_module_version": "1.5.0",
      "_model_name": "DescriptionStyleModel",
      "_view_count": null,
      "_view_module": "@jupyter-widgets/base",
      "_view_module_version": "1.2.0",
      "_view_name": "StyleView",
      "description_width": ""
     }
    },
    "e6926519dc514ba0bc70d3ada1d232fe": {
     "model_module": "@jupyter-widgets/controls",
     "model_module_version": "1.5.0",
     "model_name": "DatePickerModel",
     "state": {
      "_dom_classes": [],
      "_model_module": "@jupyter-widgets/controls",
      "_model_module_version": "1.5.0",
      "_model_name": "DatePickerModel",
      "_view_count": null,
      "_view_module": "@jupyter-widgets/controls",
      "_view_module_version": "1.5.0",
      "_view_name": "DatePickerView",
      "description": "end_date",
      "description_tooltip": null,
      "disabled": false,
      "layout": "IPY_MODEL_035f7068d7fd4eadbedf520ea6c6be3c",
      "style": "IPY_MODEL_646881c927624c89a903c5fc7563036c",
      "value": {
       "date": 1,
       "month": 0,
       "year": 2019
      }
     }
    },
    "e7052a167e0d42a3b0e7abcad4f23efe": {
     "model_module": "@jupyter-widgets/base",
     "model_module_version": "1.2.0",
     "model_name": "LayoutModel",
     "state": {
      "_model_module": "@jupyter-widgets/base",
      "_model_module_version": "1.2.0",
      "_model_name": "LayoutModel",
      "_view_count": null,
      "_view_module": "@jupyter-widgets/base",
      "_view_module_version": "1.2.0",
      "_view_name": "LayoutView",
      "align_content": null,
      "align_items": null,
      "align_self": null,
      "border": null,
      "bottom": null,
      "display": null,
      "flex": null,
      "flex_flow": null,
      "grid_area": null,
      "grid_auto_columns": null,
      "grid_auto_flow": null,
      "grid_auto_rows": null,
      "grid_column": null,
      "grid_gap": null,
      "grid_row": null,
      "grid_template_areas": null,
      "grid_template_columns": null,
      "grid_template_rows": null,
      "height": null,
      "justify_content": null,
      "justify_items": null,
      "left": null,
      "margin": null,
      "max_height": null,
      "max_width": null,
      "min_height": null,
      "min_width": null,
      "object_fit": null,
      "object_position": null,
      "order": null,
      "overflow": null,
      "overflow_x": null,
      "overflow_y": null,
      "padding": null,
      "right": null,
      "top": null,
      "visibility": null,
      "width": null
     }
    },
    "ef0a2832470f42379036d3c38d438ac5": {
     "model_module": "@jupyter-widgets/controls",
     "model_module_version": "1.5.0",
     "model_name": "DropdownModel",
     "state": {
      "_dom_classes": [],
      "_model_module": "@jupyter-widgets/controls",
      "_model_module_version": "1.5.0",
      "_model_name": "DropdownModel",
      "_options_labels": [
       "reads",
       "views",
       "word_count",
       "claps",
       "fans",
       "read_time"
      ],
      "_view_count": null,
      "_view_module": "@jupyter-widgets/controls",
      "_view_module_version": "1.5.0",
      "_view_name": "DropdownView",
      "description": "x",
      "description_tooltip": null,
      "disabled": false,
      "index": 0,
      "layout": "IPY_MODEL_e241981625be413180783dee62727d6d",
      "style": "IPY_MODEL_430395e408684e599254002ff8ab41ba"
     }
    },
    "f2f462cd6f864041b7b4f8c442a2e478": {
     "model_module": "@jupyter-widgets/base",
     "model_module_version": "1.2.0",
     "model_name": "LayoutModel",
     "state": {
      "_model_module": "@jupyter-widgets/base",
      "_model_module_version": "1.2.0",
      "_model_name": "LayoutModel",
      "_view_count": null,
      "_view_module": "@jupyter-widgets/base",
      "_view_module_version": "1.2.0",
      "_view_name": "LayoutView",
      "align_content": null,
      "align_items": null,
      "align_self": null,
      "border": null,
      "bottom": null,
      "display": null,
      "flex": null,
      "flex_flow": null,
      "grid_area": null,
      "grid_auto_columns": null,
      "grid_auto_flow": null,
      "grid_auto_rows": null,
      "grid_column": null,
      "grid_gap": null,
      "grid_row": null,
      "grid_template_areas": null,
      "grid_template_columns": null,
      "grid_template_rows": null,
      "height": null,
      "justify_content": null,
      "justify_items": null,
      "left": null,
      "margin": null,
      "max_height": null,
      "max_width": null,
      "min_height": null,
      "min_width": null,
      "object_fit": null,
      "object_position": null,
      "order": null,
      "overflow": null,
      "overflow_x": null,
      "overflow_y": null,
      "padding": null,
      "right": null,
      "top": null,
      "visibility": null,
      "width": null
     }
    },
    "f2f9adf2c2184e068289c876d6f080ff": {
     "model_module": "@jupyter-widgets/output",
     "model_module_version": "1.0.0",
     "model_name": "OutputModel",
     "state": {
      "_dom_classes": [],
      "_model_module": "@jupyter-widgets/output",
      "_model_module_version": "1.0.0",
      "_model_name": "OutputModel",
      "_view_count": null,
      "_view_module": "@jupyter-widgets/output",
      "_view_module_version": "1.0.0",
      "_view_name": "OutputView",
      "layout": "IPY_MODEL_96f75aad96bb4f95a503178d914f3dbb",
      "msg_id": "",
      "outputs": [
       {
        "data": {
         "text/html": "<h3>Correlation between reads and reads is: 1.0<h3>",
         "text/plain": "<IPython.core.display.HTML object>"
        },
        "metadata": {},
        "output_type": "display_data"
       }
      ]
     }
    },
    "f4a76c024fea48cb865efb3103730a5b": {
     "model_module": "@jupyter-widgets/controls",
     "model_module_version": "1.5.0",
     "model_name": "DescriptionStyleModel",
     "state": {
      "_model_module": "@jupyter-widgets/controls",
      "_model_module_version": "1.5.0",
      "_model_name": "DescriptionStyleModel",
      "_view_count": null,
      "_view_module": "@jupyter-widgets/base",
      "_view_module_version": "1.2.0",
      "_view_name": "StyleView",
      "description_width": ""
     }
    },
    "f54c7ff70f4449be9c1591476a81f440": {
     "model_module": "@jupyter-widgets/output",
     "model_module_version": "1.0.0",
     "model_name": "OutputModel",
     "state": {
      "_dom_classes": [],
      "_model_module": "@jupyter-widgets/output",
      "_model_module_version": "1.0.0",
      "_model_name": "OutputModel",
      "_view_count": null,
      "_view_module": "@jupyter-widgets/output",
      "_view_module_version": "1.0.0",
      "_view_name": "OutputView",
      "layout": "IPY_MODEL_0f2454ec5bd44a6699ef46bdca9c95ff",
      "msg_id": "",
      "outputs": [
       {
        "data": {
         "application/vnd.plotly.v1+json": {
          "config": {
           "linkText": "Export to plot.ly",
           "plotlyServerURL": "https://plot.ly",
           "showLink": true
          },
          "data": [
           {
            "line": {
             "color": "rgba(31, 119, 180, 1.0)",
             "dash": "solid",
             "shape": "linear",
             "width": 1.3
            },
            "marker": {
             "size": 12,
             "symbol": "circle"
            },
            "mode": "markers",
            "name": "views",
            "text": "",
            "type": "scatter",
            "x": [
             70,
             54,
             222,
             19,
             5,
             62,
             1717,
             5690,
             45,
             15,
             3992,
             509,
             27,
             17,
             664,
             547,
             2734,
             2049,
             73,
             299,
             24,
             30709,
             37187,
             62,
             141,
             7815,
             794,
             1225,
             768,
             27492,
             32752,
             66,
             21619,
             3214,
             58,
             41978,
             7360,
             477,
             2284,
             7123,
             11039,
             7282,
             15106,
             30099,
             1355,
             16735,
             135,
             11491,
             2117,
             5881,
             26327,
             14614,
             20479,
             11278,
             32075,
             18754,
             15764,
             19805,
             6796,
             6708,
             21607,
             1506,
             23587,
             9629,
             6508,
             8467,
             10398,
             25139,
             1890,
             20592,
             5854,
             8890,
             6988,
             1008,
             2016,
             7077,
             5924,
             1157,
             13261,
             7398,
             1250,
             1259,
             2546,
             4030,
             4714,
             1544,
             348,
             4462,
             863,
             8035,
             1559,
             3175,
             558,
             9583,
             1330,
             6029,
             1312,
             2538,
             1249,
             1818,
             8606,
             5627,
             1805,
             5103,
             4616,
             11925,
             1312,
             426,
             3836,
             147,
             2135,
             62,
             371,
             25,
             1,
             13,
             8,
             8,
             40,
             3,
             265,
             1517,
             754,
             363,
             485,
             378,
             24002,
             2809,
             343,
             266,
             2320,
             96,
             165
            ],
            "y": [
             166,
             178,
             1109,
             53,
             59,
             315,
             9723,
             24079,
             136,
             69,
             28387,
             4174,
             145,
             58,
             5581,
             4798,
             9589,
             13367,
             136,
             2259,
             38,
             173714,
             88394,
             168,
             322,
             34222,
             2803,
             3573,
             2470,
             114637,
             130417,
             158,
             81609,
             5171,
             109,
             134699,
             20529,
             1700,
             4179,
             17040,
             35745,
             15370,
             50691,
             48157,
             3141,
             57830,
             232,
             35505,
             4946,
             13571,
             128661,
             65054,
             55791,
             30494,
             118318,
             56245,
             50184,
             58471,
             21887,
             25208,
             68317,
             2380,
             124970,
             46238,
             27428,
             33761,
             43577,
             114762,
             11243,
             80618,
             26665,
             32502,
             48494,
             5556,
             4781,
             29190,
             18228,
             4266,
             30141,
             44201,
             6385,
             1693,
             14561,
             14989,
             24975,
             3772,
             1905,
             24517,
             3044,
             29689,
             7608,
             13464,
             2154,
             33755,
             3342,
             35601,
             5389,
             6570,
             5740,
             8382,
             28625,
             16118,
             10056,
             23622,
             23617,
             26603,
             5933,
             891,
             13166,
             415,
             6766,
             256,
             978,
             226,
             3,
             107,
             85,
             27,
             139,
             37,
             1375,
             5070,
             3768,
             955,
             2783,
             1477,
             71225,
             15291,
             1372,
             1005,
             8806,
             559,
             693
            ]
           }
          ],
          "layout": {
           "legend": {
            "bgcolor": "#F5F6F9",
            "font": {
             "color": "#4D5663"
            }
           },
           "paper_bgcolor": "#F5F6F9",
           "plot_bgcolor": "#F5F6F9",
           "template": {
            "data": {
             "bar": [
              {
               "error_x": {
                "color": "#2a3f5f"
               },
               "error_y": {
                "color": "#2a3f5f"
               },
               "marker": {
                "line": {
                 "color": "#E5ECF6",
                 "width": 0.5
                }
               },
               "type": "bar"
              }
             ],
             "barpolar": [
              {
               "marker": {
                "line": {
                 "color": "#E5ECF6",
                 "width": 0.5
                }
               },
               "type": "barpolar"
              }
             ],
             "carpet": [
              {
               "aaxis": {
                "endlinecolor": "#2a3f5f",
                "gridcolor": "white",
                "linecolor": "white",
                "minorgridcolor": "white",
                "startlinecolor": "#2a3f5f"
               },
               "baxis": {
                "endlinecolor": "#2a3f5f",
                "gridcolor": "white",
                "linecolor": "white",
                "minorgridcolor": "white",
                "startlinecolor": "#2a3f5f"
               },
               "type": "carpet"
              }
             ],
             "choropleth": [
              {
               "colorbar": {
                "outlinewidth": 0,
                "ticks": ""
               },
               "type": "choropleth"
              }
             ],
             "contour": [
              {
               "colorbar": {
                "outlinewidth": 0,
                "ticks": ""
               },
               "colorscale": [
                [
                 0,
                 "#0d0887"
                ],
                [
                 0.1111111111111111,
                 "#46039f"
                ],
                [
                 0.2222222222222222,
                 "#7201a8"
                ],
                [
                 0.3333333333333333,
                 "#9c179e"
                ],
                [
                 0.4444444444444444,
                 "#bd3786"
                ],
                [
                 0.5555555555555556,
                 "#d8576b"
                ],
                [
                 0.6666666666666666,
                 "#ed7953"
                ],
                [
                 0.7777777777777778,
                 "#fb9f3a"
                ],
                [
                 0.8888888888888888,
                 "#fdca26"
                ],
                [
                 1,
                 "#f0f921"
                ]
               ],
               "type": "contour"
              }
             ],
             "contourcarpet": [
              {
               "colorbar": {
                "outlinewidth": 0,
                "ticks": ""
               },
               "type": "contourcarpet"
              }
             ],
             "heatmap": [
              {
               "colorbar": {
                "outlinewidth": 0,
                "ticks": ""
               },
               "colorscale": [
                [
                 0,
                 "#0d0887"
                ],
                [
                 0.1111111111111111,
                 "#46039f"
                ],
                [
                 0.2222222222222222,
                 "#7201a8"
                ],
                [
                 0.3333333333333333,
                 "#9c179e"
                ],
                [
                 0.4444444444444444,
                 "#bd3786"
                ],
                [
                 0.5555555555555556,
                 "#d8576b"
                ],
                [
                 0.6666666666666666,
                 "#ed7953"
                ],
                [
                 0.7777777777777778,
                 "#fb9f3a"
                ],
                [
                 0.8888888888888888,
                 "#fdca26"
                ],
                [
                 1,
                 "#f0f921"
                ]
               ],
               "type": "heatmap"
              }
             ],
             "heatmapgl": [
              {
               "colorbar": {
                "outlinewidth": 0,
                "ticks": ""
               },
               "colorscale": [
                [
                 0,
                 "#0d0887"
                ],
                [
                 0.1111111111111111,
                 "#46039f"
                ],
                [
                 0.2222222222222222,
                 "#7201a8"
                ],
                [
                 0.3333333333333333,
                 "#9c179e"
                ],
                [
                 0.4444444444444444,
                 "#bd3786"
                ],
                [
                 0.5555555555555556,
                 "#d8576b"
                ],
                [
                 0.6666666666666666,
                 "#ed7953"
                ],
                [
                 0.7777777777777778,
                 "#fb9f3a"
                ],
                [
                 0.8888888888888888,
                 "#fdca26"
                ],
                [
                 1,
                 "#f0f921"
                ]
               ],
               "type": "heatmapgl"
              }
             ],
             "histogram": [
              {
               "marker": {
                "colorbar": {
                 "outlinewidth": 0,
                 "ticks": ""
                }
               },
               "type": "histogram"
              }
             ],
             "histogram2d": [
              {
               "colorbar": {
                "outlinewidth": 0,
                "ticks": ""
               },
               "colorscale": [
                [
                 0,
                 "#0d0887"
                ],
                [
                 0.1111111111111111,
                 "#46039f"
                ],
                [
                 0.2222222222222222,
                 "#7201a8"
                ],
                [
                 0.3333333333333333,
                 "#9c179e"
                ],
                [
                 0.4444444444444444,
                 "#bd3786"
                ],
                [
                 0.5555555555555556,
                 "#d8576b"
                ],
                [
                 0.6666666666666666,
                 "#ed7953"
                ],
                [
                 0.7777777777777778,
                 "#fb9f3a"
                ],
                [
                 0.8888888888888888,
                 "#fdca26"
                ],
                [
                 1,
                 "#f0f921"
                ]
               ],
               "type": "histogram2d"
              }
             ],
             "histogram2dcontour": [
              {
               "colorbar": {
                "outlinewidth": 0,
                "ticks": ""
               },
               "colorscale": [
                [
                 0,
                 "#0d0887"
                ],
                [
                 0.1111111111111111,
                 "#46039f"
                ],
                [
                 0.2222222222222222,
                 "#7201a8"
                ],
                [
                 0.3333333333333333,
                 "#9c179e"
                ],
                [
                 0.4444444444444444,
                 "#bd3786"
                ],
                [
                 0.5555555555555556,
                 "#d8576b"
                ],
                [
                 0.6666666666666666,
                 "#ed7953"
                ],
                [
                 0.7777777777777778,
                 "#fb9f3a"
                ],
                [
                 0.8888888888888888,
                 "#fdca26"
                ],
                [
                 1,
                 "#f0f921"
                ]
               ],
               "type": "histogram2dcontour"
              }
             ],
             "mesh3d": [
              {
               "colorbar": {
                "outlinewidth": 0,
                "ticks": ""
               },
               "type": "mesh3d"
              }
             ],
             "parcoords": [
              {
               "line": {
                "colorbar": {
                 "outlinewidth": 0,
                 "ticks": ""
                }
               },
               "type": "parcoords"
              }
             ],
             "pie": [
              {
               "automargin": true,
               "type": "pie"
              }
             ],
             "scatter": [
              {
               "marker": {
                "colorbar": {
                 "outlinewidth": 0,
                 "ticks": ""
                }
               },
               "type": "scatter"
              }
             ],
             "scatter3d": [
              {
               "line": {
                "colorbar": {
                 "outlinewidth": 0,
                 "ticks": ""
                }
               },
               "marker": {
                "colorbar": {
                 "outlinewidth": 0,
                 "ticks": ""
                }
               },
               "type": "scatter3d"
              }
             ],
             "scattercarpet": [
              {
               "marker": {
                "colorbar": {
                 "outlinewidth": 0,
                 "ticks": ""
                }
               },
               "type": "scattercarpet"
              }
             ],
             "scattergeo": [
              {
               "marker": {
                "colorbar": {
                 "outlinewidth": 0,
                 "ticks": ""
                }
               },
               "type": "scattergeo"
              }
             ],
             "scattergl": [
              {
               "marker": {
                "colorbar": {
                 "outlinewidth": 0,
                 "ticks": ""
                }
               },
               "type": "scattergl"
              }
             ],
             "scattermapbox": [
              {
               "marker": {
                "colorbar": {
                 "outlinewidth": 0,
                 "ticks": ""
                }
               },
               "type": "scattermapbox"
              }
             ],
             "scatterpolar": [
              {
               "marker": {
                "colorbar": {
                 "outlinewidth": 0,
                 "ticks": ""
                }
               },
               "type": "scatterpolar"
              }
             ],
             "scatterpolargl": [
              {
               "marker": {
                "colorbar": {
                 "outlinewidth": 0,
                 "ticks": ""
                }
               },
               "type": "scatterpolargl"
              }
             ],
             "scatterternary": [
              {
               "marker": {
                "colorbar": {
                 "outlinewidth": 0,
                 "ticks": ""
                }
               },
               "type": "scatterternary"
              }
             ],
             "surface": [
              {
               "colorbar": {
                "outlinewidth": 0,
                "ticks": ""
               },
               "colorscale": [
                [
                 0,
                 "#0d0887"
                ],
                [
                 0.1111111111111111,
                 "#46039f"
                ],
                [
                 0.2222222222222222,
                 "#7201a8"
                ],
                [
                 0.3333333333333333,
                 "#9c179e"
                ],
                [
                 0.4444444444444444,
                 "#bd3786"
                ],
                [
                 0.5555555555555556,
                 "#d8576b"
                ],
                [
                 0.6666666666666666,
                 "#ed7953"
                ],
                [
                 0.7777777777777778,
                 "#fb9f3a"
                ],
                [
                 0.8888888888888888,
                 "#fdca26"
                ],
                [
                 1,
                 "#f0f921"
                ]
               ],
               "type": "surface"
              }
             ],
             "table": [
              {
               "cells": {
                "fill": {
                 "color": "#EBF0F8"
                },
                "line": {
                 "color": "white"
                }
               },
               "header": {
                "fill": {
                 "color": "#C8D4E3"
                },
                "line": {
                 "color": "white"
                }
               },
               "type": "table"
              }
             ]
            },
            "layout": {
             "annotationdefaults": {
              "arrowcolor": "#2a3f5f",
              "arrowhead": 0,
              "arrowwidth": 1
             },
             "coloraxis": {
              "colorbar": {
               "outlinewidth": 0,
               "ticks": ""
              }
             },
             "colorscale": {
              "diverging": [
               [
                0,
                "#8e0152"
               ],
               [
                0.1,
                "#c51b7d"
               ],
               [
                0.2,
                "#de77ae"
               ],
               [
                0.3,
                "#f1b6da"
               ],
               [
                0.4,
                "#fde0ef"
               ],
               [
                0.5,
                "#f7f7f7"
               ],
               [
                0.6,
                "#e6f5d0"
               ],
               [
                0.7,
                "#b8e186"
               ],
               [
                0.8,
                "#7fbc41"
               ],
               [
                0.9,
                "#4d9221"
               ],
               [
                1,
                "#276419"
               ]
              ],
              "sequential": [
               [
                0,
                "#0d0887"
               ],
               [
                0.1111111111111111,
                "#46039f"
               ],
               [
                0.2222222222222222,
                "#7201a8"
               ],
               [
                0.3333333333333333,
                "#9c179e"
               ],
               [
                0.4444444444444444,
                "#bd3786"
               ],
               [
                0.5555555555555556,
                "#d8576b"
               ],
               [
                0.6666666666666666,
                "#ed7953"
               ],
               [
                0.7777777777777778,
                "#fb9f3a"
               ],
               [
                0.8888888888888888,
                "#fdca26"
               ],
               [
                1,
                "#f0f921"
               ]
              ],
              "sequentialminus": [
               [
                0,
                "#0d0887"
               ],
               [
                0.1111111111111111,
                "#46039f"
               ],
               [
                0.2222222222222222,
                "#7201a8"
               ],
               [
                0.3333333333333333,
                "#9c179e"
               ],
               [
                0.4444444444444444,
                "#bd3786"
               ],
               [
                0.5555555555555556,
                "#d8576b"
               ],
               [
                0.6666666666666666,
                "#ed7953"
               ],
               [
                0.7777777777777778,
                "#fb9f3a"
               ],
               [
                0.8888888888888888,
                "#fdca26"
               ],
               [
                1,
                "#f0f921"
               ]
              ]
             },
             "colorway": [
              "#636efa",
              "#EF553B",
              "#00cc96",
              "#ab63fa",
              "#FFA15A",
              "#19d3f3",
              "#FF6692",
              "#B6E880",
              "#FF97FF",
              "#FECB52"
             ],
             "font": {
              "color": "#2a3f5f"
             },
             "geo": {
              "bgcolor": "white",
              "lakecolor": "white",
              "landcolor": "#E5ECF6",
              "showlakes": true,
              "showland": true,
              "subunitcolor": "white"
             },
             "hoverlabel": {
              "align": "left"
             },
             "hovermode": "closest",
             "mapbox": {
              "style": "light"
             },
             "paper_bgcolor": "white",
             "plot_bgcolor": "#E5ECF6",
             "polar": {
              "angularaxis": {
               "gridcolor": "white",
               "linecolor": "white",
               "ticks": ""
              },
              "bgcolor": "#E5ECF6",
              "radialaxis": {
               "gridcolor": "white",
               "linecolor": "white",
               "ticks": ""
              }
             },
             "scene": {
              "xaxis": {
               "backgroundcolor": "#E5ECF6",
               "gridcolor": "white",
               "gridwidth": 2,
               "linecolor": "white",
               "showbackground": true,
               "ticks": "",
               "zerolinecolor": "white"
              },
              "yaxis": {
               "backgroundcolor": "#E5ECF6",
               "gridcolor": "white",
               "gridwidth": 2,
               "linecolor": "white",
               "showbackground": true,
               "ticks": "",
               "zerolinecolor": "white"
              },
              "zaxis": {
               "backgroundcolor": "#E5ECF6",
               "gridcolor": "white",
               "gridwidth": 2,
               "linecolor": "white",
               "showbackground": true,
               "ticks": "",
               "zerolinecolor": "white"
              }
             },
             "shapedefaults": {
              "line": {
               "color": "#2a3f5f"
              }
             },
             "ternary": {
              "aaxis": {
               "gridcolor": "white",
               "linecolor": "white",
               "ticks": ""
              },
              "baxis": {
               "gridcolor": "white",
               "linecolor": "white",
               "ticks": ""
              },
              "bgcolor": "#E5ECF6",
              "caxis": {
               "gridcolor": "white",
               "linecolor": "white",
               "ticks": ""
              }
             },
             "title": {
              "x": 0.05
             },
             "xaxis": {
              "automargin": true,
              "gridcolor": "white",
              "linecolor": "white",
              "ticks": "",
              "title": {
               "standoff": 15
              },
              "zerolinecolor": "white",
              "zerolinewidth": 2
             },
             "yaxis": {
              "automargin": true,
              "gridcolor": "white",
              "linecolor": "white",
              "ticks": "",
              "title": {
               "standoff": 15
              },
              "zerolinecolor": "white",
              "zerolinewidth": 2
             }
            }
           },
           "title": {
            "font": {
             "color": "#4D5663"
            },
            "text": "Views vs Reads"
           },
           "xaxis": {
            "gridcolor": "#E1E5ED",
            "showgrid": true,
            "tickfont": {
             "color": "#4D5663"
            },
            "title": {
             "font": {
              "color": "#4D5663"
             },
             "text": "Reads"
            },
            "zerolinecolor": "#E1E5ED"
           },
           "yaxis": {
            "gridcolor": "#E1E5ED",
            "showgrid": true,
            "tickfont": {
             "color": "#4D5663"
            },
            "title": {
             "font": {
              "color": "#4D5663"
             },
             "text": "Views"
            },
            "zerolinecolor": "#E1E5ED"
           }
          }
         },
         "text/html": "<div>\n        \n        \n            <div id=\"8fc4a7bc-e610-4167-a911-f2f3dc40df48\" class=\"plotly-graph-div\" style=\"height:525px; width:100%;\"></div>\n            <script type=\"text/javascript\">\n                require([\"plotly\"], function(Plotly) {\n                    window.PLOTLYENV=window.PLOTLYENV || {};\n                    window.PLOTLYENV.BASE_URL='https://plot.ly';\n                    \n                if (document.getElementById(\"8fc4a7bc-e610-4167-a911-f2f3dc40df48\")) {\n                    Plotly.newPlot(\n                        '8fc4a7bc-e610-4167-a911-f2f3dc40df48',\n                        [{\"line\": {\"color\": \"rgba(31, 119, 180, 1.0)\", \"dash\": \"solid\", \"shape\": \"linear\", \"width\": 1.3}, \"marker\": {\"size\": 12, \"symbol\": \"circle\"}, \"mode\": \"markers\", \"name\": \"views\", \"text\": \"\", \"type\": \"scatter\", \"x\": [70, 54, 222, 19, 5, 62, 1717, 5690, 45, 15, 3992, 509, 27, 17, 664, 547, 2734, 2049, 73, 299, 24, 30709, 37187, 62, 141, 7815, 794, 1225, 768, 27492, 32752, 66, 21619, 3214, 58, 41978, 7360, 477, 2284, 7123, 11039, 7282, 15106, 30099, 1355, 16735, 135, 11491, 2117, 5881, 26327, 14614, 20479, 11278, 32075, 18754, 15764, 19805, 6796, 6708, 21607, 1506, 23587, 9629, 6508, 8467, 10398, 25139, 1890, 20592, 5854, 8890, 6988, 1008, 2016, 7077, 5924, 1157, 13261, 7398, 1250, 1259, 2546, 4030, 4714, 1544, 348, 4462, 863, 8035, 1559, 3175, 558, 9583, 1330, 6029, 1312, 2538, 1249, 1818, 8606, 5627, 1805, 5103, 4616, 11925, 1312, 426, 3836, 147, 2135, 62, 371, 25, 1, 13, 8, 8, 40, 3, 265, 1517, 754, 363, 485, 378, 24002, 2809, 343, 266, 2320, 96, 165], \"y\": [166, 178, 1109, 53, 59, 315, 9723, 24079, 136, 69, 28387, 4174, 145, 58, 5581, 4798, 9589, 13367, 136, 2259, 38, 173714, 88394, 168, 322, 34222, 2803, 3573, 2470, 114637, 130417, 158, 81609, 5171, 109, 134699, 20529, 1700, 4179, 17040, 35745, 15370, 50691, 48157, 3141, 57830, 232, 35505, 4946, 13571, 128661, 65054, 55791, 30494, 118318, 56245, 50184, 58471, 21887, 25208, 68317, 2380, 124970, 46238, 27428, 33761, 43577, 114762, 11243, 80618, 26665, 32502, 48494, 5556, 4781, 29190, 18228, 4266, 30141, 44201, 6385, 1693, 14561, 14989, 24975, 3772, 1905, 24517, 3044, 29689, 7608, 13464, 2154, 33755, 3342, 35601, 5389, 6570, 5740, 8382, 28625, 16118, 10056, 23622, 23617, 26603, 5933, 891, 13166, 415, 6766, 256, 978, 226, 3, 107, 85, 27, 139, 37, 1375, 5070, 3768, 955, 2783, 1477, 71225, 15291, 1372, 1005, 8806, 559, 693]}],\n                        {\"legend\": {\"bgcolor\": \"#F5F6F9\", \"font\": {\"color\": \"#4D5663\"}}, \"paper_bgcolor\": \"#F5F6F9\", \"plot_bgcolor\": \"#F5F6F9\", \"template\": {\"data\": {\"bar\": [{\"error_x\": {\"color\": \"#2a3f5f\"}, \"error_y\": {\"color\": \"#2a3f5f\"}, \"marker\": {\"line\": {\"color\": \"#E5ECF6\", \"width\": 0.5}}, \"type\": \"bar\"}], \"barpolar\": [{\"marker\": {\"line\": {\"color\": \"#E5ECF6\", \"width\": 0.5}}, \"type\": \"barpolar\"}], \"carpet\": [{\"aaxis\": {\"endlinecolor\": \"#2a3f5f\", \"gridcolor\": \"white\", \"linecolor\": \"white\", \"minorgridcolor\": \"white\", \"startlinecolor\": \"#2a3f5f\"}, \"baxis\": {\"endlinecolor\": \"#2a3f5f\", \"gridcolor\": \"white\", \"linecolor\": \"white\", \"minorgridcolor\": \"white\", \"startlinecolor\": \"#2a3f5f\"}, \"type\": \"carpet\"}], \"choropleth\": [{\"colorbar\": {\"outlinewidth\": 0, \"ticks\": \"\"}, \"type\": \"choropleth\"}], \"contour\": [{\"colorbar\": {\"outlinewidth\": 0, \"ticks\": \"\"}, \"colorscale\": [[0.0, \"#0d0887\"], [0.1111111111111111, \"#46039f\"], [0.2222222222222222, \"#7201a8\"], [0.3333333333333333, \"#9c179e\"], [0.4444444444444444, \"#bd3786\"], [0.5555555555555556, \"#d8576b\"], [0.6666666666666666, \"#ed7953\"], [0.7777777777777778, \"#fb9f3a\"], [0.8888888888888888, \"#fdca26\"], [1.0, \"#f0f921\"]], \"type\": \"contour\"}], \"contourcarpet\": [{\"colorbar\": {\"outlinewidth\": 0, \"ticks\": \"\"}, \"type\": \"contourcarpet\"}], \"heatmap\": [{\"colorbar\": {\"outlinewidth\": 0, \"ticks\": \"\"}, \"colorscale\": [[0.0, \"#0d0887\"], [0.1111111111111111, \"#46039f\"], [0.2222222222222222, \"#7201a8\"], [0.3333333333333333, \"#9c179e\"], [0.4444444444444444, \"#bd3786\"], [0.5555555555555556, \"#d8576b\"], [0.6666666666666666, \"#ed7953\"], [0.7777777777777778, \"#fb9f3a\"], [0.8888888888888888, \"#fdca26\"], [1.0, \"#f0f921\"]], \"type\": \"heatmap\"}], \"heatmapgl\": [{\"colorbar\": {\"outlinewidth\": 0, \"ticks\": \"\"}, \"colorscale\": [[0.0, \"#0d0887\"], [0.1111111111111111, \"#46039f\"], [0.2222222222222222, \"#7201a8\"], [0.3333333333333333, \"#9c179e\"], [0.4444444444444444, \"#bd3786\"], [0.5555555555555556, \"#d8576b\"], [0.6666666666666666, \"#ed7953\"], [0.7777777777777778, \"#fb9f3a\"], [0.8888888888888888, \"#fdca26\"], [1.0, \"#f0f921\"]], \"type\": \"heatmapgl\"}], \"histogram\": [{\"marker\": {\"colorbar\": {\"outlinewidth\": 0, \"ticks\": \"\"}}, \"type\": \"histogram\"}], \"histogram2d\": [{\"colorbar\": {\"outlinewidth\": 0, \"ticks\": \"\"}, \"colorscale\": [[0.0, \"#0d0887\"], [0.1111111111111111, \"#46039f\"], [0.2222222222222222, \"#7201a8\"], [0.3333333333333333, \"#9c179e\"], [0.4444444444444444, \"#bd3786\"], [0.5555555555555556, \"#d8576b\"], [0.6666666666666666, \"#ed7953\"], [0.7777777777777778, \"#fb9f3a\"], [0.8888888888888888, \"#fdca26\"], [1.0, \"#f0f921\"]], \"type\": \"histogram2d\"}], \"histogram2dcontour\": [{\"colorbar\": {\"outlinewidth\": 0, \"ticks\": \"\"}, \"colorscale\": [[0.0, \"#0d0887\"], [0.1111111111111111, \"#46039f\"], [0.2222222222222222, \"#7201a8\"], [0.3333333333333333, \"#9c179e\"], [0.4444444444444444, \"#bd3786\"], [0.5555555555555556, \"#d8576b\"], [0.6666666666666666, \"#ed7953\"], [0.7777777777777778, \"#fb9f3a\"], [0.8888888888888888, \"#fdca26\"], [1.0, \"#f0f921\"]], \"type\": \"histogram2dcontour\"}], \"mesh3d\": [{\"colorbar\": {\"outlinewidth\": 0, \"ticks\": \"\"}, \"type\": \"mesh3d\"}], \"parcoords\": [{\"line\": {\"colorbar\": {\"outlinewidth\": 0, \"ticks\": \"\"}}, \"type\": \"parcoords\"}], \"pie\": [{\"automargin\": true, \"type\": \"pie\"}], \"scatter\": [{\"marker\": {\"colorbar\": {\"outlinewidth\": 0, \"ticks\": \"\"}}, \"type\": \"scatter\"}], \"scatter3d\": [{\"line\": {\"colorbar\": {\"outlinewidth\": 0, \"ticks\": \"\"}}, \"marker\": {\"colorbar\": {\"outlinewidth\": 0, \"ticks\": \"\"}}, \"type\": \"scatter3d\"}], \"scattercarpet\": [{\"marker\": {\"colorbar\": {\"outlinewidth\": 0, \"ticks\": \"\"}}, \"type\": \"scattercarpet\"}], \"scattergeo\": [{\"marker\": {\"colorbar\": {\"outlinewidth\": 0, \"ticks\": \"\"}}, \"type\": \"scattergeo\"}], \"scattergl\": [{\"marker\": {\"colorbar\": {\"outlinewidth\": 0, \"ticks\": \"\"}}, \"type\": \"scattergl\"}], \"scattermapbox\": [{\"marker\": {\"colorbar\": {\"outlinewidth\": 0, \"ticks\": \"\"}}, \"type\": \"scattermapbox\"}], \"scatterpolar\": [{\"marker\": {\"colorbar\": {\"outlinewidth\": 0, \"ticks\": \"\"}}, \"type\": \"scatterpolar\"}], \"scatterpolargl\": [{\"marker\": {\"colorbar\": {\"outlinewidth\": 0, \"ticks\": \"\"}}, \"type\": \"scatterpolargl\"}], \"scatterternary\": [{\"marker\": {\"colorbar\": {\"outlinewidth\": 0, \"ticks\": \"\"}}, \"type\": \"scatterternary\"}], \"surface\": [{\"colorbar\": {\"outlinewidth\": 0, \"ticks\": \"\"}, \"colorscale\": [[0.0, \"#0d0887\"], [0.1111111111111111, \"#46039f\"], [0.2222222222222222, \"#7201a8\"], [0.3333333333333333, \"#9c179e\"], [0.4444444444444444, \"#bd3786\"], [0.5555555555555556, \"#d8576b\"], [0.6666666666666666, \"#ed7953\"], [0.7777777777777778, \"#fb9f3a\"], [0.8888888888888888, \"#fdca26\"], [1.0, \"#f0f921\"]], \"type\": \"surface\"}], \"table\": [{\"cells\": {\"fill\": {\"color\": \"#EBF0F8\"}, \"line\": {\"color\": \"white\"}}, \"header\": {\"fill\": {\"color\": \"#C8D4E3\"}, \"line\": {\"color\": \"white\"}}, \"type\": \"table\"}]}, \"layout\": {\"annotationdefaults\": {\"arrowcolor\": \"#2a3f5f\", \"arrowhead\": 0, \"arrowwidth\": 1}, \"coloraxis\": {\"colorbar\": {\"outlinewidth\": 0, \"ticks\": \"\"}}, \"colorscale\": {\"diverging\": [[0, \"#8e0152\"], [0.1, \"#c51b7d\"], [0.2, \"#de77ae\"], [0.3, \"#f1b6da\"], [0.4, \"#fde0ef\"], [0.5, \"#f7f7f7\"], [0.6, \"#e6f5d0\"], [0.7, \"#b8e186\"], [0.8, \"#7fbc41\"], [0.9, \"#4d9221\"], [1, \"#276419\"]], \"sequential\": [[0.0, \"#0d0887\"], [0.1111111111111111, \"#46039f\"], [0.2222222222222222, \"#7201a8\"], [0.3333333333333333, \"#9c179e\"], [0.4444444444444444, \"#bd3786\"], [0.5555555555555556, \"#d8576b\"], [0.6666666666666666, \"#ed7953\"], [0.7777777777777778, \"#fb9f3a\"], [0.8888888888888888, \"#fdca26\"], [1.0, \"#f0f921\"]], \"sequentialminus\": [[0.0, \"#0d0887\"], [0.1111111111111111, \"#46039f\"], [0.2222222222222222, \"#7201a8\"], [0.3333333333333333, \"#9c179e\"], [0.4444444444444444, \"#bd3786\"], [0.5555555555555556, \"#d8576b\"], [0.6666666666666666, \"#ed7953\"], [0.7777777777777778, \"#fb9f3a\"], [0.8888888888888888, \"#fdca26\"], [1.0, \"#f0f921\"]]}, \"colorway\": [\"#636efa\", \"#EF553B\", \"#00cc96\", \"#ab63fa\", \"#FFA15A\", \"#19d3f3\", \"#FF6692\", \"#B6E880\", \"#FF97FF\", \"#FECB52\"], \"font\": {\"color\": \"#2a3f5f\"}, \"geo\": {\"bgcolor\": \"white\", \"lakecolor\": \"white\", \"landcolor\": \"#E5ECF6\", \"showlakes\": true, \"showland\": true, \"subunitcolor\": \"white\"}, \"hoverlabel\": {\"align\": \"left\"}, \"hovermode\": \"closest\", \"mapbox\": {\"style\": \"light\"}, \"paper_bgcolor\": \"white\", \"plot_bgcolor\": \"#E5ECF6\", \"polar\": {\"angularaxis\": {\"gridcolor\": \"white\", \"linecolor\": \"white\", \"ticks\": \"\"}, \"bgcolor\": \"#E5ECF6\", \"radialaxis\": {\"gridcolor\": \"white\", \"linecolor\": \"white\", \"ticks\": \"\"}}, \"scene\": {\"xaxis\": {\"backgroundcolor\": \"#E5ECF6\", \"gridcolor\": \"white\", \"gridwidth\": 2, \"linecolor\": \"white\", \"showbackground\": true, \"ticks\": \"\", \"zerolinecolor\": \"white\"}, \"yaxis\": {\"backgroundcolor\": \"#E5ECF6\", \"gridcolor\": \"white\", \"gridwidth\": 2, \"linecolor\": \"white\", \"showbackground\": true, \"ticks\": \"\", \"zerolinecolor\": \"white\"}, \"zaxis\": {\"backgroundcolor\": \"#E5ECF6\", \"gridcolor\": \"white\", \"gridwidth\": 2, \"linecolor\": \"white\", \"showbackground\": true, \"ticks\": \"\", \"zerolinecolor\": \"white\"}}, \"shapedefaults\": {\"line\": {\"color\": \"#2a3f5f\"}}, \"ternary\": {\"aaxis\": {\"gridcolor\": \"white\", \"linecolor\": \"white\", \"ticks\": \"\"}, \"baxis\": {\"gridcolor\": \"white\", \"linecolor\": \"white\", \"ticks\": \"\"}, \"bgcolor\": \"#E5ECF6\", \"caxis\": {\"gridcolor\": \"white\", \"linecolor\": \"white\", \"ticks\": \"\"}}, \"title\": {\"x\": 0.05}, \"xaxis\": {\"automargin\": true, \"gridcolor\": \"white\", \"linecolor\": \"white\", \"ticks\": \"\", \"title\": {\"standoff\": 15}, \"zerolinecolor\": \"white\", \"zerolinewidth\": 2}, \"yaxis\": {\"automargin\": true, \"gridcolor\": \"white\", \"linecolor\": \"white\", \"ticks\": \"\", \"title\": {\"standoff\": 15}, \"zerolinecolor\": \"white\", \"zerolinewidth\": 2}}}, \"title\": {\"font\": {\"color\": \"#4D5663\"}, \"text\": \"Views vs Reads\"}, \"xaxis\": {\"gridcolor\": \"#E1E5ED\", \"showgrid\": true, \"tickfont\": {\"color\": \"#4D5663\"}, \"title\": {\"font\": {\"color\": \"#4D5663\"}, \"text\": \"Reads\"}, \"zerolinecolor\": \"#E1E5ED\"}, \"yaxis\": {\"gridcolor\": \"#E1E5ED\", \"showgrid\": true, \"tickfont\": {\"color\": \"#4D5663\"}, \"title\": {\"font\": {\"color\": \"#4D5663\"}, \"text\": \"Views\"}, \"zerolinecolor\": \"#E1E5ED\"}},\n                        {\"showLink\": true, \"linkText\": \"Export to plot.ly\", \"plotlyServerURL\": \"https://plot.ly\", \"responsive\": true}\n                    ).then(function(){\n                            \nvar gd = document.getElementById('8fc4a7bc-e610-4167-a911-f2f3dc40df48');\nvar x = new MutationObserver(function (mutations, observer) {{\n        var display = window.getComputedStyle(gd).display;\n        if (!display || display === 'none') {{\n            console.log([gd, 'removed!']);\n            Plotly.purge(gd);\n            observer.disconnect();\n        }}\n}});\n\n// Listen for the removal of the full notebook cells\nvar notebookContainer = gd.closest('#notebook-container');\nif (notebookContainer) {{\n    x.observe(notebookContainer, {childList: true});\n}}\n\n// Listen for the clearing of the current output cell\nvar outputEl = gd.closest('.output');\nif (outputEl) {{\n    x.observe(outputEl, {childList: true});\n}}\n\n                        })\n                };\n                });\n            </script>\n        </div>"
        },
        "metadata": {},
        "output_type": "display_data"
       }
      ]
     }
    },
    "f65502bb150748848141d72a133ef6c7": {
     "model_module": "@jupyter-widgets/controls",
     "model_module_version": "1.5.0",
     "model_name": "DescriptionStyleModel",
     "state": {
      "_model_module": "@jupyter-widgets/controls",
      "_model_module_version": "1.5.0",
      "_model_name": "DescriptionStyleModel",
      "_view_count": null,
      "_view_module": "@jupyter-widgets/base",
      "_view_module_version": "1.2.0",
      "_view_name": "StyleView",
      "description_width": ""
     }
    },
    "f79b89bde6af475fbd67b319fc17db24": {
     "model_module": "@jupyter-widgets/base",
     "model_module_version": "1.2.0",
     "model_name": "LayoutModel",
     "state": {
      "_model_module": "@jupyter-widgets/base",
      "_model_module_version": "1.2.0",
      "_model_name": "LayoutModel",
      "_view_count": null,
      "_view_module": "@jupyter-widgets/base",
      "_view_module_version": "1.2.0",
      "_view_name": "LayoutView",
      "align_content": null,
      "align_items": null,
      "align_self": null,
      "border": null,
      "bottom": null,
      "display": null,
      "flex": null,
      "flex_flow": null,
      "grid_area": null,
      "grid_auto_columns": null,
      "grid_auto_flow": null,
      "grid_auto_rows": null,
      "grid_column": null,
      "grid_gap": null,
      "grid_row": null,
      "grid_template_areas": null,
      "grid_template_columns": null,
      "grid_template_rows": null,
      "height": null,
      "justify_content": null,
      "justify_items": null,
      "left": null,
      "margin": null,
      "max_height": null,
      "max_width": null,
      "min_height": null,
      "min_width": null,
      "object_fit": null,
      "object_position": null,
      "order": null,
      "overflow": null,
      "overflow_x": null,
      "overflow_y": null,
      "padding": null,
      "right": null,
      "top": null,
      "visibility": null,
      "width": null
     }
    },
    "f7f61e35164c4bc9b664cc83a6c46f37": {
     "model_module": "@jupyter-widgets/base",
     "model_module_version": "1.2.0",
     "model_name": "LayoutModel",
     "state": {
      "_model_module": "@jupyter-widgets/base",
      "_model_module_version": "1.2.0",
      "_model_name": "LayoutModel",
      "_view_count": null,
      "_view_module": "@jupyter-widgets/base",
      "_view_module_version": "1.2.0",
      "_view_name": "LayoutView",
      "align_content": null,
      "align_items": null,
      "align_self": null,
      "border": null,
      "bottom": null,
      "display": null,
      "flex": null,
      "flex_flow": null,
      "grid_area": null,
      "grid_auto_columns": null,
      "grid_auto_flow": null,
      "grid_auto_rows": null,
      "grid_column": null,
      "grid_gap": null,
      "grid_row": null,
      "grid_template_areas": null,
      "grid_template_columns": null,
      "grid_template_rows": null,
      "height": null,
      "justify_content": null,
      "justify_items": null,
      "left": null,
      "margin": null,
      "max_height": null,
      "max_width": null,
      "min_height": null,
      "min_width": null,
      "object_fit": null,
      "object_position": null,
      "order": null,
      "overflow": null,
      "overflow_x": null,
      "overflow_y": null,
      "padding": null,
      "right": null,
      "top": null,
      "visibility": null,
      "width": null
     }
    },
    "f7fa5ce650df418e8a39f87270237863": {
     "model_module": "@jupyter-widgets/output",
     "model_module_version": "1.0.0",
     "model_name": "OutputModel",
     "state": {
      "_dom_classes": [],
      "_model_module": "@jupyter-widgets/output",
      "_model_module_version": "1.0.0",
      "_model_name": "OutputModel",
      "_view_count": null,
      "_view_module": "@jupyter-widgets/output",
      "_view_module_version": "1.0.0",
      "_view_name": "OutputView",
      "layout": "IPY_MODEL_75be5bf6813a42a0ba8094a3b7433280",
      "msg_id": "",
      "outputs": [
       {
        "name": "stdout",
        "output_type": "stream",
        "text": [
         "active_config  config_sentinel\tconfigurations\tgce  logs\n",
         "\n"
        ]
       }
      ]
     }
    },
    "f8e016f84a624774961dcf04b0fa145d": {
     "model_module": "@jupyter-widgets/base",
     "model_module_version": "1.2.0",
     "model_name": "LayoutModel",
     "state": {
      "_model_module": "@jupyter-widgets/base",
      "_model_module_version": "1.2.0",
      "_model_name": "LayoutModel",
      "_view_count": null,
      "_view_module": "@jupyter-widgets/base",
      "_view_module_version": "1.2.0",
      "_view_name": "LayoutView",
      "align_content": null,
      "align_items": null,
      "align_self": null,
      "border": null,
      "bottom": null,
      "display": null,
      "flex": null,
      "flex_flow": null,
      "grid_area": null,
      "grid_auto_columns": null,
      "grid_auto_flow": null,
      "grid_auto_rows": null,
      "grid_column": null,
      "grid_gap": null,
      "grid_row": null,
      "grid_template_areas": null,
      "grid_template_columns": null,
      "grid_template_rows": null,
      "height": null,
      "justify_content": null,
      "justify_items": null,
      "left": null,
      "margin": null,
      "max_height": null,
      "max_width": null,
      "min_height": null,
      "min_width": null,
      "object_fit": null,
      "object_position": null,
      "order": null,
      "overflow": null,
      "overflow_x": null,
      "overflow_y": null,
      "padding": null,
      "right": null,
      "top": null,
      "visibility": null,
      "width": null
     }
    },
    "fad38ca3984d47e18d35ae6f99d7107c": {
     "model_module": "@jupyter-widgets/controls",
     "model_module_version": "1.5.0",
     "model_name": "DropdownModel",
     "state": {
      "_dom_classes": [],
      "_model_module": "@jupyter-widgets/controls",
      "_model_module_version": "1.5.0",
      "_model_name": "DropdownModel",
      "_options_labels": [
       "views",
       "word_count",
       "claps",
       "fans",
       "read_time"
      ],
      "_view_count": null,
      "_view_module": "@jupyter-widgets/controls",
      "_view_module_version": "1.5.0",
      "_view_name": "DropdownView",
      "description": "y",
      "description_tooltip": null,
      "disabled": false,
      "index": 0,
      "layout": "IPY_MODEL_c0212b1468f346bdaa5877a8143df16e",
      "style": "IPY_MODEL_df2664dac8e34611b6a61c016cacf662"
     }
    },
    "fbd7a5f5df844dfaa034793ca82fb28d": {
     "model_module": "@jupyter-widgets/controls",
     "model_module_version": "1.5.0",
     "model_name": "SliderStyleModel",
     "state": {
      "_model_module": "@jupyter-widgets/controls",
      "_model_module_version": "1.5.0",
      "_model_name": "SliderStyleModel",
      "_view_count": null,
      "_view_module": "@jupyter-widgets/base",
      "_view_module_version": "1.2.0",
      "_view_name": "StyleView",
      "description_width": "",
      "handle_color": null
     }
    },
    "fe7be303caed479cb3106d32cbb3b43a": {
     "model_module": "@jupyter-widgets/controls",
     "model_module_version": "1.5.0",
     "model_name": "DropdownModel",
     "state": {
      "_dom_classes": [],
      "_model_module": "@jupyter-widgets/controls",
      "_model_module_version": "1.5.0",
      "_model_name": "DropdownModel",
      "_options_labels": [
       "reads",
       "views",
       "word_count",
       "claps",
       "fans",
       "read_time"
      ],
      "_view_count": null,
      "_view_module": "@jupyter-widgets/controls",
      "_view_module_version": "1.5.0",
      "_view_name": "DropdownView",
      "description": "column2",
      "description_tooltip": null,
      "disabled": false,
      "index": 0,
      "layout": "IPY_MODEL_8d677f4ae6f043d5b1cadb953c040420",
      "style": "IPY_MODEL_dc4947277ead4ca9b21dd44680e150af"
     }
    },
    "fee9e0dc81bb416f96e9b0af3974135e": {
     "model_module": "@jupyter-widgets/base",
     "model_module_version": "1.2.0",
     "model_name": "LayoutModel",
     "state": {
      "_model_module": "@jupyter-widgets/base",
      "_model_module_version": "1.2.0",
      "_model_name": "LayoutModel",
      "_view_count": null,
      "_view_module": "@jupyter-widgets/base",
      "_view_module_version": "1.2.0",
      "_view_name": "LayoutView",
      "align_content": null,
      "align_items": null,
      "align_self": null,
      "border": null,
      "bottom": null,
      "display": null,
      "flex": null,
      "flex_flow": null,
      "grid_area": null,
      "grid_auto_columns": null,
      "grid_auto_flow": null,
      "grid_auto_rows": null,
      "grid_column": null,
      "grid_gap": null,
      "grid_row": null,
      "grid_template_areas": null,
      "grid_template_columns": null,
      "grid_template_rows": null,
      "height": null,
      "justify_content": null,
      "justify_items": null,
      "left": null,
      "margin": null,
      "max_height": null,
      "max_width": null,
      "min_height": null,
      "min_width": null,
      "object_fit": null,
      "object_position": null,
      "order": null,
      "overflow": null,
      "overflow_x": null,
      "overflow_y": null,
      "padding": null,
      "right": null,
      "top": null,
      "visibility": null,
      "width": null
     }
    }
   }
  }
 },
 "nbformat": 4,
 "nbformat_minor": 5
}
