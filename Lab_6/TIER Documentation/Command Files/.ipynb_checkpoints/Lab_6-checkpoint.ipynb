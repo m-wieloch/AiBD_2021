{
 "cells": [
  {
   "cell_type": "markdown",
   "metadata": {
    "pycharm": {
     "name": "#%% md\n"
    }
   },
   "source": [
    "# Analiza i Bazy Danych - Lab 6\n",
    "### Maciej Wieloch, 303080, gr. 1a\n",
    "\n",
    "Zestaw danych:\n",
    "\n",
    "(13 % 16 = 13)\n",
    "\n",
    "13_WARMINSKO-MAZURSKIE.csv - Dane to wyniki oceny odkurzaczy w jednej z sieci sklepów z danego województwa oraz dane kupujących.\n",
    "\n",
    "Na początku importuję bibliotekę pandas, odczytuję zadany zestaw danych i wyświetlam 10 pierwszych rekordów."
   ]
  },
  {
   "cell_type": "code",
   "execution_count": 1,
   "metadata": {
    "pycharm": {
     "is_executing": false,
     "name": "#%%\n"
    }
   },
   "outputs": [
    {
     "data": {
      "text/html": [
       "<div>\n",
       "<style scoped>\n",
       "    .dataframe tbody tr th:only-of-type {\n",
       "        vertical-align: middle;\n",
       "    }\n",
       "\n",
       "    .dataframe tbody tr th {\n",
       "        vertical-align: top;\n",
       "    }\n",
       "\n",
       "    .dataframe thead th {\n",
       "        text-align: right;\n",
       "    }\n",
       "</style>\n",
       "<table border=\"1\" class=\"dataframe\">\n",
       "  <thead>\n",
       "    <tr style=\"text-align: right;\">\n",
       "      <th></th>\n",
       "      <th>Dni od zakupu</th>\n",
       "      <th>Marka</th>\n",
       "      <th>Wiek kupującego</th>\n",
       "      <th>Płeć kupującego</th>\n",
       "      <th>Ocena</th>\n",
       "    </tr>\n",
       "  </thead>\n",
       "  <tbody>\n",
       "    <tr>\n",
       "      <th>0</th>\n",
       "      <td>5</td>\n",
       "      <td>Dyson</td>\n",
       "      <td>45.0</td>\n",
       "      <td>K</td>\n",
       "      <td>2.0</td>\n",
       "    </tr>\n",
       "    <tr>\n",
       "      <th>1</th>\n",
       "      <td>9</td>\n",
       "      <td>Dyson</td>\n",
       "      <td>NaN</td>\n",
       "      <td>K</td>\n",
       "      <td>1.0</td>\n",
       "    </tr>\n",
       "    <tr>\n",
       "      <th>2</th>\n",
       "      <td>11</td>\n",
       "      <td>Beko</td>\n",
       "      <td>44.0</td>\n",
       "      <td>K</td>\n",
       "      <td>2.0</td>\n",
       "    </tr>\n",
       "    <tr>\n",
       "      <th>3</th>\n",
       "      <td>10</td>\n",
       "      <td>Electrolux</td>\n",
       "      <td>40.0</td>\n",
       "      <td>bd.</td>\n",
       "      <td>2.0</td>\n",
       "    </tr>\n",
       "    <tr>\n",
       "      <th>4</th>\n",
       "      <td>5</td>\n",
       "      <td>Electrolux</td>\n",
       "      <td>62.0</td>\n",
       "      <td>K</td>\n",
       "      <td>2.5</td>\n",
       "    </tr>\n",
       "    <tr>\n",
       "      <th>5</th>\n",
       "      <td>3</td>\n",
       "      <td>Samsung</td>\n",
       "      <td>39.0</td>\n",
       "      <td>bd.</td>\n",
       "      <td>4.0</td>\n",
       "    </tr>\n",
       "    <tr>\n",
       "      <th>6</th>\n",
       "      <td>9</td>\n",
       "      <td>Samsung</td>\n",
       "      <td>NaN</td>\n",
       "      <td>M</td>\n",
       "      <td>2.0</td>\n",
       "    </tr>\n",
       "    <tr>\n",
       "      <th>7</th>\n",
       "      <td>9</td>\n",
       "      <td>Beko</td>\n",
       "      <td>44.0</td>\n",
       "      <td>bd.</td>\n",
       "      <td>1.0</td>\n",
       "    </tr>\n",
       "    <tr>\n",
       "      <th>8</th>\n",
       "      <td>7</td>\n",
       "      <td>Tefal</td>\n",
       "      <td>39.0</td>\n",
       "      <td>K</td>\n",
       "      <td>2.5</td>\n",
       "    </tr>\n",
       "    <tr>\n",
       "      <th>9</th>\n",
       "      <td>8</td>\n",
       "      <td>Beko</td>\n",
       "      <td>39.0</td>\n",
       "      <td>K</td>\n",
       "      <td>2.5</td>\n",
       "    </tr>\n",
       "  </tbody>\n",
       "</table>\n",
       "</div>"
      ],
      "text/plain": [
       "   Dni od zakupu       Marka  Wiek kupującego Płeć kupującego  Ocena\n",
       "0              5       Dyson             45.0               K    2.0\n",
       "1              9       Dyson              NaN               K    1.0\n",
       "2             11        Beko             44.0               K    2.0\n",
       "3             10  Electrolux             40.0             bd.    2.0\n",
       "4              5  Electrolux             62.0               K    2.5\n",
       "5              3     Samsung             39.0             bd.    4.0\n",
       "6              9     Samsung              NaN               M    2.0\n",
       "7              9        Beko             44.0             bd.    1.0\n",
       "8              7       Tefal             39.0               K    2.5\n",
       "9              8        Beko             39.0               K    2.5"
      ]
     },
     "execution_count": 1,
     "metadata": {},
     "output_type": "execute_result"
    }
   ],
   "source": [
    "import pandas as pd\n",
    "import matplotlib.pyplot as plt\n",
    "import numpy as np\n",
    "\n",
    "df = pd.read_csv(r'../Original Data/13_WARMINSKO-MAZURSKIE.csv')\n",
    "df = df.drop(columns=\"Unnamed: 0\")\n",
    "\n",
    "df.head(10)"
   ]
  },
  {
   "cell_type": "code",
   "execution_count": 2,
   "metadata": {},
   "outputs": [
    {
     "data": {
      "text/plain": [
       "<Figure size 432x288 with 0 Axes>"
      ]
     },
     "metadata": {},
     "output_type": "display_data"
    },
    {
     "data": {
      "image/png": "[encoded data removed]",
      "text/plain": [
       "<Figure size 432x288 with 1 Axes>"
      ]
     },
     "metadata": {
      "needs_background": "light"
     },
     "output_type": "display_data"
    }
   ],
   "source": [
    "plt.figure()\n",
    "df.hist(column='Dni od zakupu', bins=17) # 17 ponieważ występuje maksymalnie 17 dni\n",
    "plt.xticks(np.arange(0, 18, 1))\n",
    "plt.title('Dni od zakupu - histogram')\n",
    "plt.xlabel('Dni')\n",
    "plt.ylabel('Liczba powtórzeń')\n",
    "plt.show()"
   ]
  },
  {
   "cell_type": "code",
   "execution_count": 3,
   "metadata": {},
   "outputs": [
    {
     "data": {
      "image/png": "[encoded data removed]",
      "text/plain": [
       "<Figure size 432x288 with 1 Axes>"
      ]
     },
     "metadata": {
      "needs_background": "light"
     },
     "output_type": "display_data"
    }
   ],
   "source": [
    "marka = df['Marka'].value_counts().to_frame(name='Count').rename_axis('Marka').reset_index()\n",
    "\n",
    "marka.to_csv(r'../Analysis Data/marka.csv')\n",
    "\n",
    "l_count = list(marka['Count'])\n",
    "l_marka = list(marka['Marka'])\n",
    "\n",
    "plt.figure()\n",
    "plt.bar([0, 1, 2, 3, 4], l_count)\n",
    "plt.xticks([0, 1, 2, 3, 4], l_marka)\n",
    "plt.title('Marka')\n",
    "plt.xlabel('Marka')\n",
    "plt.ylabel('Liczba powtórzeń')\n",
    "plt.show()"
   ]
  },
  {
   "cell_type": "code",
   "execution_count": 4,
   "metadata": {},
   "outputs": [
    {
     "data": {
      "text/plain": [
       "<Figure size 432x288 with 0 Axes>"
      ]
     },
     "metadata": {},
     "output_type": "display_data"
    },
    {
     "data": {
      "image/png": "[encoded data removed]",
      "text/plain": [
       "<Figure size 432x288 with 1 Axes>"
      ]
     },
     "metadata": {
      "needs_background": "light"
     },
     "output_type": "display_data"
    }
   ],
   "source": [
    "plt.figure()\n",
    "df.hist(column='Wiek kupującego', bins=50) # 50 ponieważ, taki jest zakres wiekowy\n",
    "plt.title('Wiek kupującego - histogram')\n",
    "plt.xlabel('Wiek')\n",
    "plt.ylabel('Liczba powtórzeń')\n",
    "plt.show()"
   ]
  },
  {
   "cell_type": "code",
   "execution_count": 5,
   "metadata": {},
   "outputs": [
    {
     "data": {
      "image/png": "[encoded data removed]",
      "text/plain": [
       "<Figure size 432x288 with 1 Axes>"
      ]
     },
     "metadata": {
      "needs_background": "light"
     },
     "output_type": "display_data"
    }
   ],
   "source": [
    "plec = df['Płeć kupującego'].value_counts().to_frame('Count').rename_axis('Płeć kupującego').reset_index()\n",
    "\n",
    "plec.to_csv(r'../Analysis Data/plec.csv')\n",
    "\n",
    "l_count = list(plec['Count'])\n",
    "l_plec = list(plec['Płeć kupującego'])\n",
    "\n",
    "plt.figure()\n",
    "plt.bar([1, 2, 3], l_count)\n",
    "plt.xticks([1, 2, 3], l_plec)\n",
    "plt.title('Płeć kupującego - histogram')\n",
    "plt.xlabel('Płeć')\n",
    "plt.ylabel('Liczba powtórzeń')\n",
    "plt.show()"
   ]
  },
  {
   "cell_type": "code",
   "execution_count": 6,
   "metadata": {},
   "outputs": [
    {
     "data": {
      "text/plain": [
       "<Figure size 432x288 with 0 Axes>"
      ]
     },
     "metadata": {},
     "output_type": "display_data"
    },
    {
     "data": {
      "image/png": "[encoded data removed]",
      "text/plain": [
       "<Figure size 432x288 with 1 Axes>"
      ]
     },
     "metadata": {
      "needs_background": "light"
     },
     "output_type": "display_data"
    }
   ],
   "source": [
    "plt.figure()\n",
    "df.hist(column='Ocena', bins=10) # 10 ponieważ występuje 10 różnych ocen\n",
    "plt.xticks(np.arange(0, 5.5, 0.5))\n",
    "plt.title('Ocena - histogram')\n",
    "plt.xlabel('Ocena')\n",
    "plt.ylabel('Liczba powtórzeń')\n",
    "plt.show()"
   ]
  }
 ],
 "metadata": {
  "interpreter": {
   "hash": "f9ac111c7bd369b5534d33b47914a4b0ebbda8410bead68074f9fc9c4e03c1d0"
  },
  "kernelspec": {
   "display_name": "Python 3 (ipykernel)",
   "language": "python",
   "name": "python3"
  },
  "language_info": {
   "codemirror_mode": {
    "name": "ipython",
    "version": 3
   },
   "file_extension": ".py",
   "mimetype": "text/x-python",
   "name": "python",
   "nbconvert_exporter": "python",
   "pygments_lexer": "ipython3",
   "version": "3.8.10"
  },
  "pycharm": {
   "stem_cell": {
    "cell_type": "raw",
    "metadata": {
     "collapsed": false
    },
    "source": []
   }
  }
 },
 "nbformat": 4,
 "nbformat_minor": 1
}
