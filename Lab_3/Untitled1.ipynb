{
  "nbformat": 4,
  "nbformat_minor": 0,
  "metadata": {
    "colab": {
      "name": "Untitled1.ipynb",
      "provenance": [],
      "collapsed_sections": []
    },
    "kernelspec": {
      "name": "python3",
      "display_name": "Python 3"
    },
    "language_info": {
      "name": "python"
    }
  },
  "cells": [
    {
      "cell_type": "markdown",
      "metadata": {
        "id": "GSoz6iEYonVI"
      },
      "source": [
        "#Analiza i Bazy Danych\n",
        "\n",
        "Maciej Wieloch, 303080\n",
        "\n",
        "gr. 1a"
      ]
    },
    {
      "cell_type": "markdown",
      "metadata": {
        "id": "TBMau6hhpDCc"
      },
      "source": [
        "Wykonaj zapytania za pomocą skryptów pythona:\n",
        "\n",
        "1. Ile kategorii filmów mamy w wypożyczalni?\n",
        "2. Wyświetl listę kategorii w kolejności alfabetycznej.\n",
        "3. Znajdź najstarszy i najmłodszy film do wypożyczenia.\n",
        "4. Ile wypożyczeń odbyło się między 2005-07-01 a 2005-08-01?\n",
        "5. Ile wypożyczeń odbyło się między 2010-01-01 a 2011-02-01?\n",
        "6. Znajdź największą płatność wypożyczenia.\n",
        "7. Znajdź wszystkich klientów z Polski, Nigerii lub Bangladeszu.\n",
        "8. Gdzie mieszkają członkowie personelu?\n",
        "9. Ilu pracowników mieszka w Argentynie lub Hiszpanii?\n",
        "10. Jakie kategorie filmów zostały wypożyczone przez klientów?\n",
        "11. Znajdź wszystkie kategorie filmów wypożyczonych w Ameryce.\n",
        "12. Znajdź wszystkie tytuły filmów, w których grał: Olympia Pfeiffer lub Julia Zellweger lub Ellen Presley\n"
      ]
    },
    {
      "cell_type": "code",
      "metadata": {
        "id": "chrNATPWmnml"
      },
      "source": [
        "import psycopg2 as pg\n",
        "import pandas as pd\n",
        "\n",
        "connection = pg.connect(host='pgsql-196447.vipserv.org', port=5432, dbname='wbauer_adb', user='wbauer_adb', password='adb2020')\n"
      ],
      "execution_count": 5,
      "outputs": []
    },
    {
      "cell_type": "markdown",
      "metadata": {
        "id": "RyOuKp_5pSlU"
      },
      "source": [
        "1. Ile kategorii filmów mamy w wypożyczalni?"
      ]
    },
    {
      "cell_type": "code",
      "metadata": {
        "colab": {
          "base_uri": "https://localhost:8080/"
        },
        "id": "K7tlqbjboC1b",
        "outputId": "2205c572-0005-4be0-9d32-03958a5273b8"
      },
      "source": [
        "df = pd.read_sql('select category_id from category order by category_id desc limit 1',con=connection)\n",
        "print(df)"
      ],
      "execution_count": 15,
      "outputs": [
        {
          "output_type": "stream",
          "name": "stdout",
          "text": [
            "   category_id\n",
            "0           16\n"
          ]
        }
      ]
    },
    {
      "cell_type": "code",
      "metadata": {
        "id": "GJ2fTxdnohYH"
      },
      "source": [
        ""
      ],
      "execution_count": null,
      "outputs": []
    },
    {
      "cell_type": "markdown",
      "metadata": {
        "id": "TGwlyavEpWgK"
      },
      "source": [
        "2. Wyświetl listę kategorii w kolejności alfabetycznej."
      ]
    },
    {
      "cell_type": "code",
      "metadata": {
        "colab": {
          "base_uri": "https://localhost:8080/"
        },
        "id": "XE2phnf6pWEu",
        "outputId": "cb45c1bd-14c9-494f-a56b-528fb2620805"
      },
      "source": [
        "df = pd.read_sql('select name from category order by name asc',con=connection)\n",
        "print(df)"
      ],
      "execution_count": 16,
      "outputs": [
        {
          "output_type": "stream",
          "name": "stdout",
          "text": [
            "           name\n",
            "0        Action\n",
            "1     Animation\n",
            "2      Children\n",
            "3      Classics\n",
            "4        Comedy\n",
            "5   Documentary\n",
            "6         Drama\n",
            "7        Family\n",
            "8       Foreign\n",
            "9         Games\n",
            "10       Horror\n",
            "11        Music\n",
            "12          New\n",
            "13       Sci-Fi\n",
            "14       Sports\n",
            "15       Travel\n"
          ]
        }
      ]
    },
    {
      "cell_type": "markdown",
      "metadata": {
        "id": "kUrkAh-fqNfw"
      },
      "source": [
        "3. Znajdź najstarszy i najmłodszy film do wypożyczenia.\n",
        "\n",
        "a) najstarszy"
      ]
    },
    {
      "cell_type": "code",
      "metadata": {
        "colab": {
          "base_uri": "https://localhost:8080/"
        },
        "id": "KMXZFOnApfF4",
        "outputId": "4dd000ce-9348-4a81-8127-8aa8a4d2ff6a"
      },
      "source": [
        "df = pd.read_sql('select title, release_year, length from film order by release_year desc limit 1',con=connection)\n",
        "print(df)"
      ],
      "execution_count": 33,
      "outputs": [
        {
          "output_type": "stream",
          "name": "stdout",
          "text": [
            "             title  release_year  length\n",
            "0  Chamber Italian          2006     117\n"
          ]
        }
      ]
    },
    {
      "cell_type": "markdown",
      "metadata": {
        "id": "eN5Z0_bHr57d"
      },
      "source": [
        "b) najmłodszy"
      ]
    },
    {
      "cell_type": "code",
      "metadata": {
        "colab": {
          "base_uri": "https://localhost:8080/"
        },
        "id": "3OJ3AEBNqxUj",
        "outputId": "29762ece-ce8e-4fb4-bcba-45203380daf8"
      },
      "source": [
        "df = pd.read_sql('select title, release_year, length from film order by release_year asc limit 1',con=connection)\n",
        "print(df)"
      ],
      "execution_count": 32,
      "outputs": [
        {
          "output_type": "stream",
          "name": "stdout",
          "text": [
            "             title  release_year  length\n",
            "0  Chamber Italian          2006     117\n"
          ]
        }
      ]
    },
    {
      "cell_type": "markdown",
      "metadata": {
        "id": "2KbETjiyr8Sd"
      },
      "source": [
        "Wszystkie filmy są z tego samego roku zatem niezależnie od formuły, wyświetla się ten sam rekord."
      ]
    },
    {
      "cell_type": "markdown",
      "metadata": {
        "id": "2ynTERTpsKZX"
      },
      "source": [
        "4. Ile wypożyczeń odbyło się między 2005-07-01 a 2005-08-01?"
      ]
    },
    {
      "cell_type": "code",
      "metadata": {
        "colab": {
          "base_uri": "https://localhost:8080/"
        },
        "id": "mWszR4tSrEOD",
        "outputId": "b1ad6060-083f-4eb5-ae00-4f2eb3fbbfc2"
      },
      "source": [
        "df = pd.read_sql(\"select count(*) from rental where rental_date between '2005-07-01 00:00:00'::timestamp and '2005-08-01 23:59:59'::timestamp\",con=connection)\n",
        "print(df)"
      ],
      "execution_count": 44,
      "outputs": [
        {
          "output_type": "stream",
          "name": "stdout",
          "text": [
            "   count\n",
            "0   7380\n"
          ]
        }
      ]
    },
    {
      "cell_type": "markdown",
      "metadata": {
        "id": "WjesKH-EvKg-"
      },
      "source": [
        "5. Ile wypożyczeń odbyło się między 2010-01-01 a 2011-02-01?"
      ]
    },
    {
      "cell_type": "code",
      "metadata": {
        "colab": {
          "base_uri": "https://localhost:8080/"
        },
        "id": "zwlT_-QnsfoV",
        "outputId": "01b33bdd-5e23-4fbf-9038-8c87094652e9"
      },
      "source": [
        "df = pd.read_sql(\"select count(*) from rental where rental_date between '2010-01-01 00:00:00'::timestamp and '2011-02-01 23:59:59'::timestamp\",con=connection)\n",
        "print(df)"
      ],
      "execution_count": 70,
      "outputs": [
        {
          "output_type": "stream",
          "name": "stdout",
          "text": [
            "   count\n",
            "0      0\n"
          ]
        }
      ]
    },
    {
      "cell_type": "markdown",
      "metadata": {
        "id": "KGkNaWHSvaET"
      },
      "source": [
        "6. Znajdź największą płatność wypożyczenia."
      ]
    },
    {
      "cell_type": "code",
      "metadata": {
        "colab": {
          "base_uri": "https://localhost:8080/"
        },
        "id": "PKzyE8ABvSAT",
        "outputId": "5f5a1940-5f36-40cd-872d-bd8578b48174"
      },
      "source": [
        "df = pd.read_sql('select amount from payment order by amount desc limit 1',con=connection)\n",
        "print(df)"
      ],
      "execution_count": 82,
      "outputs": [
        {
          "output_type": "stream",
          "name": "stdout",
          "text": [
            "   amount\n",
            "0   11.99\n"
          ]
        }
      ]
    },
    {
      "cell_type": "code",
      "metadata": {
        "id": "czF3liEHvoF1"
      },
      "source": [
        "7. Znajdź wszystkich klientów z Polski, Nigerii lub Bangladeszu.\n",
        "\n",
        "a) Polska"
      ],
      "execution_count": null,
      "outputs": []
    },
    {
      "cell_type": "code",
      "metadata": {
        "colab": {
          "base_uri": "https://localhost:8080/"
        },
        "id": "fK6esApTv4ba",
        "outputId": "22cee733-5f93-438e-9eb4-58dd82796f93"
      },
      "source": [
        "df = pd.read_sql(\"select * from customer c left join address a on c.address_id = a.address_id left join city ci on a.city_id = ci.city_id left join country co on ci.country_id = co.country_id where co.country='Poland'\",con=connection)\n",
        "print(df)"
      ],
      "execution_count": 84,
      "outputs": [
        {
          "output_type": "stream",
          "name": "stdout",
          "text": [
            "   customer_id  store_id first_name  ... country_id country         last_update\n",
            "0          318         1      Brian  ...         76  Poland 2006-02-15 09:44:00\n",
            "1          572         1     Sidney  ...         76  Poland 2006-02-15 09:44:00\n",
            "2          128         1   Marjorie  ...         76  Poland 2006-02-15 09:44:00\n",
            "3          270         1       Leah  ...         76  Poland 2006-02-15 09:44:00\n",
            "4          501         1      Ruben  ...         76  Poland 2006-02-15 09:44:00\n",
            "5          571         2    Johnnie  ...         76  Poland 2006-02-15 09:44:00\n",
            "6          380         1    Russell  ...         76  Poland 2006-02-15 09:44:00\n",
            "7          558         1     Jimmie  ...         76  Poland 2006-02-15 09:44:00\n",
            "\n",
            "[8 rows x 25 columns]\n"
          ]
        }
      ]
    },
    {
      "cell_type": "code",
      "metadata": {
        "id": "RIYvH9Lhv8C9"
      },
      "source": [
        "|)"
      ],
      "execution_count": null,
      "outputs": []
    }
  ]
}