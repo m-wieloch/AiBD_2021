{
  "nbformat": 4,
  "nbformat_minor": 0,
  "metadata": {
    "colab": {
      "name": "Untitled1.ipynb",
      "provenance": [],
      "collapsed_sections": []
    },
    "kernelspec": {
      "name": "python3",
      "display_name": "Python 3"
    },
    "language_info": {
      "name": "python"
    }
  },
  "cells": [
    {
      "cell_type": "markdown",
      "metadata": {
        "id": "GSoz6iEYonVI"
      },
      "source": [
        "#Analiza i Bazy Danych\n",
        "\n",
        "Maciej Wieloch, 303080\n",
        "\n",
        "gr. 1a"
      ]
    },
    {
      "cell_type": "markdown",
      "metadata": {
        "id": "TBMau6hhpDCc"
      },
      "source": [
        "Wykonaj zapytania za pomocą skryptów pythona:\n",
        "\n",
        "1. Ile kategorii filmów mamy w wypożyczalni?\n",
        "2. Wyświetl listę kategorii w kolejności alfabetycznej.\n",
        "3. Znajdź najstarszy i najmłodszy film do wypożyczenia.\n",
        "4. Ile wypożyczeń odbyło się między 2005-07-01 a 2005-08-01?\n",
        "5. Ile wypożyczeń odbyło się między 2010-01-01 a 2011-02-01?\n",
        "6. Znajdź największą płatność wypożyczenia.\n",
        "7. Znajdź wszystkich klientów z Polski, Nigerii lub Bangladeszu.\n",
        "8. Gdzie mieszkają członkowie personelu?\n",
        "9. Ilu pracowników mieszka w Argentynie lub Hiszpanii?\n",
        "10. Jakie kategorie filmów zostały wypożyczone przez klientów?\n",
        "11. Znajdź wszystkie kategorie filmów wypożyczonych w Ameryce.\n",
        "12. Znajdź wszystkie tytuły filmów, w których grał: Olympia Pfeiffer lub Julia Zellweger lub Ellen Presley\n"
      ]
    },
    {
      "cell_type": "code",
      "metadata": {
        "id": "chrNATPWmnml"
      },
      "source": [
        "import psycopg2 as pg\n",
        "import pandas as pd\n",
        "\n",
        "connection = pg.connect(host='pgsql-196447.vipserv.org', port=5432, dbname='wbauer_adb', user='wbauer_adb', password='adb2020')\n"
      ],
      "execution_count": 52,
      "outputs": []
    },
    {
      "cell_type": "markdown",
      "metadata": {
        "id": "RyOuKp_5pSlU"
      },
      "source": [
        "1. Ile kategorii filmów mamy w wypożyczalni?"
      ]
    },
    {
      "cell_type": "code",
      "metadata": {
        "colab": {
          "base_uri": "https://localhost:8080/",
          "height": 80
        },
        "id": "K7tlqbjboC1b",
        "outputId": "8d977f04-cdfc-4cef-87d8-9ed1af8f75e4"
      },
      "source": [
        "df = pd.read_sql('select category_id from category order by category_id desc limit 1',con=connection)\n",
        "df"
      ],
      "execution_count": 53,
      "outputs": [
        {
          "output_type": "execute_result",
          "data": {
            "text/html": [
              "<div>\n",
              "<style scoped>\n",
              "    .dataframe tbody tr th:only-of-type {\n",
              "        vertical-align: middle;\n",
              "    }\n",
              "\n",
              "    .dataframe tbody tr th {\n",
              "        vertical-align: top;\n",
              "    }\n",
              "\n",
              "    .dataframe thead th {\n",
              "        text-align: right;\n",
              "    }\n",
              "</style>\n",
              "<table border=\"1\" class=\"dataframe\">\n",
              "  <thead>\n",
              "    <tr style=\"text-align: right;\">\n",
              "      <th></th>\n",
              "      <th>category_id</th>\n",
              "    </tr>\n",
              "  </thead>\n",
              "  <tbody>\n",
              "    <tr>\n",
              "      <th>0</th>\n",
              "      <td>16</td>\n",
              "    </tr>\n",
              "  </tbody>\n",
              "</table>\n",
              "</div>"
            ],
            "text/plain": [
              "   category_id\n",
              "0           16"
            ]
          },
          "metadata": {},
          "execution_count": 53
        }
      ]
    },
    {
      "cell_type": "code",
      "metadata": {
        "id": "GJ2fTxdnohYH"
      },
      "source": [
        ""
      ],
      "execution_count": 53,
      "outputs": []
    },
    {
      "cell_type": "markdown",
      "metadata": {
        "id": "TGwlyavEpWgK"
      },
      "source": [
        "2. Wyświetl listę kategorii w kolejności alfabetycznej."
      ]
    },
    {
      "cell_type": "code",
      "metadata": {
        "colab": {
          "base_uri": "https://localhost:8080/",
          "height": 545
        },
        "id": "XE2phnf6pWEu",
        "outputId": "758d3ef5-cecf-4ff6-85a7-eb3e4aa59517"
      },
      "source": [
        "df = pd.read_sql('select name from category order by name asc',con=connection)\n",
        "df"
      ],
      "execution_count": 54,
      "outputs": [
        {
          "output_type": "execute_result",
          "data": {
            "text/html": [
              "<div>\n",
              "<style scoped>\n",
              "    .dataframe tbody tr th:only-of-type {\n",
              "        vertical-align: middle;\n",
              "    }\n",
              "\n",
              "    .dataframe tbody tr th {\n",
              "        vertical-align: top;\n",
              "    }\n",
              "\n",
              "    .dataframe thead th {\n",
              "        text-align: right;\n",
              "    }\n",
              "</style>\n",
              "<table border=\"1\" class=\"dataframe\">\n",
              "  <thead>\n",
              "    <tr style=\"text-align: right;\">\n",
              "      <th></th>\n",
              "      <th>name</th>\n",
              "    </tr>\n",
              "  </thead>\n",
              "  <tbody>\n",
              "    <tr>\n",
              "      <th>0</th>\n",
              "      <td>Action</td>\n",
              "    </tr>\n",
              "    <tr>\n",
              "      <th>1</th>\n",
              "      <td>Animation</td>\n",
              "    </tr>\n",
              "    <tr>\n",
              "      <th>2</th>\n",
              "      <td>Children</td>\n",
              "    </tr>\n",
              "    <tr>\n",
              "      <th>3</th>\n",
              "      <td>Classics</td>\n",
              "    </tr>\n",
              "    <tr>\n",
              "      <th>4</th>\n",
              "      <td>Comedy</td>\n",
              "    </tr>\n",
              "    <tr>\n",
              "      <th>5</th>\n",
              "      <td>Documentary</td>\n",
              "    </tr>\n",
              "    <tr>\n",
              "      <th>6</th>\n",
              "      <td>Drama</td>\n",
              "    </tr>\n",
              "    <tr>\n",
              "      <th>7</th>\n",
              "      <td>Family</td>\n",
              "    </tr>\n",
              "    <tr>\n",
              "      <th>8</th>\n",
              "      <td>Foreign</td>\n",
              "    </tr>\n",
              "    <tr>\n",
              "      <th>9</th>\n",
              "      <td>Games</td>\n",
              "    </tr>\n",
              "    <tr>\n",
              "      <th>10</th>\n",
              "      <td>Horror</td>\n",
              "    </tr>\n",
              "    <tr>\n",
              "      <th>11</th>\n",
              "      <td>Music</td>\n",
              "    </tr>\n",
              "    <tr>\n",
              "      <th>12</th>\n",
              "      <td>New</td>\n",
              "    </tr>\n",
              "    <tr>\n",
              "      <th>13</th>\n",
              "      <td>Sci-Fi</td>\n",
              "    </tr>\n",
              "    <tr>\n",
              "      <th>14</th>\n",
              "      <td>Sports</td>\n",
              "    </tr>\n",
              "    <tr>\n",
              "      <th>15</th>\n",
              "      <td>Travel</td>\n",
              "    </tr>\n",
              "  </tbody>\n",
              "</table>\n",
              "</div>"
            ],
            "text/plain": [
              "           name\n",
              "0        Action\n",
              "1     Animation\n",
              "2      Children\n",
              "3      Classics\n",
              "4        Comedy\n",
              "5   Documentary\n",
              "6         Drama\n",
              "7        Family\n",
              "8       Foreign\n",
              "9         Games\n",
              "10       Horror\n",
              "11        Music\n",
              "12          New\n",
              "13       Sci-Fi\n",
              "14       Sports\n",
              "15       Travel"
            ]
          },
          "metadata": {},
          "execution_count": 54
        }
      ]
    },
    {
      "cell_type": "markdown",
      "metadata": {
        "id": "kUrkAh-fqNfw"
      },
      "source": [
        "3. Znajdź najstarszy i najmłodszy film do wypożyczenia.\n",
        "\n",
        "a) najstarszy"
      ]
    },
    {
      "cell_type": "code",
      "metadata": {
        "colab": {
          "base_uri": "https://localhost:8080/",
          "height": 80
        },
        "id": "KMXZFOnApfF4",
        "outputId": "a3bd9f66-cbbd-417a-bac7-3a74f7ff51e0"
      },
      "source": [
        "df = pd.read_sql('select title, release_year, length from film order by release_year desc limit 1',con=connection)\n",
        "df"
      ],
      "execution_count": 55,
      "outputs": [
        {
          "output_type": "execute_result",
          "data": {
            "text/html": [
              "<div>\n",
              "<style scoped>\n",
              "    .dataframe tbody tr th:only-of-type {\n",
              "        vertical-align: middle;\n",
              "    }\n",
              "\n",
              "    .dataframe tbody tr th {\n",
              "        vertical-align: top;\n",
              "    }\n",
              "\n",
              "    .dataframe thead th {\n",
              "        text-align: right;\n",
              "    }\n",
              "</style>\n",
              "<table border=\"1\" class=\"dataframe\">\n",
              "  <thead>\n",
              "    <tr style=\"text-align: right;\">\n",
              "      <th></th>\n",
              "      <th>title</th>\n",
              "      <th>release_year</th>\n",
              "      <th>length</th>\n",
              "    </tr>\n",
              "  </thead>\n",
              "  <tbody>\n",
              "    <tr>\n",
              "      <th>0</th>\n",
              "      <td>Chamber Italian</td>\n",
              "      <td>2006</td>\n",
              "      <td>117</td>\n",
              "    </tr>\n",
              "  </tbody>\n",
              "</table>\n",
              "</div>"
            ],
            "text/plain": [
              "             title  release_year  length\n",
              "0  Chamber Italian          2006     117"
            ]
          },
          "metadata": {},
          "execution_count": 55
        }
      ]
    },
    {
      "cell_type": "markdown",
      "metadata": {
        "id": "eN5Z0_bHr57d"
      },
      "source": [
        "b) najmłodszy"
      ]
    },
    {
      "cell_type": "code",
      "metadata": {
        "colab": {
          "base_uri": "https://localhost:8080/",
          "height": 80
        },
        "id": "3OJ3AEBNqxUj",
        "outputId": "146b7c46-25af-448a-e45a-269e3de9e6d8"
      },
      "source": [
        "df = pd.read_sql('select title, release_year, length from film order by release_year asc limit 1',con=connection)\n",
        "df"
      ],
      "execution_count": 56,
      "outputs": [
        {
          "output_type": "execute_result",
          "data": {
            "text/html": [
              "<div>\n",
              "<style scoped>\n",
              "    .dataframe tbody tr th:only-of-type {\n",
              "        vertical-align: middle;\n",
              "    }\n",
              "\n",
              "    .dataframe tbody tr th {\n",
              "        vertical-align: top;\n",
              "    }\n",
              "\n",
              "    .dataframe thead th {\n",
              "        text-align: right;\n",
              "    }\n",
              "</style>\n",
              "<table border=\"1\" class=\"dataframe\">\n",
              "  <thead>\n",
              "    <tr style=\"text-align: right;\">\n",
              "      <th></th>\n",
              "      <th>title</th>\n",
              "      <th>release_year</th>\n",
              "      <th>length</th>\n",
              "    </tr>\n",
              "  </thead>\n",
              "  <tbody>\n",
              "    <tr>\n",
              "      <th>0</th>\n",
              "      <td>Chamber Italian</td>\n",
              "      <td>2006</td>\n",
              "      <td>117</td>\n",
              "    </tr>\n",
              "  </tbody>\n",
              "</table>\n",
              "</div>"
            ],
            "text/plain": [
              "             title  release_year  length\n",
              "0  Chamber Italian          2006     117"
            ]
          },
          "metadata": {},
          "execution_count": 56
        }
      ]
    },
    {
      "cell_type": "markdown",
      "metadata": {
        "id": "2KbETjiyr8Sd"
      },
      "source": [
        "Wszystkie filmy są z tego samego roku zatem niezależnie od formuły, wyświetla się ten sam rekord."
      ]
    },
    {
      "cell_type": "markdown",
      "metadata": {
        "id": "2ynTERTpsKZX"
      },
      "source": [
        "4. Ile wypożyczeń odbyło się między 2005-07-01 a 2005-08-01?"
      ]
    },
    {
      "cell_type": "code",
      "metadata": {
        "colab": {
          "base_uri": "https://localhost:8080/",
          "height": 80
        },
        "id": "mWszR4tSrEOD",
        "outputId": "8c396354-786c-47c3-d7da-cf3e8bac4f54"
      },
      "source": [
        "df = pd.read_sql(\"select count(*) from rental where rental_date between '2005-07-01 00:00:00'::timestamp and '2005-08-01 23:59:59'::timestamp\",con=connection)\n",
        "df"
      ],
      "execution_count": 57,
      "outputs": [
        {
          "output_type": "execute_result",
          "data": {
            "text/html": [
              "<div>\n",
              "<style scoped>\n",
              "    .dataframe tbody tr th:only-of-type {\n",
              "        vertical-align: middle;\n",
              "    }\n",
              "\n",
              "    .dataframe tbody tr th {\n",
              "        vertical-align: top;\n",
              "    }\n",
              "\n",
              "    .dataframe thead th {\n",
              "        text-align: right;\n",
              "    }\n",
              "</style>\n",
              "<table border=\"1\" class=\"dataframe\">\n",
              "  <thead>\n",
              "    <tr style=\"text-align: right;\">\n",
              "      <th></th>\n",
              "      <th>count</th>\n",
              "    </tr>\n",
              "  </thead>\n",
              "  <tbody>\n",
              "    <tr>\n",
              "      <th>0</th>\n",
              "      <td>7380</td>\n",
              "    </tr>\n",
              "  </tbody>\n",
              "</table>\n",
              "</div>"
            ],
            "text/plain": [
              "   count\n",
              "0   7380"
            ]
          },
          "metadata": {},
          "execution_count": 57
        }
      ]
    },
    {
      "cell_type": "markdown",
      "metadata": {
        "id": "WjesKH-EvKg-"
      },
      "source": [
        "5. Ile wypożyczeń odbyło się między 2010-01-01 a 2011-02-01?"
      ]
    },
    {
      "cell_type": "code",
      "metadata": {
        "colab": {
          "base_uri": "https://localhost:8080/",
          "height": 80
        },
        "id": "zwlT_-QnsfoV",
        "outputId": "97e14674-f632-49ce-c225-a7ce5d2577f6"
      },
      "source": [
        "df = pd.read_sql(\"select count(*) from rental where rental_date between '2010-01-01 00:00:00'::timestamp and '2011-02-01 23:59:59'::timestamp\",con=connection)\n",
        "df"
      ],
      "execution_count": 58,
      "outputs": [
        {
          "output_type": "execute_result",
          "data": {
            "text/html": [
              "<div>\n",
              "<style scoped>\n",
              "    .dataframe tbody tr th:only-of-type {\n",
              "        vertical-align: middle;\n",
              "    }\n",
              "\n",
              "    .dataframe tbody tr th {\n",
              "        vertical-align: top;\n",
              "    }\n",
              "\n",
              "    .dataframe thead th {\n",
              "        text-align: right;\n",
              "    }\n",
              "</style>\n",
              "<table border=\"1\" class=\"dataframe\">\n",
              "  <thead>\n",
              "    <tr style=\"text-align: right;\">\n",
              "      <th></th>\n",
              "      <th>count</th>\n",
              "    </tr>\n",
              "  </thead>\n",
              "  <tbody>\n",
              "    <tr>\n",
              "      <th>0</th>\n",
              "      <td>0</td>\n",
              "    </tr>\n",
              "  </tbody>\n",
              "</table>\n",
              "</div>"
            ],
            "text/plain": [
              "   count\n",
              "0      0"
            ]
          },
          "metadata": {},
          "execution_count": 58
        }
      ]
    },
    {
      "cell_type": "markdown",
      "metadata": {
        "id": "KGkNaWHSvaET"
      },
      "source": [
        "6. Znajdź największą płatność wypożyczenia."
      ]
    },
    {
      "cell_type": "code",
      "metadata": {
        "colab": {
          "base_uri": "https://localhost:8080/",
          "height": 80
        },
        "id": "PKzyE8ABvSAT",
        "outputId": "31a5bf44-f842-47e2-b0d8-c7182bdbee0f"
      },
      "source": [
        "df = pd.read_sql('select amount from payment order by amount desc limit 1',con=connection)\n",
        "df"
      ],
      "execution_count": 59,
      "outputs": [
        {
          "output_type": "execute_result",
          "data": {
            "text/html": [
              "<div>\n",
              "<style scoped>\n",
              "    .dataframe tbody tr th:only-of-type {\n",
              "        vertical-align: middle;\n",
              "    }\n",
              "\n",
              "    .dataframe tbody tr th {\n",
              "        vertical-align: top;\n",
              "    }\n",
              "\n",
              "    .dataframe thead th {\n",
              "        text-align: right;\n",
              "    }\n",
              "</style>\n",
              "<table border=\"1\" class=\"dataframe\">\n",
              "  <thead>\n",
              "    <tr style=\"text-align: right;\">\n",
              "      <th></th>\n",
              "      <th>amount</th>\n",
              "    </tr>\n",
              "  </thead>\n",
              "  <tbody>\n",
              "    <tr>\n",
              "      <th>0</th>\n",
              "      <td>11.99</td>\n",
              "    </tr>\n",
              "  </tbody>\n",
              "</table>\n",
              "</div>"
            ],
            "text/plain": [
              "   amount\n",
              "0   11.99"
            ]
          },
          "metadata": {},
          "execution_count": 59
        }
      ]
    },
    {
      "cell_type": "markdown",
      "metadata": {
        "id": "fvv_rj5xWtoo"
      },
      "source": [
        "7. Znajdź wszystkich klientów z Polski, Nigerii lub Bangladeszu.\n",
        "\n",
        "a) Polska"
      ]
    },
    {
      "cell_type": "code",
      "metadata": {
        "colab": {
          "base_uri": "https://localhost:8080/",
          "height": 297
        },
        "id": "fK6esApTv4ba",
        "outputId": "409ed18a-8b54-4251-f859-920dcdb26c68"
      },
      "source": [
        "df = pd.read_sql(\"select c.first_name, c.last_name, ci.city, a.district, co.country from customer c left join address a on c.address_id = a.address_id left join city ci on a.city_id = ci.city_id left join country co on ci.country_id = co.country_id where co.country='Poland'\",con=connection)\n",
        "df"
      ],
      "execution_count": 60,
      "outputs": [
        {
          "output_type": "execute_result",
          "data": {
            "text/html": [
              "<div>\n",
              "<style scoped>\n",
              "    .dataframe tbody tr th:only-of-type {\n",
              "        vertical-align: middle;\n",
              "    }\n",
              "\n",
              "    .dataframe tbody tr th {\n",
              "        vertical-align: top;\n",
              "    }\n",
              "\n",
              "    .dataframe thead th {\n",
              "        text-align: right;\n",
              "    }\n",
              "</style>\n",
              "<table border=\"1\" class=\"dataframe\">\n",
              "  <thead>\n",
              "    <tr style=\"text-align: right;\">\n",
              "      <th></th>\n",
              "      <th>first_name</th>\n",
              "      <th>last_name</th>\n",
              "      <th>city</th>\n",
              "      <th>district</th>\n",
              "      <th>country</th>\n",
              "    </tr>\n",
              "  </thead>\n",
              "  <tbody>\n",
              "    <tr>\n",
              "      <th>0</th>\n",
              "      <td>Brian</td>\n",
              "      <td>Wyman</td>\n",
              "      <td>Bydgoszcz</td>\n",
              "      <td>Kujawsko-Pomorskie</td>\n",
              "      <td>Poland</td>\n",
              "    </tr>\n",
              "    <tr>\n",
              "      <th>1</th>\n",
              "      <td>Sidney</td>\n",
              "      <td>Burleson</td>\n",
              "      <td>Czestochowa</td>\n",
              "      <td>Slaskie</td>\n",
              "      <td>Poland</td>\n",
              "    </tr>\n",
              "    <tr>\n",
              "      <th>2</th>\n",
              "      <td>Marjorie</td>\n",
              "      <td>Tucker</td>\n",
              "      <td>Jastrzebie-Zdrj</td>\n",
              "      <td>Slaskie</td>\n",
              "      <td>Poland</td>\n",
              "    </tr>\n",
              "    <tr>\n",
              "      <th>3</th>\n",
              "      <td>Leah</td>\n",
              "      <td>Curtis</td>\n",
              "      <td>Kalisz</td>\n",
              "      <td>Wielkopolskie</td>\n",
              "      <td>Poland</td>\n",
              "    </tr>\n",
              "    <tr>\n",
              "      <th>4</th>\n",
              "      <td>Ruben</td>\n",
              "      <td>Geary</td>\n",
              "      <td>Lublin</td>\n",
              "      <td>Lubelskie</td>\n",
              "      <td>Poland</td>\n",
              "    </tr>\n",
              "    <tr>\n",
              "      <th>5</th>\n",
              "      <td>Johnnie</td>\n",
              "      <td>Chisholm</td>\n",
              "      <td>Plock</td>\n",
              "      <td>Mazowieckie</td>\n",
              "      <td>Poland</td>\n",
              "    </tr>\n",
              "    <tr>\n",
              "      <th>6</th>\n",
              "      <td>Russell</td>\n",
              "      <td>Brinson</td>\n",
              "      <td>Tychy</td>\n",
              "      <td>Slaskie</td>\n",
              "      <td>Poland</td>\n",
              "    </tr>\n",
              "    <tr>\n",
              "      <th>7</th>\n",
              "      <td>Jimmie</td>\n",
              "      <td>Eggleston</td>\n",
              "      <td>Wroclaw</td>\n",
              "      <td>Dolnoslaskie</td>\n",
              "      <td>Poland</td>\n",
              "    </tr>\n",
              "  </tbody>\n",
              "</table>\n",
              "</div>"
            ],
            "text/plain": [
              "  first_name  last_name             city            district country\n",
              "0      Brian      Wyman        Bydgoszcz  Kujawsko-Pomorskie  Poland\n",
              "1     Sidney   Burleson      Czestochowa             Slaskie  Poland\n",
              "2   Marjorie     Tucker  Jastrzebie-Zdrj             Slaskie  Poland\n",
              "3       Leah     Curtis           Kalisz       Wielkopolskie  Poland\n",
              "4      Ruben      Geary           Lublin           Lubelskie  Poland\n",
              "5    Johnnie   Chisholm            Plock         Mazowieckie  Poland\n",
              "6    Russell    Brinson            Tychy             Slaskie  Poland\n",
              "7     Jimmie  Eggleston          Wroclaw        Dolnoslaskie  Poland"
            ]
          },
          "metadata": {},
          "execution_count": 60
        }
      ]
    },
    {
      "cell_type": "markdown",
      "metadata": {
        "id": "-yoEz1psX4dP"
      },
      "source": [
        "b) Nigeria"
      ]
    },
    {
      "cell_type": "code",
      "metadata": {
        "colab": {
          "base_uri": "https://localhost:8080/",
          "height": 452
        },
        "id": "w9LnvVqXX1P6",
        "outputId": "3ce3cec2-964b-4b2a-ee57-0f4783d13756"
      },
      "source": [
        "df = pd.read_sql(\"select c.first_name, c.last_name, ci.city, a.district, co.country from customer c left join address a on c.address_id = a.address_id left join city ci on a.city_id = ci.city_id left join country co on ci.country_id = co.country_id where co.country='Nigeria'\",con=connection)\n",
        "df"
      ],
      "execution_count": 61,
      "outputs": [
        {
          "output_type": "execute_result",
          "data": {
            "text/html": [
              "<div>\n",
              "<style scoped>\n",
              "    .dataframe tbody tr th:only-of-type {\n",
              "        vertical-align: middle;\n",
              "    }\n",
              "\n",
              "    .dataframe tbody tr th {\n",
              "        vertical-align: top;\n",
              "    }\n",
              "\n",
              "    .dataframe thead th {\n",
              "        text-align: right;\n",
              "    }\n",
              "</style>\n",
              "<table border=\"1\" class=\"dataframe\">\n",
              "  <thead>\n",
              "    <tr style=\"text-align: right;\">\n",
              "      <th></th>\n",
              "      <th>first_name</th>\n",
              "      <th>last_name</th>\n",
              "      <th>city</th>\n",
              "      <th>district</th>\n",
              "      <th>country</th>\n",
              "    </tr>\n",
              "  </thead>\n",
              "  <tbody>\n",
              "    <tr>\n",
              "      <th>0</th>\n",
              "      <td>Sonia</td>\n",
              "      <td>Gregory</td>\n",
              "      <td>Benin City</td>\n",
              "      <td>Edo &amp; Delta</td>\n",
              "      <td>Nigeria</td>\n",
              "    </tr>\n",
              "    <tr>\n",
              "      <th>1</th>\n",
              "      <td>Rodney</td>\n",
              "      <td>Moeller</td>\n",
              "      <td>Deba Habe</td>\n",
              "      <td>Bauchi &amp; Gombe</td>\n",
              "      <td>Nigeria</td>\n",
              "    </tr>\n",
              "    <tr>\n",
              "      <th>2</th>\n",
              "      <td>Velma</td>\n",
              "      <td>Lucas</td>\n",
              "      <td>Effon-Alaiye</td>\n",
              "      <td>Oyo &amp; Osun</td>\n",
              "      <td>Nigeria</td>\n",
              "    </tr>\n",
              "    <tr>\n",
              "      <th>3</th>\n",
              "      <td>Marilyn</td>\n",
              "      <td>Ross</td>\n",
              "      <td>Ife</td>\n",
              "      <td>Oyo &amp; Osun</td>\n",
              "      <td>Nigeria</td>\n",
              "    </tr>\n",
              "    <tr>\n",
              "      <th>4</th>\n",
              "      <td>Elsie</td>\n",
              "      <td>Kelley</td>\n",
              "      <td>Ikerre</td>\n",
              "      <td>Ondo &amp; Ekiti</td>\n",
              "      <td>Nigeria</td>\n",
              "    </tr>\n",
              "    <tr>\n",
              "      <th>5</th>\n",
              "      <td>Gladys</td>\n",
              "      <td>Hamilton</td>\n",
              "      <td>Ilorin</td>\n",
              "      <td>Kwara &amp; Kogi</td>\n",
              "      <td>Nigeria</td>\n",
              "    </tr>\n",
              "    <tr>\n",
              "      <th>6</th>\n",
              "      <td>Carol</td>\n",
              "      <td>Garcia</td>\n",
              "      <td>Kaduna</td>\n",
              "      <td>Kaduna</td>\n",
              "      <td>Nigeria</td>\n",
              "    </tr>\n",
              "    <tr>\n",
              "      <th>7</th>\n",
              "      <td>Olga</td>\n",
              "      <td>Jimenez</td>\n",
              "      <td>Ogbomosho</td>\n",
              "      <td>Oyo &amp; Osun</td>\n",
              "      <td>Nigeria</td>\n",
              "    </tr>\n",
              "    <tr>\n",
              "      <th>8</th>\n",
              "      <td>Bertha</td>\n",
              "      <td>Ferguson</td>\n",
              "      <td>Ondo</td>\n",
              "      <td>Ondo &amp; Ekiti</td>\n",
              "      <td>Nigeria</td>\n",
              "    </tr>\n",
              "    <tr>\n",
              "      <th>9</th>\n",
              "      <td>Tracey</td>\n",
              "      <td>Barrett</td>\n",
              "      <td>Owo</td>\n",
              "      <td>Ondo &amp; Ekiti</td>\n",
              "      <td>Nigeria</td>\n",
              "    </tr>\n",
              "    <tr>\n",
              "      <th>10</th>\n",
              "      <td>Jo</td>\n",
              "      <td>Fowler</td>\n",
              "      <td>Oyo</td>\n",
              "      <td>Oyo &amp; Osun</td>\n",
              "      <td>Nigeria</td>\n",
              "    </tr>\n",
              "    <tr>\n",
              "      <th>11</th>\n",
              "      <td>Wallace</td>\n",
              "      <td>Slone</td>\n",
              "      <td>Sokoto</td>\n",
              "      <td>Sokoto &amp; Kebbi &amp; Zam</td>\n",
              "      <td>Nigeria</td>\n",
              "    </tr>\n",
              "    <tr>\n",
              "      <th>12</th>\n",
              "      <td>Constance</td>\n",
              "      <td>Reid</td>\n",
              "      <td>Zaria</td>\n",
              "      <td>Kaduna</td>\n",
              "      <td>Nigeria</td>\n",
              "    </tr>\n",
              "  </tbody>\n",
              "</table>\n",
              "</div>"
            ],
            "text/plain": [
              "   first_name last_name          city              district  country\n",
              "0       Sonia   Gregory    Benin City           Edo & Delta  Nigeria\n",
              "1      Rodney   Moeller     Deba Habe        Bauchi & Gombe  Nigeria\n",
              "2       Velma     Lucas  Effon-Alaiye            Oyo & Osun  Nigeria\n",
              "3     Marilyn      Ross           Ife            Oyo & Osun  Nigeria\n",
              "4       Elsie    Kelley        Ikerre          Ondo & Ekiti  Nigeria\n",
              "5      Gladys  Hamilton        Ilorin          Kwara & Kogi  Nigeria\n",
              "6       Carol    Garcia        Kaduna                Kaduna  Nigeria\n",
              "7        Olga   Jimenez     Ogbomosho            Oyo & Osun  Nigeria\n",
              "8      Bertha  Ferguson          Ondo          Ondo & Ekiti  Nigeria\n",
              "9      Tracey   Barrett           Owo          Ondo & Ekiti  Nigeria\n",
              "10         Jo    Fowler           Oyo            Oyo & Osun  Nigeria\n",
              "11    Wallace     Slone        Sokoto  Sokoto & Kebbi & Zam  Nigeria\n",
              "12  Constance      Reid         Zaria                Kaduna  Nigeria"
            ]
          },
          "metadata": {},
          "execution_count": 61
        }
      ]
    },
    {
      "cell_type": "markdown",
      "metadata": {
        "id": "h_tCLP5iYA26"
      },
      "source": [
        "c) Bangladesz"
      ]
    },
    {
      "cell_type": "code",
      "metadata": {
        "colab": {
          "base_uri": "https://localhost:8080/",
          "height": 142
        },
        "id": "3UirM0YbX-uU",
        "outputId": "c3ed6d8b-0058-453f-a07e-a946b1dae4a6"
      },
      "source": [
        "df = pd.read_sql(\"select c.first_name, c.last_name, ci.city, a.district, co.country from customer c left join address a on c.address_id = a.address_id left join city ci on a.city_id = ci.city_id left join country co on ci.country_id = co.country_id where co.country='Bangladesh'\",con=connection)\n",
        "df"
      ],
      "execution_count": 62,
      "outputs": [
        {
          "output_type": "execute_result",
          "data": {
            "text/html": [
              "<div>\n",
              "<style scoped>\n",
              "    .dataframe tbody tr th:only-of-type {\n",
              "        vertical-align: middle;\n",
              "    }\n",
              "\n",
              "    .dataframe tbody tr th {\n",
              "        vertical-align: top;\n",
              "    }\n",
              "\n",
              "    .dataframe thead th {\n",
              "        text-align: right;\n",
              "    }\n",
              "</style>\n",
              "<table border=\"1\" class=\"dataframe\">\n",
              "  <thead>\n",
              "    <tr style=\"text-align: right;\">\n",
              "      <th></th>\n",
              "      <th>first_name</th>\n",
              "      <th>last_name</th>\n",
              "      <th>city</th>\n",
              "      <th>district</th>\n",
              "      <th>country</th>\n",
              "    </tr>\n",
              "  </thead>\n",
              "  <tbody>\n",
              "    <tr>\n",
              "      <th>0</th>\n",
              "      <td>Stephen</td>\n",
              "      <td>Qualls</td>\n",
              "      <td>Dhaka</td>\n",
              "      <td>Dhaka</td>\n",
              "      <td>Bangladesh</td>\n",
              "    </tr>\n",
              "    <tr>\n",
              "      <th>1</th>\n",
              "      <td>Frank</td>\n",
              "      <td>Waggoner</td>\n",
              "      <td>Jamalpur</td>\n",
              "      <td>Dhaka</td>\n",
              "      <td>Bangladesh</td>\n",
              "    </tr>\n",
              "    <tr>\n",
              "      <th>2</th>\n",
              "      <td>Michelle</td>\n",
              "      <td>Clark</td>\n",
              "      <td>Tangail</td>\n",
              "      <td>Dhaka</td>\n",
              "      <td>Bangladesh</td>\n",
              "    </tr>\n",
              "  </tbody>\n",
              "</table>\n",
              "</div>"
            ],
            "text/plain": [
              "  first_name last_name      city district     country\n",
              "0    Stephen    Qualls     Dhaka    Dhaka  Bangladesh\n",
              "1      Frank  Waggoner  Jamalpur    Dhaka  Bangladesh\n",
              "2   Michelle     Clark   Tangail    Dhaka  Bangladesh"
            ]
          },
          "metadata": {},
          "execution_count": 62
        }
      ]
    },
    {
      "cell_type": "markdown",
      "metadata": {
        "id": "mpbr0YCYaBXf"
      },
      "source": [
        "8. Gdzie mieszkają członkowie personelu?"
      ]
    },
    {
      "cell_type": "code",
      "metadata": {
        "colab": {
          "base_uri": "https://localhost:8080/",
          "height": 111
        },
        "id": "RmSjIKKFaF4W",
        "outputId": "e0fb6c06-803f-4049-df5e-12e9cdc6ad29"
      },
      "source": [
        "df = pd.read_sql(\"select st.staff_id, st.first_name, st.last_name, city.city, c.country from staff st left join address a on st.address_id = a.address_id left join city on a.city_id = city.city_id left join country c on city.country_id = c.country_id\",con=connection)\n",
        "df"
      ],
      "execution_count": 63,
      "outputs": [
        {
          "output_type": "execute_result",
          "data": {
            "text/html": [
              "<div>\n",
              "<style scoped>\n",
              "    .dataframe tbody tr th:only-of-type {\n",
              "        vertical-align: middle;\n",
              "    }\n",
              "\n",
              "    .dataframe tbody tr th {\n",
              "        vertical-align: top;\n",
              "    }\n",
              "\n",
              "    .dataframe thead th {\n",
              "        text-align: right;\n",
              "    }\n",
              "</style>\n",
              "<table border=\"1\" class=\"dataframe\">\n",
              "  <thead>\n",
              "    <tr style=\"text-align: right;\">\n",
              "      <th></th>\n",
              "      <th>staff_id</th>\n",
              "      <th>first_name</th>\n",
              "      <th>last_name</th>\n",
              "      <th>city</th>\n",
              "      <th>country</th>\n",
              "    </tr>\n",
              "  </thead>\n",
              "  <tbody>\n",
              "    <tr>\n",
              "      <th>0</th>\n",
              "      <td>1</td>\n",
              "      <td>Mike</td>\n",
              "      <td>Hillyer</td>\n",
              "      <td>Lethbridge</td>\n",
              "      <td>Canada</td>\n",
              "    </tr>\n",
              "    <tr>\n",
              "      <th>1</th>\n",
              "      <td>2</td>\n",
              "      <td>Jon</td>\n",
              "      <td>Stephens</td>\n",
              "      <td>Woodridge</td>\n",
              "      <td>Australia</td>\n",
              "    </tr>\n",
              "  </tbody>\n",
              "</table>\n",
              "</div>"
            ],
            "text/plain": [
              "   staff_id first_name last_name        city    country\n",
              "0         1       Mike   Hillyer  Lethbridge     Canada\n",
              "1         2        Jon  Stephens   Woodridge  Australia"
            ]
          },
          "metadata": {},
          "execution_count": 63
        }
      ]
    },
    {
      "cell_type": "markdown",
      "metadata": {
        "id": "txwKqfUfb6um"
      },
      "source": [
        "9. Ilu pracowników mieszka w Argentynie lub Hiszpanii?"
      ]
    },
    {
      "cell_type": "code",
      "metadata": {
        "colab": {
          "base_uri": "https://localhost:8080/",
          "height": 80
        },
        "id": "LV0AAiJzaNLd",
        "outputId": "74fef06c-b241-4185-afb1-d73923409473"
      },
      "source": [
        "df = pd.read_sql(\"select count(*) from staff st left join address a on st.address_id = a.address_id left join city on a.city_id = city.city_id left join country c on city.country_id = c.country_id where c.country='Argentina' OR c.country='Spain'\",con=connection)\n",
        "df"
      ],
      "execution_count": 64,
      "outputs": [
        {
          "output_type": "execute_result",
          "data": {
            "text/html": [
              "<div>\n",
              "<style scoped>\n",
              "    .dataframe tbody tr th:only-of-type {\n",
              "        vertical-align: middle;\n",
              "    }\n",
              "\n",
              "    .dataframe tbody tr th {\n",
              "        vertical-align: top;\n",
              "    }\n",
              "\n",
              "    .dataframe thead th {\n",
              "        text-align: right;\n",
              "    }\n",
              "</style>\n",
              "<table border=\"1\" class=\"dataframe\">\n",
              "  <thead>\n",
              "    <tr style=\"text-align: right;\">\n",
              "      <th></th>\n",
              "      <th>count</th>\n",
              "    </tr>\n",
              "  </thead>\n",
              "  <tbody>\n",
              "    <tr>\n",
              "      <th>0</th>\n",
              "      <td>0</td>\n",
              "    </tr>\n",
              "  </tbody>\n",
              "</table>\n",
              "</div>"
            ],
            "text/plain": [
              "   count\n",
              "0      0"
            ]
          },
          "metadata": {},
          "execution_count": 64
        }
      ]
    },
    {
      "cell_type": "markdown",
      "metadata": {
        "id": "zNEWWz95b9i1"
      },
      "source": [
        "10. Jakie kategorie filmów zostały wypożyczone przez klientów?"
      ]
    },
    {
      "cell_type": "code",
      "metadata": {
        "colab": {
          "base_uri": "https://localhost:8080/",
          "height": 545
        },
        "id": "nIrvKNk3cAf6",
        "outputId": "094878ef-30e1-4f32-a4ad-c950d2d132c7"
      },
      "source": [
        "df = pd.read_sql(\"select distinct name from category cat left join film_category fcat on cat.category_id = fcat.category_id left join film f on fcat.film_id = f.film_id left join inventory inv on f.film_id = inv.film_id left join rental r on inv.inventory_id = r.inventory_id\",con=connection)\n",
        "df"
      ],
      "execution_count": 65,
      "outputs": [
        {
          "output_type": "execute_result",
          "data": {
            "text/html": [
              "<div>\n",
              "<style scoped>\n",
              "    .dataframe tbody tr th:only-of-type {\n",
              "        vertical-align: middle;\n",
              "    }\n",
              "\n",
              "    .dataframe tbody tr th {\n",
              "        vertical-align: top;\n",
              "    }\n",
              "\n",
              "    .dataframe thead th {\n",
              "        text-align: right;\n",
              "    }\n",
              "</style>\n",
              "<table border=\"1\" class=\"dataframe\">\n",
              "  <thead>\n",
              "    <tr style=\"text-align: right;\">\n",
              "      <th></th>\n",
              "      <th>name</th>\n",
              "    </tr>\n",
              "  </thead>\n",
              "  <tbody>\n",
              "    <tr>\n",
              "      <th>0</th>\n",
              "      <td>Horror</td>\n",
              "    </tr>\n",
              "    <tr>\n",
              "      <th>1</th>\n",
              "      <td>Comedy</td>\n",
              "    </tr>\n",
              "    <tr>\n",
              "      <th>2</th>\n",
              "      <td>Drama</td>\n",
              "    </tr>\n",
              "    <tr>\n",
              "      <th>3</th>\n",
              "      <td>Sci-Fi</td>\n",
              "    </tr>\n",
              "    <tr>\n",
              "      <th>4</th>\n",
              "      <td>Foreign</td>\n",
              "    </tr>\n",
              "    <tr>\n",
              "      <th>5</th>\n",
              "      <td>Classics</td>\n",
              "    </tr>\n",
              "    <tr>\n",
              "      <th>6</th>\n",
              "      <td>Games</td>\n",
              "    </tr>\n",
              "    <tr>\n",
              "      <th>7</th>\n",
              "      <td>Travel</td>\n",
              "    </tr>\n",
              "    <tr>\n",
              "      <th>8</th>\n",
              "      <td>New</td>\n",
              "    </tr>\n",
              "    <tr>\n",
              "      <th>9</th>\n",
              "      <td>Music</td>\n",
              "    </tr>\n",
              "    <tr>\n",
              "      <th>10</th>\n",
              "      <td>Action</td>\n",
              "    </tr>\n",
              "    <tr>\n",
              "      <th>11</th>\n",
              "      <td>Documentary</td>\n",
              "    </tr>\n",
              "    <tr>\n",
              "      <th>12</th>\n",
              "      <td>Sports</td>\n",
              "    </tr>\n",
              "    <tr>\n",
              "      <th>13</th>\n",
              "      <td>Animation</td>\n",
              "    </tr>\n",
              "    <tr>\n",
              "      <th>14</th>\n",
              "      <td>Children</td>\n",
              "    </tr>\n",
              "    <tr>\n",
              "      <th>15</th>\n",
              "      <td>Family</td>\n",
              "    </tr>\n",
              "  </tbody>\n",
              "</table>\n",
              "</div>"
            ],
            "text/plain": [
              "           name\n",
              "0        Horror\n",
              "1        Comedy\n",
              "2         Drama\n",
              "3        Sci-Fi\n",
              "4       Foreign\n",
              "5      Classics\n",
              "6         Games\n",
              "7        Travel\n",
              "8           New\n",
              "9         Music\n",
              "10       Action\n",
              "11  Documentary\n",
              "12       Sports\n",
              "13    Animation\n",
              "14     Children\n",
              "15       Family"
            ]
          },
          "metadata": {},
          "execution_count": 65
        }
      ]
    },
    {
      "cell_type": "markdown",
      "metadata": {
        "id": "6Cxae6tQdM49"
      },
      "source": [
        "11. Znajdź wszystkie kategorie filmów wypożyczonych w Ameryce."
      ]
    },
    {
      "cell_type": "code",
      "metadata": {
        "colab": {
          "base_uri": "https://localhost:8080/",
          "height": 545
        },
        "id": "bjK-aAGXdZUJ",
        "outputId": "e3e0e86c-27b4-4c3e-ba65-e612963d9d31"
      },
      "source": [
        "df = pd.read_sql(\"select distinct name from category cat left join film_category fcat on cat.category_id = fcat.category_id left join film f on fcat.film_id = f.film_id left join inventory inv on f.film_id = inv.film_id left join rental r on inv.inventory_id = r.inventory_id left join customer cust on r.customer_id = cust.customer_id left join address addr on cust.address_id = addr.address_id left join city on addr.city_id = city.city_id left join country on city.country_id = country.country_id where country='United States'\",con=connection)\n",
        "df"
      ],
      "execution_count": 66,
      "outputs": [
        {
          "output_type": "execute_result",
          "data": {
            "text/html": [
              "<div>\n",
              "<style scoped>\n",
              "    .dataframe tbody tr th:only-of-type {\n",
              "        vertical-align: middle;\n",
              "    }\n",
              "\n",
              "    .dataframe tbody tr th {\n",
              "        vertical-align: top;\n",
              "    }\n",
              "\n",
              "    .dataframe thead th {\n",
              "        text-align: right;\n",
              "    }\n",
              "</style>\n",
              "<table border=\"1\" class=\"dataframe\">\n",
              "  <thead>\n",
              "    <tr style=\"text-align: right;\">\n",
              "      <th></th>\n",
              "      <th>name</th>\n",
              "    </tr>\n",
              "  </thead>\n",
              "  <tbody>\n",
              "    <tr>\n",
              "      <th>0</th>\n",
              "      <td>Action</td>\n",
              "    </tr>\n",
              "    <tr>\n",
              "      <th>1</th>\n",
              "      <td>Animation</td>\n",
              "    </tr>\n",
              "    <tr>\n",
              "      <th>2</th>\n",
              "      <td>Children</td>\n",
              "    </tr>\n",
              "    <tr>\n",
              "      <th>3</th>\n",
              "      <td>Classics</td>\n",
              "    </tr>\n",
              "    <tr>\n",
              "      <th>4</th>\n",
              "      <td>Comedy</td>\n",
              "    </tr>\n",
              "    <tr>\n",
              "      <th>5</th>\n",
              "      <td>Documentary</td>\n",
              "    </tr>\n",
              "    <tr>\n",
              "      <th>6</th>\n",
              "      <td>Drama</td>\n",
              "    </tr>\n",
              "    <tr>\n",
              "      <th>7</th>\n",
              "      <td>Family</td>\n",
              "    </tr>\n",
              "    <tr>\n",
              "      <th>8</th>\n",
              "      <td>Foreign</td>\n",
              "    </tr>\n",
              "    <tr>\n",
              "      <th>9</th>\n",
              "      <td>Games</td>\n",
              "    </tr>\n",
              "    <tr>\n",
              "      <th>10</th>\n",
              "      <td>Horror</td>\n",
              "    </tr>\n",
              "    <tr>\n",
              "      <th>11</th>\n",
              "      <td>Music</td>\n",
              "    </tr>\n",
              "    <tr>\n",
              "      <th>12</th>\n",
              "      <td>New</td>\n",
              "    </tr>\n",
              "    <tr>\n",
              "      <th>13</th>\n",
              "      <td>Sci-Fi</td>\n",
              "    </tr>\n",
              "    <tr>\n",
              "      <th>14</th>\n",
              "      <td>Sports</td>\n",
              "    </tr>\n",
              "    <tr>\n",
              "      <th>15</th>\n",
              "      <td>Travel</td>\n",
              "    </tr>\n",
              "  </tbody>\n",
              "</table>\n",
              "</div>"
            ],
            "text/plain": [
              "           name\n",
              "0        Action\n",
              "1     Animation\n",
              "2      Children\n",
              "3      Classics\n",
              "4        Comedy\n",
              "5   Documentary\n",
              "6         Drama\n",
              "7        Family\n",
              "8       Foreign\n",
              "9         Games\n",
              "10       Horror\n",
              "11        Music\n",
              "12          New\n",
              "13       Sci-Fi\n",
              "14       Sports\n",
              "15       Travel"
            ]
          },
          "metadata": {},
          "execution_count": 66
        }
      ]
    },
    {
      "cell_type": "markdown",
      "metadata": {
        "id": "l4WAm75secHx"
      },
      "source": [
        "12. Znajdź wszystkie tytuły filmów, w których grał: Olympia Pfeiffer lub Julia Zellweger lub Ellen Presley"
      ]
    },
    {
      "cell_type": "code",
      "metadata": {
        "colab": {
          "base_uri": "https://localhost:8080/",
          "height": 419
        },
        "id": "ZANrJFX2eeYE",
        "outputId": "4ad54029-e111-4586-d444-79dbc06674ba"
      },
      "source": [
        "df = pd.read_sql(\"select actor.first_name, actor.last_name, film.title from film left join film_actor on film.film_id = film_actor.film_id left join actor on film_actor.actor_id = actor.actor_id where actor.first_name = 'Olympia' and actor.last_name='Pfeiffer' or actor.first_name = 'Julia' and actor.last_name = 'Zellweger' or actor.first_name = 'Ellen' and actor.last_name = 'Presley'\",con=connection)\n",
        "df"
      ],
      "execution_count": 67,
      "outputs": [
        {
          "output_type": "execute_result",
          "data": {
            "text/html": [
              "<div>\n",
              "<style scoped>\n",
              "    .dataframe tbody tr th:only-of-type {\n",
              "        vertical-align: middle;\n",
              "    }\n",
              "\n",
              "    .dataframe tbody tr th {\n",
              "        vertical-align: top;\n",
              "    }\n",
              "\n",
              "    .dataframe thead th {\n",
              "        text-align: right;\n",
              "    }\n",
              "</style>\n",
              "<table border=\"1\" class=\"dataframe\">\n",
              "  <thead>\n",
              "    <tr style=\"text-align: right;\">\n",
              "      <th></th>\n",
              "      <th>first_name</th>\n",
              "      <th>last_name</th>\n",
              "      <th>title</th>\n",
              "    </tr>\n",
              "  </thead>\n",
              "  <tbody>\n",
              "    <tr>\n",
              "      <th>0</th>\n",
              "      <td>Ellen</td>\n",
              "      <td>Presley</td>\n",
              "      <td>Bilko Anonymous</td>\n",
              "    </tr>\n",
              "    <tr>\n",
              "      <th>1</th>\n",
              "      <td>Ellen</td>\n",
              "      <td>Presley</td>\n",
              "      <td>Caribbean Liberty</td>\n",
              "    </tr>\n",
              "    <tr>\n",
              "      <th>2</th>\n",
              "      <td>Ellen</td>\n",
              "      <td>Presley</td>\n",
              "      <td>Casper Dragonfly</td>\n",
              "    </tr>\n",
              "    <tr>\n",
              "      <th>3</th>\n",
              "      <td>Ellen</td>\n",
              "      <td>Presley</td>\n",
              "      <td>Empire Malkovich</td>\n",
              "    </tr>\n",
              "    <tr>\n",
              "      <th>4</th>\n",
              "      <td>Ellen</td>\n",
              "      <td>Presley</td>\n",
              "      <td>Floats Garden</td>\n",
              "    </tr>\n",
              "    <tr>\n",
              "      <th>...</th>\n",
              "      <td>...</td>\n",
              "      <td>...</td>\n",
              "      <td>...</td>\n",
              "    </tr>\n",
              "    <tr>\n",
              "      <th>64</th>\n",
              "      <td>Julia</td>\n",
              "      <td>Zellweger</td>\n",
              "      <td>Outlaw Hanky</td>\n",
              "    </tr>\n",
              "    <tr>\n",
              "      <th>65</th>\n",
              "      <td>Julia</td>\n",
              "      <td>Zellweger</td>\n",
              "      <td>Panky Submarine</td>\n",
              "    </tr>\n",
              "    <tr>\n",
              "      <th>66</th>\n",
              "      <td>Julia</td>\n",
              "      <td>Zellweger</td>\n",
              "      <td>Rider Caddyshack</td>\n",
              "    </tr>\n",
              "    <tr>\n",
              "      <th>67</th>\n",
              "      <td>Julia</td>\n",
              "      <td>Zellweger</td>\n",
              "      <td>Won Dares</td>\n",
              "    </tr>\n",
              "    <tr>\n",
              "      <th>68</th>\n",
              "      <td>Julia</td>\n",
              "      <td>Zellweger</td>\n",
              "      <td>Wyoming Storm</td>\n",
              "    </tr>\n",
              "  </tbody>\n",
              "</table>\n",
              "<p>69 rows × 3 columns</p>\n",
              "</div>"
            ],
            "text/plain": [
              "   first_name  last_name              title\n",
              "0       Ellen    Presley    Bilko Anonymous\n",
              "1       Ellen    Presley  Caribbean Liberty\n",
              "2       Ellen    Presley   Casper Dragonfly\n",
              "3       Ellen    Presley   Empire Malkovich\n",
              "4       Ellen    Presley      Floats Garden\n",
              "..        ...        ...                ...\n",
              "64      Julia  Zellweger       Outlaw Hanky\n",
              "65      Julia  Zellweger    Panky Submarine\n",
              "66      Julia  Zellweger   Rider Caddyshack\n",
              "67      Julia  Zellweger          Won Dares\n",
              "68      Julia  Zellweger      Wyoming Storm\n",
              "\n",
              "[69 rows x 3 columns]"
            ]
          },
          "metadata": {},
          "execution_count": 67
        }
      ]
    }
  ]
}